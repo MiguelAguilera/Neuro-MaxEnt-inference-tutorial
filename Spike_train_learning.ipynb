{
  "nbformat": 4,
  "nbformat_minor": 0,
  "metadata": {
    "colab": {
      "provenance": [],
      "mount_file_id": "1KyeMKUIGgzC5SXDgpC9xJpM1Vckdcq-b",
      "authorship_tag": "ABX9TyOx48Q/fT9jPPJHrIUaSt5o",
      "include_colab_link": true
    },
    "kernelspec": {
      "name": "python3",
      "display_name": "Python 3"
    },
    "language_info": {
      "name": "python"
    }
  },
  "cells": [
    {
      "cell_type": "markdown",
      "metadata": {
        "id": "view-in-github",
        "colab_type": "text"
      },
      "source": [
        "<a href=\"https://colab.research.google.com/github/MiguelAguilera/Neuro-MaxEnt-inference-tutorial/blob/main/Spike_train_learning.ipynb\" target=\"_parent\"><img src=\"https://colab.research.google.com/assets/colab-badge.svg\" alt=\"Open In Colab\"/></a>"
      ]
    },
    {
      "cell_type": "markdown",
      "source": [
        "# Introduction\n",
        "\n",
        "\n",
        "Most of the interesting things that happen in living organisms result from networks of interactions, whether among neurons in the brain, genes in a single cell, or amino acids in single protein molecule.  Especially in the context of neural networks, there is a long tradition of using ideas from statistical physics to think about the emergence of collective behavior from the microscopic interactions, with the hope that this functional collective behavior will be robust (universal?) to our ignorance of many details in these systems.  In the past decade or so, new experimental techniques have made it possible to monitor the activity of many biological networks much more completely, and the availability of these data has made the problems of analysis much more urgent: given what the new techniques can measure, can we extract a global picture of the network dynamics?  In this lecture I'll show how an old idea, the maximum entropy construction, can be used to attack this problem.  What is most exciting is that this construction provides a path directly from real data to the classical models of statistical mechanics.  I'll describe in detail how this works for a network of neurons in the retina as it responds to complex, naturalistic inputs, where the relevant model is exactly the Ising model with pairwise, frustrated interactions.   Remarkably, the data suggest that the system is poised very close to a critical point. I'll try to highlight some open theoretical questions in this field, as well as making connections to other systems.  Again, I hope we'll see the outlines of how common theoretical ideas can unify our understanding of diverse systems.  \n",
        "\n",
        "Physicists have long explored analogies between the\n",
        "statistical mechanics of Ising models and the functional\n",
        "dynamics of neural networks [1, 2]. Recently it has been\n",
        "suggested that this analogy can be turned into a precise\n",
        "mapping [3]: In small windows of time, a single neuron i\n",
        "either does ($\\sigma_i = +1$) or does not ($\\sigma_i = -1$) generate an\n",
        "action potential or \"spike\" [4]; if we measure the mean\n",
        "probability of spiking for each cell ($\\langle \\sigma_i\\rangle$) and the correlations between pairs of cells ($C_{ij} = \\langle \\sigma_i\\rangle -\\langle \\sigma_i\\rangle \\langle \\sigma_j\\rangle$), then\n",
        "the maximum entropy model consistent with these data\n",
        "is exactly the Ising model\n",
        "\n",
        "$$ p(\\boldsymbol{ \\sigma} ) = \\frac{1}{Z}\\exp \\left[  \\sum_i^N H_i \\sigma_i + \\sum_{i< j} J_{ij} \\sigma_i \\sigma_j \\right]$$\n",
        "\n",
        "\n",
        "\n",
        "$$ \\mathcal{L} = \\frac{1}{M}\\sum_{m=1}^M \\log p(\\boldsymbol\\sigma^m)$$ \n",
        "\n",
        "$$ \\frac{\\partial\\mathcal{L}}{\\partial H_i} = \\frac{1}{M}\\sum_{m=1}^M  \\sigma_i  - \\langle \\sigma_i  \\rangle  =  \\langle \\sigma_i \\rangle_\\mathrm{data}  -  \\langle \\sigma_i\\rangle_\\mathrm{model} $$ \n",
        "\n",
        "$$ \\frac{\\partial\\mathcal{L}}{\\partial J_{ij}} = \\frac{1}{M}\\sum_{m=1}^M  \\sigma_i \\sigma_j - \\langle \\sigma_i \\sigma_j \\rangle  =  \\langle \\sigma_i \\sigma_j \\rangle_\\mathrm{data}  -  \\langle \\sigma_i \\sigma_j \\rangle_\\mathrm{model} $$ "
      ],
      "metadata": {
        "id": "3Q2PWbYNBMP1"
      }
    },
    {
      "cell_type": "code",
      "execution_count": 14,
      "metadata": {
        "id": "TrJEcDOb0usm"
      },
      "outputs": [],
      "source": [
        "import numpy as np\n",
        "from matplotlib import pyplot as plt\n",
        "# !pip install requests\n",
        "import requests\n",
        "# Save datagenerators as file to colab working directory\n",
        "# If you are using GitHub, make sure you get the \"Raw\" version of the code\n",
        "url = 'https://raw.githubusercontent.com/MiguelAguilera/Neuro-MaxEnt-inference-tutorial/main/Ising.py'\n",
        "r = requests.get(url)\n",
        "\n",
        "# make sure your filename is the same as how you want to import \n",
        "with open('Ising.py', 'w') as f:\n",
        "    f.write(r.text)\n",
        "\n",
        "# now we can import\n",
        "from Ising import Ising\n"
      ]
    },
    {
      "cell_type": "code",
      "source": [
        "N=10\n",
        "T=1000\n",
        "\n",
        "I = Ising(10)\n",
        "I.H = -1+ 0.05*np.random.randn(N)\n",
        "I.J = 1/N + np.random.randn(N,N)/np.sqrt(N)\n",
        "\n",
        "Data = np.zeros((N,T))\n",
        "\n",
        "I.randomize_state()\n",
        "for t in range(T):\n",
        "  I.SequentialGlauberStep()\n",
        "  Data[:,t] = I.s\n",
        "\n",
        "plt.figure(figsize=(20,2))\n",
        "plt.imshow(Data, aspect='auto', interpolation='none')\n",
        "plt.colorbar()\n",
        "\n",
        "m_data = np.mean(Data,axis=1)\n",
        "Cov_data = np.cov(Data)\n",
        "print(m_data)\n",
        "plt.figure()\n",
        "plt.subplot(122)\n",
        "plt.imshow(m_data[:,np.newaxis])\n",
        "plt.colorbar()\n",
        "\n",
        "plt.subplot(121)\n",
        "plt.imshow(Cov_data)\n",
        "plt.colorbar()"
      ],
      "metadata": {
        "colab": {
          "base_uri": "https://localhost:8080/",
          "height": 448
        },
        "id": "oJtsa2fn01ru",
        "outputId": "42c65068-2dc9-4da1-e66e-c5d1f817c454"
      },
      "execution_count": 57,
      "outputs": [
        {
          "output_type": "stream",
          "name": "stdout",
          "text": [
            "[-0.026 -0.426 -0.426 -0.24  -0.432 -0.38  -0.438 -0.454  0.01  -0.436]\n"
          ]
        },
        {
          "output_type": "execute_result",
          "data": {
            "text/plain": [
              "<matplotlib.colorbar.Colorbar at 0x7fd3cbc8bd50>"
            ]
          },
          "metadata": {},
          "execution_count": 57
        },
        {
          "output_type": "display_data",
          "data": {
            "text/plain": [
              "<Figure size 1440x144 with 2 Axes>"
            ],
            "image/png": "[encoded data removed]"
          },
          "metadata": {
            "needs_background": "light"
          }
        },
        {
          "output_type": "display_data",
          "data": {
            "text/plain": [
              "<Figure size 432x288 with 4 Axes>"
            ],
            "image/png": "[encoded data removed]"
          },
          "metadata": {
            "needs_background": "light"
          }
        }
      ]
    }
  ]
}