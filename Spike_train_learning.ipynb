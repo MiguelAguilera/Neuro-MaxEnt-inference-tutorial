{
  "nbformat": 4,
  "nbformat_minor": 0,
  "metadata": {
    "colab": {
      "provenance": [],
      "mount_file_id": "1KyeMKUIGgzC5SXDgpC9xJpM1Vckdcq-b",
      "authorship_tag": "ABX9TyOIsk5kfII2LZe9YemN1CSv",
      "include_colab_link": true
    },
    "kernelspec": {
      "name": "python3",
      "display_name": "Python 3"
    },
    "language_info": {
      "name": "python"
    }
  },
  "cells": [
    {
      "cell_type": "markdown",
      "metadata": {
        "id": "view-in-github",
        "colab_type": "text"
      },
      "source": [
        "<a href=\"https://colab.research.google.com/github/MiguelAguilera/Neuro-MaxEnt-inference-tutorial/blob/main/Spike_train_learning.ipynb\" target=\"_parent\"><img src=\"https://colab.research.google.com/assets/colab-badge.svg\" alt=\"Open In Colab\"/></a>"
      ]
    },
    {
      "cell_type": "code",
      "execution_count": 9,
      "metadata": {
        "id": "TrJEcDOb0usm",
        "colab": {
          "base_uri": "https://localhost:8080/"
        },
        "outputId": "66d29f37-1559-49a9-a767-0be80323cc07"
      },
      "outputs": [
        {
          "output_type": "stream",
          "name": "stdout",
          "text": [
            "Looking in indexes: https://pypi.org/simple, https://us-python.pkg.dev/colab-wheels/public/simple/\n",
            "Requirement already satisfied: requests in /usr/local/lib/python3.7/dist-packages (2.23.0)\n",
            "Requirement already satisfied: urllib3!=1.25.0,!=1.25.1,<1.26,>=1.21.1 in /usr/local/lib/python3.7/dist-packages (from requests) (1.24.3)\n",
            "Requirement already satisfied: certifi>=2017.4.17 in /usr/local/lib/python3.7/dist-packages (from requests) (2022.9.24)\n",
            "Requirement already satisfied: chardet<4,>=3.0.2 in /usr/local/lib/python3.7/dist-packages (from requests) (3.0.4)\n",
            "Requirement already satisfied: idna<3,>=2.5 in /usr/local/lib/python3.7/dist-packages (from requests) (2.10)\n"
          ]
        }
      ],
      "source": [
        "import numpy as np\n",
        "# !pip install requests\n",
        "import requests\n",
        "# Save datagenerators as file to colab working directory\n",
        "# If you are using GitHub, make sure you get the \"Raw\" version of the code\n",
        "url = 'https://raw.githubusercontent.com/MiguelAguilera/Neuro-MaxEnt-inference-tutorial/main/Ising.py'\n",
        "r = requests.get(url)\n",
        "\n",
        "# make sure your filename is the same as how you want to import \n",
        "with open('Ising.py', 'w') as f:\n",
        "    f.write(r.text)\n",
        "\n",
        "# now we can import\n",
        "from Ising import Ising\n"
      ]
    },
    {
      "cell_type": "code",
      "source": [
        "I = Ising(10)\n",
        "\n",
        "for i in range(10):\n",
        "  I.MetropolisStep()\n",
        "  print(I.s)"
      ],
      "metadata": {
        "colab": {
          "base_uri": "https://localhost:8080/"
        },
        "id": "oJtsa2fn01ru",
        "outputId": "d8eb4ce3-fb1b-4f9a-a1c8-7c7230ed095b"
      },
      "execution_count": 11,
      "outputs": [
        {
          "output_type": "stream",
          "name": "stdout",
          "text": [
            "[ 1 -1  1 -1 -1 -1 -1  1 -1  1]\n",
            "[ 1  1  1 -1 -1 -1 -1  1 -1  1]\n",
            "[ 1  1  1 -1 -1  1 -1  1 -1  1]\n",
            "[ 1  1  1  1 -1  1 -1  1 -1  1]\n",
            "[ 1  1  1  1 -1  1 -1 -1 -1  1]\n",
            "[ 1  1  1  1 -1  1  1 -1 -1  1]\n",
            "[ 1  1  1  1 -1  1  1 -1  1  1]\n",
            "[ 1  1  1  1 -1  1 -1 -1  1  1]\n",
            "[ 1  1  1  1 -1  1 -1 -1 -1  1]\n",
            "[ 1  1  1  1 -1  1 -1 -1 -1 -1]\n"
          ]
        }
      ]
    }
  ]
}