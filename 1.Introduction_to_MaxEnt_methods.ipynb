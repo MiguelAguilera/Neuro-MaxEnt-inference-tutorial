{
  "nbformat": 4,
  "nbformat_minor": 0,
  "metadata": {
    "colab": {
      "provenance": [],
      "authorship_tag": "ABX9TyMYzyhN9L9qhkdulJ7HIu0u",
      "include_colab_link": true
    },
    "kernelspec": {
      "name": "python3",
      "display_name": "Python 3"
    },
    "language_info": {
      "name": "python"
    },
    "widgets": {
      "application/vnd.jupyter.widget-state+json": {
        "dfac54c64e914770ab49c353d82fe597": {
          "model_module": "@jupyter-widgets/controls",
          "model_name": "VBoxModel",
          "model_module_version": "1.5.0",
          "state": {
            "_dom_classes": [
              "widget-interact"
            ],
            "_model_module": "@jupyter-widgets/controls",
            "_model_module_version": "1.5.0",
            "_model_name": "VBoxModel",
            "_view_count": null,
            "_view_module": "@jupyter-widgets/controls",
            "_view_module_version": "1.5.0",
            "_view_name": "VBoxView",
            "box_style": "",
            "children": [
              "IPY_MODEL_752b49003932494ea1bbc5daf9ed3cd1",
              "IPY_MODEL_1e9f12ab62eb48919e5aa2dbc7286ffa",
              "IPY_MODEL_2645a313d0ab40d993032e51b26e2630",
              "IPY_MODEL_479076daf58f4b358ee6cffc0f7fbf61"
            ],
            "layout": "IPY_MODEL_667fc969d1014a3ca9e57af2b0d260ff"
          }
        },
        "752b49003932494ea1bbc5daf9ed3cd1": {
          "model_module": "@jupyter-widgets/controls",
          "model_name": "FloatSliderModel",
          "model_module_version": "1.5.0",
          "state": {
            "_dom_classes": [],
            "_model_module": "@jupyter-widgets/controls",
            "_model_module_version": "1.5.0",
            "_model_name": "FloatSliderModel",
            "_view_count": null,
            "_view_module": "@jupyter-widgets/controls",
            "_view_module_version": "1.5.0",
            "_view_name": "FloatSliderView",
            "continuous_update": true,
            "description": "m",
            "description_tooltip": null,
            "disabled": false,
            "layout": "IPY_MODEL_154da0f220454158807a58f40fbed0ab",
            "max": 10,
            "min": 0,
            "orientation": "horizontal",
            "readout": true,
            "readout_format": ".2f",
            "step": 0.1,
            "style": "IPY_MODEL_8753df6897814560a8f3aa6758a29cc6",
            "value": 3
          }
        },
        "1e9f12ab62eb48919e5aa2dbc7286ffa": {
          "model_module": "@jupyter-widgets/controls",
          "model_name": "FloatSliderModel",
          "model_module_version": "1.5.0",
          "state": {
            "_dom_classes": [],
            "_model_module": "@jupyter-widgets/controls",
            "_model_module_version": "1.5.0",
            "_model_name": "FloatSliderModel",
            "_view_count": null,
            "_view_module": "@jupyter-widgets/controls",
            "_view_module_version": "1.5.0",
            "_view_name": "FloatSliderView",
            "continuous_update": true,
            "description": "d",
            "description_tooltip": null,
            "disabled": false,
            "layout": "IPY_MODEL_85f035f12883403ca7670c8fc60c0bfe",
            "max": 2,
            "min": 0,
            "orientation": "horizontal",
            "readout": true,
            "readout_format": ".2f",
            "step": 0.02,
            "style": "IPY_MODEL_2b6357eb227d49f8b056dc4a3ff09a91",
            "value": 1
          }
        },
        "2645a313d0ab40d993032e51b26e2630": {
          "model_module": "@jupyter-widgets/controls",
          "model_name": "FloatSliderModel",
          "model_module_version": "1.5.0",
          "state": {
            "_dom_classes": [],
            "_model_module": "@jupyter-widgets/controls",
            "_model_module_version": "1.5.0",
            "_model_name": "FloatSliderModel",
            "_view_count": null,
            "_view_module": "@jupyter-widgets/controls",
            "_view_module_version": "1.5.0",
            "_view_name": "FloatSliderView",
            "continuous_update": true,
            "description": "sigma",
            "description_tooltip": null,
            "disabled": false,
            "layout": "IPY_MODEL_61c748fb4d03479fa12135845dd8bae8",
            "max": 1,
            "min": 0.02,
            "orientation": "horizontal",
            "readout": true,
            "readout_format": ".2f",
            "step": 0.02,
            "style": "IPY_MODEL_e3e1d2935ada49409c993e1071ab840a",
            "value": 0.4
          }
        },
        "479076daf58f4b358ee6cffc0f7fbf61": {
          "model_module": "@jupyter-widgets/output",
          "model_name": "OutputModel",
          "model_module_version": "1.0.0",
          "state": {
            "_dom_classes": [],
            "_model_module": "@jupyter-widgets/output",
            "_model_module_version": "1.0.0",
            "_model_name": "OutputModel",
            "_view_count": null,
            "_view_module": "@jupyter-widgets/output",
            "_view_module_version": "1.0.0",
            "_view_name": "OutputView",
            "layout": "IPY_MODEL_6933a469baa3419cacfb11e48eb105e4",
            "msg_id": "",
            "outputs": [
              {
                "output_type": "stream",
                "name": "stdout",
                "text": [
                  "Mean: 3.0 (5) Variance: 1.16 (1)\n",
                  "Entropy: 1.1785 (MaxEnt: 1.4189)\n"
                ]
              },
              {
                "output_type": "display_data",
                "data": {
                  "text/plain": "<Figure size 864x432 with 1 Axes>",
                  "image/png": "iVBORw0KGgoAAAANSUhEUgAAAskAAAFlCAYAAAAZA3XlAAAABHNCSVQICAgIfAhkiAAAAAlwSFlzAAALEgAACxIB0t1+/AAAADh0RVh0U29mdHdhcmUAbWF0cGxvdGxpYiB2ZXJzaW9uMy4yLjIsIGh0dHA6Ly9tYXRwbG90bGliLm9yZy+WH4yJAAAgAElEQVR4nOzdeVyc53kv/N89AwMM+y4W7QJkrTZgS3ZsCzubkwglzdI4a92kQm2P236O3dO3fU9PJLnpaXpS+33zvnUagbO2iR2nJ22E4thJHOPdkhlkWysCCS3sIATMsA0zc58/Zp4BIcQ6M/ez/L6fz/ORQcM8l/D9wPXcz3Vft5BSgoiIiIiIpthUB0BEREREpDdMkomIiIiIZmCSTEREREQ0A5NkIiIiIqIZmCQTEREREc3AJJmIiIiIaIY4VSfOyMiQGzZsUHV60qmRkREkJyerDoN0huOCZsNxQbPhuKDZuFyufill7mK+RlmSnJ+fj8bGRlWnJ51qaGhAVVWV6jBIZzguaDYcFzQbjguajRDi0mK/huUWREREREQzMEkmIiIiIpqBSTIRERER0QxMkomIiIiIZmCSTEREREQ0A5NkIiIiIqIZmCQTEREREc3AJJmIiIiIaAYmyURERtHVBezaBXR3q46EiMj0mCSTbrx55U38+PKP8eaVN1WHQqRPf/d3wGuvAY89pjoSIl3i7xGKJCbJpAtvXnkT7//R+/G9tu/h/T96P3/AEU2XlAQIAfzLvwCBQPBPIYKfJyIA/D1CkcckmXSh4WIDvH4vAgjA6/ei4WKD6pCI9OPCBeDznweczuDHTifwhS8AbW1q4yLSEf4eoUhjkky6ULWmCg67AzbY4LA7ULWmSnVIRPpRUACkpQHj40BiYvDPtDRgxQrVkRHpBn+PUKQxSSZduHPlnXjxyy/iK2u/ghe//CLuXHmn6pCI9KWnB/jjPwbeeiv4JxfvEV2Hv0co0uJUB0CkuXPlnZhYNcEfbESz+fnPp/77ySfVxUGkY/w9QpHEmWQiIiIiohmYJBMRERERzcAkmYiIiIhoBibJREREREQzMEkmIiIiIpqBSTIRERER0QxMkomIiIiIZmCSTEREREQ0A5NkIiIiIqIZmCQTEREREc3AJJlIj4QIHkQUcRW1FaiorVAdBhHpXJzqAIiIiGKpqatJdQhEZABMkon0qLFRdQREptW4l9cXEc2PSTKRHlXwUTBRtFQU8voiovmxJpmIiIiIaAYmyUR6VFMTPIgo4g40HMCBhgOqwyAinWOSTKRHdXXBg4gi7uDLB3Hw5YOqwyAinWNNMhERWcr+XftVh0BEBsAkmYiILOVA1QHVIRCRAbDcgoiIiIhoBibJRERkKa5OF1ydLtVhEJHOsdyCiIgspbKuEgAg90vFkRCRnjFJJtKj8nLVERCZVnkBry8imh+TZCI9cvFRMFG0uGp4fRHR/FiTTEREREQ0A5NkIiIiIqIZmCQT6ZEQwYOIIq7w8UIUPl6oOgwi0jnWJBMRkaV0ebpUh0BEBsAkmYiILKXjkQ7VIRCRATBJJiIiSylMZakFEc2PNclERERERDMwSSYiIkupqa9BTX2N6jCISOeYJBMRkaXUNdWhrqlOdRhEpHMLqkkWQjwA4FsA7ACeklJ+Y8bfPwTgmwC01RD/LKV8KoJxElnLoUOqIyAyrUO7eX0R0fzmTZKFEHYATwL4IIB2AG8LIQ5LKU/PeOlPpZQPRyFGIuup4aNgomipqeD1RUTzW0i5xR0AWqWUF6SUXgDPAPh4dMMiIiIiIlJnIeUWRQCuTPu4HcCOWV73KSHEvQDOAfivUsorM18ghKgBUAMAubm5aGhoWHTAZD7dIwH8vMWLE/1+QEpsfed5fLrUgTyndUvmC+rrAQBd1dWKI1HnijuA/33Oi7MDftiERPmJF/CpknhkJlp3XND1PB7Pkn6PvNH/BgDgrpy7IhwR6cFSxwXRTEJKOfcLhPg0gAeklH8U+vhLAHZML60QQmQD8EgpJ4QQ+wB8Vkp5/1zvW1ZWJpubm5f9DyBje6O1H/v+1QX3hO+6zyc77PjuQ7dj57psRZEppm1JPc/1aVYvnOrGnz99HBO+wHWfz3TG40df2YGtxemKIiM9aWhoQFVV1aK/ThwMXl9yvzWvL7Nb6rggcxNCuKSUlYv5moVMyXQAWDnt42JMLdADAEgpr0opJ0IfPgWgYjFBkDWd63GjJpQgP7B5BV79q/vwzXuT8JEtKzDi9eMrP3gbrb0e1WFSjDVdvoaHf9KECV8An64oxtH/+/34h7uTcPeGHFwbncRD3z+G7qFx1WGSge0u3Y3dpbtVh0FEOreQJPltACVCiLVCCAeABwEcnv4CIUTBtA/3ADgTuRDJjCb9Afz508fhmfDhY9sK8O0vlGNllhO5Thue/Hw5PratAKNePx7+SRO8M2YTybxGJnx4+MdNmPRLfHHnKnzz09uQn5aIghQbvvfQ7bh7Qw6ujnjxF88cx3xPwYhupv5z9aj/XL3qMIhI5+ZNkqWUPgAPA3gBweT3WSnlKSHEY0KIPaGX/bkQ4pQQ4l0Afw7goWgFTObw/dfbcLbbjVVZTnzz09tgs4nw39lsAv/4qW1Yne3E2W43fvTmRWVxUmz9/79rRefQOLYUpeFruzdDiKlx4Yiz4VsP3oqcFAeOtg3g500dc7wTERHR8ixoBYyU8jkpZamUcr2U8u9Dn/ualPJw6L//Rkq5WUq5XUp5n5TybDSDJmO7NuLFt37bAgB47OOb4XTcuH40JSEOB6o3AwC+9dsWXBvxxjRGir0rA6P47msXIATw9U9shSPuxh9P2SkJ+JuP3AIA+Mfnz2J80h/rMImIyCK4TJxi7vtvXMSI1497SnJQVZZ309fdtzEPd2/IgXvChx++eTFm8ZEah145j0m/xCduLcKtKzNu+rpPlhdhU0Eaet0T+JmrPYYRklmIgyK8eI+I6GaYJFNMeSZ8+P7rbQCAP39/ybyvf/j+DQCAH7xxESMzOmCQefS6x/FsYzuEAP7LfevnfK0QIjwuvtNwHpN+1qwTEVHkMUmmmPrFOx1wj/twx5os3L4ma97X71ibhfJVGRgcncR/HLdQDaqUlmr/9vTRK/D6AvjgLfnYkJc67+sf2LwC63KT0TE4hhfP9MYgQjITuV+y/RsRzYtJMsXU08cuAwC+sHPVgl4vhMAf3LUGAPDM25ejFRYp5A9IPNsY3Hvoy3euWdDX2GwCX9ixGgDwk2McF0REFHlMkilm3msfxMmOYWQ44/HhzSsW/HUf3rwCGc54nOwYxsmOoShGSCq83tqPjsExFGcm4a71C9885lPlRXDE2fBqSx+uDIxGMUIiIrIiJskUMz9rDC6y+uRtxUiMty/46xLj7fi924oAAP9ulYVaFRXBwwJ+GppF/mzlyutaAc4nw+nAR7esgJTBMh6ihap+uhrVT1t3y3ciWhgmyRQT/oDEr052Awh2J1isT9wa/JrnTnTBH7BALWFTU/AwuVGvDy+e6QEAfKqieNFfv+fWQgDAkfe6IhoXmduRc0dw5NwR1WEQkc7d2KCWKArevjiAfs8EVmU5sbkwbdFfv604HSuzknBlYAyNFwewY93CH8uTfjU092F8MoDbVmWgMCNp0V9/94ZcpCfF42y3Gy09bpTkz7/oj+jwg4fnfxERWR5nkikmnjsRnOn76NaC63ZRWyghBD62NThr+MsTnDU0i/C42FIwzytn54iz4YFQfXv9u50Ri4vMrbqsGtVlLLcgorkxSaaom15q8bGtS0uGAGD3tuDX/upkNwJWKLkwufFJP353Nti+7YEtC1/IOdPHQuPi16d7IhIXERERwCSZYuCdK4Poc09gZVYSthQtvtRCs7kwDYXpiehzT+BU53AEIyQVXjnXh1GvP1RK41zy++xcl41khx1nu93oGByLYIRkVrWuWtS6alWHQUQ6xySZou7lc30AgPdvzF9SqYVGCIGqjcFtrLUZSDKuhtC4+OAt+ct6H0ecDXeX5AAAXuK4oAXYd2Qf9h3ZpzoMItI5JskUdVqSvKs0d9nvdV9ZMEl+qdnkydDevcHDpKSUeLk5OC6qQv9Pl+P+0M0Tk2RaiL3le7G33LzXFxFFBrtbUFQNjHjxXvsgHHE27Fg3/zbU83nfhmw47Da82z6Iq54JZKckRCBKHao196Pg830j6BgcQ3ayY0ndTmbSbp5eP9+P8Un/ovpwk/XUVpv7+iKiyOBMMkXVqy19kBLYsTYLTsfy78mcjjjsWJcFKadmqMl4tP9395bmLmoDkZvJS0vElqI0jE8G8NaFq8t+PyIiIibJFFXaI/VIlFpotMfzr7X0R+w9dcflCh4mFckSHM09JcH3evM8k2SaW6e7E51utgwkorkxSaaokVLilVAiG8lk6M7QRiJvXbgKKU3aCq6yMniY0PikH0dDs73agrtI0MbFG0ySaR5FTxSh6InF7/xJRNbCJJmiprXXg37PBPJSE7AhLyVi77txRSoynfHoHBrH5YHRiL0vxcZ77UOY8AWwcUUqciJYU165JhPxdoFTnUMYGp2M2PuS+RSkFKAgZek924nIGpgkU9S81TYAANixLntZrd9mstkEdqwNzhry0brxaLPId6xd/kLO6ZyOONy6MgMBCRxt47igm+t8tBOdj7LcgojmxiSZokZLhnZEOBkCgDvXh5JkLtIynKPazVPoRieS7lwfLN/guCAiouVikkxRIaXEsXAyFMUk+byJ65JNaNIfgOvSNQCRn0kGpuqS+YSBiIiWi0kyRcXFq6PodU8gO9kR0XpkTUleCrKTHeh1T6CtfyTi70/RcaJjCGOTfqzLTUZuauR7XN+2KgOOOBvOdrsxMOKN+PuTOVTUVqCitkJ1GESkc0ySKSqm151Gsh5ZI4TAztCsofb4nvTv6IXolVoAQGK8HbetzAAANIVmrIlmaupqQlNXk+owiEjnmCRTVByNYqmFpnx1JgCTJkONjcHDZLQFdTsjsPvizVSExoXrsgnHBUVE495GNO413/VFRJHFbakpKhovBZPkO6I0YwhMJUNNZkyGKsz3KNgfkHBdjF49sqZ8VShJNuPNE0VERaH5ri8iijzOJFPE9XsmcGVgDE6HHWUrUqN2nk0FaUiIs+F83wgGR1l/qnetvR64J3woykhCQXpS1M6jPWF4r30Qk/5A1M5DRETmxiSZIu6dy4MAgG3F6bDbIl+PrHHE2bC1KB0AcDx0TtOoqQkeJvLOleDM7q2rMqJ6nqxkB9blJGN8MoAzXcNRPRcZ04GGAzjQcEB1GESkc0ySKeKOh5Kh20KPvaOp3KwlF3V1wcNEtBsZbWFdNGnjgiUXNJuDLx/EwZcPqg6DiHSOSTJFnJYM3RqLZGiVSZNkE3rnSihJjvJMMsC6ZJrb/l37sX/XftVhEJHOceEeRZQ/IPHulVjOGAbP8c7lQfgDMqrlHbR0ngkfmnvciLMJbC5Mj/r5Kszc+YSW7UDVAdUhEJEBcCaZIqq114MRrx9FGUnIS0uM+vnyUhNRnJmEEa8fzd3uqJ+Plua99kFICWwqTENivD3q5yvJS0FqYhw6h8bRPTQe9fMREZH5MEmmiDp+OTaLs6bTHq1rj/NJf7T/N7EowQEAm01ge3HwXO+1c1zQ9VydLrg6XarDICKdY5JMERXLxVmabcXBx/cnOoZidk5anPC4iOHN01aOC7qJyrpKVNZVqg6DiHSONckUUVOLs6Lf2UKjtYE70WGiGcPyctURRIyUctpMcuzGxbbQuHivnUkyXa+8wDzXFxFFD5NkipiRCR/O9WqLs9Jidt7NRekQAmjudmN80h+Tmteoc5nnUXDH4Bj63BPIcMZjTbYzZuedPpMspYQQXNRJQa4a81xfRBQ9LLegiDnTNQwpgdL81JgmqikJcVifm4JJv+TiPR06GSp32FqUHtNEtSgjCVnJDgyMeNExOBaz8xIRkTkwSaaI0ZKhLUWxm0XWbCti/alenewI7nqnlcXEihBiqhSHJRdERLRITJIpYk52BpOhLTFOhqaf0zTJkBDBwwROdWo3T7EfF9qizvd480TTFD5eiMLHC1WHQUQ6x5pkihhtJjkWm0XMxGRIv8I3TwrGBWeSaTZdni7VIRCRATBJpogYn/SjpdcDmwBuKUiN+fk3FabBJoBzPSZavGcCvcPj6HNPIDUxDiuzkmJ+/m3TeiVz8R5pOh7pUB0CERkAyy0oIpq73fAHJNbnpsDpiP29l9MRh5K8VPgDEme6hmN+fprdSa3UojC2i/Y0+WkJyE1NwPC4D5cHRmN+ftKnwtRCFKay3IKI5sYkmSLipMK6U80WLt7THW3RnorFnMD1i/fYL5mIiBaDSTJFxKlQ3Wks+yPPtDWUiJ1kkqwbUx1P1N08aWPyNJ8wUEhNfQ1q6mtUh0FEOsckmSLilA6SoU2hhWFnutgrWS+mbp4UjouCYJLMMhzS1DXVoa6pTnUYRKRzXLhHyzbpD+BMaBOPTQpnkjeGFgw297jh8wcQZzfwPeChQ6ojWDZtEw+nw461OcnK4rgllCSf7mSSTEGHdhv/+iKi6FtQkiyEeADAtwDYATwlpfzGTV73KQD/DuB2KWVjxKIkXWvt9cDrC2BNthNpifHK4khLjMfKrCRcGRjDhf4RlObHvstGxNQY/1Gw1h/5loI02G3qukqsynIi2WFHr3sC/Z4J5KQkKIuF9KGmwvjXFxFF37xTbUIIO4AnAXwEwCYAnxNCbJrldakA/gLA0UgHSfoW7o+ssNRCc8sKPlrXi/CiPYVPFwDAZhPYyJILIiJapIU8j74DQKuU8oKU0gvgGQAfn+V1fwfgHwGMRzA+MgA9LNrTmObRem1t8DAwbaGcynpkDeuSabr65nrUN9erDoOIdG4hSXIRgCvTPm4PfS5MCFEOYKWU8pcRjI0MQks8tEREpU1m6WSwb1/wMLCzof8Ht+hgXJjm5okiYs8ze7DnmT2qwyAinVv2wj0hhA3AEwAeWsBrawDUAEBubi4aGhqWe3pSTEqJk+3BTRqutZ1EQ9fyFst5PJ5ljYvh0QAA4N1LVw09vqpCfxr13+D1S5zvG4UA0NXchKuty6tJXu64GB/0AwAaW7vQ0MAWgWax1HFxZ9adAIx7fdHclvvzgkizkCS5A8DKaR8Xhz6nSQWwBUBDaEetFQAOCyH2zFy8J6WsBVALAGVlZbKqqmrpkZMudA2NYeSF3yHTGY9PfPi+Ze+q1tDQgOWMCyklHjv6awxP+LCpYifyUhOXFY9qRr1GTnYMIfCb17A+Nxkfen/Vst9vueNih9ePrx99Hl2jwM733cNty01iqePijao3Ih8M6cZyf14QaRYy7fc2gBIhxFohhAPAgwAOa38ppRySUuZIKddIKdcAeAvADQkymdPZUOu3shWpSrYdnkkIEX60zn7J6jSHxsXGFepLLQAgKdSGzh+QaO31qA6HiIgMYN4kWUrpA/AwgBcAnAHwrJTylBDiMSEEi7os7myXvpIhALgl1C+Zi7TUOdsd/N5vXKGfNnysSyYiosVYUE2ylPI5AM/N+NzXbvLaquWHRUahJUNaYqoHTIbU054wbNTBoj3NpsI0HHmvy/iLOmnZxMHgUy+5XyqOhIj0zMBbkpEeNIfLLfSVDAGcSVbpTPgJg/5unjguiIhoIbgtNS2Z1xdAa68HQgCl+SmqwwkrzU+FTQAX+kcwPuk35iItadwZrn5PcGe7lIQ4FGcmqQ4nTGtReLprGFJKXdTQkxqcQSaiheBMMi3Z+T4PfAGJNdnJcDr0c7+VGG/HutwU+AMSLT1cpBVrU4v29LGYU5OXmoBMZzzc4z50D3PPIyIimhuTZFqycKlFvn4eqWvKQo/5z/Www0WsaeUMZToqtQCCnU9KQ2NVG7tEREQ3wySZluyM1sFAR4v2NFribtgkuaIieBiQHhftaXjzRABQ/XQ1qp+uVh0GEemcfp6Rk+Hosf2bJjxjaNRkqKlJdQRLFu54orOZZGDauOhmGY6VHTl3RHUIRGQATJJpyabXnupNeMaQj9VjyucP4FyoDrxUh+NiI2eSCcDhBw/P/yIisjwmybQk10a86B4eR1K8HauynKrDucGqLCcS4mzoHBrH0Ngk0pPiVYdkCRevjsLrC6A4Mwlpifr7npeEZpJbet3wByTsNv0sLKTYqS5jqQURzY81ybQk07ejtukw0bDbBEpCbelaOGsYM3rcaW+69KR4FKQnYnwygCsDo6rDISIiHWOSTEvSrPNkCDBBXbIB6blOXaONi7MsxbGsWlctal21qsMgIp1jkkxLMn0mWa/CHS6YDMWMdkOi63HBumTL23dkH/Yd2ac6DCLSOdYk05K09AYXZ+k5GdIWjhlyJnnvXtURLIlW2lKqw97ZGj5hoL3lxry+iCi2mCTTokkpw8lQSZ5+k6GyaRtHGG4b4lrjPQoen/Tj8sAo7DaBNTn6W8yp4RMGqq023vVFRLHHcgtatF73BIbHfchwxiMnxaE6nJsqSE9EamIcro1Oot/jVR2O6V3oG0FAAmuynUiIs6sO56Y25KVACKCtfwQTPr/qcIiISKeYJNOitYT64Jbkpeh6dlYIYdyd91yu4GEgLb36f7oAAEkOO1ZnOeELSLT1j6gOhxTodHei092pOgwi0jkmybRo4WRIx3WnmnBdstEerVdWBg8DCd88hVrv6VlpvkHHBUVE0RNFKHqiSHUYRKRzTJJp0c5Nm0nWO8POJBuQ9j02ws0TO1xYW0FKAQpSClSHQUQ6x4V7tGitBnmsDrCTQSy19hrn5mlqJtmjOBJSofNRlloQ0fw4k0yLIqUMzySXGuKxejDGc6EOFxQdEz4/Ll4dgU0Aa3OSVYczr42cSSYionkwSaZF6fNMYGhsEmmJcchNTVAdzryyUxKQk5KAEa8f7dfGVIdjWlOdLZKRGK/fzhaaNTnJiLcLXB4YxajXpzocIiLSISbJtCit4cVZqbrubDFd2YrgbDIXaUWPtrnMBgOUWgBAvN2GdTmhpww9LLmwmoraClTUVqgOg4h0jkkyLYqWDBmh1EKj1U639jEZipbw5jJGGhehWLVaarKOpq4mNHU1qQ6DiHSOC/doUbQazg0GWLSn0ZKhFiPNGDY2qo5gUVrCdeoGGhd5qQC6wi0NyToa9xrr+iIiNZgk06K0GKiDgSY8k2ykZKjCWI+CtUTTKOUWwLSZZCPdPFFEVBQa6/oiIjVYbkGLEm7zZaTH6qHEraXXww4XURDsbDEKmwDW5xpzXBAREc3EJJkW7KpnAgMjXqQmxGFFWqLqcBYsM9mBnBQHRr1+dA6Nqw5nYWpqgocBXOwfhT8gsSrLaYjOFprV2cmIswlcuTaKMa9fdTgUQwcaDuBAwwHVYRCRzjFJpgXTugBsyE8xTGcLjVYG0GKUvrh1dcHDAKZKLYxTjwwAjjgb1uQkQ0rgPBd1WsrBlw/i4MsHVYdBRDrHJJkWbGqnPeM8UtdM1SUzGYo0I20uM9OGXHa4sKL9u/Zj/679qsMgIp3jwj1asKn2b8aaMQQM2uHCIMI3TwZMkkvyU/D8KbDDhcUcqDqgOgQiMgDOJNOCTbV/M14yFC63YDIUcdpMconByi2A6WU4vHkiIqLrMUmmBZvqbGG8ZEhL4NjhIrK8vgAu9o9AGKyzhYZlONbk6nTB1elSHQYR6RzLLWhBBka86Pd4keywozDdOJ0tNDkpDmQ44zE4Oole9wTyDdSdQ88uXR2BL9TZIslhnM4WmnW5ybAJ4NLAKCZ8fiTEGe/fQItXWVcJAJD7ecNMRDfHmWRaEK0rxIb8VMN1tgAAIcRUX1wjPFovLw8eOjdVamG8WWQASIy3Y1WWE/6AxMX+UdXhUIyUF5SjvED/1xcRqcUkmRbEiDvtzbQhXHJhgLpklyt46FxLeNGe8UpwNIYaFxQRrhoXXDX6v76ISC0mybQgrSZIkrnDWuS1GHwmGWDnEyIimh2TZFoQrbOFEdu/abRkqJXJUMS0GLj9m0ZL8Ll4j4iIpmOSTAuizb4asf2bRutkcK7Xrf8OF0IEDx2b9AfQ1j8CwBzjguUW1lH4eCEKHy9UHQYR6Ry7W9C8Bke96HNPICnejqKMJNXhLFl+WgJSE+IwODqJqyNe5KQkqA7J0C5dHcGkX6I4MwlOh3F/lKzPSwYAtPWPYNIfQLydcwdm1+XpUh0CERkAfxvQvFqnzSLbbPqe3ZyLEAIbWH8aMS09xt2BcTqnIw7FmUmY9EtcusoOF1bQ8UgHOh7pUB0GEekck2SaV7jNl4HrTjVT9ad8tL5cRm//Nh3HhbUUphaiMJXlFkQ0NybJNK/w4iwDbjs80/Sd92h5tHFh5HpkjdbCjk8YiIhIwySZ5mWG9m8alltEjjYujF5uAUwl+rx5soaa+hrU1NeoDoOIdI5JMs3LDO3fNOyVHBk+fwAX+oKdLdab4OaJ48Ja6prqUNdUpzoMItI54y5Jp5gYGptEz/AEEuNtKMo0bmcLTWF6EpwOO/o9E7g24kVmskN1SLM7dEh1BHO6NDAKrz+AoowkpCQY/8eINpN8vs8Df0DCbuAFqjS/Q7v1fX0RkT4Y/7cbRZX2SH19boopEgebTWBDXgreax9Ca58HtydnqQ5pdjX6fhTc0mP8TUSmS02MR0F6IrqGxnFlYBRrcpJVh0RRVFOh7+uLiPSB5RY0pxYTlVpowvWnrEteMjNsRz0T65KJiGi6BSXJQogHhBDNQohWIcRfz/L3fyyEOCGEeEcI8ZoQYlPkQyUVzLDT3kyG2GGttjZ46FRLeDGneW6eDDEuKCLqm+tR31yvOgwi0rl5yy2EEHYATwL4IIB2AG8LIQ5LKU9Pe9lPpJTfCb1+D4AnADwQhXgpxlpM1NlCM9UTV8czhvv2Bf/UadnFOZOVWwBTN4KtfMJgenue2QMAkPt1vj09ESm1kJrkOwC0SikvAIAQ4hkAHwcQTpKllMPTXp8MgD95TGKq9tREM4ZsA7csPn8AF/qDnS1M9YQhn+UWVrG7dLfqEIjIABaSJBcBuDLt43YAO2a+SAjxXwA8AsAB4P7Z3kgIUQOgBgByc3PR0NCwyHAplsZ8El1D44izASyPjKcAACAASURBVG0njuGSiP7CPY/HE/VxEZAS8Tage3gcz/3mJTjj9bcgsSr0px6vke6RALy+ALISBVxvvR6Tc8ZiXHi8wXv75u4h/O6ll2CLwXin5VnquHi04FEA+ry+aPli8fOCrCFi3S2klE8CeFII8XkAfwvgD2Z5TS2AWgAoKyuTVVVVkTo9RcHxy9eA376Bkvw03H/fPTE5Z0NDA2IxLkreexWnu4axouxWlK/KjPr5lkqP18gLp7qBV13YsioHVVV3xOScsRoXB479Fv2eCZRs34GVWc6on4+WJ1bjgoyF44IiZSEL9zoArJz2cXHoczfzDIBPLCco0gcz1iNrtEfrrD9dPDPtwDiTIerViYgoJhaSJL8NoEQIsVYI4QDwIIDD018ghCiZ9uHHALRELkRSJVyPbOJkiJ0MFu+cmcdF6OZJ+zeSOYmDAuIgy2mIaG7zlltIKX1CiIcBvADADuB7UspTQojHADRKKQ8DeFgI8QEAkwCuYZZSCzKe8EyyiRbtaTaE231xxnCxwj2STTgutH8TxwURES2oJllK+RyA52Z87mvT/vsvIhwX6cBUMmTeGUPddriQ+mwQ4w9InO8zX+9sTQk3FLEEtn4jooXgjns0q5EJHzoGx+Cw27DahAuYVmc54bDb0DE4hpEJn+pwDOPKwCgmfAGsSEtEelK86nAiLlyT3OOG1OmNChERxQaTZJqVtnBpXW4y4uzmGyZxdhvW5iQD4CKtxZgqwTHfLDIAZKckIDvZgRGvH51D46rDISIihcyX/VBEmHE76pl0vUiroiJ46Iy20NFM21HPpI35Fj2OC4qI6qerUf10teowiEjnItYnmczFCslQaX4qgC59ziQ3NamOYFZmrlPXlOan4mjbAFp6PKgqy1MdDkXBkXNHVIdARAbAJJlm1WqBZEirP9XlTLJOTd08mXhc5LM9oNkdfvDw/C8iIstjkkyzMvNGIhqt3dc5vXa40JlAQE7bSMS8TxhK2B7Q9KrLWGpBRPNjTTLdYMzrx5Vro4izCawJLW4zozXZTsTbBTtcLFD7tTGMTwaQl5qAdKf5Oltopu/GyA4XRETWxSSZbnC+zwMpgbU5yYg3YWcLTZzdhnU53IZ4obTyg1ITbiIyXU5KArKSHXBP+NA9zA4XZlTrqkWtq1Z1GESkc+bNgGjJwnWnJq5H1ui6w4XOWKHjiWZDuF6dN09mtO/IPuw7sk91GESkc6xJphtoHQw2mLjuVKN1uNBd/enevaojuIF2I2GJm6e8FBxrG0BLjxu7SnNVh0MRtrdcf9cXEekPk2S6gZYwllokGQJ02BO3Vn+PglvD48IqN08swzGr2mr9XV9EpD8st6AbaAmjmTsYaNjhYmGu72xhnZsnluEQEVkXk2S6zvikH5cHRmG3CazJcaoOJ+rWZDvhsNv01+HC5QoeOtExOIZRrx+5qQnIcDpUhxN12s1TSy87XJhRp7sTne5O1WEQkc4xSabrXOgbQUACq7OdSIizqw4n6uLsNqzLDba509Wj9crK4KETVppFBoCcFAcynPFwj/vQMzyhOhyKsKInilD0RJHqMIhI55gk03XCbb4sUGqh2cBH6/MKL9qzSJIshAhfA9x5z3wKUgpQkFKgOgwi0jkmyXSdFgtsRz1TaT53WJtPeAdGCyza02zQtqdmvbrpdD7aic5HWW5BRHNjkkzX0WbNrNALV1Oar9MOFzpihW3KZwp3PuFMMhGRJTFJputMJUMWmjHMY4eLuUgp0dpjjd32pgs/YeC4ICKyJCbJFDbh8+PS1VHYBMKL2axAtx0udKJzaBwjXj9yUhzITDZ/ZwvN9DZw7HBhLhW1FaiorVAdBhHpHJNkCrvYPwp/QGJ1djIS483f2UIzvcMF65JvpJWhWKkEBwByUxOQnhSP4XEf+tzscGEmTV1NaOpqUh0GEekck2QKO2fRZAiY+jfrpi65sTF46IBWbmClUgsg2OFiqi6ZN09m0ri3EY179XF9EZF+MUmmMCsuztLorsNFRUXw0AFt4ZoVx8XUjow6uXmiiKgorEBFoT6uLyLSLybJFNbaa73FWRqtwwWToRtZsf2bhjPJRETWxSSZwrTH6tYst9BZJ4OamuChWLCzBZ8w6KYMhyLiQMMBHGg4oDoMItI5JskEAJj0B9DWPwIhgPW51kuGdNfhoq4ueCjWPTwO94QPWckOZKckqA4n5krCTxg87HBhIgdfPoiDLx9UHQYR6Vyc6gBIHy72j8AXkFiV5USSwzqdLTRah4uz3W609Hpw68oM1SHpwjkLP10AgLzUBKQmxmFobBL9Hi9yU613o2BG+3ftVx0CERkAk2QCMJUMWfGRumZDXkowSe5xM0kOOdcdLDPYuMJ69chAsMNFaX4qXJeuoaXHzSTZJA5UHVAdAhEZAMstCADQ3D0MACizaDIE6LDDhQ6c7bbuYk4NF+8REVkTk2QCADSHFiZZO0lmh4uZmnuCN09WnUkG2AbOjFydLrg6XarDICKdY7kFAQCau5kk667DhWL+gJzaSMTC44IzyeZTWVcJAJD7uRiTiG6OSTJhzOvHpYFRxNkE1uVYtyZ5eocLz4QPKQkKL4/ycnXnDrl0dQQTvgAK0xORlhivOhxltFKTVibJplFeoP76IiL9Y5JMaOl1Q0pgXV4yHHHWrcC5rsNFjxu3rcpUF4xL/aNgPl0Iyk8LdrgYGPGizz3BxXsm4KpRf30Rkf5ZNyOisGYuzgrTEkLWn04t2itbkaY4ErWEECgLXRvatUJERObHJJnCv/itvDhLoyXJZ7qYDE3NJFu3BEezsSA4Ls6GusAQEZH5MUmmcGcLziQDt4RmTZUnQ0IED4W02fSyfGvPJANTs+lnOZNsCoWPF6Lw8ULVYRCRzrEmmabNJDMZ0mYMm7vdkFJCKE5UVRmf9OPi1RHYbQLr85JVh6Oc9pSF5Rbm0OXpUh0CERkAk2SLuzbiRa97Ak6HHcWZSarDUW5FWiLSEuNwbXQSve4J5Kclqg5JiZYeDwIS2JCbjIQ4621TPlPptF7J/oCE3WbNmyez6HikQ3UIRGQALLewOK3UoiQ/FTb+4ocQAhsLgjPqZ7qsW3/KzWWul54Uj8L0REz4Arh4dUR1OLRMhamFKExluQURzY1JssVN1Z1ycZbmFj5aD29TvpF16mFlHBdERJbCJNni2ObrRlykNX1cMEnWaE8YrDwuzKKmvgY19TWqwyAinWOSbHHntGSIM4ZhU+2+rJsMcSORG00t3rNuGY5Z1DXVoa6pTnUYRKRzXLhnYVJK1p7OYmobYjcm/QHE2xXcSx46FPtzhkxfzLky06ksDr1huYV5HNqt7voiIuNgkmxhXUPjcI/7kJXsQE6KQ3U4upGSEIdVWU5cHhjFhb4RNTcQNeoeBXMx5+zW5aQgziZwaWAUo14fnA7++DSqmgqWWhDR/FhuYWHN00otrNoP+Ga0R+vKNxVRYGpccDHndI44G9bnpkBK4FyPR3U4REQUZUySLYylFjc3lSQrerReWxs8FJgaF1zMOVMZ65JNob65HvXN9arDICKdW1CSLIR4QAjRLIRoFUL89Sx//4gQ4rQQ4j0hxItCiNWRD5UiTZsx5HbUN9I6GSirP923L3gooPWH3sibpxtwUac57HlmD/Y8s0d1GESkc/MW1Qkh7ACeBPBBAO0A3hZCHJZSnp72suMAKqWUo0KIPwHwvwB8NhoBU+SEk6ECJkMzhWeSLbahiD8gcbYrmABuKuBM8kxT44JJspHtLt2tOgQiMoCFrDy5A0CrlPICAAghngHwcQDhJFlK+dK0178F4IuRDJIib8LnR2uvB0JwxnA2q7OTkRhvQ+fQOIZGJ5HujFcdUkxcvDqCsUk/CtITkZnMxZwzaSUozT1uSClZy29Q9Z9jqQURzW8h5RZFAK5M+7g99Lmb+SqAXy0nKIq+lh4PfAGJtTnJXKU/C7tNhMtQtBpdKzjdGZw55yzy7ArTE5GaGIeBES/6PBOqwyEioiiKaHYkhPgigEoAu27y9zUAagAgNzcXDQ0NkTw9LcKr7ZMAgBz7uK7+P3g8Ht3Eky6DSdDhV1wYvRTbmeSq0J+x/l483+wFADgnr+nm/wOgr3GxIjEA9zjw7AuvY0uOXXU4lqancUH6wXFBkbKQJLkDwMppHxeHPncdIcQHAPx3ALuklLNOsUgpawHUAkBZWZmsqqpabLwUIS/XnwJwEbu2b0BV1QbV4YQ1NDRAL+PifFwbXu04DX/qClRVbVUSQ6y/Fz9oOwagDx/duRVVWwtieu656Glc/HbwBFreuoyEvLWouned6nAsbanjQhwMlsnI/TLCEZEe6OnnBRnbQsot3gZQIoRYK4RwAHgQwOHpLxBC3AbgEIA9UsreyIdJkRZ+rF7Ix+o3o5UcnLbQ4j2Oi/ndEhoXpzqHFEdCRETRNO9MspTSJ4R4GMALAOwAvielPCWEeAxAo5TyMIBvAkgB8LPQQpbLUkr219EpKWU48WPt6c1pieLZrmH4/AHExXJ7ahn7Ga4+9wR63RNISYjjdtRz2FyYDsBaN09mwxlkIlqIBdUkSymfA/DcjM99bdp/fyDCcVEUdQyOwT3uQ3ayA3mpCarD0a30pHiszErClYExnFe1PXUMaS0BbyngdtRz2bgiFXabwPm+EYxP+pEYz7pkIiIz4o57FjT9kTpbWM1tS2jW0AqP1vl0YWES4+1Yn5sc7CnNTUWIiEyLSbIFnQ7PGDIZms/mUMnFyY4YP1qvqAgeMcR65IXbxLpkQ6t+uhrVT1erDoOIdI4Nci3oDGcMF2yzqpnkpqbYng/TZ5LTY35uo9lcmI7/fKczfGNBxnLk3BHVIRCRATBJtqBwMsQZw3ltLgp1uOgcRiAgTVurO+b140KfB3abQEl+iupwdE97wnCKSbIhHX7w8PwvIiLLY5JsMcPjk7gyMAZHnA3rcpJVh6N7eamJyE1NQJ97AleujWJ1tjm/Z809bgQkUJaXwoVoCxDufNI9DH9Awm7Smyezqi5jqQURzY81yRZztiu40KgsPzW2Lc0MzAqzhqxHXpwMpwNFGUkYnwzgQp9HdThERBQFzJIs5nSotpb1yAundbg42WHeRVonOS4WTbuhYL9k46l11aLWVas6DCLSOSbJFnN6Wi9cWhgrzCSfaA8myVuLuWhvoawwLsxq35F92Hdkn+owiEjnWJNsMVors02FTIYWanqHCyllbHpL790b/XOETPj8ONs9DCGmEj+an7LOJ7Rse8tjd30RkXExSbaQ8Uk/zvW4mQwt0sqsJKQmxqHf40WvewL5aYnRP2lt7B4FN3e7MemXWJ+bjNTE+Jid1+i0a+h053Dsbp4oImqrWWpBRPNjuYWFnO12wxeQ2JCbguQE3h8tlBBi2qN1880angjVWm8rzlAcibEUpCciwxmPa6OT6BoaVx0OERFFGJNkCznRPgiAdadLoS3eO9Eeo/pTlyt4xIBWj7yliONiMa6/eWJdspF0ujvR6e5UHQYR6RyTZAvRZgy3MhlatG0rg7Os74VuNKKusjJ4xMB77dpMMsfFYm22QOcTMyp6oghFTxSpDoOIdI7P3C2EydDSbQ99z95tHzRV/alWp24TbP+2FNoNZ8xunigiClIKVIdARAbAJNkixif9aOn1hJIhJsmLtSrLiQxnPPo9XnQOjaMoI0l1SBFxpmsYvoBEaT7r1Jdie7H2hCGGnU9o2TofZakFEc2P5RYWcboruH1uSV4qkhzcdnixhBDhhOjdK+aZNTwZLsHhor2lWJmVhExnPK6OeNExOKY6HCIiiiAmyRahJUNcnLV04ZILEyXJLMFZHiEEtk6bTSYiIvNgkmwRTIaWb3to8d67Jqo/PcGbp2WbXq9OxlBRW4GK2grVYRCRzrEI0SLCj9WZJC+Z1kf4RPsQ/AEJu83Y9adj3uCiPbtNcNHeMmjj4r0rnEk2iqauJtUhEJEBMEm2ACZDkZGbmoCijCR0DI7hfJ8Hpfmp0TtZY2P03jvkRMcQAhK4ZQXr1JdDm0k+2TGEQEDCZvCbJyto3Bv964uIjI9JsgWc7hpGQAIb81OQGM9kaDm2r0xHx+AY3r0yGN0kuSL6j4KbLl8DAJSv4qK95chLS8SKtER0D4/jQv8INuSlqA6J5lFRyFILIpofa5It4J3QQjPWIy9fuMOFCepPmy4Fk+TbVmUqjsT4tGuL/ZKJiMyDSbIFHA/PGDIZWq5t4TZwUa4/rakJHlEipcTx0M0TZ5KXbypJZl2yERxoOIADDQdUh0FEOsck2QKOXw4mQ5wxXL6txekQAjjbPYzxSX/0TlRXFzyipP3aGPrcE8h0xmNtTnLUzmMV20z0hMEKDr58EAdfPqg6DCLSOdYkm1zv8Dg6BseQkhDHWskISEmIQ1l+Ks52u3GiYwi3r8lSHdKSaPXIt63K5C5xEaDNJJ/uHMakP4B4O+cf9Gz/rv2qQyAiA2CSbHLaI/XtK9MN37JMLypWZ+JstxuNF68ZNknWni6w1CIyMpwOrM1JRlv/CM52udlqUecOVB1QHQIRGQCnO0wuXGqxkqUWkVK5Jvi9dF0aUBzJ0h2/zEV7kabV/Bt5XBAR0RQmySY3lQxxxjBSKlcHZ49dl65BSqk4msUbn/TjVOcwbGJqF0FavorVoST5MuuS9c7V6YKr06U6DCLSOSbJJubzB8Kr7W9lMhQxxZlJyEtNwLXRSZzvG1EdzqKd7BiCLyBRmp+KlARWXEWKliRrrfVIvyrrKlFZV6k6DCLSOSbJJtbc48bYpB+rs53ITklQHY5pCCGiX3JRXh48oiC8ichqllpEUkleClIT4tAxOIauoTHV4dAcygvKUV4QneuLiMyDSbKJTdUjcxY50ipCJReNF6M0a+hyBY8oONYWjLmC9cgRZbMJ3BaeTWbJhZ65alxw1bDcgojmxiTZxNgfOXpuD80kNxrs0XogIPH2xeDs9451xuzMoWcV4cV7xhoXRER0IybJJtYYKgXgTnuRd0tBGpLi7WjrH0G/Z0J1OAvW3OPG0NgkijKSUJzpVB2O6Uwt3mOSTERkdEySTapneByXro4i2WHHLQWpqsMxnXi7LbwYMiqzhkIEjwg7euEqAGDHWs4iR8P2lemwCeBUx1B0d2SkZSl8vBCFjxeqDoOIdI5JskkdawvNIq/ORBx3/4oKreRC+14bwbFQqcUdTJKjIjUxHmUr0uALyHBnGdKfLk8XujxdqsMgIp1j9mRS4bpTJkNRs3NdNgDgzfNXFUeyMFLKcELPJDl6KlZH8QkDRUTHIx3oeKRDdRhEpHNMkk1KS4aMum2yEZSvzoQjzoYz3cO4NuJVHc68zveNoN/jRW5qAtbmJKsOx7S0uuTGi8Z5wmA1hamFKExluQURzY1JsgkNjU6iuccNh93GHdWiKDHejvJVGZASONqm/9nk6bPIIgr1zhR0x9rgE4ZjFwfgDxhvR0YiIgpikmxCjZcGIGVwEVFivF11OKZ257ocAMYoudAS+Z0stYiqoowkrMpywj3uw+nOYdXh0Cxq6mtQU1+jOgwi0jkmySakLc5iqUX03bUhVJd8Qd9JspQSr7eGOluEaqkpenaGelC/pfNxYVV1TXWoa6pTHQYR6Vyc6gAo8sL1yJwxjLrtxRlIirfjXI8Hfe4J5KZGaPvvQ4ci8z4hzT1u9HsmkJ+WgJK8lIi+N91o57psPNvYjrcuXMXee9epDodmOLQ7stcXEZkTk2STGfP6caJ9CDYxtYCIoscRZ0Plmky82tKPty5cRfX2CC0Gqonso+DXWvoBAO/bkMN65BjQZuuPtQXrku02fs/1pKaCpRZEND+WW5hM46UB+AISmwrTkJYYrzocS7hzfTAheuN8v+JIbu7VUJJ8T0mO4kisIVyXPMG6ZCIio2KSbDKvtU7NGFJs3B36Xr9yrh9SRqibQW1t8IiACZ8/vGiP4yJ2WJesX/XN9ahvrlcdBhHpHJNkk3k9lCTfzWQoZrYUpiM72YGOwTG09noi86b79gWPCHBduobxyQA2rkhFXmpiRN6T5qdtNsMkWX/2PLMHe57ZozoMItI5Jskmcm3Ei1Odw3DE2djZIoZsNoFdpbkAgIbmPsXR3Ig3TmrsnFaX7PMHFEdD0+0u3Y3dpbtVh0FEOregJFkI8YAQolkI0SqE+OtZ/v5eIUSTEMInhPh05MOkhXjzwlVICVSsymR/5BjbVRZKks/1Ko7kRi+fCybud7MeOaYKM5KwJjtYl/xex5DqcGia+s/Vo/5zLLcgornNmyQLIewAngTwEQCbAHxOCLFpxssuA3gIwE8iHSAtnFaPzGQo9u4tyYVNAG+3XcPIhE91OGHdQ+M42TGMpHh7eGaTYueekuDN0yvn9PeEgYiI5raQmeQ7ALRKKS9IKb0AngHw8ekvkFJelFK+B4DPFBV6nYv2lMlMdmD7ygx4/QG8oaPd9353Njiz/b4NOXy6oMC9pUySiYiMaiF9kosAXJn2cTuAHUs5mRCiBkANAOTm5qKhoWEpb0Oz6BsN4NLVMSTFAQOtx9Fw3ph9WT0ej2HHxRqHF8cB/PildxDfu7xNRapCfy73e/FT1zgAYKXtmmG/r4Bxx4XPJ2EXwPHLg/jlb15Ccrwxr0u9Wuq4uO/l+wAAL+16KcIRkR4Y9ecF6U9MNxORUtYCqAWAsrIyWVVVFcvTm9pPjl4GcAL3lObj/vsqVYezZA0NDTDquMjaMIj/+OfXcW44Drt27YrIph3L+V6Mef04+9tfAwD+5OP3IC/NuJ0tjDwuKs+/iaNtAxArNqJqa4HqcExlyePi5eAfRh1TNDcj/7wgfVlIuUUHgJXTPi4OfY50RHusft/GPMWRWNeWwnTkpyWgc2gcJ5a7UEvK4LEMb5zvx4QvgG3F6YZOkI2OJRf6I/dLyP0R6mlORKa1kCT5bQAlQoi1QggHgAcBHI5uWLQY45P+cD3yfWVMklWx2QQ+vHkFAOBXJ7sVRwP89kzwxun9G/MVR2Jtu6YlyRHbbIaIiKJu3iRZSukD8DCAFwCcAfCslPKUEOIxIcQeABBC3C6EaAfwGQCHhBCnohk0Xe9o2wDGJv3YVJCGFemcMVTpgS3BJPn5k91KEyKfP4DfnA4m6u+/hTdOKm0qSEN2sgOdQ+OR22yGiIiibkF9kqWUz0kpS6WU66WUfx/63NeklIdD//22lLJYSpkspcyWUm6OZtB0vZdCpRb3s9RCuTvWZCHTGY+2/hGc61lGQlRRETyW6FjbAPo9XqzJdmJzYdrS46Bls9lEuOTixbP666NtRdVPV6P66WrVYRCRznHHPYOTUuLFsz0AWI+sB3F2Gz60aWo2ecmamoLHEh050QUA+Ni2gogsIKTl+cAtwZKX35zuURwJAcCRc0dw5NwR1WEQkc4xSTa4830eXBkYQ1ayA7euzFAdDmGq5OJXJ7uUnN/nD4QT9N3bCpXEQNfbVZYLh92GpsvX0OeeUB2O5R1+8DAOP8ilNUQ0NybJBqd1tdhVmgu7jTOGenDXhmykJ8XjbLcbZ7qGY37+ty4MYGDEi3W5ydi4IjXm56cbpSTE4a4N2ZAS+N1ZziarVl1WjeoyllsQ0dyYJBvcC6eCv3C5OEs/EuLs2L0t2A/3P47HvlviL94JnvNjW1lqoScf3MSSCyIiI2GSbGDdQ+NwXbqGhDgbW7/pzCfLiwEA/3m8A/5A7LpcjEz48MtQPfLv3VYUs/PS/LS65Fdb+jHq9SmOxtpqXbWoddWqDoOIdI5JsoG9cCpYd7qrNBfJCTHdPJHmUb4qA2uyneh1T4R7WMfCcye6MOr1o3J1JtblpsTsvDS//LREbF+ZgQlfAK+2xG5M0I32HdmHfUf2qQ6DiHSOSbKBPReaMfwot7rVHSEEfu+24Gzyv7vaF/8Ge/cGj0X6Wehcn6ksXvw5Keo+FCq5+NUJNYs6KWhv+V7sLV/89UVE1sIk2aD63BM4dnEA8XaB+1mPrEufLC+CEMFWcP2eRXY0qK0NHotwsX8Ex9oGkBRvx8fY1UKXtFr1X5/uwZjXrzga66qtrkVtNcstiGhuTJIN6tenuyElcPeGHKQlxqsOh2axMsuJ+8vy4PUH8NO3r0T9fD8+eglA8MlCCstvdGl1djK2F6dj1OsP9zcnIiJ9YpJsUL843gmApRZ696U7VwMAfnL08uIW8LlcwWOBRiZ8eCaUiP/BXasXFSPFVvX24Cz/4Xc6FUdiXZ3uTnS6+f0norkxSTagKwOjOHZxAAlxtvDGFaRP95bkYnW2Ex2DY3jxzCJmDisrg8cC/bypHe5xHypWZ2JbMTeV0bPq7YUQAmho7sPQ2KTqcCyp6IkiFD3B7i9ENDcmyQb0n6Heux/avAKpLLXQNZtN4Es7gzO7h165ACkj3w4uEJD4/hsXAQAP3bUm4u9PkZWflogda7Pg9Qfw61PL2LqclqwgpQAFKXwKR0RzY5JsMFLK8AYVn2QfXEN48I5VSE+Kh+vSNbx1YSDi7//cyS5c6BtBUUYSnywYxJ7twWv3P9+J/WYzBHQ+2onOR1luQURzY5JsMO+2D+FC/whyUhy4pyRHdTi0ACkJcfjD960BAHy7oTWi7x0ISPx/L7YAAP6kaj3i7bykjeBjWwuQEGfD661XcWVgVHU4REQ0C/5GNZh/dwUXZ+3ZXoQ4JkSG8dBda5DssOPVln4cvXA1Yu/7/KlunOvxoCA9kb2RDSTdGR9edPtsY/Q7nxAR0eIxyzKQkQkf/jPU1eL3b2dCZCQZTgf23rsOAPD1X55BIAJbVU/4/PjH588CAP70vg1IiLMv+z0pdj57+0oAwM8a2+HzBxRHYy0VtRWoqK1QHQYR6RyTZAP5xTud8Ez4ULk6ExtXpKkOhxap5t51yE9LwImOoYjUon73tTZcujqKkrwUPBhKuMg4dqzNwppsJ7qHx/FKS5/qcCylqasJ5ui6MwAADudJREFUTV1NqsMgIp1jkmwQUkr821vBzSK+uJN9cI3I6YjDf/vwRgDA/3zuDAZGvDd/cWNj8LiJjsEx/PPvgvXNX6vexFpkAxJC4LO3rwIQ7KNNsdO4txGNe29+fRERAUySDeOdK4M43TWMTGc8OxgY2CdvK8LOdVno93jxtV+cvPkLKyqCxywCAYm/fPZdjHr9+MiWFbinJDdK0VK0fbqiGA67DS+e7cXF/hHV4VhGRWEFKgpZbkFEc2OSbBA/DPXB/UzlSiTGs/bUqGw2gW9+ejucDjuOvNe1pEVbh165gDcvXEVOigN/94ktUYiSYiU3NQF7bi2ElMAPQtc4ERHpA5NkA2i/Nor697pgn7YxBRnXyiwn9ldvAgD87X+chOvSLL2Ta2qCxwy/Od2D//VCcLHeNz65DTkpCVGNlaLvK+9bCyDY5YI78MXGgYYDONBwQHUYRKRzTJIN4LuvtcEfkKjeVoCVWU7V4VAEfPb2Vfjynavh9Qfw0PffxvHL165/QV1d8Jjm1ZY+/NnTTZASePSDpfjApvwYRkzRsqkwDXetz8ao14+fvs3a5Fg4+PJBHHz5oOowiEjnmCTr3LURL545FnwkX3PvesXRUCT9j92b8MDmFXCP+/CFp47iP463z7pttZQSP3zjIr76g0aMTwbw4O0r8fD9GxRETNHy1buDs8lPvdqG8Um/4mjMb/+u/di/a7/qMIhI5+JUB0Bz++GbFzE26ce9pbnYVMi2b2YSb7fhnz9/G/7qf7+Hnzd14L/+9F08c+wKvrhzNapDr/l3Vzt++MZFnOgYAhBMpv77R2+BEEJd4BRx92/Mw6aCNJzuGsYzxy7joVAJBkXHgaoDqkMgIgPgTLKOXRvx4ruvtgEA/rSKs8hmFGe34fHPbMc/fHIr0pPicbRtAH/29PHw3//lz97FiY4h5KUm4NtfKMf/2L0JNhsTZLMRQuAvPlACAPh2w3nOJhMR6QBnknXsOy+fh3vCh3tKcrBzXbbqcChKhBD43B2r8NGtBfhZ4xX87mxv+O92lebig5vy8anyYiQ52NXEzD60KT88m/z0scv4Q84mR42r0wUAbANHRHPiTLJOdQ+Nh1tC/bcPl6kNhmIiPSkef3TPOvxk787w5374lTvwxZ2rmSBbwPTZ5H/+XSuGx9npIloq6ypRWVepOgwi0jkmyTr1//zmHCZ8AXxkywpsK85QHQ7FWnl58CBL+dCmfFSuzsTVES+eDO2oSJFXXlCO8gJeX0Q0NybJOnT88jX8tPEK4u0Cf8lZZGtyuYIHWYoQAl8L9dD+3utt3IUvSlw1LrhqeH0R0dyYJOuMPyDxtV+cAgB89e51WJ+bojgiIoqlbcUZ+FR5MSb9Eo8dOT1rW0AiIoo+Jsk6869vBtt9FaQn4s/YC5fIkv7qgTKkJsThd2d7cfjdTtXhEBFZEpNkHbnQ58E3ng9uOby/ejOSE9h8xLKECB5kSflpifjb3bcAAPYfPoU+94TiiMyl8PFCFD5eqDoMItI5Jsk64fMH8OjP3sX4ZAC/d1sRHtiyQnVIRKTQ71euxD0lORgcncTf/PwEyy4iqMvThS5Pl+owiEjnmCTrxD/9+hyOXx5EfloCDlRvVh0OESkmhMA/fHIrUhPj8NszPXgqtLEQLV/HIx3oeKRDdRhEpHNMknXghVPd+M7L52G3Cfy/n70N6c541SERkQ4UZzrxT5/ZDgD4xvNn8fbFAcURmUNhaiEKU1luQURzY5Ks2KnOITz67LsAgP/rgTLcuZ476xHRlA9vXoG996yFPyDxx//qwqWrbAtHRBQLTJIVujIwioe+/zY8Ez5Uby/E3nvWqQ6JiHTorx7YiHtKcnB1xIs/+N4xXPVwId9y1NTXoKa+RnUYRKRzTJIV6Rgcw5e+exR97gnctT4b//SZbRDsZkBEs4i32/AvX6zA5sI0XLw6ii9/7xgGRryqwzKsuqY61DXVqQ6DiHSOPcYUaOsfwRefOoqOwTFsLkzDoS9VICHOrjos0pNDh1RHQDqTkhCH7//h7fj977yJU53DeLD2TfzbV3cgLy1RdWiGc2g3ry8imh+T5Bg71jaAP/2xC/0eL8pXZeD7f3gHUhO5UI9mqOGjYLpRXmoint13J77w1FGc6/Hg9779Bmq/XIHNhemqQzOUmgpeX0Q0P5ZbxIiUEj94vQ2fr3sL/R4v7inJwb9+dQfSk5ggE9HC5aUl4qf77sStKzPQMTiGT/3LG/h5Uzv7KBMRRRiT5BhovzaKL333GA7Un4YvILHv3nX4/kO3c0c9urna2uBBNIusZAeeqdmJT5UXY3wygEeefRd/8m9N6OeCvgWpb65HfXO96jCISOeYpUXRyIQPT73ahkOvnMeo14+sZAf+/hNb8JGtBapDI73bty/4J8su6CYS4+34p89sw+1rMvH1X57B86e68eaFq/iz+zfgS3eu5jqHOex5Zg8AQO7n7DsR3RyT5CgYGp3E029fxndfa0OfOziz89GtK/DYx7cgJyVBcXREZBZCCDx4xyrcXZKDv/n5Cbza0o+v//IMfvjmRfzR3evwmcpiOB38MT/T7tLdqkMgIgPgT88I8Qck3rpwFYff6cThdzsxNukHAGwvTsfffPQW7FzHTUKIKDqKM5340VfuwEvNvfifz51Fa68H+w+fwhO/OYeP31qIj99aiPJVmWwzGVL/OZZaENH8FpQkCyEeAPAtAHYAT0kpvzHj7xMA/AhABYCrAD4rpbwY2VD1p3NwDG+cv4o3WvvxSkv/dfWA95Tk4Ct3r0VVaS5/MRFR1AkhcP/GfOwqzcOvT3Xjqdfa4Lp0DT968xJ+9OYlFKYn4p6SXLyvJAc712UhL5Wt44iI5jJvkiyEsAN4EsAHAbQDeFsIcVhKeXray74K4JqUcoMQ4kEA/wjgs9EIONYmfH50Do6j49oYOgZHcb5vBGe6hnGmaxj9nuub+a/OdqJ6W3DWpiQ/VVHERGRldpvAR7YW4CNbC3CyYwiH3+3E4Xc60Tk0jp82XsFPG68AAPJSE7Dl/7R3vyFyXWUcx7+/mc0mu2uySTbQxN3YlFqahlSplFpTkGJ9EbEaBRWFliAFQfxTRZDoCxVfKYgoFIXQVouWisSCQYp/aAoSlGJs1CZNWtfYZDdNu1uTbEI2nZ3deXxx724mwyS5E2XPbeb3geWee+aeOw/LYea5d849Z3iQW9Yt5/qhAdav6udtQ/2sXbGMasUX9mZmRe4k3wGMRsQRAEm/ALYBzUnyNuBbeXkX8JAkxWXmJKrNwf5jpwggOyqIYGE/Ii6UyV5o3r9wbHYczfUtr82fb2auQa3eoDbXoFafozbbYGa2QW22wRv1Oc6cr3P6fJ3T0zOcPl9narrOfy6zqtXyZT3csWE1W96+hi03DrFx7XLfNTaz0tg8PMjm4UF2bN3IwVfOsHf0dfaOTvL3sSkmztbYc3iCPYcnLmojwcq+Jawe6GVoYCmrB3oZWNpDf2+V/t4qy5ZUF8pLe6pUK1r465nfVkW1UqGnIioS8x+LgoXPyOa65v35Gqn5NbU99uWpOZ4fn+r4//KOR1YC8I8HTnfc1srvavuFWasiSfIwMNa0Pw68+1LHRMSspClgCHj9Uic9ca7BR3/0p86iTaBaEWtXLGN4VR/DK/u4fqifW9atYNO6FYys6nNSbGalV6mIW0cGuXVkkM/efSONRnD05DQHjk/x0mtnGTs5zdip8xw7Oc3k2Rqnpuucmq7zr8lzqUO/sj/v7bxNX7b50ENX0dbeHK6mX5i1WNQH9yR9Bpif06p29Lv3HljM979aR1IH0F3WcJmLq67ji7B57hfWzv/UL47iWS6uUf68sHZu7rRBkST5OLC+aX8kr2t3zLikHmCQ7AG+i0TETmAngKR9EXF7pwHbtc39wtpxv7B23C+sHfcLa0fSvk7bFFlx7y/ATZJukNQLfBLY3XLMbmB7Xv4YsOdy45HNzMzMzMrsineS8zHGnwd+RzYF3KMRcVDSt4F9EbEbeAT4maRR4CRZIm1mZmZm9qZUaExyRDwFPNVS942m8hvAxzt8750dHm/dwf3C2nG/sHbcL6wd9wtrp+N+IY+KMDMzMzO7WJExyWZmZmZmXSVJkixpq6QXJY1K2pEiBisXSeslPSPpBUkHJT2YOiYrB0lVSfsl/SZ1LFYOklZK2iXpsKRDkt6TOiZLT9KX8++PA5KekOS117uQpEclTUg60FS3WtIfJP0z364qcq5FT5Kblrn+ALAJ+JSkTYsdh5XOLPCViNgE3Al8zv3Ccg8Ch1IHYaXyQ+C3EbEReCfuH11P0jDwReD2iNhMNtGAJxHoTj8FtrbU7QCejoibgKfz/StKcSd5YZnriJgB5pe5ti4WESci4rm8fJbsS284bVSWmqQR4IPAw6ljsXKQNAi8l2xWJSJiJiK8vrRBNhlBX75eQz/wSuJ4LIGI+CPZTGvNtgGP5eXHgI8UOVeKJLndMtdOhmyBpA3AbcCzaSOxEvgB8FWgkToQK40bgEngJ/kwnIclDaQOytKKiOPA94BjwAlgKiJ+nzYqK5HrIuJEXn4VuK5IIz+4Z6Ui6S3Ar4AvRcSZ1PFYOpLuBSYi4q+pY7FS6QHeBfw4Im4DzlHwp1O7duVjTLeRXUS9FRiQdF/aqKyM8sXuCk3tliJJLrLMtXUhSUvIEuTHI+LJ1PFYcncBH5b0MtmwrPdJ+nnakKwExoHxiJj/pWkXWdJs3e39wL8jYjIi6sCTwJbEMVl5vCZpHUC+nSjSKEWSXGSZa+sykkQ2xvBQRHw/dTyWXkR8LSJGImID2efEnojwnaEuFxGvAmOSbs6r7gFeSBiSlcMx4E5J/fn3yT34gU67YDewPS9vB35dpFGhFff+ny61zPVix2GlcxdwP/C8pL/ldV/PV3s0M2v2BeDx/EbLEeDTieOxxCLiWUm7gOfIZkvaj1fe60qSngDuBtZIGge+CXwH+KWkB4CjwCcKncsr7pmZmZmZXcwP7pmZmZmZtXCSbGZmZmbWwkmymZmZmVkLJ8lmZmZmZi2cJJuZmZmZtXCSbGZmZmbWwkmymZmZmVkLJ8lmZmZmZi3+C4qzt4HrlXRhAAAAAElFTkSuQmCC\n"
                },
                "metadata": {
                  "needs_background": "light"
                }
              }
            ]
          }
        },
        "667fc969d1014a3ca9e57af2b0d260ff": {
          "model_module": "@jupyter-widgets/base",
          "model_name": "LayoutModel",
          "model_module_version": "1.2.0",
          "state": {
            "_model_module": "@jupyter-widgets/base",
            "_model_module_version": "1.2.0",
            "_model_name": "LayoutModel",
            "_view_count": null,
            "_view_module": "@jupyter-widgets/base",
            "_view_module_version": "1.2.0",
            "_view_name": "LayoutView",
            "align_content": null,
            "align_items": null,
            "align_self": null,
            "border": null,
            "bottom": null,
            "display": null,
            "flex": null,
            "flex_flow": null,
            "grid_area": null,
            "grid_auto_columns": null,
            "grid_auto_flow": null,
            "grid_auto_rows": null,
            "grid_column": null,
            "grid_gap": null,
            "grid_row": null,
            "grid_template_areas": null,
            "grid_template_columns": null,
            "grid_template_rows": null,
            "height": null,
            "justify_content": null,
            "justify_items": null,
            "left": null,
            "margin": null,
            "max_height": null,
            "max_width": null,
            "min_height": null,
            "min_width": null,
            "object_fit": null,
            "object_position": null,
            "order": null,
            "overflow": null,
            "overflow_x": null,
            "overflow_y": null,
            "padding": null,
            "right": null,
            "top": null,
            "visibility": null,
            "width": null
          }
        },
        "154da0f220454158807a58f40fbed0ab": {
          "model_module": "@jupyter-widgets/base",
          "model_name": "LayoutModel",
          "model_module_version": "1.2.0",
          "state": {
            "_model_module": "@jupyter-widgets/base",
            "_model_module_version": "1.2.0",
            "_model_name": "LayoutModel",
            "_view_count": null,
            "_view_module": "@jupyter-widgets/base",
            "_view_module_version": "1.2.0",
            "_view_name": "LayoutView",
            "align_content": null,
            "align_items": null,
            "align_self": null,
            "border": null,
            "bottom": null,
            "display": null,
            "flex": null,
            "flex_flow": null,
            "grid_area": null,
            "grid_auto_columns": null,
            "grid_auto_flow": null,
            "grid_auto_rows": null,
            "grid_column": null,
            "grid_gap": null,
            "grid_row": null,
            "grid_template_areas": null,
            "grid_template_columns": null,
            "grid_template_rows": null,
            "height": null,
            "justify_content": null,
            "justify_items": null,
            "left": null,
            "margin": null,
            "max_height": null,
            "max_width": null,
            "min_height": null,
            "min_width": null,
            "object_fit": null,
            "object_position": null,
            "order": null,
            "overflow": null,
            "overflow_x": null,
            "overflow_y": null,
            "padding": null,
            "right": null,
            "top": null,
            "visibility": null,
            "width": null
          }
        },
        "8753df6897814560a8f3aa6758a29cc6": {
          "model_module": "@jupyter-widgets/controls",
          "model_name": "SliderStyleModel",
          "model_module_version": "1.5.0",
          "state": {
            "_model_module": "@jupyter-widgets/controls",
            "_model_module_version": "1.5.0",
            "_model_name": "SliderStyleModel",
            "_view_count": null,
            "_view_module": "@jupyter-widgets/base",
            "_view_module_version": "1.2.0",
            "_view_name": "StyleView",
            "description_width": "",
            "handle_color": null
          }
        },
        "85f035f12883403ca7670c8fc60c0bfe": {
          "model_module": "@jupyter-widgets/base",
          "model_name": "LayoutModel",
          "model_module_version": "1.2.0",
          "state": {
            "_model_module": "@jupyter-widgets/base",
            "_model_module_version": "1.2.0",
            "_model_name": "LayoutModel",
            "_view_count": null,
            "_view_module": "@jupyter-widgets/base",
            "_view_module_version": "1.2.0",
            "_view_name": "LayoutView",
            "align_content": null,
            "align_items": null,
            "align_self": null,
            "border": null,
            "bottom": null,
            "display": null,
            "flex": null,
            "flex_flow": null,
            "grid_area": null,
            "grid_auto_columns": null,
            "grid_auto_flow": null,
            "grid_auto_rows": null,
            "grid_column": null,
            "grid_gap": null,
            "grid_row": null,
            "grid_template_areas": null,
            "grid_template_columns": null,
            "grid_template_rows": null,
            "height": null,
            "justify_content": null,
            "justify_items": null,
            "left": null,
            "margin": null,
            "max_height": null,
            "max_width": null,
            "min_height": null,
            "min_width": null,
            "object_fit": null,
            "object_position": null,
            "order": null,
            "overflow": null,
            "overflow_x": null,
            "overflow_y": null,
            "padding": null,
            "right": null,
            "top": null,
            "visibility": null,
            "width": null
          }
        },
        "2b6357eb227d49f8b056dc4a3ff09a91": {
          "model_module": "@jupyter-widgets/controls",
          "model_name": "SliderStyleModel",
          "model_module_version": "1.5.0",
          "state": {
            "_model_module": "@jupyter-widgets/controls",
            "_model_module_version": "1.5.0",
            "_model_name": "SliderStyleModel",
            "_view_count": null,
            "_view_module": "@jupyter-widgets/base",
            "_view_module_version": "1.2.0",
            "_view_name": "StyleView",
            "description_width": "",
            "handle_color": null
          }
        },
        "61c748fb4d03479fa12135845dd8bae8": {
          "model_module": "@jupyter-widgets/base",
          "model_name": "LayoutModel",
          "model_module_version": "1.2.0",
          "state": {
            "_model_module": "@jupyter-widgets/base",
            "_model_module_version": "1.2.0",
            "_model_name": "LayoutModel",
            "_view_count": null,
            "_view_module": "@jupyter-widgets/base",
            "_view_module_version": "1.2.0",
            "_view_name": "LayoutView",
            "align_content": null,
            "align_items": null,
            "align_self": null,
            "border": null,
            "bottom": null,
            "display": null,
            "flex": null,
            "flex_flow": null,
            "grid_area": null,
            "grid_auto_columns": null,
            "grid_auto_flow": null,
            "grid_auto_rows": null,
            "grid_column": null,
            "grid_gap": null,
            "grid_row": null,
            "grid_template_areas": null,
            "grid_template_columns": null,
            "grid_template_rows": null,
            "height": null,
            "justify_content": null,
            "justify_items": null,
            "left": null,
            "margin": null,
            "max_height": null,
            "max_width": null,
            "min_height": null,
            "min_width": null,
            "object_fit": null,
            "object_position": null,
            "order": null,
            "overflow": null,
            "overflow_x": null,
            "overflow_y": null,
            "padding": null,
            "right": null,
            "top": null,
            "visibility": null,
            "width": null
          }
        },
        "e3e1d2935ada49409c993e1071ab840a": {
          "model_module": "@jupyter-widgets/controls",
          "model_name": "SliderStyleModel",
          "model_module_version": "1.5.0",
          "state": {
            "_model_module": "@jupyter-widgets/controls",
            "_model_module_version": "1.5.0",
            "_model_name": "SliderStyleModel",
            "_view_count": null,
            "_view_module": "@jupyter-widgets/base",
            "_view_module_version": "1.2.0",
            "_view_name": "StyleView",
            "description_width": "",
            "handle_color": null
          }
        },
        "6933a469baa3419cacfb11e48eb105e4": {
          "model_module": "@jupyter-widgets/base",
          "model_name": "LayoutModel",
          "model_module_version": "1.2.0",
          "state": {
            "_model_module": "@jupyter-widgets/base",
            "_model_module_version": "1.2.0",
            "_model_name": "LayoutModel",
            "_view_count": null,
            "_view_module": "@jupyter-widgets/base",
            "_view_module_version": "1.2.0",
            "_view_name": "LayoutView",
            "align_content": null,
            "align_items": null,
            "align_self": null,
            "border": null,
            "bottom": null,
            "display": null,
            "flex": null,
            "flex_flow": null,
            "grid_area": null,
            "grid_auto_columns": null,
            "grid_auto_flow": null,
            "grid_auto_rows": null,
            "grid_column": null,
            "grid_gap": null,
            "grid_row": null,
            "grid_template_areas": null,
            "grid_template_columns": null,
            "grid_template_rows": null,
            "height": null,
            "justify_content": null,
            "justify_items": null,
            "left": null,
            "margin": null,
            "max_height": null,
            "max_width": null,
            "min_height": null,
            "min_width": null,
            "object_fit": null,
            "object_position": null,
            "order": null,
            "overflow": null,
            "overflow_x": null,
            "overflow_y": null,
            "padding": null,
            "right": null,
            "top": null,
            "visibility": null,
            "width": null
          }
        },
        "61dc4b1683bd41078dfa602cfe591f22": {
          "model_module": "@jupyter-widgets/controls",
          "model_name": "VBoxModel",
          "model_module_version": "1.5.0",
          "state": {
            "_dom_classes": [
              "widget-interact"
            ],
            "_model_module": "@jupyter-widgets/controls",
            "_model_module_version": "1.5.0",
            "_model_name": "VBoxModel",
            "_view_count": null,
            "_view_module": "@jupyter-widgets/controls",
            "_view_module_version": "1.5.0",
            "_view_name": "VBoxView",
            "box_style": "",
            "children": [
              "IPY_MODEL_0bc72767a459425ea535d4ed3543e280",
              "IPY_MODEL_413f89b2421e4089a8d3c63275d98006",
              "IPY_MODEL_54ecf12f537d4515ab90660138f04fb9"
            ],
            "layout": "IPY_MODEL_aace42db1d9b48d8bb4b229f2a1fe626"
          }
        },
        "0bc72767a459425ea535d4ed3543e280": {
          "model_module": "@jupyter-widgets/controls",
          "model_name": "FloatSliderModel",
          "model_module_version": "1.5.0",
          "state": {
            "_dom_classes": [],
            "_model_module": "@jupyter-widgets/controls",
            "_model_module_version": "1.5.0",
            "_model_name": "FloatSliderModel",
            "_view_count": null,
            "_view_module": "@jupyter-widgets/controls",
            "_view_module_version": "1.5.0",
            "_view_name": "FloatSliderView",
            "continuous_update": true,
            "description": "H",
            "description_tooltip": null,
            "disabled": false,
            "layout": "IPY_MODEL_96c64e8aa1074bd2b9321b12ac123579",
            "max": 2,
            "min": 0,
            "orientation": "horizontal",
            "readout": true,
            "readout_format": ".2f",
            "step": 0.1,
            "style": "IPY_MODEL_4d3192e2da5c4efeb8157f21e264cf43",
            "value": 0
          }
        },
        "413f89b2421e4089a8d3c63275d98006": {
          "model_module": "@jupyter-widgets/controls",
          "model_name": "FloatSliderModel",
          "model_module_version": "1.5.0",
          "state": {
            "_dom_classes": [],
            "_model_module": "@jupyter-widgets/controls",
            "_model_module_version": "1.5.0",
            "_model_name": "FloatSliderModel",
            "_view_count": null,
            "_view_module": "@jupyter-widgets/controls",
            "_view_module_version": "1.5.0",
            "_view_name": "FloatSliderView",
            "continuous_update": true,
            "description": "J",
            "description_tooltip": null,
            "disabled": false,
            "layout": "IPY_MODEL_a88fa3787e5b4fa2b81d7784cce7c40b",
            "max": 2,
            "min": 0,
            "orientation": "horizontal",
            "readout": true,
            "readout_format": ".2f",
            "step": 0.02,
            "style": "IPY_MODEL_a252dae847b24f86b92f32561139ee8c",
            "value": 1.3
          }
        },
        "54ecf12f537d4515ab90660138f04fb9": {
          "model_module": "@jupyter-widgets/output",
          "model_name": "OutputModel",
          "model_module_version": "1.0.0",
          "state": {
            "_dom_classes": [],
            "_model_module": "@jupyter-widgets/output",
            "_model_module_version": "1.0.0",
            "_model_name": "OutputModel",
            "_view_count": null,
            "_view_module": "@jupyter-widgets/output",
            "_view_module_version": "1.0.0",
            "_view_name": "OutputView",
            "layout": "IPY_MODEL_3a5e39ae47944f33a661512cc96c26cb",
            "msg_id": "",
            "outputs": [
              {
                "output_type": "stream",
                "name": "stdout",
                "text": [
                  "Mean: 0.0 (5) Variance: 5349.87 (1)\n",
                  "Entropy: 3.8337\n"
                ]
              },
              {
                "output_type": "display_data",
                "data": {
                  "text/plain": "<Figure size 864x432 with 1 Axes>",
                  "image/png": "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\n"
                },
                "metadata": {
                  "needs_background": "light"
                }
              }
            ]
          }
        },
        "aace42db1d9b48d8bb4b229f2a1fe626": {
          "model_module": "@jupyter-widgets/base",
          "model_name": "LayoutModel",
          "model_module_version": "1.2.0",
          "state": {
            "_model_module": "@jupyter-widgets/base",
            "_model_module_version": "1.2.0",
            "_model_name": "LayoutModel",
            "_view_count": null,
            "_view_module": "@jupyter-widgets/base",
            "_view_module_version": "1.2.0",
            "_view_name": "LayoutView",
            "align_content": null,
            "align_items": null,
            "align_self": null,
            "border": null,
            "bottom": null,
            "display": null,
            "flex": null,
            "flex_flow": null,
            "grid_area": null,
            "grid_auto_columns": null,
            "grid_auto_flow": null,
            "grid_auto_rows": null,
            "grid_column": null,
            "grid_gap": null,
            "grid_row": null,
            "grid_template_areas": null,
            "grid_template_columns": null,
            "grid_template_rows": null,
            "height": null,
            "justify_content": null,
            "justify_items": null,
            "left": null,
            "margin": null,
            "max_height": null,
            "max_width": null,
            "min_height": null,
            "min_width": null,
            "object_fit": null,
            "object_position": null,
            "order": null,
            "overflow": null,
            "overflow_x": null,
            "overflow_y": null,
            "padding": null,
            "right": null,
            "top": null,
            "visibility": null,
            "width": null
          }
        },
        "96c64e8aa1074bd2b9321b12ac123579": {
          "model_module": "@jupyter-widgets/base",
          "model_name": "LayoutModel",
          "model_module_version": "1.2.0",
          "state": {
            "_model_module": "@jupyter-widgets/base",
            "_model_module_version": "1.2.0",
            "_model_name": "LayoutModel",
            "_view_count": null,
            "_view_module": "@jupyter-widgets/base",
            "_view_module_version": "1.2.0",
            "_view_name": "LayoutView",
            "align_content": null,
            "align_items": null,
            "align_self": null,
            "border": null,
            "bottom": null,
            "display": null,
            "flex": null,
            "flex_flow": null,
            "grid_area": null,
            "grid_auto_columns": null,
            "grid_auto_flow": null,
            "grid_auto_rows": null,
            "grid_column": null,
            "grid_gap": null,
            "grid_row": null,
            "grid_template_areas": null,
            "grid_template_columns": null,
            "grid_template_rows": null,
            "height": null,
            "justify_content": null,
            "justify_items": null,
            "left": null,
            "margin": null,
            "max_height": null,
            "max_width": null,
            "min_height": null,
            "min_width": null,
            "object_fit": null,
            "object_position": null,
            "order": null,
            "overflow": null,
            "overflow_x": null,
            "overflow_y": null,
            "padding": null,
            "right": null,
            "top": null,
            "visibility": null,
            "width": null
          }
        },
        "4d3192e2da5c4efeb8157f21e264cf43": {
          "model_module": "@jupyter-widgets/controls",
          "model_name": "SliderStyleModel",
          "model_module_version": "1.5.0",
          "state": {
            "_model_module": "@jupyter-widgets/controls",
            "_model_module_version": "1.5.0",
            "_model_name": "SliderStyleModel",
            "_view_count": null,
            "_view_module": "@jupyter-widgets/base",
            "_view_module_version": "1.2.0",
            "_view_name": "StyleView",
            "description_width": "",
            "handle_color": null
          }
        },
        "a88fa3787e5b4fa2b81d7784cce7c40b": {
          "model_module": "@jupyter-widgets/base",
          "model_name": "LayoutModel",
          "model_module_version": "1.2.0",
          "state": {
            "_model_module": "@jupyter-widgets/base",
            "_model_module_version": "1.2.0",
            "_model_name": "LayoutModel",
            "_view_count": null,
            "_view_module": "@jupyter-widgets/base",
            "_view_module_version": "1.2.0",
            "_view_name": "LayoutView",
            "align_content": null,
            "align_items": null,
            "align_self": null,
            "border": null,
            "bottom": null,
            "display": null,
            "flex": null,
            "flex_flow": null,
            "grid_area": null,
            "grid_auto_columns": null,
            "grid_auto_flow": null,
            "grid_auto_rows": null,
            "grid_column": null,
            "grid_gap": null,
            "grid_row": null,
            "grid_template_areas": null,
            "grid_template_columns": null,
            "grid_template_rows": null,
            "height": null,
            "justify_content": null,
            "justify_items": null,
            "left": null,
            "margin": null,
            "max_height": null,
            "max_width": null,
            "min_height": null,
            "min_width": null,
            "object_fit": null,
            "object_position": null,
            "order": null,
            "overflow": null,
            "overflow_x": null,
            "overflow_y": null,
            "padding": null,
            "right": null,
            "top": null,
            "visibility": null,
            "width": null
          }
        },
        "a252dae847b24f86b92f32561139ee8c": {
          "model_module": "@jupyter-widgets/controls",
          "model_name": "SliderStyleModel",
          "model_module_version": "1.5.0",
          "state": {
            "_model_module": "@jupyter-widgets/controls",
            "_model_module_version": "1.5.0",
            "_model_name": "SliderStyleModel",
            "_view_count": null,
            "_view_module": "@jupyter-widgets/base",
            "_view_module_version": "1.2.0",
            "_view_name": "StyleView",
            "description_width": "",
            "handle_color": null
          }
        },
        "3a5e39ae47944f33a661512cc96c26cb": {
          "model_module": "@jupyter-widgets/base",
          "model_name": "LayoutModel",
          "model_module_version": "1.2.0",
          "state": {
            "_model_module": "@jupyter-widgets/base",
            "_model_module_version": "1.2.0",
            "_model_name": "LayoutModel",
            "_view_count": null,
            "_view_module": "@jupyter-widgets/base",
            "_view_module_version": "1.2.0",
            "_view_name": "LayoutView",
            "align_content": null,
            "align_items": null,
            "align_self": null,
            "border": null,
            "bottom": null,
            "display": null,
            "flex": null,
            "flex_flow": null,
            "grid_area": null,
            "grid_auto_columns": null,
            "grid_auto_flow": null,
            "grid_auto_rows": null,
            "grid_column": null,
            "grid_gap": null,
            "grid_row": null,
            "grid_template_areas": null,
            "grid_template_columns": null,
            "grid_template_rows": null,
            "height": null,
            "justify_content": null,
            "justify_items": null,
            "left": null,
            "margin": null,
            "max_height": null,
            "max_width": null,
            "min_height": null,
            "min_width": null,
            "object_fit": null,
            "object_position": null,
            "order": null,
            "overflow": null,
            "overflow_x": null,
            "overflow_y": null,
            "padding": null,
            "right": null,
            "top": null,
            "visibility": null,
            "width": null
          }
        }
      }
    }
  },
  "cells": [
    {
      "cell_type": "markdown",
      "metadata": {
        "id": "view-in-github",
        "colab_type": "text"
      },
      "source": [
        "<a href=\"https://colab.research.google.com/github/MiguelAguilera/Neuro-MaxEnt-inference-tutorial/blob/main/1.Introduction_to_MaxEnt_methods.ipynb\" target=\"_parent\"><img src=\"https://colab.research.google.com/assets/colab-badge.svg\" alt=\"Open In Colab\"/></a>"
      ]
    },
    {
      "cell_type": "markdown",
      "source": [
        "# Introduction to the MaxEnt principle"
      ],
      "metadata": {
        "id": "A9ifU5XB3Vxe"
      }
    },
    {
      "cell_type": "markdown",
      "source": [
        "## 1. A new kind of prior information\n",
        "\n",
        "Most patterns in biology arise from aggregation of many small processes. Variations in the dynamics of complex neural and biochemical networks depend on\n",
        "numerous fluctuations in connectivity and flow through small-scale subcomponents of the network. Variations in cancer onset arise from variable failures in the many individual checks and balances on DNA repair, cell cycle control, and tissue homeostasis. Variations in the ecologicalult value implied by bias is overridden. Note that ddof=1 will return the unbiased estimate, even if both fweights and aweights are specified, and ddof=0 will return the simple av distribution of species follow the myriad local differences in the birth and death rates of species and in the small-scale interactions between particular species.\n",
        "In all such complex systems, we wish to understand how large-scale pattern\n",
        "arises from the aggregation of small-scale processes. A single dominant principle sets the major axis from which all explanation of aggregation and scale must be developed. This dominant principle is the limiting distribution.\n",
        "\n",
        "\n",
        "\n",
        "Imagine a class of problems in which our prior information consists of average\n",
        "values of certain things. What is the less biased model?\n",
        "\n",
        "The notion of ‘entropy’ as originated in thermodynamics is usually associated to that of ‘disorder’ by saying that the former can be regarded as a measure of the latter. The word ‘disorder’ here essentially means ‘randomness’, ‘absence of patterns’, or something similar. While not incorrect, these words clearly require a more precise specification to be useful at a quantitative level. \n",
        "\n",
        "$$ S = - \\sum_{\\mathbf x} p_{\\mathbf x} \\log p_{\\mathbf x}$$\n",
        "\n",
        "We have a total amount of probability\n",
        "$$ \\sum_{\\mathbf x} p_{\\mathbf x}= 1$$\n",
        "\n",
        "\n",
        "> ![MaxEnt](https://github.com/MiguelAguilera/Neuro-MaxEnt-inference-tutorial/blob/main/img/entropy.png?raw=true)\n",
        ">\n",
        "> Figure 1. The natural world is driven to maximum entropy states (i.e. maximum uncertainty)\n",
        "\n",
        "The principle of maximum entropy can be expressed (see [Wikipedia](https://en.wikipedia.org/wiki/Principle_of_maximum_entropy)) as:\n",
        "\n",
        "> The principle of maximum entropy states that, subject to precisely stated prior data (such as a proposition that expresses testable information), the probability distribution which best represents the current state of knowledge is the one with largest entropy. Another way of stating this: Take precisely stated prior data or testable information about a probability distribution function. Consider the set of all trial probability distributions that would encode the prior data. According to this principle, the distribution with maximal information entropy is the proper one. … In ordinary language, the principle of maximum entropy can be said to express a claim of epistemic modesty, or of maximum ignorance. The selected distribution is the one that makes the least claim to being informed beyond the stated prior data, that is to say the one that admits the most ignorance beyond the stated prior data.\n",
        "\n",
        "\n"
      ],
      "metadata": {
        "id": "hhVIZjR1ykUu"
      }
    },
    {
      "cell_type": "markdown",
      "source": [
        "<div style=\"page-break-after: always;\"></div>"
      ],
      "metadata": {
        "id": "lQdRC2Pk2r3u"
      }
    },
    {
      "cell_type": "markdown",
      "source": [
        "## 2. Deriving the MaxEnt principle\n",
        "\n",
        "### 2.1 Lagrangian multiplier techinque\n",
        "\n",
        "The maximum entropy principle is a means of deriving probability distributions given certain constraints and the assumption of maximizing entropy. One technique for solving this maximization problem is the Lagrange multiplier technique.\n",
        "\n",
        "Given a multivariable function $f(\\mathbf x, \\lambda)$ and constraints of the form $g(\\mathbf x)=c$, where $g$ is another multivariable function with the same input space as $f$ and $c$ is a constant:\n",
        "\n",
        "In order to minimize (or maximize) the function $f$ consider the following steps, assuming $f$ to be $f(x)$:\n",
        "\n",
        "1. Introduce a new variable $\\lambda$, called Lagrange multiplier, and define a new function $\\mathcal{L}$  with the form:\n",
        "\n",
        "$$ \\mathcal{L}(x,\\lambda) =f(x)+\\lambda(g(x)−c)$$\n",
        "\n",
        "2. Set the derivative of the function  $\\mathcal{L}$  equal to zero:\n",
        "\n",
        "$$ \\frac{\\partial L (x,\\lambda)}{\\partial x_i}=0, \\,\\,\\,\\forall i. \\qquad \\frac{\\partial L (x,\\lambda)}{\\partial \\lambda}=0$$\n",
        "\n",
        "in order to find the critical points of  $\\mathcal{L}$.\n",
        "\n",
        "3. Consider each resulting solution within the limits of the made constraints and derive the resulting distribution $f$, which gives the minimum (or maximum) one is searching for.\n",
        "\n",
        "### Application to the MaxEnt principle\n",
        "\n",
        "Applied to the Maximum Entropy principle, the Lagrangian multiplier technique results in \n",
        "\n",
        "$$ \\max_{p_{\\mathbf x}} \\sum_{\\mathbf x} p_{\\mathbf x} \\log p_{\\mathbf x}$$\n",
        "$$ \\mathrm{s.t.} \\qquad \\sum_{\\mathbf x}  p_{\\mathbf x} f_a(\\mathbf x) = c_a , \\qquad \\sum \\sum_{\\mathbf x} p_{\\mathbf x} =1$$\n"
      ],
      "metadata": {
        "id": "vqRimQ7xGQz3"
      }
    },
    {
      "cell_type": "markdown",
      "source": [
        "\n",
        "### 2.1 Example: constraining the mean and variance, the Gaussian distribution\n",
        "\n",
        "Given a known values for the first and second order moments, $\\sum_{\\mathbf x} p_{\\mathbf x} x = c_1, \\sum_{\\mathbf x} p_{\\mathbf x} x^2 = c_2 $ (i.e. mean and variance), the Lagrangian is defined as:\n",
        "$$ \\mathcal{L} =  -\\sum_{\\mathbf x} p_{\\mathbf x} \\log p_{\\mathbf x}  - \\lambda_0 (\\sum_{\\mathbf x}p_{\\mathbf x} - 1) + \\lambda_1 (\\sum_{\\mathbf x} p_{\\mathbf x} x - c_1) + \\lambda_2 (\\sum_{\\mathbf x} p_{\\mathbf x} x^2 - c_2)$$\n",
        "\n",
        "And its solution:\n",
        "$$  \\frac{\\mathrm{d}\\mathcal{L}}{\\mathrm{d}p_\\mathbf x} =  - 1 - \\log p_{\\mathbf x}\n",
        "+ \\lambda_0  +  \\lambda_1 x + \\lambda_2 x^2 =0 $$\n",
        "\n",
        "$$ p_{\\mathbf x} \\propto  \\exp\\left[ \\lambda_1 x +  \\lambda_2 x^2 \\right]  $$\n",
        "\n",
        "by a change of variables, $\\lambda_1 = - \\frac{\\mu}{\\sigma^2} $ and  $\\lambda_2 = \\frac{1}{2\\sigma^2} $, we obtain\n",
        "\n",
        "$$ p_{\\mathbf x} = \\frac{1}{\\sqrt{2\\pi\\sigma^2}} \\exp\\left[ -\\frac{1}{2\\sigma^2}(x-\\mu)^2 \\right]$$"
      ],
      "metadata": {
        "id": "jZ4S6TbQ3KW8"
      }
    },
    {
      "cell_type": "markdown",
      "source": [
        "### Exercise\n",
        "\n",
        "Fit manually this bimodal distribution to match a given mean and variance. Multiple solutions are possible. Which is the one with a maximum entropy?"
      ],
      "metadata": {
        "id": "8lsNZhcPDh0b"
      }
    },
    {
      "cell_type": "code",
      "source": [
        "import ipywidgets as widgets\n",
        "import numpy as np\n",
        "import matplotlib.pyplot as plt\n",
        "from IPython.display import display\n",
        "%matplotlib inline"
      ],
      "metadata": {
        "id": "79IY4JesYYYy"
      },
      "execution_count": 3,
      "outputs": []
    },
    {
      "cell_type": "code",
      "source": [
        "@widgets.interact(\n",
        "    m=(0., 10.), d=(0., 2., 0.02), sigma=(0.02, 1., 0.02))\n",
        "def plot(m=3.,d=1,sigma=0.4):\n",
        "  \n",
        "    # Simulation parameters\n",
        "    N=10000\n",
        "    xmax=20.\n",
        "    xmin=-10.\n",
        "    ref_mean = 5\n",
        "    ref_std = 1\n",
        "    diff=(xmax-xmin)/N\n",
        "   \n",
        "    fig, ax = plt.subplots(1, 1, figsize=(12, 6))\n",
        "\n",
        "    # Plot probability density\n",
        "    x = np.linspace(xmin, xmax, N)\n",
        "    p = 0.5*(1/np.sqrt(2*np.pi*sigma**2)*np.exp(-0.5/sigma**2*(x-m-d)**2)+1/np.sqrt(2*np.pi*sigma**2)*np.exp(-0.5/sigma**2*(x-m+d)**2))\n",
        "    ax.plot(x, p, lw=2)\n",
        " \n",
        "    # Calculate model observables\n",
        "    mean=diff*np.sum(p*x)\n",
        "    std=np.sqrt(diff*np.sum(p*x**2)-(diff*np.sum(p*x))**2)\n",
        " \n",
        "    # Calculate model Entropy\n",
        "    inds = p>np.finfo(float).eps  # avoid log(0) terms\n",
        "    Entropy = -diff*np.sum(p[inds]*np.log(p[inds]))\n",
        "  \n",
        "    # Plot model observables\n",
        "    plt.plot([mean,mean],[0,np.max(p)*1.1],'r--', lw=2)\n",
        "    plt.plot([mean+3*std,mean+3*std],[0,np.max(p)*1.1],'g:', lw=2)\n",
        "    plt.plot([mean-3*std,mean-3*std],[0,np.max(p)*1.1],'g:', lw=2)\n",
        " \n",
        "    # Plot reference observables\n",
        "    plt.plot([ref_mean],[np.max(p)*1.15],'r*', lw=2)\n",
        "    plt.plot([ref_mean+3*ref_std],[np.max(p)*1.15],'g.', lw=2)\n",
        "    plt.plot([ref_mean-3*ref_std],[np.max(p)*1.15],'g.', lw=2)\n",
        "    ax.grid(True)\n",
        "    ax.axis([0,10,0,np.max(p)*1.2])\n",
        "\n",
        "    print('Mean:',round(mean,2),'('+str(ref_mean)+')','Variance:',np.round(std**2,2),'('+str(ref_std**2)+')')\n",
        "    print('Entropy:',np.round(Entropy,4), '(MaxEnt: '+str(np.round(0.5*(1+np.log(2*np.pi)),4))+')')\n"
      ],
      "metadata": {
        "colab": {
          "base_uri": "https://localhost:8080/",
          "height": 507,
          "referenced_widgets": [
            "dfac54c64e914770ab49c353d82fe597",
            "752b49003932494ea1bbc5daf9ed3cd1",
            "1e9f12ab62eb48919e5aa2dbc7286ffa",
            "2645a313d0ab40d993032e51b26e2630",
            "479076daf58f4b358ee6cffc0f7fbf61",
            "667fc969d1014a3ca9e57af2b0d260ff",
            "154da0f220454158807a58f40fbed0ab",
            "8753df6897814560a8f3aa6758a29cc6",
            "85f035f12883403ca7670c8fc60c0bfe",
            "2b6357eb227d49f8b056dc4a3ff09a91",
            "61c748fb4d03479fa12135845dd8bae8",
            "e3e1d2935ada49409c993e1071ab840a",
            "6933a469baa3419cacfb11e48eb105e4"
          ]
        },
        "id": "bqm06W1XYxM_",
        "outputId": "1f37f9ef-f888-40d7-85ca-71b511b89e20"
      },
      "execution_count": 9,
      "outputs": [
        {
          "output_type": "display_data",
          "data": {
            "text/plain": [
              "interactive(children=(FloatSlider(value=3.0, description='m', max=10.0), FloatSlider(value=1.0, description='d…"
            ],
            "application/vnd.jupyter.widget-view+json": {
              "version_major": 2,
              "version_minor": 0,
              "model_id": "dfac54c64e914770ab49c353d82fe597"
            }
          },
          "metadata": {}
        }
      ]
    },
    {
      "cell_type": "markdown",
      "source": [
        "### Example: The Ising model (aka Boltzmann machine)\n",
        "\n",
        "A general solution to the MaxEnt problem has the form:\n",
        "\n",
        "$$ \\mathcal{L} =  -\\sum_{\\mathbf x} p_{\\mathbf x} \\log p_{\\mathbf x}  - \\varphi (\\sum_{\\mathbf x}p_{\\mathbf x} - 1) + \\beta \\sum_a \\theta_a(\\sum_{\\mathbf x} p_{\\mathbf x} f_{i,a}-c_a)$$\n",
        "\n",
        "$$  \\frac{\\mathrm{d}\\mathcal{L}}{\\mathrm{d}p_i} =  - 1 - \\log p_{\\mathbf x}\n",
        "- \\varphi  +  \\beta \\sum_a \\theta_a f_{\\mathbf x,a}=0 $$\n",
        "\n",
        "$$ p_{\\mathbf x} \\propto \\exp\\left[\\beta \\sum_a \\theta_a f_{\\mathbf x,a} - \\varphi \\right] $$\n",
        "\n",
        "\n",
        "$$ p_{\\mathbf x} \\propto \\frac{1}{Z}\\exp\\left[\\beta \\sum_a \\theta_a f_{\\mathbf x,a} \\right] $$\n",
        "\n",
        "With $\\mathbf x$ being an array of binary variables $\\{x_1,\\dots,x_N\\}$, $x_i=\\pm 1$, and two types of constraints $f_{\\mathbf x,a} = x_i$, $f_{\\mathbf x,b} = x_i x_j$, we obtain\n",
        "\n",
        "$$ p(\\mathbf x) \\propto \\frac{1}{Z}\\exp\\left[\\beta \\sum_i H_i x_i + \\sum_{i<j} J_{ij} x_i x_j \\right] $$\n",
        "\n",
        "E.g. with uniform parameters $H_i=H, J_{ij}=J/N$, the model is described by the distribution of the sum of active spins $X=\\sum_i x_i$"
      ],
      "metadata": {
        "id": "ziK0MrM12IzF"
      }
    },
    {
      "cell_type": "code",
      "source": [
        "import scipy.special\n",
        "\n",
        "def log_comb(n,m):\n",
        "\tMtop=max(m+1,n-m+1)\n",
        "\tMbot=min(m,n-m)\n",
        "\treturn np.sum(np.log(np.arange(Mtop,n+1))) - np.sum(np.log(np.arange(1,Mbot+1)))\n",
        "\n",
        "\n",
        "@widgets.interact(\n",
        "    H=(0., 2.), J=(0., 2., 0.02))\n",
        "def plot(H=0,J=0.5):\n",
        "  \n",
        "    # Simulation parameters\n",
        "    N=100\n",
        "    xmax=N\n",
        "    xmin=-N\n",
        "    ref_mean = 5\n",
        "    ref_std = 1\n",
        "\n",
        "   \n",
        "    fig, ax = plt.subplots(1, 1, figsize=(12, 6))\n",
        "\n",
        "    # Plot probability density\n",
        "    X = np.arange(xmin, xmax+1, 2)\n",
        "    p=np.zeros(N+1)\n",
        "    for i in range(N+1):\n",
        "      p[i]= np.exp(H*X[i]+0.5*J/N*X[i]**2 + log_comb(N,(X[i]+N)//2))\n",
        "    p /= np.sum(p)\n",
        "    ax.plot(X, p, lw=2)\n",
        " \n",
        "    # Calculate model observables\n",
        "    mean=np.sum(p*X)\n",
        "    std=np.sqrt(np.sum(p*X**2)-(np.sum(p*X))**2)\n",
        " \n",
        "    # Calculate model Entropy\n",
        "    inds = p>np.finfo(float).eps  # avoid log(0) terms\n",
        "    Entropy = -np.sum(p[inds]*np.log(p[inds]))\n",
        "  \n",
        "    #Plot model observables\n",
        "    plt.plot([mean,mean],[0,np.max(p)*1.1],'r--', lw=2)\n",
        "    plt.plot([mean+3*std,mean+3*std],[0,np.max(p)*1.1],'g:', lw=2)\n",
        "    plt.plot([mean-3*std,mean-3*std],[0,np.max(p)*1.1],'g:', lw=2)\n",
        "\n",
        "    ax.grid(True)\n",
        "    ax.axis([-N,N,0,np.max(p)*1.2])\n",
        "\n",
        "    print('Mean:',round(mean,2),'('+str(ref_mean)+')','Variance:',np.round(std**2,2),'('+str(ref_std**2)+')')\n",
        "    print('Entropy:',np.round(Entropy,4))\n"
      ],
      "metadata": {
        "colab": {
          "base_uri": "https://localhost:8080/",
          "height": 475,
          "referenced_widgets": [
            "61dc4b1683bd41078dfa602cfe591f22",
            "0bc72767a459425ea535d4ed3543e280",
            "413f89b2421e4089a8d3c63275d98006",
            "54ecf12f537d4515ab90660138f04fb9",
            "aace42db1d9b48d8bb4b229f2a1fe626",
            "96c64e8aa1074bd2b9321b12ac123579",
            "4d3192e2da5c4efeb8157f21e264cf43",
            "a88fa3787e5b4fa2b81d7784cce7c40b",
            "a252dae847b24f86b92f32561139ee8c",
            "3a5e39ae47944f33a661512cc96c26cb"
          ]
        },
        "id": "D1tcOjx_IfhG",
        "outputId": "e193ada6-eb1c-4624-feea-7021964e57cf"
      },
      "execution_count": 44,
      "outputs": [
        {
          "output_type": "display_data",
          "data": {
            "text/plain": [
              "interactive(children=(FloatSlider(value=0.0, description='H', max=2.0), FloatSlider(value=0.5, description='J'…"
            ],
            "application/vnd.jupyter.widget-view+json": {
              "version_major": 2,
              "version_minor": 0,
              "model_id": "61dc4b1683bd41078dfa602cfe591f22"
            }
          },
          "metadata": {}
        }
      ]
    },
    {
      "cell_type": "code",
      "source": [],
      "metadata": {
        "id": "X5kbIrj-K0_w"
      },
      "execution_count": null,
      "outputs": []
    },
    {
      "cell_type": "markdown",
      "source": [
        "\n",
        "### References\n",
        "\n",
        "Jaynes, E. T. (2003). Probability theory: The logic of science. Cambridge university press.\n",
        "\n",
        "Harte, J. (2011). Maximum entropy and ecology: a theory of abundance, distribution, and energetics. OUP Oxford.\n",
        "\n",
        "Montroll, E. W. (1981). On the entropy function in sociotechnical systems. Proceedings of the National Academy of Sciences, 78(12), 7839-7843.\n",
        "\n",
        "Frank, S. A. (2009). The common patterns of nature. Journal of evolutionary biology, 22(8), 1563-1585.\n",
        "\n",
        "Khan Academy (2019). [Lagrange multipliers, introduction](https://www.khanacademy.org/math/multivariable-calculus/applications-of-multivariable-derivatives/constrained-optimization/a/lagrange-multipliers-single-constraint)."
      ],
      "metadata": {
        "id": "056AazBwGNfm"
      }
    },
    {
      "cell_type": "code",
      "execution_count": 8,
      "metadata": {
        "id": "F8splVbnyjyd"
      },
      "outputs": [],
      "source": []
    }
  ]
}