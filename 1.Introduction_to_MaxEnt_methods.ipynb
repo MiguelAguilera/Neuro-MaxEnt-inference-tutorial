{
  "nbformat": 4,
  "nbformat_minor": 0,
  "metadata": {
    "colab": {
      "provenance": [],
      "authorship_tag": "ABX9TyMBzNhbclnhdfxLeeNBzFuE",
      "include_colab_link": true
    },
    "kernelspec": {
      "name": "python3",
      "display_name": "Python 3"
    },
    "language_info": {
      "name": "python"
    },
    "widgets": {
      "application/vnd.jupyter.widget-state+json": {
        "dfac54c64e914770ab49c353d82fe597": {
          "model_module": "@jupyter-widgets/controls",
          "model_name": "VBoxModel",
          "model_module_version": "1.5.0",
          "state": {
            "_dom_classes": [
              "widget-interact"
            ],
            "_model_module": "@jupyter-widgets/controls",
            "_model_module_version": "1.5.0",
            "_model_name": "VBoxModel",
            "_view_count": null,
            "_view_module": "@jupyter-widgets/controls",
            "_view_module_version": "1.5.0",
            "_view_name": "VBoxView",
            "box_style": "",
            "children": [
              "IPY_MODEL_752b49003932494ea1bbc5daf9ed3cd1",
              "IPY_MODEL_1e9f12ab62eb48919e5aa2dbc7286ffa",
              "IPY_MODEL_2645a313d0ab40d993032e51b26e2630",
              "IPY_MODEL_479076daf58f4b358ee6cffc0f7fbf61"
            ],
            "layout": "IPY_MODEL_667fc969d1014a3ca9e57af2b0d260ff"
          }
        },
        "752b49003932494ea1bbc5daf9ed3cd1": {
          "model_module": "@jupyter-widgets/controls",
          "model_name": "FloatSliderModel",
          "model_module_version": "1.5.0",
          "state": {
            "_dom_classes": [],
            "_model_module": "@jupyter-widgets/controls",
            "_model_module_version": "1.5.0",
            "_model_name": "FloatSliderModel",
            "_view_count": null,
            "_view_module": "@jupyter-widgets/controls",
            "_view_module_version": "1.5.0",
            "_view_name": "FloatSliderView",
            "continuous_update": true,
            "description": "m",
            "description_tooltip": null,
            "disabled": false,
            "layout": "IPY_MODEL_154da0f220454158807a58f40fbed0ab",
            "max": 10,
            "min": 0,
            "orientation": "horizontal",
            "readout": true,
            "readout_format": ".2f",
            "step": 0.1,
            "style": "IPY_MODEL_8753df6897814560a8f3aa6758a29cc6",
            "value": 3
          }
        },
        "1e9f12ab62eb48919e5aa2dbc7286ffa": {
          "model_module": "@jupyter-widgets/controls",
          "model_name": "FloatSliderModel",
          "model_module_version": "1.5.0",
          "state": {
            "_dom_classes": [],
            "_model_module": "@jupyter-widgets/controls",
            "_model_module_version": "1.5.0",
            "_model_name": "FloatSliderModel",
            "_view_count": null,
            "_view_module": "@jupyter-widgets/controls",
            "_view_module_version": "1.5.0",
            "_view_name": "FloatSliderView",
            "continuous_update": true,
            "description": "d",
            "description_tooltip": null,
            "disabled": false,
            "layout": "IPY_MODEL_85f035f12883403ca7670c8fc60c0bfe",
            "max": 2,
            "min": 0,
            "orientation": "horizontal",
            "readout": true,
            "readout_format": ".2f",
            "step": 0.02,
            "style": "IPY_MODEL_2b6357eb227d49f8b056dc4a3ff09a91",
            "value": 1
          }
        },
        "2645a313d0ab40d993032e51b26e2630": {
          "model_module": "@jupyter-widgets/controls",
          "model_name": "FloatSliderModel",
          "model_module_version": "1.5.0",
          "state": {
            "_dom_classes": [],
            "_model_module": "@jupyter-widgets/controls",
            "_model_module_version": "1.5.0",
            "_model_name": "FloatSliderModel",
            "_view_count": null,
            "_view_module": "@jupyter-widgets/controls",
            "_view_module_version": "1.5.0",
            "_view_name": "FloatSliderView",
            "continuous_update": true,
            "description": "sigma",
            "description_tooltip": null,
            "disabled": false,
            "layout": "IPY_MODEL_61c748fb4d03479fa12135845dd8bae8",
            "max": 1,
            "min": 0.02,
            "orientation": "horizontal",
            "readout": true,
            "readout_format": ".2f",
            "step": 0.02,
            "style": "IPY_MODEL_e3e1d2935ada49409c993e1071ab840a",
            "value": 0.4
          }
        },
        "479076daf58f4b358ee6cffc0f7fbf61": {
          "model_module": "@jupyter-widgets/output",
          "model_name": "OutputModel",
          "model_module_version": "1.0.0",
          "state": {
            "_dom_classes": [],
            "_model_module": "@jupyter-widgets/output",
            "_model_module_version": "1.0.0",
            "_model_name": "OutputModel",
            "_view_count": null,
            "_view_module": "@jupyter-widgets/output",
            "_view_module_version": "1.0.0",
            "_view_name": "OutputView",
            "layout": "IPY_MODEL_6933a469baa3419cacfb11e48eb105e4",
            "msg_id": "",
            "outputs": [
              {
                "output_type": "stream",
                "name": "stdout",
                "text": [
                  "Mean: 3.0 (5) Variance: 1.16 (1)\n",
                  "Entropy: 1.1785 (MaxEnt: 1.4189)\n"
                ]
              },
              {
                "output_type": "display_data",
                "data": {
                  "text/plain": "<Figure size 864x432 with 1 Axes>",
                  "image/png": "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\n"
                },
                "metadata": {
                  "needs_background": "light"
                }
              }
            ]
          }
        },
        "667fc969d1014a3ca9e57af2b0d260ff": {
          "model_module": "@jupyter-widgets/base",
          "model_name": "LayoutModel",
          "model_module_version": "1.2.0",
          "state": {
            "_model_module": "@jupyter-widgets/base",
            "_model_module_version": "1.2.0",
            "_model_name": "LayoutModel",
            "_view_count": null,
            "_view_module": "@jupyter-widgets/base",
            "_view_module_version": "1.2.0",
            "_view_name": "LayoutView",
            "align_content": null,
            "align_items": null,
            "align_self": null,
            "border": null,
            "bottom": null,
            "display": null,
            "flex": null,
            "flex_flow": null,
            "grid_area": null,
            "grid_auto_columns": null,
            "grid_auto_flow": null,
            "grid_auto_rows": null,
            "grid_column": null,
            "grid_gap": null,
            "grid_row": null,
            "grid_template_areas": null,
            "grid_template_columns": null,
            "grid_template_rows": null,
            "height": null,
            "justify_content": null,
            "justify_items": null,
            "left": null,
            "margin": null,
            "max_height": null,
            "max_width": null,
            "min_height": null,
            "min_width": null,
            "object_fit": null,
            "object_position": null,
            "order": null,
            "overflow": null,
            "overflow_x": null,
            "overflow_y": null,
            "padding": null,
            "right": null,
            "top": null,
            "visibility": null,
            "width": null
          }
        },
        "154da0f220454158807a58f40fbed0ab": {
          "model_module": "@jupyter-widgets/base",
          "model_name": "LayoutModel",
          "model_module_version": "1.2.0",
          "state": {
            "_model_module": "@jupyter-widgets/base",
            "_model_module_version": "1.2.0",
            "_model_name": "LayoutModel",
            "_view_count": null,
            "_view_module": "@jupyter-widgets/base",
            "_view_module_version": "1.2.0",
            "_view_name": "LayoutView",
            "align_content": null,
            "align_items": null,
            "align_self": null,
            "border": null,
            "bottom": null,
            "display": null,
            "flex": null,
            "flex_flow": null,
            "grid_area": null,
            "grid_auto_columns": null,
            "grid_auto_flow": null,
            "grid_auto_rows": null,
            "grid_column": null,
            "grid_gap": null,
            "grid_row": null,
            "grid_template_areas": null,
            "grid_template_columns": null,
            "grid_template_rows": null,
            "height": null,
            "justify_content": null,
            "justify_items": null,
            "left": null,
            "margin": null,
            "max_height": null,
            "max_width": null,
            "min_height": null,
            "min_width": null,
            "object_fit": null,
            "object_position": null,
            "order": null,
            "overflow": null,
            "overflow_x": null,
            "overflow_y": null,
            "padding": null,
            "right": null,
            "top": null,
            "visibility": null,
            "width": null
          }
        },
        "8753df6897814560a8f3aa6758a29cc6": {
          "model_module": "@jupyter-widgets/controls",
          "model_name": "SliderStyleModel",
          "model_module_version": "1.5.0",
          "state": {
            "_model_module": "@jupyter-widgets/controls",
            "_model_module_version": "1.5.0",
            "_model_name": "SliderStyleModel",
            "_view_count": null,
            "_view_module": "@jupyter-widgets/base",
            "_view_module_version": "1.2.0",
            "_view_name": "StyleView",
            "description_width": "",
            "handle_color": null
          }
        },
        "85f035f12883403ca7670c8fc60c0bfe": {
          "model_module": "@jupyter-widgets/base",
          "model_name": "LayoutModel",
          "model_module_version": "1.2.0",
          "state": {
            "_model_module": "@jupyter-widgets/base",
            "_model_module_version": "1.2.0",
            "_model_name": "LayoutModel",
            "_view_count": null,
            "_view_module": "@jupyter-widgets/base",
            "_view_module_version": "1.2.0",
            "_view_name": "LayoutView",
            "align_content": null,
            "align_items": null,
            "align_self": null,
            "border": null,
            "bottom": null,
            "display": null,
            "flex": null,
            "flex_flow": null,
            "grid_area": null,
            "grid_auto_columns": null,
            "grid_auto_flow": null,
            "grid_auto_rows": null,
            "grid_column": null,
            "grid_gap": null,
            "grid_row": null,
            "grid_template_areas": null,
            "grid_template_columns": null,
            "grid_template_rows": null,
            "height": null,
            "justify_content": null,
            "justify_items": null,
            "left": null,
            "margin": null,
            "max_height": null,
            "max_width": null,
            "min_height": null,
            "min_width": null,
            "object_fit": null,
            "object_position": null,
            "order": null,
            "overflow": null,
            "overflow_x": null,
            "overflow_y": null,
            "padding": null,
            "right": null,
            "top": null,
            "visibility": null,
            "width": null
          }
        },
        "2b6357eb227d49f8b056dc4a3ff09a91": {
          "model_module": "@jupyter-widgets/controls",
          "model_name": "SliderStyleModel",
          "model_module_version": "1.5.0",
          "state": {
            "_model_module": "@jupyter-widgets/controls",
            "_model_module_version": "1.5.0",
            "_model_name": "SliderStyleModel",
            "_view_count": null,
            "_view_module": "@jupyter-widgets/base",
            "_view_module_version": "1.2.0",
            "_view_name": "StyleView",
            "description_width": "",
            "handle_color": null
          }
        },
        "61c748fb4d03479fa12135845dd8bae8": {
          "model_module": "@jupyter-widgets/base",
          "model_name": "LayoutModel",
          "model_module_version": "1.2.0",
          "state": {
            "_model_module": "@jupyter-widgets/base",
            "_model_module_version": "1.2.0",
            "_model_name": "LayoutModel",
            "_view_count": null,
            "_view_module": "@jupyter-widgets/base",
            "_view_module_version": "1.2.0",
            "_view_name": "LayoutView",
            "align_content": null,
            "align_items": null,
            "align_self": null,
            "border": null,
            "bottom": null,
            "display": null,
            "flex": null,
            "flex_flow": null,
            "grid_area": null,
            "grid_auto_columns": null,
            "grid_auto_flow": null,
            "grid_auto_rows": null,
            "grid_column": null,
            "grid_gap": null,
            "grid_row": null,
            "grid_template_areas": null,
            "grid_template_columns": null,
            "grid_template_rows": null,
            "height": null,
            "justify_content": null,
            "justify_items": null,
            "left": null,
            "margin": null,
            "max_height": null,
            "max_width": null,
            "min_height": null,
            "min_width": null,
            "object_fit": null,
            "object_position": null,
            "order": null,
            "overflow": null,
            "overflow_x": null,
            "overflow_y": null,
            "padding": null,
            "right": null,
            "top": null,
            "visibility": null,
            "width": null
          }
        },
        "e3e1d2935ada49409c993e1071ab840a": {
          "model_module": "@jupyter-widgets/controls",
          "model_name": "SliderStyleModel",
          "model_module_version": "1.5.0",
          "state": {
            "_model_module": "@jupyter-widgets/controls",
            "_model_module_version": "1.5.0",
            "_model_name": "SliderStyleModel",
            "_view_count": null,
            "_view_module": "@jupyter-widgets/base",
            "_view_module_version": "1.2.0",
            "_view_name": "StyleView",
            "description_width": "",
            "handle_color": null
          }
        },
        "6933a469baa3419cacfb11e48eb105e4": {
          "model_module": "@jupyter-widgets/base",
          "model_name": "LayoutModel",
          "model_module_version": "1.2.0",
          "state": {
            "_model_module": "@jupyter-widgets/base",
            "_model_module_version": "1.2.0",
            "_model_name": "LayoutModel",
            "_view_count": null,
            "_view_module": "@jupyter-widgets/base",
            "_view_module_version": "1.2.0",
            "_view_name": "LayoutView",
            "align_content": null,
            "align_items": null,
            "align_self": null,
            "border": null,
            "bottom": null,
            "display": null,
            "flex": null,
            "flex_flow": null,
            "grid_area": null,
            "grid_auto_columns": null,
            "grid_auto_flow": null,
            "grid_auto_rows": null,
            "grid_column": null,
            "grid_gap": null,
            "grid_row": null,
            "grid_template_areas": null,
            "grid_template_columns": null,
            "grid_template_rows": null,
            "height": null,
            "justify_content": null,
            "justify_items": null,
            "left": null,
            "margin": null,
            "max_height": null,
            "max_width": null,
            "min_height": null,
            "min_width": null,
            "object_fit": null,
            "object_position": null,
            "order": null,
            "overflow": null,
            "overflow_x": null,
            "overflow_y": null,
            "padding": null,
            "right": null,
            "top": null,
            "visibility": null,
            "width": null
          }
        },
        "4a3681b1fcf44e679fb7b0e5d6a9efb0": {
          "model_module": "@jupyter-widgets/controls",
          "model_name": "VBoxModel",
          "model_module_version": "1.5.0",
          "state": {
            "_dom_classes": [
              "widget-interact"
            ],
            "_model_module": "@jupyter-widgets/controls",
            "_model_module_version": "1.5.0",
            "_model_name": "VBoxModel",
            "_view_count": null,
            "_view_module": "@jupyter-widgets/controls",
            "_view_module_version": "1.5.0",
            "_view_name": "VBoxView",
            "box_style": "",
            "children": [
              "IPY_MODEL_271e8032dc104264af68a9d32998ee45",
              "IPY_MODEL_06efcd9280da4fcb8e039654898368cd",
              "IPY_MODEL_37d38b7306144fe58bb3dbf77a579e8a",
              "IPY_MODEL_a45e63f4926049da851c9d5c5748d828"
            ],
            "layout": "IPY_MODEL_dc0dafdb5ef441328a0dba1dd38b23bf"
          }
        },
        "271e8032dc104264af68a9d32998ee45": {
          "model_module": "@jupyter-widgets/controls",
          "model_name": "FloatSliderModel",
          "model_module_version": "1.5.0",
          "state": {
            "_dom_classes": [],
            "_model_module": "@jupyter-widgets/controls",
            "_model_module_version": "1.5.0",
            "_model_name": "FloatSliderModel",
            "_view_count": null,
            "_view_module": "@jupyter-widgets/controls",
            "_view_module_version": "1.5.0",
            "_view_name": "FloatSliderView",
            "continuous_update": true,
            "description": "H",
            "description_tooltip": null,
            "disabled": false,
            "layout": "IPY_MODEL_19fdfbfe190a4519868fbe8afea210aa",
            "max": 10,
            "min": 0,
            "orientation": "horizontal",
            "readout": true,
            "readout_format": ".2f",
            "step": 0.1,
            "style": "IPY_MODEL_0ba56fefbb6b4f709f1fa5b43ea92b65",
            "value": 0.1
          }
        },
        "06efcd9280da4fcb8e039654898368cd": {
          "model_module": "@jupyter-widgets/controls",
          "model_name": "FloatSliderModel",
          "model_module_version": "1.5.0",
          "state": {
            "_dom_classes": [],
            "_model_module": "@jupyter-widgets/controls",
            "_model_module_version": "1.5.0",
            "_model_name": "FloatSliderModel",
            "_view_count": null,
            "_view_module": "@jupyter-widgets/controls",
            "_view_module_version": "1.5.0",
            "_view_name": "FloatSliderView",
            "continuous_update": true,
            "description": "J",
            "description_tooltip": null,
            "disabled": false,
            "layout": "IPY_MODEL_ade04dbbc2f44f018111e2cb36c4e7ef",
            "max": 2,
            "min": 0,
            "orientation": "horizontal",
            "readout": true,
            "readout_format": ".2f",
            "step": 0.02,
            "style": "IPY_MODEL_89e099303fb844609b565b700087af29",
            "value": 0
          }
        },
        "37d38b7306144fe58bb3dbf77a579e8a": {
          "model_module": "@jupyter-widgets/controls",
          "model_name": "FloatSliderModel",
          "model_module_version": "1.5.0",
          "state": {
            "_dom_classes": [],
            "_model_module": "@jupyter-widgets/controls",
            "_model_module_version": "1.5.0",
            "_model_name": "FloatSliderModel",
            "_view_count": null,
            "_view_module": "@jupyter-widgets/controls",
            "_view_module_version": "1.5.0",
            "_view_name": "FloatSliderView",
            "continuous_update": true,
            "description": "sigma",
            "description_tooltip": null,
            "disabled": false,
            "layout": "IPY_MODEL_df592619994a415a96625a72e8866ada",
            "max": 1,
            "min": 0.02,
            "orientation": "horizontal",
            "readout": true,
            "readout_format": ".2f",
            "step": 0.02,
            "style": "IPY_MODEL_eef1922d7ecb42dbbc7e70bda52f8a6b",
            "value": 0.4
          }
        },
        "a45e63f4926049da851c9d5c5748d828": {
          "model_module": "@jupyter-widgets/output",
          "model_name": "OutputModel",
          "model_module_version": "1.0.0",
          "state": {
            "_dom_classes": [],
            "_model_module": "@jupyter-widgets/output",
            "_model_module_version": "1.0.0",
            "_model_name": "OutputModel",
            "_view_count": null,
            "_view_module": "@jupyter-widgets/output",
            "_view_module_version": "1.0.0",
            "_view_name": "OutputView",
            "layout": "IPY_MODEL_3a213cefed53452aa78ad8a1428f7d72",
            "msg_id": "",
            "outputs": [
              {
                "output_type": "stream",
                "name": "stdout",
                "text": [
                  "Mean: 4.98 (5) Variance: 49.5 (1)\n",
                  "Entropy: 2.6767\n"
                ]
              },
              {
                "output_type": "display_data",
                "data": {
                  "text/plain": "<Figure size 864x432 with 1 Axes>",
                  "image/png": "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\n"
                },
                "metadata": {
                  "needs_background": "light"
                }
              }
            ]
          }
        },
        "dc0dafdb5ef441328a0dba1dd38b23bf": {
          "model_module": "@jupyter-widgets/base",
          "model_name": "LayoutModel",
          "model_module_version": "1.2.0",
          "state": {
            "_model_module": "@jupyter-widgets/base",
            "_model_module_version": "1.2.0",
            "_model_name": "LayoutModel",
            "_view_count": null,
            "_view_module": "@jupyter-widgets/base",
            "_view_module_version": "1.2.0",
            "_view_name": "LayoutView",
            "align_content": null,
            "align_items": null,
            "align_self": null,
            "border": null,
            "bottom": null,
            "display": null,
            "flex": null,
            "flex_flow": null,
            "grid_area": null,
            "grid_auto_columns": null,
            "grid_auto_flow": null,
            "grid_auto_rows": null,
            "grid_column": null,
            "grid_gap": null,
            "grid_row": null,
            "grid_template_areas": null,
            "grid_template_columns": null,
            "grid_template_rows": null,
            "height": null,
            "justify_content": null,
            "justify_items": null,
            "left": null,
            "margin": null,
            "max_height": null,
            "max_width": null,
            "min_height": null,
            "min_width": null,
            "object_fit": null,
            "object_position": null,
            "order": null,
            "overflow": null,
            "overflow_x": null,
            "overflow_y": null,
            "padding": null,
            "right": null,
            "top": null,
            "visibility": null,
            "width": null
          }
        },
        "19fdfbfe190a4519868fbe8afea210aa": {
          "model_module": "@jupyter-widgets/base",
          "model_name": "LayoutModel",
          "model_module_version": "1.2.0",
          "state": {
            "_model_module": "@jupyter-widgets/base",
            "_model_module_version": "1.2.0",
            "_model_name": "LayoutModel",
            "_view_count": null,
            "_view_module": "@jupyter-widgets/base",
            "_view_module_version": "1.2.0",
            "_view_name": "LayoutView",
            "align_content": null,
            "align_items": null,
            "align_self": null,
            "border": null,
            "bottom": null,
            "display": null,
            "flex": null,
            "flex_flow": null,
            "grid_area": null,
            "grid_auto_columns": null,
            "grid_auto_flow": null,
            "grid_auto_rows": null,
            "grid_column": null,
            "grid_gap": null,
            "grid_row": null,
            "grid_template_areas": null,
            "grid_template_columns": null,
            "grid_template_rows": null,
            "height": null,
            "justify_content": null,
            "justify_items": null,
            "left": null,
            "margin": null,
            "max_height": null,
            "max_width": null,
            "min_height": null,
            "min_width": null,
            "object_fit": null,
            "object_position": null,
            "order": null,
            "overflow": null,
            "overflow_x": null,
            "overflow_y": null,
            "padding": null,
            "right": null,
            "top": null,
            "visibility": null,
            "width": null
          }
        },
        "0ba56fefbb6b4f709f1fa5b43ea92b65": {
          "model_module": "@jupyter-widgets/controls",
          "model_name": "SliderStyleModel",
          "model_module_version": "1.5.0",
          "state": {
            "_model_module": "@jupyter-widgets/controls",
            "_model_module_version": "1.5.0",
            "_model_name": "SliderStyleModel",
            "_view_count": null,
            "_view_module": "@jupyter-widgets/base",
            "_view_module_version": "1.2.0",
            "_view_name": "StyleView",
            "description_width": "",
            "handle_color": null
          }
        },
        "ade04dbbc2f44f018111e2cb36c4e7ef": {
          "model_module": "@jupyter-widgets/base",
          "model_name": "LayoutModel",
          "model_module_version": "1.2.0",
          "state": {
            "_model_module": "@jupyter-widgets/base",
            "_model_module_version": "1.2.0",
            "_model_name": "LayoutModel",
            "_view_count": null,
            "_view_module": "@jupyter-widgets/base",
            "_view_module_version": "1.2.0",
            "_view_name": "LayoutView",
            "align_content": null,
            "align_items": null,
            "align_self": null,
            "border": null,
            "bottom": null,
            "display": null,
            "flex": null,
            "flex_flow": null,
            "grid_area": null,
            "grid_auto_columns": null,
            "grid_auto_flow": null,
            "grid_auto_rows": null,
            "grid_column": null,
            "grid_gap": null,
            "grid_row": null,
            "grid_template_areas": null,
            "grid_template_columns": null,
            "grid_template_rows": null,
            "height": null,
            "justify_content": null,
            "justify_items": null,
            "left": null,
            "margin": null,
            "max_height": null,
            "max_width": null,
            "min_height": null,
            "min_width": null,
            "object_fit": null,
            "object_position": null,
            "order": null,
            "overflow": null,
            "overflow_x": null,
            "overflow_y": null,
            "padding": null,
            "right": null,
            "top": null,
            "visibility": null,
            "width": null
          }
        },
        "89e099303fb844609b565b700087af29": {
          "model_module": "@jupyter-widgets/controls",
          "model_name": "SliderStyleModel",
          "model_module_version": "1.5.0",
          "state": {
            "_model_module": "@jupyter-widgets/controls",
            "_model_module_version": "1.5.0",
            "_model_name": "SliderStyleModel",
            "_view_count": null,
            "_view_module": "@jupyter-widgets/base",
            "_view_module_version": "1.2.0",
            "_view_name": "StyleView",
            "description_width": "",
            "handle_color": null
          }
        },
        "df592619994a415a96625a72e8866ada": {
          "model_module": "@jupyter-widgets/base",
          "model_name": "LayoutModel",
          "model_module_version": "1.2.0",
          "state": {
            "_model_module": "@jupyter-widgets/base",
            "_model_module_version": "1.2.0",
            "_model_name": "LayoutModel",
            "_view_count": null,
            "_view_module": "@jupyter-widgets/base",
            "_view_module_version": "1.2.0",
            "_view_name": "LayoutView",
            "align_content": null,
            "align_items": null,
            "align_self": null,
            "border": null,
            "bottom": null,
            "display": null,
            "flex": null,
            "flex_flow": null,
            "grid_area": null,
            "grid_auto_columns": null,
            "grid_auto_flow": null,
            "grid_auto_rows": null,
            "grid_column": null,
            "grid_gap": null,
            "grid_row": null,
            "grid_template_areas": null,
            "grid_template_columns": null,
            "grid_template_rows": null,
            "height": null,
            "justify_content": null,
            "justify_items": null,
            "left": null,
            "margin": null,
            "max_height": null,
            "max_width": null,
            "min_height": null,
            "min_width": null,
            "object_fit": null,
            "object_position": null,
            "order": null,
            "overflow": null,
            "overflow_x": null,
            "overflow_y": null,
            "padding": null,
            "right": null,
            "top": null,
            "visibility": null,
            "width": null
          }
        },
        "eef1922d7ecb42dbbc7e70bda52f8a6b": {
          "model_module": "@jupyter-widgets/controls",
          "model_name": "SliderStyleModel",
          "model_module_version": "1.5.0",
          "state": {
            "_model_module": "@jupyter-widgets/controls",
            "_model_module_version": "1.5.0",
            "_model_name": "SliderStyleModel",
            "_view_count": null,
            "_view_module": "@jupyter-widgets/base",
            "_view_module_version": "1.2.0",
            "_view_name": "StyleView",
            "description_width": "",
            "handle_color": null
          }
        },
        "3a213cefed53452aa78ad8a1428f7d72": {
          "model_module": "@jupyter-widgets/base",
          "model_name": "LayoutModel",
          "model_module_version": "1.2.0",
          "state": {
            "_model_module": "@jupyter-widgets/base",
            "_model_module_version": "1.2.0",
            "_model_name": "LayoutModel",
            "_view_count": null,
            "_view_module": "@jupyter-widgets/base",
            "_view_module_version": "1.2.0",
            "_view_name": "LayoutView",
            "align_content": null,
            "align_items": null,
            "align_self": null,
            "border": null,
            "bottom": null,
            "display": null,
            "flex": null,
            "flex_flow": null,
            "grid_area": null,
            "grid_auto_columns": null,
            "grid_auto_flow": null,
            "grid_auto_rows": null,
            "grid_column": null,
            "grid_gap": null,
            "grid_row": null,
            "grid_template_areas": null,
            "grid_template_columns": null,
            "grid_template_rows": null,
            "height": null,
            "justify_content": null,
            "justify_items": null,
            "left": null,
            "margin": null,
            "max_height": null,
            "max_width": null,
            "min_height": null,
            "min_width": null,
            "object_fit": null,
            "object_position": null,
            "order": null,
            "overflow": null,
            "overflow_x": null,
            "overflow_y": null,
            "padding": null,
            "right": null,
            "top": null,
            "visibility": null,
            "width": null
          }
        }
      }
    }
  },
  "cells": [
    {
      "cell_type": "markdown",
      "metadata": {
        "id": "view-in-github",
        "colab_type": "text"
      },
      "source": [
        "<a href=\"https://colab.research.google.com/github/MiguelAguilera/Neuro-MaxEnt-inference-tutorial/blob/main/1.Introduction_to_MaxEnt_methods.ipynb\" target=\"_parent\"><img src=\"https://colab.research.google.com/assets/colab-badge.svg\" alt=\"Open In Colab\"/></a>"
      ]
    },
    {
      "cell_type": "markdown",
      "source": [
        "# Introduction to the MaxEnt principle"
      ],
      "metadata": {
        "id": "A9ifU5XB3Vxe"
      }
    },
    {
      "cell_type": "markdown",
      "source": [
        "## 1. A new kind of prior information\n",
        "\n",
        "Most patterns in biology arise from aggregation of many small processes. Variations in the dynamics of complex neural and biochemical networks depend on\n",
        "numerous fluctuations in connectivity and flow through small-scale subcomponents of the network. Variations in cancer onset arise from variable failures in the many individual checks and balances on DNA repair, cell cycle control, and tissue homeostasis. Variations in the ecologicalult value implied by bias is overridden. Note that ddof=1 will return the unbiased estimate, even if both fweights and aweights are specified, and ddof=0 will return the simple av distribution of species follow the myriad local differences in the birth and death rates of species and in the small-scale interactions between particular species.\n",
        "In all such complex systems, we wish to understand how large-scale pattern\n",
        "arises from the aggregation of small-scale processes. A single dominant principle sets the major axis from which all explanation of aggregation and scale must be developed. This dominant principle is the limiting distribution.\n",
        "\n",
        "\n",
        "\n",
        "Imagine a class of problems in which our prior information consists of average\n",
        "values of certain things. What is the less biased model?\n",
        "\n",
        "The notion of ‘entropy’ as originated in thermodynamics is usually associated to that of ‘disorder’ by saying that the former can be regarded as a measure of the latter. The word ‘disorder’ here essentially means ‘randomness’, ‘absence of patterns’, or something similar. While not incorrect, these words clearly require a more precise specification to be useful at a quantitative level. \n",
        "\n",
        "$$ S = - \\sum_{\\mathbf x} p_{\\mathbf x} \\log p_{\\mathbf x}$$\n",
        "\n",
        "We have a total amount of probability\n",
        "$$ \\sum_{\\mathbf x} p_{\\mathbf x}= 1$$\n",
        "\n",
        "\n",
        "> ![MaxEnt](https://github.com/MiguelAguilera/Neuro-MaxEnt-inference-tutorial/blob/main/img/entropy.png?raw=true)\n",
        ">\n",
        "> Figure 1. The natural world is driven to maximum entropy states (i.e. maximum uncertainty)\n",
        "\n",
        "The principle of maximum entropy can be expressed (see [Wikipedia](https://en.wikipedia.org/wiki/Principle_of_maximum_entropy)) as:\n",
        "\n",
        "> The principle of maximum entropy states that, subject to precisely stated prior data (such as a proposition that expresses testable information), the probability distribution which best represents the current state of knowledge is the one with largest entropy. Another way of stating this: Take precisely stated prior data or testable information about a probability distribution function. Consider the set of all trial probability distributions that would encode the prior data. According to this principle, the distribution with maximal information entropy is the proper one. … In ordinary language, the principle of maximum entropy can be said to express a claim of epistemic modesty, or of maximum ignorance. The selected distribution is the one that makes the least claim to being informed beyond the stated prior data, that is to say the one that admits the most ignorance beyond the stated prior data.\n",
        "\n",
        "\n"
      ],
      "metadata": {
        "id": "hhVIZjR1ykUu"
      }
    },
    {
      "cell_type": "markdown",
      "source": [
        "<div style=\"page-break-after: always;\"></div>"
      ],
      "metadata": {
        "id": "lQdRC2Pk2r3u"
      }
    },
    {
      "cell_type": "markdown",
      "source": [
        "## 2. Deriving the MaxEnt principle\n",
        "\n",
        "### 2.1 Lagrangian multiplier techinque\n",
        "\n",
        "The maximum entropy principle is a means of deriving probability distributions given certain constraints and the assumption of maximizing entropy. One technique for solving this maximization problem is the Lagrange multiplier technique.\n",
        "\n",
        "Given a multivariable function $f(\\mathbf x, \\lambda)$ and constraints of the form $g(\\mathbf x)=c$, where $g$ is another multivariable function with the same input space as $f$ and $c$ is a constant:\n",
        "\n",
        "In order to minimize (or maximize) the function $f$ consider the following steps, assuming $f$ to be $f(x)$:\n",
        "\n",
        "1. Introduce a new variable $\\lambda$, called Lagrange multiplier, and define a new function $\\mathcal{L}$  with the form:\n",
        "\n",
        "$$ \\mathcal{L}(x,\\lambda) =f(x)+\\lambda(g(x)−c)$$\n",
        "\n",
        "2. Set the derivative of the function  $\\mathcal{L}$  equal to zero:\n",
        "\n",
        "$$ \\frac{\\partial L (x,\\lambda)}{\\partial x_i}=0, \\,\\,\\,\\forall i. \\qquad \\frac{\\partial L (x,\\lambda)}{\\partial \\lambda}=0$$\n",
        "\n",
        "in order to find the critical points of  $\\mathcal{L}$.\n",
        "\n",
        "3. Consider each resulting solution within the limits of the made constraints and derive the resulting distribution $f$, which gives the minimum (or maximum) one is searching for.\n",
        "\n",
        "### Application to the MaxEnt principle\n",
        "\n",
        "Applied to the Maximum Entropy principle, the Lagrangian multiplier technique results in \n",
        "\n",
        "$$ \\max_{p_{\\mathbf x}} \\sum_{\\mathbf x} p_{\\mathbf x} \\log p_{\\mathbf x}$$\n",
        "$$ \\mathrm{s.t.} \\qquad \\sum_{\\mathbf x}  p_{\\mathbf x} f_a(\\mathbf x) = c_a , \\qquad \\sum \\sum_{\\mathbf x} p_{\\mathbf x} =1$$\n"
      ],
      "metadata": {
        "id": "vqRimQ7xGQz3"
      }
    },
    {
      "cell_type": "markdown",
      "source": [
        "\n",
        "### 2.1 Example: constraining the mean and variance, the Gaussian distribution\n",
        "\n",
        "Given a known values for the first and second order moments, $\\sum_{\\mathbf x} p_{\\mathbf x} x = c_1, \\sum_{\\mathbf x} p_{\\mathbf x} x^2 = c_2 $ (i.e. mean and variance), the Lagrangian is defined as:\n",
        "$$ \\mathcal{L} =  -\\sum_{\\mathbf x} p_{\\mathbf x} \\log p_{\\mathbf x}  - \\lambda_0 (\\sum_{\\mathbf x}p_{\\mathbf x} - 1) + \\lambda_1 (\\sum_{\\mathbf x} p_{\\mathbf x} x - c_1) + \\lambda_2 (\\sum_{\\mathbf x} p_{\\mathbf x} x^2 - c_2)$$\n",
        "\n",
        "And its solution:\n",
        "$$  \\frac{\\mathrm{d}\\mathcal{L}}{\\mathrm{d}p_\\mathbf x} =  - 1 - \\log p_{\\mathbf x}\n",
        "+ \\lambda_0  +  \\lambda_1 x + \\lambda_2 x^2 =0 $$\n",
        "\n",
        "$$ p_{\\mathbf x} \\propto  \\exp\\left[ \\lambda_1 x +  \\lambda_2 x^2 \\right]  $$\n",
        "\n",
        "by a change of variables, $\\lambda_1 = - \\frac{\\mu}{\\sigma^2} $ and  $\\lambda_2 = \\frac{1}{2\\sigma^2} $, we obtain\n",
        "\n",
        "$$ p_{\\mathbf x} = \\frac{1}{\\sqrt{2\\pi\\sigma^2}} \\exp\\left[ -\\frac{1}{2\\sigma^2}(x-\\mu)^2 \\right]$$"
      ],
      "metadata": {
        "id": "jZ4S6TbQ3KW8"
      }
    },
    {
      "cell_type": "markdown",
      "source": [
        "### Exercise\n",
        "\n",
        "Fit manually this bimodal distribution to match a given mean and variance. Multiple solutions are possible. Which is the one with a maximum entropy?"
      ],
      "metadata": {
        "id": "8lsNZhcPDh0b"
      }
    },
    {
      "cell_type": "code",
      "source": [
        "import ipywidgets as widgets\n",
        "import numpy as np\n",
        "import matplotlib.pyplot as plt\n",
        "from IPython.display import display\n",
        "%matplotlib inline"
      ],
      "metadata": {
        "id": "79IY4JesYYYy"
      },
      "execution_count": 3,
      "outputs": []
    },
    {
      "cell_type": "code",
      "source": [
        "@widgets.interact(\n",
        "    m=(0., 10.), d=(0., 2., 0.02), sigma=(0.02, 1., 0.02))\n",
        "def plot(m=3.,d=1,sigma=0.4):\n",
        "  \n",
        "    # Simulation parameters\n",
        "    N=10000\n",
        "    xmax=20.\n",
        "    xmin=-10.\n",
        "    ref_mean = 5\n",
        "    ref_std = 1\n",
        "    diff=(xmax-xmin)/N\n",
        "   \n",
        "    fig, ax = plt.subplots(1, 1, figsize=(12, 6))\n",
        "\n",
        "    # Plot probability density\n",
        "    x = np.linspace(xmin, xmax, N)\n",
        "    p = 0.5*(1/np.sqrt(2*np.pi*sigma**2)*np.exp(-0.5/sigma**2*(x-m-d)**2)+1/np.sqrt(2*np.pi*sigma**2)*np.exp(-0.5/sigma**2*(x-m+d)**2))\n",
        "    ax.plot(x, p, lw=2)\n",
        " \n",
        "    # Calculate model observables\n",
        "    mean=diff*np.sum(p*x)\n",
        "    std=np.sqrt(diff*np.sum(p*x**2)-(diff*np.sum(p*x))**2)\n",
        " \n",
        "    # Calculate model Entropy\n",
        "    inds = p>np.finfo(float).eps  # avoid log(0) terms\n",
        "    Entropy = -diff*np.sum(p[inds]*np.log(p[inds]))\n",
        "  \n",
        "    # Plot model observables\n",
        "    plt.plot([mean,mean],[0,np.max(p)*1.1],'r--', lw=2)\n",
        "    plt.plot([mean+3*std,mean+3*std],[0,np.max(p)*1.1],'g:', lw=2)\n",
        "    plt.plot([mean-3*std,mean-3*std],[0,np.max(p)*1.1],'g:', lw=2)\n",
        " \n",
        "    # Plot reference observables\n",
        "    plt.plot([ref_mean],[np.max(p)*1.15],'r*', lw=2)\n",
        "    plt.plot([ref_mean+3*ref_std],[np.max(p)*1.15],'g.', lw=2)\n",
        "    plt.plot([ref_mean-3*ref_std],[np.max(p)*1.15],'g.', lw=2)\n",
        "    ax.grid(True)\n",
        "    ax.axis([0,10,0,np.max(p)*1.2])\n",
        "\n",
        "    print('Mean:',round(mean,2),'('+str(ref_mean)+')','Variance:',np.round(std**2,2),'('+str(ref_std**2)+')')\n",
        "    print('Entropy:',np.round(Entropy,4), '(MaxEnt: '+str(np.round(0.5*(1+np.log(2*np.pi)),4))+')')\n"
      ],
      "metadata": {
        "colab": {
          "base_uri": "https://localhost:8080/",
          "height": 507,
          "referenced_widgets": [
            "dfac54c64e914770ab49c353d82fe597",
            "752b49003932494ea1bbc5daf9ed3cd1",
            "1e9f12ab62eb48919e5aa2dbc7286ffa",
            "2645a313d0ab40d993032e51b26e2630",
            "479076daf58f4b358ee6cffc0f7fbf61",
            "667fc969d1014a3ca9e57af2b0d260ff",
            "154da0f220454158807a58f40fbed0ab",
            "8753df6897814560a8f3aa6758a29cc6",
            "85f035f12883403ca7670c8fc60c0bfe",
            "2b6357eb227d49f8b056dc4a3ff09a91",
            "61c748fb4d03479fa12135845dd8bae8",
            "e3e1d2935ada49409c993e1071ab840a",
            "6933a469baa3419cacfb11e48eb105e4"
          ]
        },
        "id": "bqm06W1XYxM_",
        "outputId": "1f37f9ef-f888-40d7-85ca-71b511b89e20"
      },
      "execution_count": 9,
      "outputs": [
        {
          "output_type": "display_data",
          "data": {
            "text/plain": [
              "interactive(children=(FloatSlider(value=3.0, description='m', max=10.0), FloatSlider(value=1.0, description='d…"
            ],
            "application/vnd.jupyter.widget-view+json": {
              "version_major": 2,
              "version_minor": 0,
              "model_id": "dfac54c64e914770ab49c353d82fe597"
            }
          },
          "metadata": {}
        }
      ]
    },
    {
      "cell_type": "markdown",
      "source": [
        "### Example: The Ising model (aka Boltzmann machine)\n",
        "\n",
        "A general solution to the MaxEnt problem has the form:\n",
        "\n",
        "$$ \\mathcal{L} =  -\\sum_{\\mathbf x} p_{\\mathbf x} \\log p_{\\mathbf x}  - \\varphi (\\sum_{\\mathbf x}p_{\\mathbf x} - 1) + \\beta \\sum_a \\theta_a(\\sum_{\\mathbf x} p_{\\mathbf x} f_{i,a}-c_a)$$\n",
        "\n",
        "$$  \\frac{\\mathrm{d}\\mathcal{L}}{\\mathrm{d}p_i} =  - 1 - \\log p_{\\mathbf x}\n",
        "- \\varphi  +  \\beta \\sum_a \\theta_a f_{\\mathbf x,a}=0 $$\n",
        "\n",
        "$$ p_{\\mathbf x} \\propto \\exp\\left[\\beta \\sum_a \\theta_a f_{\\mathbf x,a} - \\varphi \\right] $$\n",
        "\n",
        "\n",
        "$$ p_{\\mathbf x} \\propto \\frac{1}{Z}\\exp\\left[\\beta \\sum_a \\theta_a f_{\\mathbf x,a} \\right] $$\n",
        "\n",
        "With $\\mathbf x$ being an array of binary variables $\\{x_1,\\dots,x_N\\}$, $x_i=\\pm 1$, and two types of constraints $f_{\\mathbf x,a} = x_i$, $f_{\\mathbf x,b} = x_i x_j$, we obtain\n",
        "\n",
        "$$ p(\\mathbf x) \\propto \\frac{1}{Z}\\exp\\left[\\beta \\sum_i H_i x_i + \\sum_{i<j} J_{ij} x_i x_j \\right] $$\n",
        "\n",
        "E.g. with uniform parameters $H_i=H, J_{ij}=J/N$, the model is described by the distribution of the sum of active spins $X=\\sum_i x_i$"
      ],
      "metadata": {
        "id": "ziK0MrM12IzF"
      }
    },
    {
      "cell_type": "code",
      "source": [
        "import scipy.special\n",
        "\n",
        "def log_comb(n,m):\n",
        "\tMtop=max(m+1,n-m+1)\n",
        "\tMbot=min(m,n-m)\n",
        "\treturn np.sum(np.log(np.arange(Mtop,n+1))) - np.sum(np.log(np.arange(1,Mbot+1)))\n",
        "\n",
        "\n",
        "@widgets.interact(\n",
        "    H=(0., 2.), J=(0., 2., 0.02))\n",
        "def plot(H=0,J=1,sigma=0.4):\n",
        "  \n",
        "    # Simulation parameters\n",
        "    N=50\n",
        "    xmax=N\n",
        "    xmin=-N\n",
        "    ref_mean = 5\n",
        "    ref_std = 1\n",
        "\n",
        "   \n",
        "    fig, ax = plt.subplots(1, 1, figsize=(12, 6))\n",
        "\n",
        "    # Plot probability density\n",
        "    X = np.arange(xmin, xmax+1, 2)\n",
        "    p=np.zeros(N+1)\n",
        "    for i in range(N+1):\n",
        "      p[i]= np.exp(H*X[i]+0.5*J/N*X[i]**2 + log_comb(N,(X[i]+N)//2))\n",
        "    p /= np.sum(p)\n",
        "    ax.plot(X, p, lw=2)\n",
        " \n",
        "    # Calculate model observables\n",
        "    mean=np.sum(p*X)\n",
        "    std=np.sqrt(np.sum(p*X**2)-(np.sum(p*X))**2)\n",
        " \n",
        "    # Calculate model Entropy\n",
        "    inds = p>np.finfo(float).eps  # avoid log(0) terms\n",
        "    Entropy = -np.sum(p[inds]*np.log(p[inds]))\n",
        "  \n",
        "    #Plot model observables\n",
        "    plt.plot([mean,mean],[0,np.max(p)*1.1],'r--', lw=2)\n",
        "    plt.plot([mean+3*std,mean+3*std],[0,np.max(p)*1.1],'g:', lw=2)\n",
        "    plt.plot([mean-3*std,mean-3*std],[0,np.max(p)*1.1],'g:', lw=2)\n",
        " \n",
        "    # Plot reference observables\n",
        "    #plt.plot([ref_mean],[np.max(p)*1.15],'r*', lw=2)\n",
        "    #plt.plot([ref_mean+3*ref_std],[np.max(p)*1.15],'g.', lw=2)\n",
        "    #plt.plot([ref_mean-3*ref_std],[np.max(p)*1.15],'g.', lw=2)\n",
        "    ax.grid(True)\n",
        "    ax.axis([-N,N,0,np.max(p)*1.2])\n",
        "\n",
        "    print('Mean:',round(mean,2),'('+str(ref_mean)+')','Variance:',np.round(std**2,2),'('+str(ref_std**2)+')')\n",
        "    print('Entropy:',np.round(Entropy,4))\n"
      ],
      "metadata": {
        "colab": {
          "base_uri": "https://localhost:8080/",
          "height": 507,
          "referenced_widgets": [
            "4a3681b1fcf44e679fb7b0e5d6a9efb0",
            "271e8032dc104264af68a9d32998ee45",
            "06efcd9280da4fcb8e039654898368cd",
            "37d38b7306144fe58bb3dbf77a579e8a",
            "a45e63f4926049da851c9d5c5748d828",
            "dc0dafdb5ef441328a0dba1dd38b23bf",
            "19fdfbfe190a4519868fbe8afea210aa",
            "0ba56fefbb6b4f709f1fa5b43ea92b65",
            "ade04dbbc2f44f018111e2cb36c4e7ef",
            "89e099303fb844609b565b700087af29",
            "df592619994a415a96625a72e8866ada",
            "eef1922d7ecb42dbbc7e70bda52f8a6b",
            "3a213cefed53452aa78ad8a1428f7d72"
          ]
        },
        "id": "D1tcOjx_IfhG",
        "outputId": "e85829a6-3188-494c-c13b-74a058747f8d"
      },
      "execution_count": 39,
      "outputs": [
        {
          "output_type": "display_data",
          "data": {
            "text/plain": [
              "interactive(children=(FloatSlider(value=0.0, description='H', max=10.0), FloatSlider(value=1.0, description='J…"
            ],
            "application/vnd.jupyter.widget-view+json": {
              "version_major": 2,
              "version_minor": 0,
              "model_id": "4a3681b1fcf44e679fb7b0e5d6a9efb0"
            }
          },
          "metadata": {}
        }
      ]
    },
    {
      "cell_type": "code",
      "source": [],
      "metadata": {
        "id": "X5kbIrj-K0_w"
      },
      "execution_count": null,
      "outputs": []
    },
    {
      "cell_type": "code",
      "source": [
        "N=10\n",
        "scipy.special.comb(N,[1,3], exact=True)"
      ],
      "metadata": {
        "colab": {
          "base_uri": "https://localhost:8080/",
          "height": 358
        },
        "id": "pUTsUswFK1CN",
        "outputId": "557a0226-815b-4af9-e1ed-5ceeea36bea1"
      },
      "execution_count": 29,
      "outputs": [
        {
          "output_type": "error",
          "ename": "TypeError",
          "evalue": "ignored",
          "traceback": [
            "\u001b[0;31m---------------------------------------------------------------------------\u001b[0m",
            "\u001b[0;31mTypeError\u001b[0m                                 Traceback (most recent call last)",
            "\u001b[0;32m<ipython-input-29-f02c621afffc>\u001b[0m in \u001b[0;36m<module>\u001b[0;34m\u001b[0m\n\u001b[1;32m      1\u001b[0m \u001b[0mN\u001b[0m\u001b[0;34m=\u001b[0m\u001b[0;36m10\u001b[0m\u001b[0;34m\u001b[0m\u001b[0;34m\u001b[0m\u001b[0m\n\u001b[0;32m----> 2\u001b[0;31m \u001b[0mscipy\u001b[0m\u001b[0;34m.\u001b[0m\u001b[0mspecial\u001b[0m\u001b[0;34m.\u001b[0m\u001b[0mcomb\u001b[0m\u001b[0;34m(\u001b[0m\u001b[0mN\u001b[0m\u001b[0;34m,\u001b[0m\u001b[0;34m[\u001b[0m\u001b[0;36m1\u001b[0m\u001b[0;34m,\u001b[0m\u001b[0;36m3\u001b[0m\u001b[0;34m]\u001b[0m\u001b[0;34m,\u001b[0m \u001b[0mexact\u001b[0m\u001b[0;34m=\u001b[0m\u001b[0;32mTrue\u001b[0m\u001b[0;34m)\u001b[0m\u001b[0;34m\u001b[0m\u001b[0;34m\u001b[0m\u001b[0m\n\u001b[0m",
            "\u001b[0;32m/usr/local/lib/python3.7/dist-packages/scipy/special/_basic.py\u001b[0m in \u001b[0;36mcomb\u001b[0;34m(N, k, exact, repetition)\u001b[0m\n\u001b[1;32m   2217\u001b[0m         \u001b[0;32mreturn\u001b[0m \u001b[0mcomb\u001b[0m\u001b[0;34m(\u001b[0m\u001b[0mN\u001b[0m \u001b[0;34m+\u001b[0m \u001b[0mk\u001b[0m \u001b[0;34m-\u001b[0m \u001b[0;36m1\u001b[0m\u001b[0;34m,\u001b[0m \u001b[0mk\u001b[0m\u001b[0;34m,\u001b[0m \u001b[0mexact\u001b[0m\u001b[0;34m)\u001b[0m\u001b[0;34m\u001b[0m\u001b[0;34m\u001b[0m\u001b[0m\n\u001b[1;32m   2218\u001b[0m     \u001b[0;32mif\u001b[0m \u001b[0mexact\u001b[0m\u001b[0;34m:\u001b[0m\u001b[0;34m\u001b[0m\u001b[0;34m\u001b[0m\u001b[0m\n\u001b[0;32m-> 2219\u001b[0;31m         \u001b[0;32mreturn\u001b[0m \u001b[0m_comb_int\u001b[0m\u001b[0;34m(\u001b[0m\u001b[0mN\u001b[0m\u001b[0;34m,\u001b[0m \u001b[0mk\u001b[0m\u001b[0;34m)\u001b[0m\u001b[0;34m\u001b[0m\u001b[0;34m\u001b[0m\u001b[0m\n\u001b[0m\u001b[1;32m   2220\u001b[0m     \u001b[0;32melse\u001b[0m\u001b[0;34m:\u001b[0m\u001b[0;34m\u001b[0m\u001b[0;34m\u001b[0m\u001b[0m\n\u001b[1;32m   2221\u001b[0m         \u001b[0mk\u001b[0m\u001b[0;34m,\u001b[0m \u001b[0mN\u001b[0m \u001b[0;34m=\u001b[0m \u001b[0masarray\u001b[0m\u001b[0;34m(\u001b[0m\u001b[0mk\u001b[0m\u001b[0;34m)\u001b[0m\u001b[0;34m,\u001b[0m \u001b[0masarray\u001b[0m\u001b[0;34m(\u001b[0m\u001b[0mN\u001b[0m\u001b[0;34m)\u001b[0m\u001b[0;34m\u001b[0m\u001b[0;34m\u001b[0m\u001b[0m\n",
            "\u001b[0;32m_comb.pyx\u001b[0m in \u001b[0;36mscipy.special._comb._comb_int\u001b[0;34m()\u001b[0m\n",
            "\u001b[0;31mTypeError\u001b[0m: int() argument must be a string, a bytes-like object or a number, not 'list'"
          ]
        }
      ]
    },
    {
      "cell_type": "markdown",
      "source": [
        "\n",
        "### References\n",
        "\n",
        "Jaynes, E. T. (2003). Probability theory: The logic of science. Cambridge university press.\n",
        "\n",
        "Harte, J. (2011). Maximum entropy and ecology: a theory of abundance, distribution, and energetics. OUP Oxford.\n",
        "\n",
        "Montroll, E. W. (1981). On the entropy function in sociotechnical systems. Proceedings of the National Academy of Sciences, 78(12), 7839-7843.\n",
        "\n",
        "Frank, S. A. (2009). The common patterns of nature. Journal of evolutionary biology, 22(8), 1563-1585.\n",
        "\n",
        "Khan Academy (2019). [Lagrange multipliers, introduction](https://www.khanacademy.org/math/multivariable-calculus/applications-of-multivariable-derivatives/constrained-optimization/a/lagrange-multipliers-single-constraint)."
      ],
      "metadata": {
        "id": "056AazBwGNfm"
      }
    },
    {
      "cell_type": "code",
      "execution_count": 8,
      "metadata": {
        "id": "F8splVbnyjyd"
      },
      "outputs": [],
      "source": []
    }
  ]
}