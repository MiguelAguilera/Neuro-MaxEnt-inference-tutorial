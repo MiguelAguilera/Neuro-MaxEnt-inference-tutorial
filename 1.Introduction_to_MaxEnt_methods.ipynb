{
  "nbformat": 4,
  "nbformat_minor": 0,
  "metadata": {
    "colab": {
      "provenance": [],
      "authorship_tag": "ABX9TyMSzbIAaQD3eRLM8byWQA3s",
      "include_colab_link": true
    },
    "kernelspec": {
      "name": "python3",
      "display_name": "Python 3"
    },
    "language_info": {
      "name": "python"
    },
    "widgets": {
      "application/vnd.jupyter.widget-state+json": {
        "0b0443ddf2f947cc89a28b32c7d6c6a8": {
          "model_module": "@jupyter-widgets/controls",
          "model_name": "VBoxModel",
          "model_module_version": "1.5.0",
          "state": {
            "_dom_classes": [
              "widget-interact"
            ],
            "_model_module": "@jupyter-widgets/controls",
            "_model_module_version": "1.5.0",
            "_model_name": "VBoxModel",
            "_view_count": null,
            "_view_module": "@jupyter-widgets/controls",
            "_view_module_version": "1.5.0",
            "_view_name": "VBoxView",
            "box_style": "",
            "children": [
              "IPY_MODEL_031259a949cb495c89ec158d547d17bd",
              "IPY_MODEL_2a0cc8347c8e4915a09e1babb6938f6f",
              "IPY_MODEL_d1ceda57ad324781852b9f54fdbb4e4e",
              "IPY_MODEL_2bc67297c37a4d869c001ee6a2b8a3f3",
              "IPY_MODEL_7b03caa10c684335937554055c0e4ad8"
            ],
            "layout": "IPY_MODEL_3529f500ad9d4cc3917e1a0052752f48"
          }
        },
        "031259a949cb495c89ec158d547d17bd": {
          "model_module": "@jupyter-widgets/controls",
          "model_name": "FloatSliderModel",
          "model_module_version": "1.5.0",
          "state": {
            "_dom_classes": [],
            "_model_module": "@jupyter-widgets/controls",
            "_model_module_version": "1.5.0",
            "_model_name": "FloatSliderModel",
            "_view_count": null,
            "_view_module": "@jupyter-widgets/controls",
            "_view_module_version": "1.5.0",
            "_view_name": "FloatSliderView",
            "continuous_update": true,
            "description": "m",
            "description_tooltip": null,
            "disabled": false,
            "layout": "IPY_MODEL_9976ee1fef764aa9a9bfc26722b49d27",
            "max": 10,
            "min": 0,
            "orientation": "horizontal",
            "readout": true,
            "readout_format": ".2f",
            "step": 0.1,
            "style": "IPY_MODEL_ed4e15445f224eebaeee3756867e7642",
            "value": 5
          }
        },
        "2a0cc8347c8e4915a09e1babb6938f6f": {
          "model_module": "@jupyter-widgets/controls",
          "model_name": "FloatSliderModel",
          "model_module_version": "1.5.0",
          "state": {
            "_dom_classes": [],
            "_model_module": "@jupyter-widgets/controls",
            "_model_module_version": "1.5.0",
            "_model_name": "FloatSliderModel",
            "_view_count": null,
            "_view_module": "@jupyter-widgets/controls",
            "_view_module_version": "1.5.0",
            "_view_name": "FloatSliderView",
            "continuous_update": true,
            "description": "d",
            "description_tooltip": null,
            "disabled": false,
            "layout": "IPY_MODEL_fcd5c4c1977548acb3eb77e842c0d98c",
            "max": 2,
            "min": 0,
            "orientation": "horizontal",
            "readout": true,
            "readout_format": ".2f",
            "step": 0.02,
            "style": "IPY_MODEL_c877afe6429d4350aa5d14ee0bbf3c9f",
            "value": 0.88
          }
        },
        "d1ceda57ad324781852b9f54fdbb4e4e": {
          "model_module": "@jupyter-widgets/controls",
          "model_name": "FloatSliderModel",
          "model_module_version": "1.5.0",
          "state": {
            "_dom_classes": [],
            "_model_module": "@jupyter-widgets/controls",
            "_model_module_version": "1.5.0",
            "_model_name": "FloatSliderModel",
            "_view_count": null,
            "_view_module": "@jupyter-widgets/controls",
            "_view_module_version": "1.5.0",
            "_view_name": "FloatSliderView",
            "continuous_update": true,
            "description": "sigma",
            "description_tooltip": null,
            "disabled": false,
            "layout": "IPY_MODEL_32df1cf7e5974d72882a863d88e480d8",
            "max": 1,
            "min": 0.02,
            "orientation": "horizontal",
            "readout": true,
            "readout_format": ".2f",
            "step": 0.02,
            "style": "IPY_MODEL_4828e1f4c98042ba9b5f74f4475c32a9",
            "value": 0.36
          }
        },
        "2bc67297c37a4d869c001ee6a2b8a3f3": {
          "model_module": "@jupyter-widgets/controls",
          "model_name": "CheckboxModel",
          "model_module_version": "1.5.0",
          "state": {
            "_dom_classes": [],
            "_model_module": "@jupyter-widgets/controls",
            "_model_module_version": "1.5.0",
            "_model_name": "CheckboxModel",
            "_view_count": null,
            "_view_module": "@jupyter-widgets/controls",
            "_view_module_version": "1.5.0",
            "_view_name": "CheckboxView",
            "description": "grid",
            "description_tooltip": null,
            "disabled": false,
            "indent": true,
            "layout": "IPY_MODEL_0aa3e2919aae40308d6823d20a22acd5",
            "style": "IPY_MODEL_6b35716b93034ca1844512430a671c35",
            "value": false
          }
        },
        "7b03caa10c684335937554055c0e4ad8": {
          "model_module": "@jupyter-widgets/output",
          "model_name": "OutputModel",
          "model_module_version": "1.0.0",
          "state": {
            "_dom_classes": [],
            "_model_module": "@jupyter-widgets/output",
            "_model_module_version": "1.0.0",
            "_model_name": "OutputModel",
            "_view_count": null,
            "_view_module": "@jupyter-widgets/output",
            "_view_module_version": "1.0.0",
            "_view_name": "OutputView",
            "layout": "IPY_MODEL_41a8679accb74a16ae7eb842f002572d",
            "msg_id": "",
            "outputs": [
              {
                "output_type": "stream",
                "name": "stdout",
                "text": [
                  "Mean: 5.0 Variance: 0.91\n",
                  "Entropy: (1.0703, 1.4189385332046727)\n"
                ]
              },
              {
                "output_type": "display_data",
                "data": {
                  "text/plain": "<Figure size 864x432 with 1 Axes>",
                  "image/png": "iVBORw0KGgoAAAANSUhEUgAAAskAAAFlCAYAAAAZA3XlAAAABHNCSVQICAgIfAhkiAAAAAlwSFlzAAALEgAACxIB0t1+/AAAADh0RVh0U29mdHdhcmUAbWF0cGxvdGxpYiB2ZXJzaW9uMy4yLjIsIGh0dHA6Ly9tYXRwbG90bGliLm9yZy+WH4yJAAAgAElEQVR4nOzdeXjb13kn+u8BQHDfF3GVSGqzNmshLdv1IiVxErsR7bTZ7HSdNKLcNtNOnXt7k9tOJKU3k3Sx7zTTTCMqk07zTGM36aSOqDhxEidSYseLSNqStVHiIomrxJ0EQWI98wfwA2GaIkESwPkd4Pt5Hjw2KRB4rR/88v2d855zhJQSREREREQ0x6I6ACIiIiIis2GRTEREREQ0D4tkIiIiIqJ5WCQTEREREc3DIpmIiIiIaB4WyURERERE89hUvXFRUZGsrq5W9fZERERElCRaW1uHpZTFy/kZZUVydXU1WlpaVL09ERERESUJIcT15f4M2y2IiIiIiOZhkUxERERENA+LZCIiIiKieVgkExERERHNwyKZiIiIiGgeFslERERERPOwSCYiIiIimodFMhERERHRPCySiYh0MTAA7NsHDA6qjoSIKOGxSCbTeLXnVXz5l1/Gqz2vqg6FyJz+6q+Al18GvvhF1ZEQmRJ/j1A0KTuWmijcqz2v4n3feh/cPjfsVjte+t2XcG/VvarDIjKH9HRgdnbu63/8x8AjLQ2YmVEXF5GJ8PcIRRtHkskUTl07BbfPDZ/0we1z49S1U6pDIjKPri7gk58EMjICX2dkAL/1W0B3t9q4iEyEv0co2lgkkynsr94Pu9UOq7DCbrVjf/V+1SERmUdZGZCTExhNTksL/DMnBygtVR0ZkWnw9whFG9styBTurboXL/3uSzh17RT2V+/nFBnRfDdvAk8+CTQ2Ak1NgUV8RBTC3yMUbUJKqeSN6+vrZUtLi5L3JiIiIqLkIYRolVLWL+dn2G5BRERERDQPi2QiIiIionlYJBMRERERzcMimYiIiIhoHhbJRERERETzsEgmIiIiIpqHRTIRERER0TwskomIiIiI5mGRTEREREQ0D4tkIiIiIqJ5WCSTduqa6lDXVKc6DKL4EyLwIEoyzPukgi2SJwkhHgbw9wCsAL4hpfzKAs/5OIAjACSAs1LKT0YxTqKQtoE21SEQEVEcMe+TCksWyUIIK4CvAXg/gF4AZ4QQJ6SUF8OesxHA5wHcJ6UcE0KUxCpgopaDLapDIFKjhZ99Sk7M+6RCJCPJewF0SCm7AEAI8RyAxwBcDHvOQQBfk1KOAYCU8la0AyUy1JVzyo2SVB0/+5ScmPdJhUh6kisA9IR93Rv8XrhNADYJIV4RQrwWbM94FyFEoxCiRQjRMjQ0tLKIiYiIiIhiLFoL92wANgLYD+AJAMeFEHnznySlbJJS1ksp64uLi6P01pRsjpw6giOnjqgOgyj+GhsDD6Ikw7xPKggp5eJPEOJeAEeklB8Mfv15AJBSfjnsOV8H8LqU8p+CX78E4HNSyjO3e936+nrZwv46WgFxNLC6Xx5e/LNLlHCMnS2WyNtEiYZ5n1ZLCNEqpaxfzs9E0pN8BsBGIUQNgD4AjwOYv3PF8wiMIP+TEKIIgfaLruUEQhSpw/sOqw6BiIjiiHmfVFhyJBkAhBC/DuC/IrAF3DellF8SQnwRQIuU8oQQQgB4GsDDAHwAviSlfG6x1+RIMhHRMnEkmYhoRVYykhxRkRwLLJKJiJaJRTIR0YqspEjmiXukndb+VrT2t6oOg4iI4oR5n1SI6MQ9IjOpPx64EeQCDiKi5MC8TyqwSCbt7CnbozoEIjX28LNPyYl5n1RgTzIRERERJTT2JBMRERERRQGLZCIiIiKieVgkk3bKny5H+dPlqsMgij8h5raBI0oizPukAhfukXYGHAOqQyAiojhi3icVWCSTdvqe6lMdAhERxRHzPqnAIpm0U57NKTciomTCvE8qsCeZiIiIiGgeFsmkncbmRjQ2N6oOg4iI4oR5n1TgYSKkHXE0sLqfx5NS0jF2tlCUt4lUYd6n1VrJYSLsSSbtHDtwTHUIRGoc42efkhPzPqnAkWQiIiIiSmg8lpqIiIiIKArYbkHaaW5vBgA0bG5QHAmpNOxw4Ss/vIwXzw/CahV4bGc5nvrAZuSmp6gOLXaamgL/bEzcBUydQw58+YXLeLVzGJmpNvzW3evw5P5apNqsqkMjhZj3SQW2W5B2uICD+sZn8LF//BX6J2bf8f07SrPx7YP3oCDTriiyGEvwhXtv9Yzjd77xOqZc3nd8/8FNxTj+u3UslJMY8z6tFtstKCkc2HQABzYdUB0GKeL2+nHwn1vQPzGLXVV5+Nln9+GFP3kA64szcXlwCn/63Jvw+/mLVDcjDhcOfqsFUy4vPrhtDV79/Hvx7U/fjcJMO35xZQhf+sEl1SGSQsz7pAJHkolIK//tpat4+idXsLYgA82fuR+5GYH2ioGJGRz46ssYmXbjbz96Jz5WX6U40hhI4JHkp77zFr7X1oe91QX4l4N3I8UaGMM51zuOj/7jq3D7/Pjuk/firuoCxZESkY44kkxECW1oyoWvneoAAHzlN3eECmQAKMtNx38+sBUA8Nc/uozpeVP2ZF5ne8bxvbY+2G0W/M1H7wwVyABwZ2UentxXCwD4YvNFzhIQUdywSCYibTT9ohOzHj8e2rIGv7ah6F1//tiucuyqysOww41n37ihIEJaif8evPH5D79WjeqizHf9+ZP712NNTire7pvAqSu34h0eESUpFsmkHXFUhBZxUPKYmvXgX14PFL5/+r6NCz5HCIE/fs8GAMD/eLkbHp8/bvHRyly9OYUXL9yE3WbBHzxQs+BzMuw2/MH9gT87drornuGRSTDvkwoskolIC99/qx9Otw97awqwozL3ts973x0lWF+ciYGJWfzsMkcdzc648floXSVKstNu+7wn9q5FdqoNr3ePon1wKl7hEVESY5FM2pGHJbcBSjJSSnw7WEz91t1rF32uxSLw+F2B53y3pSfmscWVlAm1aM/l9eH5t/oAAJ/cu/h1zU5LQcOucgDA/27rjXlsZC7M+6QCi2QiMr3Lg1O4ODCJvIwUfHBb6ZLP//DuCtgsAj9vH8Ktqdkln09qvHTpFsadHmwpy8G28pwln//RukoAwPfa+uBlKw0RxRiLZCIyvR++PQAAeGR7GdJSlj5Qojg7Ffs3l8Dnl/jBuYFYh0cr9P3gKPJH6yohxNL9prur8lBbnIlhhwsvdwzHOjwiSnIskkk7Dc82oOFZHk2aTF44PwgA+PUdS48iGw7cWQYAePHCYExiUqKuLvBIADNuH05fGQIQ+XUVQqDhzkDLxYsXbsYsNjIf5n1SgUUyaefklZM4eeWk6jAoTq7enELHLQfyM1JwT21hxD/3njtKkGIVeKN7FCMOVwwjjKO2tsAjAfzy6hBmPX7srMxFWW56xD/3gW1rAAA/uXgTPu6ZnDSY90kFm+oAiJbrxOMnVIdAcfTD4CjyB7aWvuOQiaXkpqfg19YX4fSVIfz00k184q7FF4ZRfBkjwR+IoMc83NayHFTmp6N3bAZv3hhDPU/gSwrM+6QCR5JJOw2bG9CwmdNuyeIXwSn5920pWfbPGqOOP788FNWYaHV8fomXLgeK5A8Gr1GkhBD4wNZAYf3TS9ziL1kw75MKLJKJyLQmZz14s2ccNovAvesjb7UwPLixGADwSucwd0MwkfN9Exh3elBVkI4NJdnL/vl9mwPX9eUO3vwQUeywSCbtNLU2oam1SXUYFAevdo7A55fYszYf2Wkpy/75qoIM1BRlYmrWi7O9EzGIkFbC2Jni/g3FK/r5vdUFsNssuNA/idFpdzRDI5Ni3icVWCSTdg6dPIRDJw+pDoPiwGi1eGBj0Ypfw/jZX17lqKNZvBIqkld2XdPtVtxVnQ8p516LEhvzPqnAhXuknYN7DqoOgeLkl1cDBdADm1Y24ggAD2wsxrdevY5fXh3Gf3poU7RCU+Og/p/9GbcPLdfGIARW1EJjeGBjMV7pGMEvrw6hYWd5FCMkM2LeJxVYJJN2mho45ZYMekaduDHqRG56CnZU5K74de6pLYDVIvBWzzimXV5kpmqc9pr0/+y3XB+F2+fH9oocFGTaV/w6xij0Kx0j0QqNTIx5n1RguwURmdIb3aMAgL01gSJ3pbLTUrC1LAc+v8SbN8ajFR6tkFHU3rfCVgvD1rIcZKfZ0Dc+g77xmWiERkT0DiySSTv9U/3on+pXHQbFWMv1QJF8V3X+ql/rruBeum9cG131aynV2hp4aKwleA2WczDMQiwWgfp1+e94TUpczPukAotk0k7FMxWoeKZCdRgUY8ZIcjQOi9hbkyDFVH194KEpl9eHc32BXUb2rI3CzU9N4LNxRvfrSkti3icVNG7Oo2RVllWmOgSKsRGHC51D00hLsWB7+cr7kQ1Gof3mjXF4fP5lndxH0XO+bxJurx+b1mQhN335W/rNZ8wQtFwbW/Vrkbkx75MKEf2mEEI8LIRoF0J0CCE+t8Cf/74QYkgI8Vbw8enoh0oU0P/ZfvR/ltNuiaz1eqDo2VWVB7tt9QVtUVYqaosyMePx4Xwf90tWpS14XevWrX4UGQB2VOTCbrWg/eYUJpyeqLwmmRPzPqmw5G8fIYQVwNcAPAJgK4AnhBBbF3jqv0opdwUf34hynESURIzp871RaLUwGKOOnJpXx+gzj0arBQCkpVhxZ2UupARab/C6ElF0RTJEsxdAh5SyS0rpBvAcgMdiGxYRJTNjJLkuikVyXXAB4Fs93OFCBSklWq8H/u6j0WduqGfLBRHFSCRFcgWAnrCve4Pfm+8jQohzQoh/E0JURSU6ogXUNdWhrqlOdRgUIx6fHxf6JwEAuyrzova6u6oCr3W2h+0WKvSMzmDY4UJBph3VhRlRe13jup7jseMJjXmfVIjWwr1mAM9KKV1CiEMA/hnAe+c/SQjRCKARANauXRult6Zk0zbQpjoEiqGrNx1wef1YV5iB3IzVL+4yrC/OQobdir7xQLFWlJUatdempRntEHvW5kOIle97Pd+dlYGFned6xyGljOprk3kw75MKkRTJfQDCR4Yrg98LkVKGH3n0DQB/s9ALSSmbADQBQH19vVxWpERBLQdbVIdAMXSuNzAlf2cUR5EBwGoR2FGRi9e7R3GudxzvvWNNVF8/Llr0/ewbI/i710b3upblpqEoKxXDDheujThRU5QZ1dcnc2DeJxUiabc4A2CjEKJGCGEH8DiAE+FPEEKE783yKIBL0QuR6J3qyutQV85pt0R1NjhtvrNy9Vu/zbczODX/lq4tF3V1gYeGjF1Ftq/iiPGFCCFCnxXjBosSD/M+qbBkkSyl9AL4DIAXESh+vyOlvCCE+KIQ4tHg0/5ECHFBCHEWwJ8A+P1YBUxEie3tvkChsyPKxRTwzql5ih+fX4b6zGNzXdlvTkTRF1FPspTyBQAvzPveF8L+/fMAPh/d0IgWduTUkcA/9x9RGgdF36zHh8sDU7CI6I84AsDOyrlFXlr2rzY2Bv7Z1KQ2jmXqGnJgxuNDRV46CjLtUX/9O6t485PomPdJBR47Rdo5evoojp4+qjoMioFLA5Pw+iU2lGQhMzX6B4JW5geKtNFpN3rHZqL++jF3/HjgoZm3Q60WOTF5fePm53z/BLw+f0zeg9Ri3icVeCw1aefwvsOqQ6AYMYqpHRXRXdxlMPpXf94+hLO946gqiN5WZHR7c9c1+rMDAFCQaUdlfjp6x2Zw9ZYDW8piU4yTOsz7pAKLZNIOp9sSl9FTurMqNsUUEGjj+Hn7EC72T+LAneUxex+aE6tFe+HurMxF79gMzvdNsEhOQMz7pALbLYjINC70x76Y2hosoC4NTMbsPWhOrBftGeau61TM3oOIkguLZNJOa38rWvtbVYdBUeby+tBxywEhgDtKs2P2PsYo40UWyXHRPeyA0+1DeW4aCmN4gMvWct78JDLmfVKB7Raknfrj9QAAeZjn0SSSzlvT8PolaooykWGPXWpaW5CBTLsVNyddGHG4Ylq4EXC+L1C0xnJ2AHjnzY+WO5fQopj3SQUWyaSdPWV7VIdAMWCMAG4pi90oMgBYLAJbynLQcn0MlwamcP9GjYrkPfp99o3raoz0xkppThryM1Iw5vRgYGIW5XnpMX0/ii/mfVKBRTJpp7WRU26JKFQkl8Z+0ZVRJF8cmMD9G4ti/n5R06rfZ//SYKBH+I4YX1chAjc/v+ocwcX+SRbJCYZ5n1RgTzIRmcKlQWMkOfZFsjGqebGf/aux1j4YnxkCgIsyiSi6WCQTkXJSytCuBHfEtZjiTgixNDbtxs1JFzLsVlTlx35Pai7KJKJoYpFM2il/uhzlT3N/20QyNOXC6LQbOWk2VMRhmnxzaTYsAugYcmDW44v5+0WNEIGHJi4HWy02rcmGxRL7uLnDReJi3icVWCSTdgYcAxhwDKgOg6LIGPm7oywnLrsSpKVYUVucBZ9f4upNR8zfL1ldDrZaxHJLv3Dri7OQYhW4NuKEw+WNy3tSfDDvkwoskkk7fU/1oe+pPtVhUBQZbQ9b4lRMAXNT8xx1jJ324Ejy5jhdV7vNgo0l2cH35nVNJMz7pAKLZNJOeXY5yrM57ZZI5rZ/i99xwsbo5pWb7EuOlctx2tkinNHTbrw3JQbmfVKBRTIRKXc5jjtbGDaWZAEA2lkkx4TfL0M3IPFqtwAC/c8A2EZDRKvGIpm009jciMbmRtVhUJS4vX50Dk1DiLkCJx5YTMVWz5gTTrcPa3JSkZ9pj9v7bloTuPnhDEFiYd4nFVgkk3aOtx3H8bbjqsOgKOkenobPL7G2IAPpdmvc3reqIAOpNgsGJ2cxMeOJ2/smC6PPfHMcWy0AhHqSr/DmJ6Ew75MKPHGPtHPswDHVIVAUXb0VKKaM9od4sVoENq7Jwvm+SXTcmkLduoK4vv+KHNPns28s2ovnYkwAqMhLR4bdimGHC2PT7riOYlPsMO+TCiySSTuNdZxySyRGu8PGOLZaGDaVZON83yTaBx16FMmN+nz2jT7zeO1sYbBYBDaWZOFs7wSu3JzC3bWFcX1/ig3mfVKB7RZEpJSqkWRgrjBn/2r0GQsi410kA7yuRBQdLJJJO83tzWhub1YdBkVJaCS5JP7F1ObSQGFuFOqm19QUeJic2+vH9REnLCJwwEe8zS3eY19yomDeJxXYbkHaefS5RwEA8rBUHAmtltvrR/dwYGeLDSpGkkMHT2hSTB06FPinydsuro0EFmOuK8xAWkr8FmMaNnEkOeEw75MKLJJJOwc2HVAdAkXJ9ZFpeP0SVQXpcd3ZwsBFXrFhzA5sUDCKDIRt73dLk5sfWhLzPqnAIpm00/wEp9wShVHEbFLQagEEF3mtycbZnnEu8oqijuB13bBGTZFclpuG7FQbRqfdGHa4UJSVqiQOih7mfVKBPclEpIwxHa6qmAKATSU8fCLaOobUjiQLIUKfKV5XIlopFslEpIwxkqxi0Z5hrn+VU/PRctW4+VHQZ24wZid4oiIRrRSLZNKOOCogjgrVYVAUdAQLmE0qR5JLucgrmnx+ia7haQBqi+SNwc9UO69rQmDeJxVYJBOREh6fH13DgSJZxTZhBmN/5s6haWUxJJKeUSfcXj9Kc9KQnZaiLA5jhqCDI8lEtEJcuEfa4RZAieH6iBMen0RlfjoyU9WlotKcNKSnBHa4mHB6kJuhrrBbkjT/Z99YtLdR4ewAAKwP3vwYN2KkN+Z9UoEjyUSkRIfCk/bCWSwCtcWZAIBOFlSrZizaUzk7AABloZsfN8adbqWxEJGeWCQTkRLGQjnjCGGVjIKuk/vqrlpoj2Qz3fywlYaIVoBFMmmn4dkGNDzboDoMWqVOxduEhQsVyWYvpurqAg8TM0aSVc8QAOHXlTc/umPeJxXYk0zaOXnlpOoQKAq6gzsgGKN9Kq0vMUYcTV5MtbWpjmBRUsrQaLzqkWSARXIiYd4nFVgkk3ZOPH5CdQi0SlJKdAdHbWuKTFAks5iKisHJWThcXuRnpKDQBKfcGTdgXWafIaAlMe+TCiySSTsNmznlprthhxtTLi9y0mwoyLSrDgc1RZkQArgx4oTH50eKlZ1oK9FhgsNhwvHmJ3Ew75MK/E1ARHHXFSxaaouzIIT6AwLSUqyozE+H1y9xfcSpOhxtGYv21pug1QJ4980PEdFysEgm7TS1NqGptUl1GLQKoX5kE7RaGDjquHpmWrQHAOl2KyryePOTCJj3SQUWyaSdQycP4dDJQ6rDoFUwimQz9CMbWCSv3twMAa8rRRfzPqnAnmTSzsE9B1WHQKvUZRTJZiymbpl4kddBc3/2jZsf1QeJhFtfnIXTV4ZYJGuOeZ9UYJFM2mlq4JSb7sw5kqzBNnBN5v3sT7u8uDnpgt1mQXleuupwQkLb+5n55oeWxLxPKkTUbiGEeFgI0S6E6BBCfG6R531ECCGFEPXRC5GIEonX58f1ERMWySVz0/JSSsXR6Me48akuzIDVon4xpqG2KHBdu3jkOBEt05JFshDCCuBrAB4BsBXAE0KIrQs8LxvAnwJ4PdpBEoXrn+pH/1S/6jBohfrGZ+DxSZTlpiHDbp7JrMJMO3LTUzA168WQw6U6nIW1tgYeJtRlwtkBIHwkmTc/OmPeJxUiGUneC6BDStklpXQDeA7AYws8768A/DWA2SjGR/QuFc9UoOKZCtVh0AqZtZgSQsy1XJh1ar6+PvAwobnDYczTjwwAxVmpyE6zYXLWi2GHW3U4tELM+6RCJEVyBYCesK97g98LEULsAVAlpfxBFGMjWlBZVhnKsspUh0ErZKaT9ubjTggr1x1sZzDTtn6AcfPD66o75n1SYdVznUIIC4BnAPx+BM9tBNAIAGvXrl3tW1OS6v8sp9x0ZsZFe4bwvmRaHmOGwEzbvxnWF2fhrZ5xdA45cE9toepwaAWY90mFSEaS+wBUhX1dGfyeIRvAdgCnhBDXANwD4MRCi/eklE1SynopZX1xcfHKoyYibRkLqMy0TZjBiMk4XpkiI6U09wwBd7ggohWIpEg+A2CjEKJGCGEH8DiAE8YfSiknpJRFUspqKWU1gNcAPCqlbIlJxESkNTMXU8YoqDHaTZEZdrgx5fIiJ82Ggky76nDexdjhgjMERLQcSxbJUkovgM8AeBHAJQDfkVJeEEJ8UQjxaKwDJJqvrqkOdU11qsOgFZhx+9A/MQubRaAy3zx76Rqq8gPbl/WNz2DW41MdjjZCLTTFWRDCPNu/GYwFmddGePOjK+Z9UiGinmQp5QsAXpj3vS/c5rn7Vx8W0e21DbSpDoFWyChS1hZmwGaNaJv2uLLbLKjKT8e1ESdujDqxaU226pC0YBxHvd6EswNA4PMmBNAz6oTb64fdZr7PHi2OeZ9UMM8mpUQRajnITh5dGSOOtSbbJixcTVEmro040TU0bb4iucWcn30zL8YEgFSbFRV56egdm8GNUSc2lJj380cLY94nFVgkk3bqyjnlpitjxNGMOyAYaoqy8PP2IXP2JdeZ87Mf2vva1Nc1E71jM+genmaRrCHmfVKBc05EFDdmPUgknFHoXTNjkWxSOswQGPs387oSUaRYJJN2jpw6giOnjqgOg1bA7NPywFwxZcqR5MbGwMNEvD4/rgd7zauLMhRHc3vGZ67LjNeVlsS8TyqwSCbtHD19FEdPH1UdBq3A3IijeYtkUxdTx48HHibSNz4Dj0+iLDcNGXbzdvDVBPfANk4GJL0w75MK5s1oRLdxeN9h1SHQCoxNuzHu9CAr1Ybi7FTV4dxWaU4aUm0WDDtcmJz1ICctRXVIpqZDCw0A1BSaeIaAlsS8TyqwSCbtHNl/RHUItALGSXs1RZmm3EvXYLEI1BRl4vLgFK4NT+POyjzVIZmacTiMmRdjAkBFfjpSrAI3J12YdnmRmcpffzph3icV2G5BRHHRZeKT9uarMXNfssnM3fyYd9EeAFgtAusKeagIEUWORTJpp7W/Fa39rarDoGXSYdGeIdSXPMRiaik69JkbePOjL+Z9UoHzTaSd+uP1AAB5WCqOhJYjVEyZfFoeYDG1HN0azhBwGzj9MO+TCiySSTt7yvaoDoFWQIe9dA1GIW+6InmPuT77M24f+idmkWIVqMxPVx3Okky9cwktinmfVGCRTNppbeSUm278fhkqOM28l67B6K+9NjwNKaV5Fhq2muuzb1zTtQUZsFnN373HGQJ9Me+TCubPakSkvf6JGbi8fhRnpyJbgy3V8jNSkJNmw5TLi2GHW3U4pjXXZ27+2QHA5AfFEJHpsEgmopjTadEeAAghwg6fYEF1O8bBHOs16DMHgOLsVGTarRh3ejA2zZsfIloci2TSTvnT5Sh/ulx1GLQMRqGpSzEFhI86muiENiECD5PQ5SARgxAC1cZ15TZwWmHeJxVYJJN2BhwDGHAMqA6DlkGnPZINXOS1NJ2vaze399MK8z6pwIV7pJ2+p/pUh0DL1KVZ7yrAYmopUkp0DQUPEtFyhoDXVSfM+6QCi2TSTnk2p9x00x12JLUuuBPC4sacHkzOepGdakNxVqrqcCJmFPRst9AL8z6pwHYLIoopl9eH3rEZWC0CawvMv/2bwSiSr4844fPzAIP5Qjc+xZnm2SIvAtWFnCEgosiwSCbtNDY3orG5UXUYFKEbI05ICVTlp8Nu0yflZKbaUJKdCrfPj/7xGdXhmE6nhv3IwDtnCKTkzY8umPdJBX1+YxEFHW87juNtx1WHQRHStZgC2HKxGN229TPkZdhRkGnHjMeHm5Mu1eFQhJj3SQX2JJN2jh04pjoEWgbdDpwIV1ucide7R9E9PI0HNxWrDgc4Zp7PvtGuUFus33WtKcrE6LQb3cPTKM1NUx0ORYB5n1RgkUzaaazjlJtOwntXdWO6keRG83z2jb+TWs1GkoFAX3Lr9TF0D0/j3vWFqsOhCDDvkwpstyCimNK5mDJGv7lX8jv5/DK0O0S1hte1ttiEB8UQkemwSCbtNLc3o7m9WXUYFKFQkaz1SLJJiqmmpsBDsf7xGbi9fpRkpyIrVb8JSdPNENCSmPdJBf2yGyW9R597FAAgD3NlutlNzKhs4DIAACAASURBVHgw7HAjPcWKNdn69X6uLciARQC9YzNweX1ItVnVBnToUOCfitsudF20Z2CRrB/mfVKBRTJp58CmA6pDoAgZRUh1USYsFn320jXYbRZU5mfgxqgTN0ac2LgmW3VIpjA3O6Dfoj1gbq/kG6NOeH1+2KycVDU75n1SgUUyaaf5CU656cJoU9CxH9lQU5SJG6NOdA1Ps0gO0rnPHADS7VaU5aZhYGIWfeMzWFeo539HMmHeJxV4+0xEMTO3TZi+RYgxNX+NU/MhXZq3WwBsuSCipbFIJqKYSYRiam4nBBZTBp239TOwSCaipbBIJu2IowLiqH79rcmoS+PT9gxG7MZ/S7JzeX3oHZuB1SJQlZ+hOpwVY5GsF+Z9UoFFMhHFhJRS+10QgLAimcUUAODGiBNSAlX56bDb9P0VwpsfIloKF+6RdrgFkB5uTrow4/GhINOOvAy76nBWrDw3Hak2C4YdLkzOepCTlqIuGKn+s58ILTQAR5J1w7xPKug7DEBEptaVADtbAIDFIrh4L8xcC42e278ZqgoyYLMI9E/MYNbjUx0OEZkQi2QiiolEaLUwcGp+TiIs2gOAFKsFawsyICVwbYTXlYjejUUyaafh2QY0PNugOgxaQmjEUfNiCjBRX3JdXeChkO57JIcLtVzw5sf0mPdJBfYkk3ZOXjmpOgSKQCIVU8bJcl1DDrWBtLWpfX8k1gxBbXEmXrpsgpsfWhLzPqnAIpm0c+LxE6pDoAjMFVN6964CXORlmJjxYNjhRlqKBaU5aarDWTXjs8k2GvNj3icVWCSTdho2c8rN7Dw+P26MOiEEsK5Q3710DevDDhSRUkKI5Nyv1Vi4WF2YCYtF/7+DuZsfxTMEtCTmfVKBPclEFHU9o074/BIVeelIS7GqDmfV8jLsyM9IgdPtw81Jl+pwlAm10CRAnznA0xSJaHERFclCiIeFEO1CiA4hxOcW+PMnhRBvCyHeEkK8LITYGv1QiQKaWpvQ1NqkOgxaRCKctDdfqC85iUcdu0J95vq30ABASXYqMu1WjDk9GJt2qw6HFsG8TyosWSQLIawAvgbgEQBbATyxQBH8bSnlDinlLgB/A+CZqEdKFHTo5CEcOnlIdRi0iERatGfgNnCJtWgPAIQQod1XuHjP3Jj3SYVIepL3AuiQUnYBgBDiOQCPAbhoPEFKORn2/EwAPBqHYubgnoOqQ6AlhA4SKU6MEUfAJFPzB9V+9hNlj+RwNUVZON83ie7hadSty1cdDt0G8z6pEEmRXAGgJ+zrXgB3z3+SEOKPATwFwA7gvVGJjmgBTQ2ccjO7hGy3CI0kK2y3aFL32ZdShvYTTqQZglou3tMC8z6pELWFe1LKr0kp1wP4fwD85ULPEUI0CiFahBAtQ0ND0XprIjKZrgRb4AXMbReWrIu8hqZcmHb7kJ+RgrwMu+pwosb4jCZzGw0RLSySIrkPQFXY15XB793OcwA+vNAfSCmbpJT1Usr64uLiyKMkCtM/1Y/+qX7VYdBtTM16MDTlQqrNgvLcdNXhRM26wgwIAfSMzcDt9asJorU18FCgK8H6kQ3cA1sPzPukQiRF8hkAG4UQNUIIO4DHAbxjV28hxMawLz8E4Gr0QiR6p4pnKlDxTIXqMOg2whd3JcJeuoa0FCsq8tLh80vcGHWqCaK+PvBQIJEOhwkXXiT7/VxOY1bM+6TCkj3JUkqvEOIzAF4EYAXwTSnlBSHEFwG0SClPAPiMEOIhAB4AYwB+L5ZBU3IryypTHQItwpi2TqRWC0NtcRZ6x2bQPTyNDSWJVSwuJdH2SDZkp6WgODsVQ1Mu9E/MoDJf/8NvEhHzPqkQ0Yl7UsoXALww73tfCPv3P41yXES31f9ZTrmZWaJOywOBRV6/uDIUXLy3RnU4cZWIizENNUWZGJpyoXt4mkWySTHvkwo8cY+IosrY/SFRDpwIZ4pt4BQJbf+WgEVyLfuSiWgBLJKJKKpCvasJNi0PJO+BIl6fP9SHXV2YeNeVO1wQ0UJYJJN26prqUNdUpzoMWoCUMiFP2zOEiuQkG3HsHZuBxydRnpuGdLtVdThRZyxGTLbrqhPmfVIhop5kIjNpG2hTHQLdxuDkLJxuHwoy7Qm1l66hPDcdqTYLhh0uTM56kJOWojqkuEjk2QEgfIcLHihiVsz7pAKLZNJOy8EW1SHQbSTiiWzhLBaBmqJMXB6cQvfQNHZW5cU3gBY1n/1EXowJAGsLMmC1CPSOzcDl9SHVlnij5bpj3icVWCSTdurKOeVmVp0JXkwBgf7Vy4NT6B5WUCTXqfnszy3aS7zFmABgt1lQlZ+OayNOXB9xYtOabNUh0TzM+6QCe5KJKGpCI8nFiVlMAeGL95Jnaj6R+8wNybook4huj0UyaefIqSM4cuqI6jBoAV3BEcdEO3AiXK3KRV6NjYFHnBk3P9UJXSQHriu3gTMn5n1SgUUyaefo6aM4evqo6jBoAUkx4qhyu7DjxwOPOJp2edE/MQu7NdCSkKjmtoFLnhkCnTDvkwrsSSbtHN53WHUItACX14eeUScsAlhbmLinloUfPCGlhBBCcUSxZdz4VBdlwGZN3HEVHihibsz7pAKLZNLOkf1HVIdAC7gx4oRfBnYKSOTdAfIy7CjItGN02o2bky6U5qapDimmOoMjq+sTuM8cmJshYJFsTsz7pELiDgsQUVwZPbqJ3I9sSKbFex23kqNILs1JQ3qKFSPTbkw4ParDISITYJFM2mntb0Vrf6vqMGgeo0c3kbd/M9Qm0cl7oZHkksS+rkKIsBMVE//mRzfM+6QCi2TSTv3xetQfr1cdBs3THdrZIrFHHAHFi/firPNW4L9xQ3Hi7x3MlgvzYt4nFdiTTNrZU7ZHdQi0gK4EP20vXG1ou7A4jzjuie9n3+eXczuWJEEbDRfvmRfzPqnAIpm009rIKTczSqpiKvjf2BnvkeTW+H72e8eccPv8KMtNQ2Zq4v+6qE2iGQLdMO+TCmy3IKJVm3B6MDLtRnqKFaU5ib3bAwBUF2bCahHoHXNi1uNTHU7MJMvOFoYalQfFEJHpsEgmolXrDLYd1BRlJvy+wQBgt1mwriADfpnYo45zO1sk/uwAMLfotHvYAb9fKo6GiFRjkUzaKX+6HOVPl6sOg8KEiqmS5BhxBIANwf/WjnhuAydE4BEnxqK9ZLmuuekpKMpKxazHj77xGdXhUBjmfVKBRTJpZ8AxgAHHgOowKExnsEjekCTT8kBYkXwrcbcLM9otkuu6BkaT43rzQ0ti3icVEn8lBiWcvqf6VIdA8xiF4oYkGXEEwovkKcWRxM7cHsnJc103lmTjta5RdN5y4D2bS1SHQ0HM+6QCi2TSTnk2p9zMxhh1S6YieWNJYN/gRB1JHp12Y8zpQVaqDSXZqarDiZtkmCHQEfM+qcB2CyJalVmPDz2jTlgEUF2UoTqcuDFOoOsenobX51ccTfTN7WyRHIsxDSySicjAIpm009jciMbmRtVhUFD38DT8ElhXmIlUm1V1OHGTYbehIi8dHp/E9VGn6nCibm5ni+SZHQDmiuSrtxyQkjtcmAXzPqnAIpm0c7ztOI63HVcdBgUlazEFJPaoY2cS7lgCACXZqchOtWFixoNhh1t1OBTEvE8qsCeZtHPswDHVIVCYZFy0Z9hQkoXTV4bQccuBD26Lwxsei99nP9kOEjEIIbC+JAtv9Yyj45YDxUnUj21mzPukAotk0k5jHafczCQZF+0Z4j6S3Bi/z75x5LaxJVoy2WAUyUMO3Lu+UHU4BOZ9UoPtFkS0Kp1JPJK8MUHbLWY9PvSMOWG1CKwtSL4i2biunQl2XYloeVgkk3aa25vR3N6sOgwC4PNLdA0HT2VLkqOLwxk3Bp1DcTrGuKkp8IixrqFpSAmsK8iA3ZZ8vyYSuddcV8z7pALbLUg7jz73KABAHubKc9V6Rp1we/0ozUlDdlqK6nDiLi/DjqIsO4YdbvRPzKAyP8Zb4B06FPhnjNsurtwMHJCyaU12TN/HrFgkmw/zPqnAIpm0c2DTAdUhUFAyL9ozrC/OwrBjFB23HLEvkuNkrkhOzutamR8YQR+cnMXUrCcpbwDNhnmfVGCRTNppfoJTbmaRzIv2DBvXZOH17kCRvD9BjjG+cjNwXTcm6Uiy1SJQW5SJy4NT6LjlwO61+apDSnrM+6RC8jWbEVHUdCTpXrrhNhQn3tT81VvJ3W4BsOWCiFgkE9EqhNotkmwv3XAbSgKFZKIUUzNuH26MOmGzCNQUJd9iTEOoSB5KjOtKRMvHIpm0I44KiKNCdRhJT0qZ1Nu/GTaumSumEuEY484hB6QEaooyk3JnC8PG4M0Pt4EzB+Z9UiF5MyARrcqtKRemXF7kpqegKMuuOhxlSrJTkZ1mw7jTgyGHS3U4q9Y+yFYLgO0WRMSFe6QhbgFkDuE7WwiRvCM8QghsXpONlutjuDLoQEl2WuzeLA4j1VeC/cgbk3RnC0N1UQYsArgx6sSsx4e0FKvqkJIa8z6pwJFkIloRY8Rxc2lyjzgCwKbg38HlwUnFkaze1eDOFsk+kpxqs2JdYSb8EugOHphDRMmFRTIRrYixl+7mJC+mAOCOYJFs3DjoLNn3SA5n/B0YfydElFxYJJN2Gp5tQMOzDarDSHqX2bsaYtwotMe6mKqrCzxiZNrlRe/YDOxWC9YVJu/OFobQdU2Amx/dMe+TChH1JAshHgbw9wCsAL4hpfzKvD9/CsCnAXgBDAH4lJTyepRjJQIAnLxyUnUISc/vl7jKEceQO0pzAARGHH1+CaslRj3abW2xed2gq8E+89riTKRYOYayOXhdWSSrx7xPKixZJAshrAC+BuD9AHoBnBFCnJBSXgx72psA6qWUTiHEHwL4GwCfiEXARCceP6E6hKTXNz6DabcPRVmpKMxKVR2OcrkZKSjNScPg5Cx6Rp2o1nR/YaOtIFlP2ptvc2ngBvAyi2TlmPdJhUhGkvcC6JBSdgGAEOI5AI8BCBXJUsqfhz3/NQC/Hc0gicI1bOaUm2pGMXUHF+2FbC7NxuDkLC4PTmlbJIdmB5J43+tw1YWZsFst6BufwdSsB9lpKapDSlrM+6RCJPNpFQB6wr7uDX7vdv4AwA9XExQRmVv7TfYjz7c5ARbvXQnubMGR5ACb1RI6ct34uyGi5BHVpjMhxG8DqAfwt7f580YhRIsQomVoaCiab01JpKm1CU2tTarDSGpz279xxNEwt3hP323gLg0EYt9SxiLZYMyWcIcLtZj3SYVIiuQ+AFVhX1cGv/cOQoiHAPwFgEellAseOyWlbJJS1ksp64uLi1cSLxEOnTyEQycPqQ4jqfFUtnfbHNorWc9iasThwq0pFzLtVlTlZ6gOxzQSYYYgETDvkwqR9CSfAbBRCFGDQHH8OIBPhj9BCLEbwDEAD0spb0U9SqIwB/ccVB1CUvP4/OgaChyuwGn5ORtKsmC1CFwbno7dCW0HY/fZvzQQ7DMvy4ElVrtzaMiYIUiEg2J0xrxPKixZJEspvUKIzwB4EYEt4L4ppbwghPgigBYp5QkE2iuyAHw3eDztDSnlozGMm5JYUwOn3FS6PjINt8+Pyvx0ZKXyZHtDWooV1YUZ6ByaRsctB7ZX5Eb/TZpi99lnq8XCwkeSpZRJfQS7Ssz7pEJEv+GklC8AeGHe974Q9u8PRTkuIjKp9sHAAibubPFum0uz0Tk0jfbBqdgUyTE0VyTnKI7EXMpy05CdZsOY04Mhhwsl2WmqQyKiOOFu8aSd/ql+9E/1qw4jabUHp53Zj/xum9cED5+I1SKv1tbAIwYuskhekBAi1HJxZZA7XKjCvE8qsEgm7VQ8U4GKZxbbhZBiySgAN3Mk+V3uCLYqGKOyUVdfH3hEmdvrR+eQA0JwhmAhm0rZl6wa8z6pwIZC0k5ZVpnqEJIad7a4va3BUdgL/ZNa9a923HLA45OoKcpEhp2/FubjNnDqMe+TCsyGpJ3+z3LKTRWHy4trI06kWAXWF3OP5Pkq89ORm56C0Wk3BidnUZabrjqkiHDR3uKMG0JuA6cO8z6pwHYLIorY5WAxtbEkG3Yb08d8QghsKw+OJvfpMzUfKpJL2Y+8kLmRZAd8fqk4GiKKF/6WI6KIGYu7tpazmLqdUJHcr1GRPMhFe4vJy7CjLDcNMx4fro1Mqw6HiOKERTJpp66pDnVNdarDSEoXg4XfNhbJt7WtPLD124X+CcWRREZKGTpIZAuv623pePOTSJj3SQUWyaSdtoE2tA20qQ4jKYVGkjnieFu6FVO3plwYnXYjJ82G8lzuAXw7WzW7+Uk0zPukAhfukXZaDraoDiEpeX1+XB7kiONSaouzkJZiQd/4DMam3cjPtEfvxVui/9l/uzdQ9G0rz9VmNw4VjJufi5rc/CQa5n1SgUUyaaeunFNuKnQNT8Pt9aOqIB05aSmqwzEtq0XgjtIcvNUzjosDk7hvQ1H0Xrwu+p/9c32BIvnOSr1OCIy38BkCnbb3SxTM+6QC2y2IKCLGCBpbLZa2vcIoqMw/NX8+WCTrdox2vFXkvXN7PyJKfCySSTtHTh3BkVNHVIeRdOb6kVlMLWVu8V6Up+YbGwOPKJFS4lwvR5Ijoev2fomCeZ9UYJFM2jl6+iiOnj6qOoykExpJZj/ykmK2eO/48cAjSm5OujDscCEnzYa1BRlRe91EpduizETCvE8qsCeZtHN432HVISQdKWWodYBF8tI2rcmG1SLQNeSA0+017VHP53rHAQA7KrloLxK6be+XSJj3SQVzZm6iRRzZf0R1CElncHIWY04PctNTuE1YBNJSrNi8JhsXByZxvm8Se2sKVIe0oLeD/cg7KvIUR6IHjiSrw7xPKrDdgoiWZPRgbi3L4YhjhHZWBQrPsz3jiiO5vbkimf3IkQjf3m/c6VYdDhHFGItk0k5rfyta+1tVh5FUjGl5Lu6K3O5gkfyWSYtkKWVoj2Re18gY2/sB3C853pj3SQUWyaSd+uP1qD9erzqMpHI2VExxWj5SO01eJA9MzGJk2o3c9BRU5qerDkcbbLlQg3mfVGBPMmlnT9ke1SEkFSllaFqeI46R21CShUy7FX3jMxiacqE4O3X1L7onep99Y+u3HRVctLccxn7Sxv8TFB/M+6QCi2TSTmsjp9ziqXdsBqPTbuRncMRxOawWgR2VuXitaxRne8bx0NY1q3/R1uh99t+8MQYA2FXF2YHlMG4UjRYkig/mfVKB7RZEtKhzYa0WHHFcnl1V+QCAsyYsqNqCRfKedSySl2PTmmykpVhwbcSJsWku3iNKZCySiWhR5/q4aG+ldlUF/s7M1pfs9vpDNz+7g4U8RSbFasH24H7JZrz5IaLoYZFM2il/uhzlT5erDiNpnOvhor2VCo0k94zD75erf0EhAo9VujQwCZfXj9qiTORn2lcfV5KZ296PfcnxwrxPKrAnmbQz4BhQHULS8PslznPR3oqV5qZhTU4qbk660D0yjfXFWapDAjDXarF7LUeRV8Lo4+ZIcvww75MKLJJJO31P9akOIWl0j0xjyuXFmpxUrMnhSXsrsbsqHz+6MIi262MmKpIDxR37kVdmV9j2flJK9urHAfM+qcB2C9JOeXY5yrM57RYPc4eIsJhaqfrqwGjtmWujiiOZ03Y9uGiPI8krUpmfjoJMO0an3egdm1EdTlJg3icVWCQT0W29FRxx5DZhK3dXdQEA4My1McWRBNyanEXf+AyyUm3YtCZbdThaEkJgZ6U5F2USUfSwSCbtNDY3orG5UXUYSaH1BkccV2tbeQ4y7FZ0D0/j1tSs6nBC/cg7q3JhtbBNYKXCF2VS7DHvkwoskkk7x9uO43jbcdVhJLxplxeXBqZgtQjsrOKivZWyWS2hm4wWE4wmv9YVaPuoX1egOBK97TTp9n6JinmfVODCPdLOsQPHVIeQFM72jsPnl9hRkYsMO1PFatxVXYCXO4Zx5toofn1H2cpf6NjqP/uvdY0AAO6pLVz1ayWzncE+/bf7JuDx+ZFi5ZhTLDHvkwr8zUfaaazjlFs8GIu76tax1WK17qqJ0uK9xtV99sedbrTfnILdZsHutewzX438TDtqizLRNTyNC/2T7NuPMeZ9UoG3vkS0oBZjBwQWyau2uyofKVaBi/2TmJr1KIvj9e5RSAnsrspDWopVWRyJwti5pMVEO5cQUfSwSCbtNLc3o7m9WXUYCc3vlxxJjqJ0uxXbK3Lhl0Dr9VX0JTc1BR4rZLRa3M1Wi6iY27mERXKsMe+TCmy3IO08+tyjAAB5OArH/NKCOoccmJz1ojQnDeW5PEQkGu6tLcSbN8bxSscw9m8uWdmLHDoU+OcK2y5eDy7au6eWi/aiwSiSW66N8VCRGGPeJxVYJJN2Dmw6oDqEhGeMdtZV5/MXf5Tcv6EI//1UJ17uGFHy/hNODy4NTsIettsGrc66wgwUZ6diaMqFrmHzHDueiJj3SQUWyaSd5ic45RZroSKZxVTU7FmXj7QUCy4NTGJoyoXi7NS4vv/r3SOQEti1lv3I0SKEwF3V+Xjh7UGc6R5lkRxDzPukAnuSiehdXusOjHYaC5No9dJSrKHp+V91Dsf9/X9xdQgA8Gvr2Y8cTcZ+02Y5UZGIoodFMhG9Q++YEz2jM8hOs2FbOQ8RiaYHNhYBAF6+Gt8iWUqJU+2BInnF/dC0oL01wb7k61y8R5RoWCSTdsRRAXGUfbKxYpzIdndNAY8tjrL7NxQDAF7uGIaU8VuA1D08jd6xGeRnpGBHBW98oumO0mxk2q24PuLErUn1x44nKuZ9UoFFMhG9A09ki507SrNRmGnHwMQsOoem4/a+p68ERpHv31jMG58os1ktqAu20bzapWZRJhHFRkRFshDiYSFEuxCiQwjxuQX+/EEhRJsQwiuE+Gj0wySaIw9LbgMUQ692skiOFYtF4P5gy8Wp9lvLfwEpA49lMorkfZuKl/+etKT7gn3er3TEv9c8WTDvkwpLFslCCCuArwF4BMBWAE8IIbbOe9oNAL8P4NvRDpCI4qdn1Im+8Rnkpqdga1mO6nAS0kNb1gAAfnLxZlzeb9bjC80OPBgs0Cm67tsQ+Ht9pWMkrm00RBRbkYwk7wXQIaXsklK6ATwH4LHwJ0gpr0kpzwHwxyBGIooTY7p4b00BLJyWj4l9m4thswi0XB/D2LQ75u/3q85hzHr82FqWg5IcHgwTC1vLcpCfkYK+8RlcH3GqDoeIoiSSIrkCQE/Y173B7xEp0fBsAxqebVAdRkJ6LdhqcS9bLWImJy0F99QWwueX+PlyWy7q6gKPZXjxfGDE+oPbSpf3XhQxi0Xg19YHdy5hy0VMMO+TCnFduCeEaBRCtAghWoaGhuL51pRATl45iZNXTqoOI+H4/RK/CG5NZkwfU2y8f2ug5eKnl5bZctHWFnhEyOeX+EnwPR7eziI5luZaLlgkxwLzPqkQyYl7fQCqwr6uDH5v2aSUTQCaAKC+vp6NW7QiJx4/oTqEhHRxYBLDDhdKc9KwaQ1PDoul920pweETF3C6fQizHl/MTsA7c20Uo9NuVBdm8JrG2P3BIvlXnSPw+SV3EYky5n1SIZIi+QyAjUKIGgSK48cBfDKmUREtomEzp9xiIXwHBCH4Cz6WKvMzsK08Bxf6J3H6ylDMWiFevDAIAPjg9lJe0xhbW5iByvx09I7N4GL/JHZUcj/qaGLeJxWWbLeQUnoBfAbAiwAuAfiOlPKCEOKLQohHAUAIcZcQohfAxwAcE0JciGXQRBR9oSJ5M7cJi4fHdpUDAL7/1oom5pbk80u88PYAAPYjx4sxmmwcAU5EeouoJ1lK+YKUcpOUcr2U8kvB731BSnki+O9npJSVUspMKWWhlHJbLIOm5NbU2oSm1ibVYSSUyVkP2q6PwWoR7EeOk4ad5RAC+OmlW5ic9UT99V/tHMHNSRfWFWZgd1Ve1F+f3s048vul5faa05KY90kFnrhH2jl08hAOnTykOoyE8quOEXj9Erur8pCbnqI6nKRQlpuOu2sK4Pb68eL5wai//vfe7AUAfHhXBVst4uT+jUWwWy14s2ccIw6X6nASCvM+qRBJTzKRqRzcc1B1CAmHJ7Kp8eFdFXitaxTff6sfH6uvWvoHDkb22Xe6vfhRsPD+jd3csTNeslJtuLu2AL+8OoxT7UP4SF2l6pASBvM+qcAimbTT1MApt2jy+2VoetiYLqb4eGR7Gb5w4gJe6RzGjREn1hZmLP4DTZF99n/49iCcbh/2rM1DdVFmFCKlSD20ZQ1+eXUYP7t8i0VyFDHvkwpstyBKcm/2jOPWlAsVeenYXsGjqOMpNyMFB+4sg5TAv7xxPWqv+63XAq/18UhGpymq3ntH4Ebz9JUhuL08hJZIZyySSTv9U/3on+pXHUbC+HFwm7APbFvD3lUFfueedQCA75zpwazHt/iTW1sDj0Wc6x3H2Z5x5KTZ8NgutlrEW1VBYE9qh8uLN7pHVYeTMJj3SQUWyaSdimcqUPEMf/lHg5Rybi9dbhOmxK6qPGyvyMGY04OT5wYWf3J9feCxiH/+1dwocro9NoeU0OIe2hI4UfHHF6O/IDNZMe+TCiySSTtlWWUoyypTHUZCuHLTgWsjThRk2nFXdYHqcJKSEAK/d281AODrpzvh96/8MNLeMSe+/1YfLAL4nXvXRSlCWq5f3xHITy+8PQjfKq4nzWHeJxVYJJN2+j/bj/7PctotGoxR5Ie2lPAYXYUe21WBirx0dNxy4Ier2A7u66c74fVLNOwsx7pCLthTZVt5DtYVZmDY4cLr3SOqw0kIzPukAotkoiT2g3M8kc0M7DYLnty/HgDw3352dUWjj/3jM/jOmV4IAXzmPRuiHSItgxACB+4MjHr+YKkWGiIyLRbJREnq0sAk2m9OIS8jBQ9s5P7Iqn28vhIVeem4PDiF587cWPbP/5cXLsHt8+PAneXYuCY7BhHSnWr19wAADrlJREFUcnxoR+DY8R+dH4TXx10uiHTEIpm0U9dUh7qmOtVhaO/5N/sAAB/aUQa7jalAtVSbFX/xoS0AgL97sR3jTnfEP/ta1whOnhtAWooFn3vkjliFSMuwpSwbtUWZGJl247Uu7nKxWsz7pAJ/M5J22gba0DbQpjoMrfn9EifOBvr7PswT2Uzjke2luLe2EGNOD/7i+fOQcum2i6lZD/78384BAP5w3wZU5KXHOkyKQHjLhXFEOK0c8z6pwCKZtNNysAUtB1tUh6G117tHMTAxi4q8dNStzVcdDgUJIfDl39yBTLsVPzg3gG+/Ma/toqUl8Ajy+yX+338/jxujTmwty8GT+2vjHDEtxjhx74W3BzA161Ecjd6Y90kFFsmknbryOtSVc9ptNb7b2gMA+PDucli4q4WpVBdl4q8+vB0A8J+fP48fhe92UVcXeCCwx/V/eeESms/2I8NuxVef2IVUG/dFNpN1hZm4p7YAsx7/0ntg06KY90kFFslESWbC6QmtuOexxeb0m3sq8Sfv3QC/BP7oX1rxDz+7+o4jjken3fiPz76Jb7zcDZtF4Ou/XYcNJVysZ0bG/2P/eqZHcSREtFwskkk7R04dwZFTR1SHoa3/3dYLl9ePBzYWcS9dE/uz92/Cnz20CX4J/N2Pr+C+v/4ZXnnvb+L0/t/AfV/5GU6eG0CG3Ypjv1OHBzdxdxKzemR7GbJTbXirZxxXbk6pDkdbzPukAotk0s7R00dx9PRR1WFoSUoZ6nP9rbvXKo6GFiOEwJ8+tBH//Km92FCShaEpF+77+b9j3+nnMePxYd+mYpz8j/fjfcEjkMmc0u1WNOwKbAf3L69dVxyNvpj3SQWb6gCIluvwvsOqQ9DW692j6LjlQHF2KosrTezbVIwH/+xBXOifBP468L1f/vl7UFWQoTYwitjv3rsO3379Br7b2ounPrAZuekpqkPSDvM+qcAimbRzZP8R1SFo6xu/7AIAPLF3LVKsnEjShRAC2ytyQ1+zQNbLHaU5uG9DIV7pGMF3W3rw6Qe4C8lyMe+TCvwtSZQkrt6cwk8v3UKqzYLfu3ed6nCIksqn7qsBAPzTK9d4Ah+RJlgkk3Za+1vR2t+qOgztHA+OIn+0rhKFWamKoyFKLu/ZXILqwgz0jc/gB29zO7jlYt4nFVgkk3bqj9ej/ni96jC0MjAxg+ff7IcQ4FQvkQIWi8CT+9YDAL760lX4/EufpkhzmPdJBfYkk3b2lO1RHYJ2vvrSVbh9fnzozjLUFHHbN23t4WdfZ7+5pxL/8PMOdA5N4+S5fjy2i0fCR4p5n1QQUqq5m62vr5ctLTxikijWuoen8dAzpyGlxE+e2of1xVmqQyJKWs+9cQOf+97bWF+ciRf/04OwcQEtUVwIIVqllMuajuD/nUQJ7v//yRX4/BIfratkgUyk2EfqKrG2IAOdQ9N4jqfwEZkai2SiBNZybRQnzvbDbrXgT963UXU4REkvxWrB5x65AwDw9I/bMeH0KI6IiG6HRTJpp/zpcpQ/Xa46DNPz+vz4y+fPAwAO7atFZT731tWeEIEHae2R7aXYW1OAMacHf//SVdXhaIF5n1RgkUzaGXAMYMDBLZSW8q1Xr+Py4BQq89PxR/s3qA6HiIKEEDjcsBVCAP/zV9042zOuOiTTY94nFVgkk3b6nupD31N9qsMwtc4hB/7mxcsAgCMN25ButyqOiIjCbSvPxafvr4FfAv/Xd89i1uNTHZKpMe+TCiySSTvl2eUoz+a02+14fH782b++hVmPH7+xuwIPbV2jOiQiWsBnP7AZtUWZuHrLgWd+ckV1OKbGvE8qsEgmSjB/9+N2nOudQEVeOo4+tk11OER0G2kpVvztx3bCahFo+kUXfnxhUHVIRBSGRTJpp7G5EY3NjarDMKXvv9WHY6e7YLUIPPPxnchJS1EdEhEtom5dPv78g5sBAJ/9zll0D08rjsicmPdJBRbJpJ3jbcdxvO246jBMp/X6KP78384BAA43bMXdtYWKIyKiSDQ+WIuHt5ViyuXF733zDdyamlUdkukw75MKPJaatHPswDHVIZjO270T+P1vnoHL68cTe9fid+5ZpzokioVj/OwnIiEE/u7jO9HXNIO3+wL/Lz/beA9y0zkTZGDeJxV4LDWR5tpujOFT//MMxp0e/PqOUnz18d086pZIQ8MOFz729VfRPTyNLWU5+OdP3YWS7DTVYRElBB5LTZRkfnR+EE80vYZxpwcPbVmD//oJFshEuirKSsX/+vTdqC3KxKWBSXzs66+ifXBKdVhESYu/TUk7ze3NaG5vVh2GUm6vH//fyYt48n+1BlssqvD1394Du43/Sye0pqbAgxJWRV46vvPkvdhekYPrI058+Guv4Pk3uT8w8z6pwHYL0o44GjiWVx5W89lVrfX6GP7y+fO4NDAJm0Xg//7gZjQ+WAvB44oTn3GNFeVtip8Ztw9/8e9v43vBAvkDW9fgi49tR2lucrZfJHvep9VbSbsFF+6Rdg5sOqA6BCW6hhz4h591hH5pVuan46tP7MaetfmKIyOiaEu3W/H0x3eivroAX/rBRfz44k283DGMT91Xg4MP1CI3I7kW9SVr3ie1OJJMZGI+v8SvOofx3Bs9eOH8AKQE7FYLGh+sxR+/ZwOPm042HElOSv3jMzh84gJ+cvEmACA71YaP1FXiib1rsbk0W3F0RHpYyUhyREWyEOJhAH8PwArgG1LKr8z781QA3wJQB2AEwCeklNcWe00WyUQLm3H78FrXCE5fGcKLFwYxMBHYMzXFKvCRPZX4w/3rsa4wU3GUpASL5KTWen0UT//4Cn7VORL63payHLx/Swneu2UNtpfncOEu0W3EpEgWQlgBXAHwfgC9AM4AeEJKeTHsOX8E4E4p5ZNCiMcB/IaU8hOLvS6LZEp2bq8f/eMzuDHqxPWRaVzon8S53glcuTkFr3/u/8uqgnR8dE8VPn5XJcpy0xVGTMqxSCYAF/on8OwbN/D8m/1wuLyh76enWLGjMhc7K3OxvjgLtcVZqCnKRFGWnWsWKOnFqki+F8ARKeUHg19/HgCklF8Oe86Lwee8KoSwARgEUCwXefFtd+6Wz77w83d9/3Y/sViUt3ubxX/mtn+y7J9ZyftEM2a52E9FM+ao/90s8+8g+Afv/dc1AICffeLmkrEt9vGOdsxurx8urx+zHt87/uny+OBweTHmdGNs2hP4p9ONoSkX/Au8nEUA2ytysX9TMfZtLsHuqjxYLPwFR2CRTO8w6wnMOv300k28fHUY10acCz4vxSpQlJWKoqxUFGenIjc9BRl2K7JSbciw25CZakW63YoUiwVWi4DNKpBiDfx7ilXAZrHA9n/au7sQK+owjuPfny/lS2iaaOZu2IVsLJEYUZIQkl0YiXZRUVCICN70YhGEdVHQVUFEQRGImlJihAktIb2gQVAgmhr5UrT5urqmW7nmkm/0dDGjHg9HnUN1/rOe3+fm/GeYmfNcPJx5zsz/ZYBAILIcVLaZt1W1DVQdd7ZIF+fTuB6Tl2ZjL76f/0f9J5sBk1tH/S8D9yYA+yu2u4A7L3ZMRJyR1AtcB/Rc7KKdR44z++1v6onVLJM/TJ23fGPaOP6lAcqme7px9DBaRw+l7foR3NoykvbxIxh+tcfUmtmlDRk8kOltY5neNhaA346fZOv+o+w4eIzdPX380tPHnp4+ev86TXfviXNdt/ql/HffdYM1UkPvxJIWAAvyzZN7X5u1rZHfb/3CGC7x56rSXvr/aOfdwLepg+gfCudFU/Cr87OcF02m4O++88Jqaav3hCJF8gGgtWK7Jd9X65iuvLvFSLIBfBeIiMXAYgBJm+p97G1XPueF1eK8sFqcF1aL88JqkVT3QLgiw2A3ApMk3STpKuARoKPqmA5gbt5+EFh/qf7IZmZmZmZldtknyXkf4yeBz8mmgFsWEdslvQJsiogOYCnwvqRO4HeyQtrMzMzMrF8q1Cc5ItYCa6v2vVTRPgE8VOd3L67zeGsOzgurxXlhtTgvrBbnhdVSd14kW3HPzMzMzKysvDSPmZmZmVmVJEWypJmSfpLUKWlRihisXCS1SvpK0g5J2yUtTB2TlYOkgZK2SPo0dSxWDpKulbRa0o+SduaLXlmTk/Rsfv/YJmmVpCGpY7LGk7RM0mFJ2yr2jZb0paSf889RRa7V8CI5X+b6HeA+oB14VFJ7o+Ow0jkDPBcR7cBU4AnnheUWAjtTB2Gl8hbwWUTcDEzG+dH0JE0AngZuj4hbyCYa8CQCzWk5MLNq3yJgXURMAtbl25eV4knyHUBnROyKiFPAh8CcBHFYiUREd0Rsztt/kt30JqSNylKT1ALcDyxJHYuVg6SRwN1ksyoREaci4mjaqKwkBgFD8/UahgEHE8djCUTE12QzrVWaA6zI2yuAB4pcK0WRXGuZaxdDdo6kicAUYEPaSKwE3gSeB/5OHYiVxk3AEeC9vBvOEknDUwdlaUXEAeB1YB/QDfRGxBdpo7ISGRcR3Xn7EDCuyEkeuGelIuka4GPgmYg4ljoeS0fSLOBwRHyXOhYrlUHAbcC7ETEF6KPgq1O7cuV9TOeQ/Ym6ARgu6bG0UVkZ5YvdFZraLUWRXGSZa2tCkgaTFcgrI2JN6ngsuWnAbEl7yLpl3SPpg7QhWQl0AV0RcfZN02qyotma273A7og4EhGngTXAXYljsvL4VdJ4gPzzcJGTUhTJRZa5tiYjSWR9DHdGxBup47H0IuKFiGiJiIlkvxPrI8JPhppcRBwC9ktqy3fNAHYkDMnKYR8wVdKw/H4yAw/otPM6gLl5ey7wSZGTCq2491+62DLXjY7DSmca8Djwg6St+b4X89UezcwqPQWszB+07ALmJY7HEouIDZJWA5vJZkvaglfea0qSVgHTgTGSuoCXgVeBjyTNB/YCDxe6llfcMzMzMzO7kAfumZmZmZlVcZFsZmZmZlbFRbKZmZmZWRUXyWZmZmZmVVwkm5mZmZlVcZFsZmZmZlbFRbKZmZmZWRUXyWZmZmZmVf4BngDFd4jvkmAAAAAASUVORK5CYII=\n"
                },
                "metadata": {
                  "needs_background": "light"
                }
              }
            ]
          }
        },
        "3529f500ad9d4cc3917e1a0052752f48": {
          "model_module": "@jupyter-widgets/base",
          "model_name": "LayoutModel",
          "model_module_version": "1.2.0",
          "state": {
            "_model_module": "@jupyter-widgets/base",
            "_model_module_version": "1.2.0",
            "_model_name": "LayoutModel",
            "_view_count": null,
            "_view_module": "@jupyter-widgets/base",
            "_view_module_version": "1.2.0",
            "_view_name": "LayoutView",
            "align_content": null,
            "align_items": null,
            "align_self": null,
            "border": null,
            "bottom": null,
            "display": null,
            "flex": null,
            "flex_flow": null,
            "grid_area": null,
            "grid_auto_columns": null,
            "grid_auto_flow": null,
            "grid_auto_rows": null,
            "grid_column": null,
            "grid_gap": null,
            "grid_row": null,
            "grid_template_areas": null,
            "grid_template_columns": null,
            "grid_template_rows": null,
            "height": null,
            "justify_content": null,
            "justify_items": null,
            "left": null,
            "margin": null,
            "max_height": null,
            "max_width": null,
            "min_height": null,
            "min_width": null,
            "object_fit": null,
            "object_position": null,
            "order": null,
            "overflow": null,
            "overflow_x": null,
            "overflow_y": null,
            "padding": null,
            "right": null,
            "top": null,
            "visibility": null,
            "width": null
          }
        },
        "9976ee1fef764aa9a9bfc26722b49d27": {
          "model_module": "@jupyter-widgets/base",
          "model_name": "LayoutModel",
          "model_module_version": "1.2.0",
          "state": {
            "_model_module": "@jupyter-widgets/base",
            "_model_module_version": "1.2.0",
            "_model_name": "LayoutModel",
            "_view_count": null,
            "_view_module": "@jupyter-widgets/base",
            "_view_module_version": "1.2.0",
            "_view_name": "LayoutView",
            "align_content": null,
            "align_items": null,
            "align_self": null,
            "border": null,
            "bottom": null,
            "display": null,
            "flex": null,
            "flex_flow": null,
            "grid_area": null,
            "grid_auto_columns": null,
            "grid_auto_flow": null,
            "grid_auto_rows": null,
            "grid_column": null,
            "grid_gap": null,
            "grid_row": null,
            "grid_template_areas": null,
            "grid_template_columns": null,
            "grid_template_rows": null,
            "height": null,
            "justify_content": null,
            "justify_items": null,
            "left": null,
            "margin": null,
            "max_height": null,
            "max_width": null,
            "min_height": null,
            "min_width": null,
            "object_fit": null,
            "object_position": null,
            "order": null,
            "overflow": null,
            "overflow_x": null,
            "overflow_y": null,
            "padding": null,
            "right": null,
            "top": null,
            "visibility": null,
            "width": null
          }
        },
        "ed4e15445f224eebaeee3756867e7642": {
          "model_module": "@jupyter-widgets/controls",
          "model_name": "SliderStyleModel",
          "model_module_version": "1.5.0",
          "state": {
            "_model_module": "@jupyter-widgets/controls",
            "_model_module_version": "1.5.0",
            "_model_name": "SliderStyleModel",
            "_view_count": null,
            "_view_module": "@jupyter-widgets/base",
            "_view_module_version": "1.2.0",
            "_view_name": "StyleView",
            "description_width": "",
            "handle_color": null
          }
        },
        "fcd5c4c1977548acb3eb77e842c0d98c": {
          "model_module": "@jupyter-widgets/base",
          "model_name": "LayoutModel",
          "model_module_version": "1.2.0",
          "state": {
            "_model_module": "@jupyter-widgets/base",
            "_model_module_version": "1.2.0",
            "_model_name": "LayoutModel",
            "_view_count": null,
            "_view_module": "@jupyter-widgets/base",
            "_view_module_version": "1.2.0",
            "_view_name": "LayoutView",
            "align_content": null,
            "align_items": null,
            "align_self": null,
            "border": null,
            "bottom": null,
            "display": null,
            "flex": null,
            "flex_flow": null,
            "grid_area": null,
            "grid_auto_columns": null,
            "grid_auto_flow": null,
            "grid_auto_rows": null,
            "grid_column": null,
            "grid_gap": null,
            "grid_row": null,
            "grid_template_areas": null,
            "grid_template_columns": null,
            "grid_template_rows": null,
            "height": null,
            "justify_content": null,
            "justify_items": null,
            "left": null,
            "margin": null,
            "max_height": null,
            "max_width": null,
            "min_height": null,
            "min_width": null,
            "object_fit": null,
            "object_position": null,
            "order": null,
            "overflow": null,
            "overflow_x": null,
            "overflow_y": null,
            "padding": null,
            "right": null,
            "top": null,
            "visibility": null,
            "width": null
          }
        },
        "c877afe6429d4350aa5d14ee0bbf3c9f": {
          "model_module": "@jupyter-widgets/controls",
          "model_name": "SliderStyleModel",
          "model_module_version": "1.5.0",
          "state": {
            "_model_module": "@jupyter-widgets/controls",
            "_model_module_version": "1.5.0",
            "_model_name": "SliderStyleModel",
            "_view_count": null,
            "_view_module": "@jupyter-widgets/base",
            "_view_module_version": "1.2.0",
            "_view_name": "StyleView",
            "description_width": "",
            "handle_color": null
          }
        },
        "32df1cf7e5974d72882a863d88e480d8": {
          "model_module": "@jupyter-widgets/base",
          "model_name": "LayoutModel",
          "model_module_version": "1.2.0",
          "state": {
            "_model_module": "@jupyter-widgets/base",
            "_model_module_version": "1.2.0",
            "_model_name": "LayoutModel",
            "_view_count": null,
            "_view_module": "@jupyter-widgets/base",
            "_view_module_version": "1.2.0",
            "_view_name": "LayoutView",
            "align_content": null,
            "align_items": null,
            "align_self": null,
            "border": null,
            "bottom": null,
            "display": null,
            "flex": null,
            "flex_flow": null,
            "grid_area": null,
            "grid_auto_columns": null,
            "grid_auto_flow": null,
            "grid_auto_rows": null,
            "grid_column": null,
            "grid_gap": null,
            "grid_row": null,
            "grid_template_areas": null,
            "grid_template_columns": null,
            "grid_template_rows": null,
            "height": null,
            "justify_content": null,
            "justify_items": null,
            "left": null,
            "margin": null,
            "max_height": null,
            "max_width": null,
            "min_height": null,
            "min_width": null,
            "object_fit": null,
            "object_position": null,
            "order": null,
            "overflow": null,
            "overflow_x": null,
            "overflow_y": null,
            "padding": null,
            "right": null,
            "top": null,
            "visibility": null,
            "width": null
          }
        },
        "4828e1f4c98042ba9b5f74f4475c32a9": {
          "model_module": "@jupyter-widgets/controls",
          "model_name": "SliderStyleModel",
          "model_module_version": "1.5.0",
          "state": {
            "_model_module": "@jupyter-widgets/controls",
            "_model_module_version": "1.5.0",
            "_model_name": "SliderStyleModel",
            "_view_count": null,
            "_view_module": "@jupyter-widgets/base",
            "_view_module_version": "1.2.0",
            "_view_name": "StyleView",
            "description_width": "",
            "handle_color": null
          }
        },
        "0aa3e2919aae40308d6823d20a22acd5": {
          "model_module": "@jupyter-widgets/base",
          "model_name": "LayoutModel",
          "model_module_version": "1.2.0",
          "state": {
            "_model_module": "@jupyter-widgets/base",
            "_model_module_version": "1.2.0",
            "_model_name": "LayoutModel",
            "_view_count": null,
            "_view_module": "@jupyter-widgets/base",
            "_view_module_version": "1.2.0",
            "_view_name": "LayoutView",
            "align_content": null,
            "align_items": null,
            "align_self": null,
            "border": null,
            "bottom": null,
            "display": null,
            "flex": null,
            "flex_flow": null,
            "grid_area": null,
            "grid_auto_columns": null,
            "grid_auto_flow": null,
            "grid_auto_rows": null,
            "grid_column": null,
            "grid_gap": null,
            "grid_row": null,
            "grid_template_areas": null,
            "grid_template_columns": null,
            "grid_template_rows": null,
            "height": null,
            "justify_content": null,
            "justify_items": null,
            "left": null,
            "margin": null,
            "max_height": null,
            "max_width": null,
            "min_height": null,
            "min_width": null,
            "object_fit": null,
            "object_position": null,
            "order": null,
            "overflow": null,
            "overflow_x": null,
            "overflow_y": null,
            "padding": null,
            "right": null,
            "top": null,
            "visibility": null,
            "width": null
          }
        },
        "6b35716b93034ca1844512430a671c35": {
          "model_module": "@jupyter-widgets/controls",
          "model_name": "DescriptionStyleModel",
          "model_module_version": "1.5.0",
          "state": {
            "_model_module": "@jupyter-widgets/controls",
            "_model_module_version": "1.5.0",
            "_model_name": "DescriptionStyleModel",
            "_view_count": null,
            "_view_module": "@jupyter-widgets/base",
            "_view_module_version": "1.2.0",
            "_view_name": "StyleView",
            "description_width": ""
          }
        },
        "41a8679accb74a16ae7eb842f002572d": {
          "model_module": "@jupyter-widgets/base",
          "model_name": "LayoutModel",
          "model_module_version": "1.2.0",
          "state": {
            "_model_module": "@jupyter-widgets/base",
            "_model_module_version": "1.2.0",
            "_model_name": "LayoutModel",
            "_view_count": null,
            "_view_module": "@jupyter-widgets/base",
            "_view_module_version": "1.2.0",
            "_view_name": "LayoutView",
            "align_content": null,
            "align_items": null,
            "align_self": null,
            "border": null,
            "bottom": null,
            "display": null,
            "flex": null,
            "flex_flow": null,
            "grid_area": null,
            "grid_auto_columns": null,
            "grid_auto_flow": null,
            "grid_auto_rows": null,
            "grid_column": null,
            "grid_gap": null,
            "grid_row": null,
            "grid_template_areas": null,
            "grid_template_columns": null,
            "grid_template_rows": null,
            "height": null,
            "justify_content": null,
            "justify_items": null,
            "left": null,
            "margin": null,
            "max_height": null,
            "max_width": null,
            "min_height": null,
            "min_width": null,
            "object_fit": null,
            "object_position": null,
            "order": null,
            "overflow": null,
            "overflow_x": null,
            "overflow_y": null,
            "padding": null,
            "right": null,
            "top": null,
            "visibility": null,
            "width": null
          }
        }
      }
    }
  },
  "cells": [
    {
      "cell_type": "markdown",
      "metadata": {
        "id": "view-in-github",
        "colab_type": "text"
      },
      "source": [
        "<a href=\"https://colab.research.google.com/github/MiguelAguilera/Neuro-MaxEnt-inference-tutorial/blob/main/1.Introduction_to_MaxEnt_methods.ipynb\" target=\"_parent\"><img src=\"https://colab.research.google.com/assets/colab-badge.svg\" alt=\"Open In Colab\"/></a>"
      ]
    },
    {
      "cell_type": "markdown",
      "source": [
        "# Introduction to the MaxEnt principle"
      ],
      "metadata": {
        "id": "A9ifU5XB3Vxe"
      }
    },
    {
      "cell_type": "markdown",
      "source": [
        "## 1. A new kind of prior information\n",
        "\n",
        "Most patterns in biology arise from aggregation of many small processes. Variations in the dynamics of complex neural and biochemical networks depend on\n",
        "numerous fluctuations in connectivity and flow through small-scale subcomponents of the network. Variations in cancer onset arise from variable failures in the many individual checks and balances on DNA repair, cell cycle control, and tissue homeostasis. Variations in the ecologicalult value implied by bias is overridden. Note that ddof=1 will return the unbiased estimate, even if both fweights and aweights are specified, and ddof=0 will return the simple av distribution of species follow the myriad local differences in the birth and death rates of species and in the small-scale interactions between particular species.\n",
        "In all such complex systems, we wish to understand how large-scale pattern\n",
        "arises from the aggregation of small-scale processes. A single dominant principle sets the major axis from which all explanation of aggregation and scale must be developed. This dominant principle is the limiting distribution.\n",
        "\n",
        "\n",
        "\n",
        "Imagine a class of problems in which our prior information consists of average\n",
        "values of certain things. What is the less biased model?\n",
        "\n",
        "The notion of ‘entropy’ as originated in thermodynamics is usually associated to that of ‘disorder’ by saying that the former can be regarded as a measure of the latter. The word ‘disorder’ here essentially means ‘randomness’, ‘absence of patterns’, or something similar. While not incorrect, these words clearly require a more precise specification to be useful at a quantitative level. \n",
        "\n",
        "$$ S = - \\sum_{\\mathbf x} p_{\\mathbf x} \\log p_{\\mathbf x}$$\n",
        "\n",
        "We have a total amount of probability\n",
        "$$ \\sum_{\\mathbf x} p_{\\mathbf x}= 1$$\n",
        "\n",
        "\n",
        "> ![Google's logo](https://github.com/MiguelAguilera/Neuro-MaxEnt-inference-tutorial/blob/main/img/entropy.png?raw=true)\n",
        ">\n",
        "> Figure 1. The natural world is driven to maximum entropy states (i.e. maximum uncertainty)\n",
        "\n",
        "The principle of maximum entropy can be expressed (see [Wikipedia](https://en.wikipedia.org/wiki/Principle_of_maximum_entropy)) as:\n",
        "\n",
        "> The principle of maximum entropy states that, subject to precisely stated prior data (such as a proposition that expresses testable information), the probability distribution which best represents the current state of knowledge is the one with largest entropy. Another way of stating this: Take precisely stated prior data or testable information about a probability distribution function. Consider the set of all trial probability distributions that would encode the prior data. According to this principle, the distribution with maximal information entropy is the proper one. … In ordinary language, the principle of maximum entropy can be said to express a claim of epistemic modesty, or of maximum ignorance. The selected distribution is the one that makes the least claim to being informed beyond the stated prior data, that is to say the one that admits the most ignorance beyond the stated prior data.\n",
        "\n",
        "\n"
      ],
      "metadata": {
        "id": "hhVIZjR1ykUu"
      }
    },
    {
      "cell_type": "markdown",
      "source": [
        "<div style=\"page-break-after: always;\"></div>"
      ],
      "metadata": {
        "id": "lQdRC2Pk2r3u"
      }
    },
    {
      "cell_type": "markdown",
      "source": [
        "## 2. Deriving the MaxEnt principle\n",
        "\n",
        "### 2.1 Lagrangian multiplier techinque\n",
        "\n",
        "The maximum entropy principle is a means of deriving probability distributions given certain constraints and the assumption of maximizing entropy. One technique for solving this maximization problem is the Lagrange multiplier technique.\n",
        "\n",
        "Given a multivariable function $f(\\mathbf x, \\lambda)$ and constraints of the form $g(\\mathbf x)=c$, where $g$ is another multivariable function with the same input space as $f$ and $c$ is a constant:\n",
        "\n",
        "In order to minimize (or maximize) the function $f$ consider the following steps, assuming $f$ to be $f(x)$:\n",
        "\n",
        "1. Introduce a new variable $\\lambda$, called Lagrange multiplier, and define a new function $\\mathcal{L}$  with the form:\n",
        "\n",
        "$$ \\mathcal{L}(x,\\lambda) =f(x)+\\lambda(g(x)−c)$$\n",
        "\n",
        "2. Set the derivative of the function  $\\mathcal{L}$  equal to zero:\n",
        "\n",
        "$$ \\frac{\\partial L (x,\\lambda)}{\\partial x_i}=0, \\,\\,\\,\\forall i. \\qquad \\frac{\\partial L (x,\\lambda)}{\\partial \\lambda}=0$$\n",
        "\n",
        "in order to find the critical points of  $\\mathcal{L}$.\n",
        "\n",
        "3. Consider each resulting solution within the limits of the made constraints and derive the resulting distribution $f$, which gives the minimum (or maximum) one is searching for.\n",
        "\n",
        "### Application to the MaxEnt principle\n",
        "\n",
        "Applied to the Maximum Entropy principle, the Lagrangian multiplier technique results in \n",
        "\n",
        "$$ \\max_{p_{\\mathbf x}} \\sum_{\\mathbf x} p_{\\mathbf x} \\log p_{\\mathbf x}$$\n",
        "$$ \\mathrm{s.t.} \\qquad \\sum_{\\mathbf x}  p_{\\mathbf x} f_a(\\mathbf x) = c_a , \\qquad \\sum \\sum_{\\mathbf x} p_{\\mathbf x} =1$$\n"
      ],
      "metadata": {
        "id": "vqRimQ7xGQz3"
      }
    },
    {
      "cell_type": "markdown",
      "source": [
        "\n",
        "### 2.1 Example: mean and variance of a distribution\n",
        "\n",
        "$$ \\mathcal{L} =  -\\sum_{\\mathbf x} p_{\\mathbf x} \\log p_{\\mathbf x}  - \\lambda_0 (\\sum_{\\mathbf x}p_{\\mathbf x} - 1) + \\lambda_1 (\\sum_{\\mathbf x} p_{\\mathbf x} x - c_1) + \\lambda_2 (\\sum_{\\mathbf x} p_{\\mathbf x} x^2 - c_2)$$\n",
        "\n",
        "$$  \\frac{\\mathrm{d}\\mathcal{L}}{\\mathrm{d}p_i} =  - 1 - \\log p_{\\mathbf x}\n",
        "+ \\lambda_0  +  \\lambda_1 x + \\lambda_2 x^2 =0 $$\n",
        "\n",
        "$$ p_{\\mathbf x} \\propto  \\exp\\left[ \\lambda_1 x +  \\lambda_2 x^2 \\right] \\right]  \\propto \\exp\\left[ \\frac{1}{2\\sigma^2}(x-\\mu)^2 +  \\lambda_2 x^2 \\right] $$\n",
        "\n",
        "\n",
        "$$ p_{\\mathbf x} \\propto \\frac{1}{Z}\\exp\\left[\\beta \\sum_a \\theta_a f_{\\mathbf x,a} \\right] $$"
      ],
      "metadata": {
        "id": "jZ4S6TbQ3KW8"
      }
    },
    {
      "cell_type": "code",
      "source": [
        "import ipywidgets as widgets\n",
        "from ipywidgets import HBox, VBox\n",
        "import numpy as np\n",
        "import matplotlib.pyplot as plt\n",
        "from IPython.display import display\n",
        "%matplotlib inline"
      ],
      "metadata": {
        "id": "79IY4JesYYYy"
      },
      "execution_count": 1,
      "outputs": []
    },
    {
      "cell_type": "code",
      "source": [
        "@widgets.interact(\n",
        "    m=(0., 10.), d=(0., 2., 0.02), sigma=(0.02, 1., 0.02))\n",
        "def plot(m=3.,d=1,sigma=0.4, grid=False):\n",
        "  \n",
        "    # Simulation parameters\n",
        "    N=10000\n",
        "    xmax=20.\n",
        "    xmin=-10.\n",
        "    ref_mean = 5\n",
        "    ref_std = 1\n",
        "    diff=(xmax-xmin)/N\n",
        "   \n",
        "    fig, ax = plt.subplots(1, 1, figsize=(12, 6))\n",
        "\n",
        "    # Plot probability density\n",
        "    x = np.linspace(xmin, xmax, N)\n",
        "    p = 0.5*(1/np.sqrt(2*np.pi*sigma**2)*np.exp(-0.5/sigma**2*(x-m-d)**2)+1/np.sqrt(2*np.pi*sigma**2)*np.exp(-0.5/sigma**2*(x-m+d)**2))\n",
        "    ax.plot(x, p, lw=2)\n",
        " \n",
        "    # Calculate model observables\n",
        "    mean=diff*np.sum(p*x)\n",
        "    std=np.sqrt(diff*np.sum(p*x**2)-(diff*np.sum(p*x))**2)\n",
        " \n",
        "    # Calculate model Entropy\n",
        "    inds = p>np.finfo(float).eps  # avoid log(0) terms\n",
        "    Entropy = np.round(-diff*np.sum(p[inds]*np.log(p[inds])),4),0.5*(1+np.log(2*np.pi))\n",
        "  \n",
        "    # Plot model observables\n",
        "    plt.plot([mean,mean],[0,np.max(p)*1.1],'r--', lw=2)\n",
        "    plt.plot([mean+3*std,mean+3*std],[0,np.max(p)*1.1],'g:', lw=2)\n",
        "    plt.plot([mean-3*std,mean-3*std],[0,np.max(p)*1.1],'g:', lw=2)\n",
        " \n",
        "    # Plot reference observables\n",
        "    plt.plot([ref_mean],[np.max(p)*1.15],'r*', lw=2)\n",
        "    plt.plot([ref_mean+3*ref_std],[np.max(p)*1.15],'g.', lw=2)\n",
        "    plt.plot([ref_mean-3*ref_std],[np.max(p)*1.15],'g.', lw=2)\n",
        "    ax.grid(grid)\n",
        "    ax.axis([0,10,0,np.max(p)*1.2])\n",
        "\n",
        "    print('Mean:',round(mean,2),'Variance:',np.round(std**2,2))\n",
        "    print('Entropy:',Entropy)\n"
      ],
      "metadata": {
        "colab": {
          "base_uri": "https://localhost:8080/",
          "height": 537,
          "referenced_widgets": [
            "0b0443ddf2f947cc89a28b32c7d6c6a8",
            "031259a949cb495c89ec158d547d17bd",
            "2a0cc8347c8e4915a09e1babb6938f6f",
            "d1ceda57ad324781852b9f54fdbb4e4e",
            "2bc67297c37a4d869c001ee6a2b8a3f3",
            "7b03caa10c684335937554055c0e4ad8",
            "3529f500ad9d4cc3917e1a0052752f48",
            "9976ee1fef764aa9a9bfc26722b49d27",
            "ed4e15445f224eebaeee3756867e7642",
            "fcd5c4c1977548acb3eb77e842c0d98c",
            "c877afe6429d4350aa5d14ee0bbf3c9f",
            "32df1cf7e5974d72882a863d88e480d8",
            "4828e1f4c98042ba9b5f74f4475c32a9",
            "0aa3e2919aae40308d6823d20a22acd5",
            "6b35716b93034ca1844512430a671c35",
            "41a8679accb74a16ae7eb842f002572d"
          ]
        },
        "id": "bqm06W1XYxM_",
        "outputId": "b43a9e6d-eea4-4c45-e936-239b484149c2"
      },
      "execution_count": 80,
      "outputs": [
        {
          "output_type": "display_data",
          "data": {
            "text/plain": [
              "interactive(children=(FloatSlider(value=3.0, description='m', max=10.0), FloatSlider(value=1.0, description='d…"
            ],
            "application/vnd.jupyter.widget-view+json": {
              "version_major": 2,
              "version_minor": 0,
              "model_id": "0b0443ddf2f947cc89a28b32c7d6c6a8"
            }
          },
          "metadata": {}
        }
      ]
    },
    {
      "cell_type": "markdown",
      "source": [
        "### Application to the MaxEnt principle\n",
        "\n",
        "Applied to the Maximum Entropy principle, the Lagrangian multiplier technique results in \n",
        "\n",
        "$$ \\max_{p_{\\mathbf x}} \\sum_{\\mathbf x} p_{\\mathbf x} \\log p_{\\mathbf x}$$\n",
        "$$ \\mathrm{s.t.} \\qquad \\sum_{\\mathbf x}  p_{\\mathbf x} f_a(\\mathbf x) = c_a , \\qquad \\sum \\sum_{\\mathbf x} p_{\\mathbf x} =1$$\n",
        "\n",
        "\n",
        "\n",
        "### Example\n",
        "\n",
        "$$ \\mathcal{L} =  -\\sum_{\\mathbf x} p_{\\mathbf x} \\log p_{\\mathbf x}  - \\varphi (\\sum_{\\mathbf x}p_{\\mathbf x} - 1) + \\beta \\sum_a \\theta_a(\\sum_{\\mathbf x} p_{\\mathbf x} f_{i,a}-c_a)$$\n",
        "\n",
        "$$  \\frac{\\mathrm{d}\\mathcal{L}}{\\mathrm{d}p_i} =  - 1 - \\log p_{\\mathbf x}\n",
        "- \\varphi  +  \\beta \\sum_a \\theta_a f_{\\mathbf x,a}=0 $$\n",
        "\n",
        "$$ p_{\\mathbf x} \\propto \\exp\\left[\\beta \\sum_a \\theta_a f_{\\mathbf x,a} - \\varphi \\right] $$\n",
        "\n",
        "\n",
        "$$ p_{\\mathbf x} \\propto \\frac{1}{Z}\\exp\\left[\\beta \\sum_a \\theta_a f_{\\mathbf x,a} \\right] $$"
      ],
      "metadata": {
        "id": "ziK0MrM12IzF"
      }
    },
    {
      "cell_type": "markdown",
      "source": [
        "\n",
        "### References\n",
        "\n",
        "J. Harte, Maximum Entropy and Ecology: A Theory of Abundance, Distribution, and Energetics. Oxford University Press, 2011\n",
        "\n",
        "E. Montrell, On the entropy function in sociotechnical systems, PNAS, vol. 78 no. 12, 1981\n",
        "\n",
        "S. Frank, The common patterns of nature\n",
        "\n",
        "Academy, Khan. 2019. “Lagrange multipliers, introduction.” 2019. https://www.khanacademy.org/math/multivariable-calculus/applications-of-multivariable-derivatives/constrained-optimization/a/lagrange-multipliers-single-constraint."
      ],
      "metadata": {
        "id": "056AazBwGNfm"
      }
    },
    {
      "cell_type": "code",
      "execution_count": null,
      "metadata": {
        "id": "F8splVbnyjyd"
      },
      "outputs": [],
      "source": []
    }
  ]
}
