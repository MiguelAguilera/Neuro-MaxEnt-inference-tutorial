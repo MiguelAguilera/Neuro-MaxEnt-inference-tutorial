{
  "nbformat": 4,
  "nbformat_minor": 0,
  "metadata": {
    "colab": {
      "provenance": [],
      "authorship_tag": "ABX9TyNL6VHHw2Ml7FW3EtQnm5Oz",
      "include_colab_link": true
    },
    "kernelspec": {
      "name": "python3",
      "display_name": "Python 3"
    },
    "language_info": {
      "name": "python"
    },
    "widgets": {
      "application/vnd.jupyter.widget-state+json": {
        "dfac54c64e914770ab49c353d82fe597": {
          "model_module": "@jupyter-widgets/controls",
          "model_name": "VBoxModel",
          "model_module_version": "1.5.0",
          "state": {
            "_dom_classes": [
              "widget-interact"
            ],
            "_model_module": "@jupyter-widgets/controls",
            "_model_module_version": "1.5.0",
            "_model_name": "VBoxModel",
            "_view_count": null,
            "_view_module": "@jupyter-widgets/controls",
            "_view_module_version": "1.5.0",
            "_view_name": "VBoxView",
            "box_style": "",
            "children": [
              "IPY_MODEL_752b49003932494ea1bbc5daf9ed3cd1",
              "IPY_MODEL_1e9f12ab62eb48919e5aa2dbc7286ffa",
              "IPY_MODEL_2645a313d0ab40d993032e51b26e2630",
              "IPY_MODEL_479076daf58f4b358ee6cffc0f7fbf61"
            ],
            "layout": "IPY_MODEL_667fc969d1014a3ca9e57af2b0d260ff"
          }
        },
        "752b49003932494ea1bbc5daf9ed3cd1": {
          "model_module": "@jupyter-widgets/controls",
          "model_name": "FloatSliderModel",
          "model_module_version": "1.5.0",
          "state": {
            "_dom_classes": [],
            "_model_module": "@jupyter-widgets/controls",
            "_model_module_version": "1.5.0",
            "_model_name": "FloatSliderModel",
            "_view_count": null,
            "_view_module": "@jupyter-widgets/controls",
            "_view_module_version": "1.5.0",
            "_view_name": "FloatSliderView",
            "continuous_update": true,
            "description": "m",
            "description_tooltip": null,
            "disabled": false,
            "layout": "IPY_MODEL_154da0f220454158807a58f40fbed0ab",
            "max": 10,
            "min": 0,
            "orientation": "horizontal",
            "readout": true,
            "readout_format": ".2f",
            "step": 0.1,
            "style": "IPY_MODEL_8753df6897814560a8f3aa6758a29cc6",
            "value": 3
          }
        },
        "1e9f12ab62eb48919e5aa2dbc7286ffa": {
          "model_module": "@jupyter-widgets/controls",
          "model_name": "FloatSliderModel",
          "model_module_version": "1.5.0",
          "state": {
            "_dom_classes": [],
            "_model_module": "@jupyter-widgets/controls",
            "_model_module_version": "1.5.0",
            "_model_name": "FloatSliderModel",
            "_view_count": null,
            "_view_module": "@jupyter-widgets/controls",
            "_view_module_version": "1.5.0",
            "_view_name": "FloatSliderView",
            "continuous_update": true,
            "description": "d",
            "description_tooltip": null,
            "disabled": false,
            "layout": "IPY_MODEL_85f035f12883403ca7670c8fc60c0bfe",
            "max": 2,
            "min": 0,
            "orientation": "horizontal",
            "readout": true,
            "readout_format": ".2f",
            "step": 0.02,
            "style": "IPY_MODEL_2b6357eb227d49f8b056dc4a3ff09a91",
            "value": 1
          }
        },
        "2645a313d0ab40d993032e51b26e2630": {
          "model_module": "@jupyter-widgets/controls",
          "model_name": "FloatSliderModel",
          "model_module_version": "1.5.0",
          "state": {
            "_dom_classes": [],
            "_model_module": "@jupyter-widgets/controls",
            "_model_module_version": "1.5.0",
            "_model_name": "FloatSliderModel",
            "_view_count": null,
            "_view_module": "@jupyter-widgets/controls",
            "_view_module_version": "1.5.0",
            "_view_name": "FloatSliderView",
            "continuous_update": true,
            "description": "sigma",
            "description_tooltip": null,
            "disabled": false,
            "layout": "IPY_MODEL_61c748fb4d03479fa12135845dd8bae8",
            "max": 1,
            "min": 0.02,
            "orientation": "horizontal",
            "readout": true,
            "readout_format": ".2f",
            "step": 0.02,
            "style": "IPY_MODEL_e3e1d2935ada49409c993e1071ab840a",
            "value": 0.4
          }
        },
        "479076daf58f4b358ee6cffc0f7fbf61": {
          "model_module": "@jupyter-widgets/output",
          "model_name": "OutputModel",
          "model_module_version": "1.0.0",
          "state": {
            "_dom_classes": [],
            "_model_module": "@jupyter-widgets/output",
            "_model_module_version": "1.0.0",
            "_model_name": "OutputModel",
            "_view_count": null,
            "_view_module": "@jupyter-widgets/output",
            "_view_module_version": "1.0.0",
            "_view_name": "OutputView",
            "layout": "IPY_MODEL_6933a469baa3419cacfb11e48eb105e4",
            "msg_id": "",
            "outputs": [
              {
                "output_type": "stream",
                "name": "stdout",
                "text": [
                  "Mean: 3.0 (5) Variance: 1.16 (1)\n",
                  "Entropy: 1.1785 (MaxEnt: 1.4189)\n"
                ]
              },
              {
                "output_type": "display_data",
                "data": {
                  "text/plain": "<Figure size 864x432 with 1 Axes>",
                  "image/png": "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\n"
                },
                "metadata": {
                  "needs_background": "light"
                }
              }
            ]
          }
        },
        "667fc969d1014a3ca9e57af2b0d260ff": {
          "model_module": "@jupyter-widgets/base",
          "model_name": "LayoutModel",
          "model_module_version": "1.2.0",
          "state": {
            "_model_module": "@jupyter-widgets/base",
            "_model_module_version": "1.2.0",
            "_model_name": "LayoutModel",
            "_view_count": null,
            "_view_module": "@jupyter-widgets/base",
            "_view_module_version": "1.2.0",
            "_view_name": "LayoutView",
            "align_content": null,
            "align_items": null,
            "align_self": null,
            "border": null,
            "bottom": null,
            "display": null,
            "flex": null,
            "flex_flow": null,
            "grid_area": null,
            "grid_auto_columns": null,
            "grid_auto_flow": null,
            "grid_auto_rows": null,
            "grid_column": null,
            "grid_gap": null,
            "grid_row": null,
            "grid_template_areas": null,
            "grid_template_columns": null,
            "grid_template_rows": null,
            "height": null,
            "justify_content": null,
            "justify_items": null,
            "left": null,
            "margin": null,
            "max_height": null,
            "max_width": null,
            "min_height": null,
            "min_width": null,
            "object_fit": null,
            "object_position": null,
            "order": null,
            "overflow": null,
            "overflow_x": null,
            "overflow_y": null,
            "padding": null,
            "right": null,
            "top": null,
            "visibility": null,
            "width": null
          }
        },
        "154da0f220454158807a58f40fbed0ab": {
          "model_module": "@jupyter-widgets/base",
          "model_name": "LayoutModel",
          "model_module_version": "1.2.0",
          "state": {
            "_model_module": "@jupyter-widgets/base",
            "_model_module_version": "1.2.0",
            "_model_name": "LayoutModel",
            "_view_count": null,
            "_view_module": "@jupyter-widgets/base",
            "_view_module_version": "1.2.0",
            "_view_name": "LayoutView",
            "align_content": null,
            "align_items": null,
            "align_self": null,
            "border": null,
            "bottom": null,
            "display": null,
            "flex": null,
            "flex_flow": null,
            "grid_area": null,
            "grid_auto_columns": null,
            "grid_auto_flow": null,
            "grid_auto_rows": null,
            "grid_column": null,
            "grid_gap": null,
            "grid_row": null,
            "grid_template_areas": null,
            "grid_template_columns": null,
            "grid_template_rows": null,
            "height": null,
            "justify_content": null,
            "justify_items": null,
            "left": null,
            "margin": null,
            "max_height": null,
            "max_width": null,
            "min_height": null,
            "min_width": null,
            "object_fit": null,
            "object_position": null,
            "order": null,
            "overflow": null,
            "overflow_x": null,
            "overflow_y": null,
            "padding": null,
            "right": null,
            "top": null,
            "visibility": null,
            "width": null
          }
        },
        "8753df6897814560a8f3aa6758a29cc6": {
          "model_module": "@jupyter-widgets/controls",
          "model_name": "SliderStyleModel",
          "model_module_version": "1.5.0",
          "state": {
            "_model_module": "@jupyter-widgets/controls",
            "_model_module_version": "1.5.0",
            "_model_name": "SliderStyleModel",
            "_view_count": null,
            "_view_module": "@jupyter-widgets/base",
            "_view_module_version": "1.2.0",
            "_view_name": "StyleView",
            "description_width": "",
            "handle_color": null
          }
        },
        "85f035f12883403ca7670c8fc60c0bfe": {
          "model_module": "@jupyter-widgets/base",
          "model_name": "LayoutModel",
          "model_module_version": "1.2.0",
          "state": {
            "_model_module": "@jupyter-widgets/base",
            "_model_module_version": "1.2.0",
            "_model_name": "LayoutModel",
            "_view_count": null,
            "_view_module": "@jupyter-widgets/base",
            "_view_module_version": "1.2.0",
            "_view_name": "LayoutView",
            "align_content": null,
            "align_items": null,
            "align_self": null,
            "border": null,
            "bottom": null,
            "display": null,
            "flex": null,
            "flex_flow": null,
            "grid_area": null,
            "grid_auto_columns": null,
            "grid_auto_flow": null,
            "grid_auto_rows": null,
            "grid_column": null,
            "grid_gap": null,
            "grid_row": null,
            "grid_template_areas": null,
            "grid_template_columns": null,
            "grid_template_rows": null,
            "height": null,
            "justify_content": null,
            "justify_items": null,
            "left": null,
            "margin": null,
            "max_height": null,
            "max_width": null,
            "min_height": null,
            "min_width": null,
            "object_fit": null,
            "object_position": null,
            "order": null,
            "overflow": null,
            "overflow_x": null,
            "overflow_y": null,
            "padding": null,
            "right": null,
            "top": null,
            "visibility": null,
            "width": null
          }
        },
        "2b6357eb227d49f8b056dc4a3ff09a91": {
          "model_module": "@jupyter-widgets/controls",
          "model_name": "SliderStyleModel",
          "model_module_version": "1.5.0",
          "state": {
            "_model_module": "@jupyter-widgets/controls",
            "_model_module_version": "1.5.0",
            "_model_name": "SliderStyleModel",
            "_view_count": null,
            "_view_module": "@jupyter-widgets/base",
            "_view_module_version": "1.2.0",
            "_view_name": "StyleView",
            "description_width": "",
            "handle_color": null
          }
        },
        "61c748fb4d03479fa12135845dd8bae8": {
          "model_module": "@jupyter-widgets/base",
          "model_name": "LayoutModel",
          "model_module_version": "1.2.0",
          "state": {
            "_model_module": "@jupyter-widgets/base",
            "_model_module_version": "1.2.0",
            "_model_name": "LayoutModel",
            "_view_count": null,
            "_view_module": "@jupyter-widgets/base",
            "_view_module_version": "1.2.0",
            "_view_name": "LayoutView",
            "align_content": null,
            "align_items": null,
            "align_self": null,
            "border": null,
            "bottom": null,
            "display": null,
            "flex": null,
            "flex_flow": null,
            "grid_area": null,
            "grid_auto_columns": null,
            "grid_auto_flow": null,
            "grid_auto_rows": null,
            "grid_column": null,
            "grid_gap": null,
            "grid_row": null,
            "grid_template_areas": null,
            "grid_template_columns": null,
            "grid_template_rows": null,
            "height": null,
            "justify_content": null,
            "justify_items": null,
            "left": null,
            "margin": null,
            "max_height": null,
            "max_width": null,
            "min_height": null,
            "min_width": null,
            "object_fit": null,
            "object_position": null,
            "order": null,
            "overflow": null,
            "overflow_x": null,
            "overflow_y": null,
            "padding": null,
            "right": null,
            "top": null,
            "visibility": null,
            "width": null
          }
        },
        "e3e1d2935ada49409c993e1071ab840a": {
          "model_module": "@jupyter-widgets/controls",
          "model_name": "SliderStyleModel",
          "model_module_version": "1.5.0",
          "state": {
            "_model_module": "@jupyter-widgets/controls",
            "_model_module_version": "1.5.0",
            "_model_name": "SliderStyleModel",
            "_view_count": null,
            "_view_module": "@jupyter-widgets/base",
            "_view_module_version": "1.2.0",
            "_view_name": "StyleView",
            "description_width": "",
            "handle_color": null
          }
        },
        "6933a469baa3419cacfb11e48eb105e4": {
          "model_module": "@jupyter-widgets/base",
          "model_name": "LayoutModel",
          "model_module_version": "1.2.0",
          "state": {
            "_model_module": "@jupyter-widgets/base",
            "_model_module_version": "1.2.0",
            "_model_name": "LayoutModel",
            "_view_count": null,
            "_view_module": "@jupyter-widgets/base",
            "_view_module_version": "1.2.0",
            "_view_name": "LayoutView",
            "align_content": null,
            "align_items": null,
            "align_self": null,
            "border": null,
            "bottom": null,
            "display": null,
            "flex": null,
            "flex_flow": null,
            "grid_area": null,
            "grid_auto_columns": null,
            "grid_auto_flow": null,
            "grid_auto_rows": null,
            "grid_column": null,
            "grid_gap": null,
            "grid_row": null,
            "grid_template_areas": null,
            "grid_template_columns": null,
            "grid_template_rows": null,
            "height": null,
            "justify_content": null,
            "justify_items": null,
            "left": null,
            "margin": null,
            "max_height": null,
            "max_width": null,
            "min_height": null,
            "min_width": null,
            "object_fit": null,
            "object_position": null,
            "order": null,
            "overflow": null,
            "overflow_x": null,
            "overflow_y": null,
            "padding": null,
            "right": null,
            "top": null,
            "visibility": null,
            "width": null
          }
        },
        "4a3681b1fcf44e679fb7b0e5d6a9efb0": {
          "model_module": "@jupyter-widgets/controls",
          "model_name": "VBoxModel",
          "model_module_version": "1.5.0",
          "state": {
            "_dom_classes": [
              "widget-interact"
            ],
            "_model_module": "@jupyter-widgets/controls",
            "_model_module_version": "1.5.0",
            "_model_name": "VBoxModel",
            "_view_count": null,
            "_view_module": "@jupyter-widgets/controls",
            "_view_module_version": "1.5.0",
            "_view_name": "VBoxView",
            "box_style": "",
            "children": [
              "IPY_MODEL_271e8032dc104264af68a9d32998ee45",
              "IPY_MODEL_06efcd9280da4fcb8e039654898368cd",
              "IPY_MODEL_37d38b7306144fe58bb3dbf77a579e8a",
              "IPY_MODEL_a45e63f4926049da851c9d5c5748d828"
            ],
            "layout": "IPY_MODEL_dc0dafdb5ef441328a0dba1dd38b23bf"
          }
        },
        "271e8032dc104264af68a9d32998ee45": {
          "model_module": "@jupyter-widgets/controls",
          "model_name": "FloatSliderModel",
          "model_module_version": "1.5.0",
          "state": {
            "_dom_classes": [],
            "_model_module": "@jupyter-widgets/controls",
            "_model_module_version": "1.5.0",
            "_model_name": "FloatSliderModel",
            "_view_count": null,
            "_view_module": "@jupyter-widgets/controls",
            "_view_module_version": "1.5.0",
            "_view_name": "FloatSliderView",
            "continuous_update": true,
            "description": "H",
            "description_tooltip": null,
            "disabled": false,
            "layout": "IPY_MODEL_19fdfbfe190a4519868fbe8afea210aa",
            "max": 10,
            "min": 0,
            "orientation": "horizontal",
            "readout": true,
            "readout_format": ".2f",
            "step": 0.1,
            "style": "IPY_MODEL_0ba56fefbb6b4f709f1fa5b43ea92b65",
            "value": 1
          }
        },
        "06efcd9280da4fcb8e039654898368cd": {
          "model_module": "@jupyter-widgets/controls",
          "model_name": "FloatSliderModel",
          "model_module_version": "1.5.0",
          "state": {
            "_dom_classes": [],
            "_model_module": "@jupyter-widgets/controls",
            "_model_module_version": "1.5.0",
            "_model_name": "FloatSliderModel",
            "_view_count": null,
            "_view_module": "@jupyter-widgets/controls",
            "_view_module_version": "1.5.0",
            "_view_name": "FloatSliderView",
            "continuous_update": true,
            "description": "J",
            "description_tooltip": null,
            "disabled": false,
            "layout": "IPY_MODEL_ade04dbbc2f44f018111e2cb36c4e7ef",
            "max": 2,
            "min": 0,
            "orientation": "horizontal",
            "readout": true,
            "readout_format": ".2f",
            "step": 0.02,
            "style": "IPY_MODEL_89e099303fb844609b565b700087af29",
            "value": 0
          }
        },
        "37d38b7306144fe58bb3dbf77a579e8a": {
          "model_module": "@jupyter-widgets/controls",
          "model_name": "FloatSliderModel",
          "model_module_version": "1.5.0",
          "state": {
            "_dom_classes": [],
            "_model_module": "@jupyter-widgets/controls",
            "_model_module_version": "1.5.0",
            "_model_name": "FloatSliderModel",
            "_view_count": null,
            "_view_module": "@jupyter-widgets/controls",
            "_view_module_version": "1.5.0",
            "_view_name": "FloatSliderView",
            "continuous_update": true,
            "description": "sigma",
            "description_tooltip": null,
            "disabled": false,
            "layout": "IPY_MODEL_df592619994a415a96625a72e8866ada",
            "max": 1,
            "min": 0.02,
            "orientation": "horizontal",
            "readout": true,
            "readout_format": ".2f",
            "step": 0.02,
            "style": "IPY_MODEL_eef1922d7ecb42dbbc7e70bda52f8a6b",
            "value": 0.4
          }
        },
        "a45e63f4926049da851c9d5c5748d828": {
          "model_module": "@jupyter-widgets/output",
          "model_name": "OutputModel",
          "model_module_version": "1.0.0",
          "state": {
            "_dom_classes": [],
            "_model_module": "@jupyter-widgets/output",
            "_model_module_version": "1.0.0",
            "_model_name": "OutputModel",
            "_view_count": null,
            "_view_module": "@jupyter-widgets/output",
            "_view_module_version": "1.0.0",
            "_view_name": "OutputView",
            "layout": "IPY_MODEL_3a213cefed53452aa78ad8a1428f7d72",
            "msg_id": "",
            "outputs": [
              {
                "output_type": "stream",
                "name": "stdout",
                "text": [
                  "Mean: 38.08 (5) Variance: 21.0 (1)\n",
                  "Entropy: 2.2376\n"
                ]
              },
              {
                "output_type": "display_data",
                "data": {
                  "text/plain": "<Figure size 864x432 with 1 Axes>",
                  "image/png": "iVBORw0KGgoAAAANSUhEUgAAAs8AAAFlCAYAAAAUHQWiAAAABHNCSVQICAgIfAhkiAAAAAlwSFlzAAALEgAACxIB0t1+/AAAADh0RVh0U29mdHdhcmUAbWF0cGxvdGxpYiB2ZXJzaW9uMy4yLjIsIGh0dHA6Ly9tYXRwbG90bGliLm9yZy+WH4yJAAAgAElEQVR4nOzdeXSV133v//dXM0hiFBISYDNj8ESQPGWwZcd2SAM4a9VpcNPEXU0RuYnv7f05aev8em8A3967mrRuevuLmyIlaeIMdlOnqYGQuHZi4QwekGRsDBiQGTUwSaCBQdPZvz/OOXAsDugIznOeM3xeaz1L5zznGb7nYVvr663v3tucc4iIiIiIyMiy/A5ARERERCRVKHkWEREREYmRkmcRERERkRgpeRYRERERiZGSZxERERGRGCl5FhERERGJUY7fAYxGSUmJmzlzpt9hJIXTp09TWFjodxiSZNQuJBq1C4lG7UKGU5u4oLGx8YRzbkq0z1IqeZ45cyYNDQ1+h5EU6uvrqa6u9jsMSTJqFxKN2oVEo3Yhw6lNXGBmBy/1mco2RERERERipORZRERERCRGSp5FRERERGIUU/JsZkvNbLeZNZvZY1E+f9TMdprZW2b2SzO7NuKzh81sb2h7OGJ/pZltD13zH83M4vOVRERERES8MWLybGbZwJPAR4FFwENmtmjYYW8AVc65m4Bnga+Fzp0ErAFuA24F1pjZxNA53wRWAfNC29Kr/jYiIiIiIh6Kpef5VqDZObfPOdcPPAM8EHmAc+4l59yZ0NtXgemh1x8BXnDOdTrnTgIvAEvNrBwY55x71TnngKeAj8fh+4iIiIiIeCaWqeqmAYcj3rcQ7Em+lM8CP7/MudNCW0uU/RcxsxqgBqCsrIz6+voYQk5/vb29ehZyEbULiUbtQqJRu5Dh1CZiE9d5ns3sj4Aq4K54XdM5VwvUAlRVVTnNPxikuRglGrULiUbtQqJRu5Dh1CZiE0vZRiswI+L99NC+9zCze4G/AlY45/pGOLeVC6Udl7ymiIiIiEgyiSV53grMM7NZZpYHrAQ2RB5gZu8D1hNMnI9FfPQ8cL+ZTQwNFLwfeN451w50m9ntoVk2PgM8F4fvIyIiIiLimRHLNpxzg2b2CMFEOBv4jnNuh5k9DjQ45zYAfwsUAf8WmnHukHNuhXOu08z+F8EEHOBx51xn6PXnge8CYwjWSP8cEREREZEkFlPNs3NuM7B52L6vRLy+9zLnfgf4TpT9DcANMUcqIiIiIuIzrTAoIiIiIhIjJc8iIiIiIjFS8iwiIiIiEiMlzyIiIiIiMVLyLCIiIiISIyXPIiIiIiIxUvIsIiIiIhIjJc8iIiIiIjFS8iwiIiIiEiMlzyIiIiIiMVLyLCIiIiISIyXPIiIiIiIxUvIsIiIiIhIjJc8iIiLiucraSiprK/0OI3OYBTeJuxy/AxAREZH019Te5HcIInGh5FlEREQ817Cqwe8QMkuDnrdXlDyLiIiI5yorVLKRUJV63l5RzbOIiIiISIyUPIuIiIjn1tavZW39Wr/DyBw1NcFN4k7Js4iIiHhu3ZZ1rNuyzu8wMkddXXCTuFPNs4iIiHhuzV1r/A5BJC6UPIuIiIjn1lav9TsEkbhQ2YaIiIiISIyUPIuIiIjnGtsaaWxr9DsMkaumsg0RERHxXFVdFQBujfM5EpGro+RZREREPLekfInfIWSWJXreXlHyLCIiIp5rrFHJRkI16nl7RTXPIiIiIiIxUvIsIiIiIhIjJc8iIiLiuYonKqh4osLvMDKHWXCTuIspeTazpWa228yazeyxKJ/faWZNZjZoZg9G7L/bzLZFbOfM7OOhz75rZvsjPlscv68lIiIiyaS9t5323na/wxC5aiMOGDSzbOBJ4D6gBdhqZhucczsjDjsE/DHwpchznXMvAYtD15kENAP/GXHInzvnnr2aLyAiIiLJr/XRVr9DEImLWGbbuBVods7tAzCzZ4AHgPPJs3PuQOizwGWu8yDwc+fcmSuOVkRERFJSRbFKNiQ9xFK2MQ04HPG+JbRvtFYCTw/b97/N7C0z+7qZ5V/BNUVEREREEiYh8zybWTlwI/B8xO4vA0eAPKAW+Evg8Sjn1gA1AGVlZdTX13sdbkro7e3Vs5CLqF1INGoXEk2i28Xf7fk7AL40/0sjHCnxUB36OZp/Y/2uiE0syXMrMCPi/fTQvtH4A+CnzrmB8A7nXHjUQJ+Z/QvD6qUjjqslmFxTVVXlqqurR3nr9FRfX4+ehQyndiHRqF1INIluF3dvuRuATTWbEnZPYVT/xvpdEZtYkuetwDwzm0UwaV4J/OEo7/MQwZ7m88ys3DnXbmYGfBx4e5TXFBERkRSxftl6v0PILOv1vL0yYvLsnBs0s0cIllxkA99xzu0ws8eBBufcBjO7BfgpMBFYbmbrnHPXA5jZTII911uGXfqHZjYFMGAb8Lk4fScRERFJMjWVNX6HkFlq9Ly9ElPNs3NuM7B52L6vRLzeSrCcI9q5B4gywNA5d89oAhURERER8VtCBgyKiIhIZtu4eyMAyxcs9zmS9PeFHzYx/d++z7yyIor+6xf40LwSCvOV8sWLnqSIiIh4bsUzKwBwa5zPkaS3fcd7+dn2dg489w8AzJx4O3nZWdw+ZzL3LizlwwvLmDZhjM9RpjYlzyIiIuK5ZfOX+R1CRvj520fe837JNRN44/ApXt5znJf3HOcrz+3guqnF3LuwjHsWlrJ4+gSyssynaFOTkmcRERHx3MaHNvodQkbYvL39Pe///fMf4ERvHy+9c4xfvXOMl/cc550jPbxzpIdvvNRMSVEedy8I9kgzqL8KxELJs4iIiEgaONhxmh1t3RQNq28uKcrnE1Uz+ETVDPoGh3htXye/3HWUF3cdo/XUWf6tsYV/a2whLwu+O+sE759T4tM3SA1KnkVERETSwObtwZKNexeWXvKY/Jxs7pw/hTvnT2HtCsfuoz38ctcxNr7ZxjtHevhpU6uS5xEoeRYRERHP2bpgXa0GDHonXLLx0RvLYzrezLhu6jiumzqOu+ZPYdn/9xte2dfhZYhpIcvvAERERETk6hzuPMP21i4K87K5a/6UUZ+/sHwchbnQcvIshzvPeBBh+lDyLCIiIp5za5x6nT0U7nW+Z2EZBbnZ4Fxwi1F2lrFgYjaAep9HoORZREREJMVtDk1R97Ebp17xNRZOCibPr76r5PlylDyLiIiIpLCWk2d48/ApxuRmc9f8Sw8WHMl1ky/0PLtR9FpnGiXPIiIi4rnlTy9n+dNamtsLvwj1Ot+zsJQxecEEmMrK4DYK04qMSYV5tHed42CH6p4vRbNtiIiIiOc27dnkdwhp62eheuffuyFilo2mplFfJ8uM22dPYvP2I/zu3Q5mlhTGK8S0op5nERER8dyGlRvYsHKD32GknbZTZ3nj0CkKcrO4+7rRz7Ix3B2zJwMaNHg56nkWERERzy1foJINL/w8VLJx94JSxuZdfVp3x5xQ8vxusO7ZzK76mulGPc8iIiIiKern4ZKNGBdGGcmcKUVMKc7nRG8f7x7vjcs1042SZxEREfFcbWMttY21foeRVo50naPh4Enyc7K4+7orn2Ujkplx++wLvc9yMSXPIiIi4rnVm1azetNqv8NIK794O9jrfNf8KRTlx68SV3XPl6eaZxEREfHcqiWr/A4h7WzeHloY5aYoJRurrvx5h+ueX93XSSDgyMpS3XMkJc8iIiLiudrlKtmIp2Pd59h6sJO8nCzuiVayUXvlz3vm5LFMHVfAke5z7DnWw3VTx11FpOlHZRsiIiIiKeYXO47gHNw5bwrFBblxvbaZvWfWDXkvJc8iIiLiubaeNtp62vwOI21sPj/LxtToBzQ2BrcrdIcGDV6SyjZERETEc9P+fhoAbo3zOZLUd7ynj9f3d5Kbbdy7qCz6QVVVwZ/uyp53uOf5tf2qex5OPc8iIiLiufKicsqL4jMXcaZ7fscRAg4+NG8K4+JcshE2Y9JYpk0YQ9fZAXa2d3tyj1Sl5FlEREQ81/bFNtq+qLKNeNgc54VRLuXCrBsq3Yik5FlEREQkRXT09vHqvg5ys437Fl6iZCNOVPccnZJnERERkRTx/I6jBBx8YG4J48d6U7IRFu55fn1/J4NDAU/vlUqUPIuIiIjnKmsrqayt9DuMlPfz0KqCv3eD9/XjFRPGcO3ksfT0DbKjTXXPYUqeRURExHNN7U00tTf5HUZK6zzdz+/e7SAny7j/em9LNsK0VPfFlDyLiIiI5xpWNdCwqsHvMFLaCzuPMBRw3DFnMhPG5l3+4IaG4HaVtFjKxTTPs4iIiHiuskIlG1frZ9uPAPCxWGbZqIzP8w73PG890MnAUIDcbPW7xvQEzGypme02s2YzeyzK53eaWZOZDZrZg8M+GzKzbaFtQ8T+WWb2Wuia/2pmI/wvlIiIiEhmOnWmn981nyA7y7j/+kusKuiB0nEFzJlSyJn+Id5q6UrYfZPZiMmzmWUDTwIfBRYBD5nZomGHHQL+GPhRlEucdc4tDm0rIvZ/Ffi6c24ucBL47BXELyIiIilgbf1a1tav9TuMlPXCzqMMBhx3zJ7MpMIY+htraoJbHGi+5/eKpef5VqDZObfPOdcPPAM8EHmAc+6Ac+4tIKZ5TMzMgHuAZ0O7vgd8POaoRUREJKWs27KOdVvW+R1GygovjPLRG2Psda6rC25xcMfsEkB1z2Gx1DxPAw5HvG8BbhvFPQrMrAEYBP7GOfcfwGTglHNuMOKa00ZxTREREUkha+5a43cIKavr7AC/aT5BlsFHEliyEXb77EkANBzspG9wiPyc7ITHkEwSMWDwWudcq5nNBn5lZtuBmItmzKwGqAEoKyujvr7emyhTTG9vr56FXETtQqJRu5BoEt0uqqkGUFu8Ar9tHWBgyLFwUhZvN7wS0znVoZ+jed6XaxPTi4yW3gDf3VDPgklKnkfSCsyIeD89tC8mzrnW0M99ZlYPvA/4CTDBzHJCvc+XvKZzrhaoBaiqqnLV1dWx3jqt1dfXo2chw6ldSDRqFxKN2kXq+MH3tgLH+MM7F1F9+7WjOnc0/8aXaxP3du/gu787wNlxM6iunj+qGNJNLDXPW4F5odkx8oCVwIYRzgHAzCaaWX7odQnwAWCnc84BLwHhmTkeBp4bbfAiIiKSGhrbGmlsa/Q7jJTTfW6Al/ecwAw+kqCFUaK5fbbmew4bMXkO9Qw/AjwP7AJ+7JzbYWaPm9kKADO7xcxagE8A681sR+j0hUCDmb1JMFn+G+fcztBnfwk8ambNBGugvx3PLyYiIiLJo6quiqq6Kr/DSDm/2nWM/qEAt8ycRGlxgW9x3D57EmbwxqFTnBsY8i2OZBBTzbNzbjOwedi+r0S83kqw9GL4eb8DbrzENfcRnMlDRERE0tyS8iV+h5CSfhaaZSOmhVEiLYnv854wNo+FU8exs72bpoMnef/ckrheP5VohUERERHxXGONSjZGq7dvkC17jmMGS28Y5SwbjfF/3nfMmczO9m5e2deR0cmz1lgUERERSUK/2Xuc/sEAlddMpGycfyUbYXeo7hlQ8iwiIiKSlN44dAqA94dW+PPbrbMnkWXwZsspzvQPjnxCmlLyLCIiIp6reKKCiicq/A4jpWw7HEyeb54xYfQnmwW3OBpXkMsN08YzMORoOHAyrtdOJUqeRURExHPtve2097b7HUbKGAo4trcG15S7ouTZI+dLN/ZlbumGkmcRERHxXOujrbQ+GvMaaxlv77EezvQPMX3iGEqK8v0O57zb56juWbNtiIiIiOcqilWyMRpvXk3JhodumTmJ7Cxje2sXvX2DFOVnXiqpnmcRERGRJBOud35fkiXPRfk53DR9PEMBx9b9nX6H4wslzyIiIuK5mo011Gys8TuMlLHtcPLVO4dlet2zkmcRERHxXF1THXVNdX6HkRLO9A+y52gP2VnGDRXj/Q7nIndkeN1z5hWqiIiISMKtX7be7xBSxtut3QwFHIvKxzEmL/vKLrLeu+ddde0kcrONHW1ddJ0dYPyYXM/ulYyUPIuIiIjnaipVshGruAwWrPHueY/Jy2bxjAlsPXCS1/d3ct+iMs/ulYxUtiEiIiKSRJJ1sGCkTF6qW8mziIiIeG7j7o1s3L3R7zBSwlWtLBhWWxvcPHJ+vucMHDSosg0RERHx3IpnVgDg1jifI0lux3v6aD11lsK8bOaWFl35hVavDv70qHxjyTUTycvJYld7NydP9zOxMM+T+yQj9TyLiIiI55bNX8ay+cv8DiPpheudb5w+nuws8zmaSyvIzWbJNcGe8df2Z1bvs5JnERER8dzGhzay8SGVbYzkzZbkXFkwmvfPKQEyr+5ZybOIiIhIkkiFwYJh4fmeX8uwlQaVPIuIiIgkgUDAxWeaugS5oWI8ZtB8rJf+wYDf4SSMkmcRERHxnK0zbF3y1vAmgwMdp+k+N0jZuHzKx4/xO5wRjcnLZsbEsQwGHAc6TvsdTsIoeRYRERFJAuenqJue/L3OYfPLgjOC7Dna43MkiaPkWURERDzn1jhNUzeCcMnG4mvikDw7F9w8Nq+sGIA9R3s9v1eyUPIsIiIikgTCPc+LU7Dnea96nkVEREQkUfoGh9jZ3o1ZcI7nVDGvNNzzrORZREREJG6WP72c5U8v9zuMpLWrvYeBIcfcKUUUF+Re/QUrK4Obx+aWFpFlcKDjDH2DQ57fLxloeW4RERHx3KY9m/wOIaltO3QSiOMUdU1N8bnOCApys7lm0lgOdJxh/4nTXDd1XELu6yclzyIiIuK5DSs3+B1CUnuzpQuAxSkwv/Nw88qKOdBxhj1He5U8i4iIiMTD8gUq2bic84MFUzB5nl9WxAs7j9KcIXXPqnkWERER8dGpM/3sP3Ga/JwsFkwt9jucUZufYdPVKXkWERERz9U21lLbWOt3GEnprVDJxg3TxpObnXqp2fkZN45lRs+zyjZERETEc6s3rQagprLG50iSTyquLBhp9pRCsgwOhmbcyM/J9jskT8X0vzdmttTMdptZs5k9FuXzO82sycwGzezBiP2LzewVM9thZm+Z2ScjPvuume03s22hbXF8vpKIiIgkm1VLVrFqySq/w0hKcV1ZMGzVquCWAAW52cycXMhQwLHv+OmE3NNPI/Y8m1k28CRwH9ACbDWzDc65nRGHHQL+GPjSsNPPAJ9xzu01swqg0cyed86dCn3+5865Z6/2S4iIiEhyq12uko1onHPerCxYm9jnPbe0iH0nTrPnaA8Ly9N7xo1Yep5vBZqdc/ucc/3AM8ADkQc45w44594CAsP273HO7Q29bgOOAVPiErmIiIhIims5eZaO0/1MKsxjxqQxfodzxcKDBvdmwKDBWGqepwGHI963ALeN9kZmdiuQB7wbsft/m9lXgF8Cjznn+qKcVwPUAJSVlVFfXz/aW6el3t5ePQu5iNqFRKN2IdEkul2c6DsBQEl+ScLumQpebx8EYPrYIbZs2RK36xbt3g1A74IFMZ9zNW1isCP4PX63Yz/1+e1XdI1UkZABg2ZWDnwfeNg5F+6d/jJwhGBCXQv8JfD48HOdc7Whz6mqqnLV1dWJCDnp1dfXo2chw6ldSDRqFxJNotuFrTMA3BqXsHumgt9s2gns556bZ1NdPT9+F7777uBPF/vzvpo2UdbezT+/9WtOBgrS/vdNLGUbrcCMiPfTQ/tiYmbjgJ8Bf+WcezW83znX7oL6gH8hWB4iIiIiaai8qJzyonK/w0g6b7ak7uIokWZPKSQ7yzjYcZpzA0N+h+OpWJLnrcA8M5tlZnnASiCmNTZDx/8UeGr4wMBQbzRmZsDHgbdHE7iIiIikjrYvttH2xTa/w0gqA0MBtrcG53hO1WnqwvJzsrl28lgCDt49nt51zyMmz865QeAR4HlgF/Bj59wOM3vczFYAmNktZtYCfAJYb2Y7Qqf/AXAn8MdRpqT7oZltB7YDJcBfx/WbiYiIiCSxPUd7ODcQ4NrJY5lYmOd3OFdtfmlmDBqMqebZObcZ2Dxs31ciXm8lWM4x/LwfAD+4xDXvGVWkIiIiImnkzcPBXudUL9kIm19WxC92BP+nIJ2l3hqQIiIiknIqayuprK30O4yksu3wSSD1SzbC5oWmq9ujnmcRERGRq9PU3uR3CEnnfM9zPFcW9NH5uZ6PpXfPs5JnERER8VzDqga/Q0gqvX2D7DnWQ262sciLFfkaEv+8Z5UUkpNlHOo8w9n+IcbkZSc8hkRQ8iwiIiKeq6xQyUak7S1dOAcLy8dRkOtBklmZ+Oedl5PFzJJCmo/18u7xXm6YNj7hMSSCap5FREREEiw8v3O61DuHzS8rAtJ70KCSZxEREfHc2vq1rK1f63cYSWPboVDy7NVMGzU1wS3B5pWm/6BBJc8iIiLiuXVb1rFuyzq/w0ganq8sWFcX3BLs/KDBNO55Vs2ziIiIeG7NXWv8DiFpHO0+R3vXOYoLcphdUuh3OHF1vmwjjWfcUPIsIiIinltbvdbvEJLGtsMX6p2zssznaOJrZkkhudnG4c6znOkfZGxe+qWaKtsQERERSaA3w8nzjPSbjSI3O4tZod70d4+d9jkabyh5FhEREc81tjXS2NbodxhJIbLnOR1dWGkwPUs3lDyLiIiI56rqqqiqq/I7DN8FAo63WkIrC3o1WNBn88MzbqRp3XP6FaKIiIhI0llSvsTvEJLCvhO99PYNUjG+gNJxBd7daIl/zzs8aHBvmk5Xp+RZREREPNdYo5INgDdC8zsvvsbjXudG/573vDRfKEVlGyIiIiIJkq4rC0a6dnJwxo2Wk2c53Tfodzhxp+RZREREJEHODxZM03pnCM64Mbsk2PvcfCz9SjeUPIuIiIjnKp6ooOKJCr/D8NW5gSHeae8hy+DGaR5PU2cW3HySzqUbqnkWERERz7X3tvsdgu92tHUzGHBcN7WYwvz0TsGCy3S3szcNe57T+19OREREkkLro61+h+C7cMlGuk5RF2m+ep5FRERErlxFcWaXbEDkyoLpnzyHF0pJx+nqVPMsIiIikgDpvrJgpGsnjSUvO4vWU2fpTbMZN5Q8i4iIiOdqNtZQs7HG7zB803m6n0OdZxiTm32+pCGd5WRnMXtKIQB706x0Q8mziIiIeK6uqY66pjq/w/BNeH7nG6eNJyc7M9Kv+WlauqGaZxEREfHc+mXr/Q7BV9sStbJg2Hr/n3e6DhpU8iwiIiKeq6nM3JIN8KHeucb/5x0eNLgnzaary4y/G4iIiIj4xDl3vmwjYT3PSeBC2UZ69TwreRYRERHPbdy9kY27N/odhi8OdJzh1JkBphTnUzG+IDE3ra0Nbj66ZtJY8nOyaO86R/e5AV9jiSclzyIiIuK5Fc+sYMUzK/wOwxfbDp8E4H0zJmCJWjJ79erg5qPsLGPOlGDdczoNGlTNs4iIiHhu2fxlfofgmzcSPVgwicwvK2Jnezd7j/ZQee1Ev8OJCyXPIiIi4rmND2VmyQZk1rLcw50fNJhGPc8q2xARERHxyLmBIXa2dZNlcFMGrCw43PlBg8fSZ9BgTMmzmS01s91m1mxmj0X5/E4zazKzQTN7cNhnD5vZ3tD2cMT+SjPbHrrmP1rCioBEREREEmNHWxeDAcf8smKK8jPvD/7huZ7TqeZ5xOTZzLKBJ4GPAouAh8xs0bDDDgF/DPxo2LmTgDXAbcCtwBozCxe8fBNYBcwLbUuv+FuIiIhIUrN1hq3LvH6y8/XOGViyATB94lgKcrM40n2OrrPpMeNGLD3PtwLNzrl9zrl+4BnggcgDnHMHnHNvAYFh534EeME51+mcOwm8ACw1s3JgnHPuVeecA54CPn61X0ZEREQkmYTrnd+XgYMF4b0zbjSnSelGLH8/mAYcjnjfQrAnORbRzp0W2lqi7L+ImdUANQBlZWXU19fHeOv01tvbq2chF1G7kGjULiSaRLeLl+56CSDj2uIre84AMHCkmfr6fYm78UvB580onrdXbWIc5wDY+HIjPTNy4379REv64hvnXC1QC1BVVeWqq6v9DShJ1NfXo2chw6ldSDRqFxKN2oX3jvf00fGLFynMy+ahj91NdlZyl6141SZ20swrbbuxCRVUV18f9+snWixlG63AjIj300P7YnGpc1tDr6/kmiIiIiJJL1yycfOMCUmfOHtpfml4me70GDQYS/K8FZhnZrPMLA9YCWyI8frPA/eb2cTQQMH7geedc+1At5ndHppl4zPAc1cQv4iIiKSA5U8vZ/nTy/0OI6HeOBRcWdCXwYKVlcEtCcw/P9dzhtQ8O+cGzewRgolwNvAd59wOM3scaHDObTCzW4CfAhOB5Wa2zjl3vXOu08z+F8EEHOBx51xn6PXnge8CY4CfhzYRERFJQ5v2bPI7hITzdXGUpqbE3/MSpk8cw5jcbI719NF1ZoDxY1O77jmmmmfn3GZg87B9X4l4vZX3lmFEHvcd4DtR9jcAN4wmWBEREUlNG1bG+kfr9DAUcLzV0gVk5rLckbKyjLmlRWxv7WLPsR5umTnJ75CuStIPGBQREZHUt3xBZpVsNB/rpbdvkGkTxlBaXOB3OL6bVxZKno+mfvKs5blFRERE4mzb4VC9c4b3OoedX6Y7DQYNKnkWERERz9U21lLbWOt3GAlzfnGUDF1ZcLjwMt3pMGhQZRsiIiLiudWbVgNQU1njcySJEV6WO1NXFhxuXml4xo3U73lW8iwiIiKeW7Vkld8hJMzpvkH2HO0hJ8u4vmK8P0GsSq7nPW3CGMbmZXOit4+Tp/uZWJjnd0hXTMmziIiIeK52eeaUbLzV0kXAwfUV4yjIzfYniNrket5ZWca80iLebAkOGrxt9mS/Q7piqnkWERERiaM3QoMFVbLxXvPCi6UcS+3SDSXPIiIi4rm2njbaetr8DiMhth3ycXGUsMbG4JZEwoMG96b4oEGVbYiIiIjnpv39NADcGudzJN5yzvGGnysLhlVVhQPyL4Zh5qXJMt1KnkVERMRz5UXlfoeQEG1d5zje08f4MbnMKin0O5ykki5zPSt5FhEREc+1fTHzSjbMzOdokkvF+AKK8nPoON1PR28fk4vy/Q7piqjmWURERCROzq8sqMVRLjy3Ar8AACAASURBVGJmzC0N1T2n8KBBJc8iIiIicaLFUS4vHQYNKnkWERERz1XWVlJZW+l3GJ4aGAqwvbULUM/zpaTDSoOqeRYRERHPNbU3+R2C53Yf6aFvMMCskkImjE3dFfS8NC/U85zKM24oeRYRERHPNaxq8DsEz71xKLQ4SjL0Ojck5/M+P+NGCtc8K3kWERERz1VWpHfJBnBhfudkqHeuTM7nXT6+gOL8HDpP93Oit4+SFJxxQzXPIiIiInGwLRkWR0lyZnahdONIapZuKHkWERERz62tX8va+rV+h+GZrjMD7Dt+mvycLK6bOs7vcKCmJrgloQWh57OzvdvnSK6MkmcRERHx3Lot61i3ZZ3fYXhmW0uw1/mGaePJy0mC9KquLrgloUUVweR5V3tq9jyr5llEREQ8t+auNX6H4KnIlQXl8haVBwcN7krRnmclzyIiIuK5tdVr/Q7BU2+EVhbU4igjC5dtNB/rZWAoQG52EvTUj0JqRSsiIiKSZJxzvKnBgjErys/h2slj6R8K8O7x1JuyTsmziIiIeK6xrZHGtka/w/DEwY4znDwzQElRPtMmjPE7nJSwcGq47jn1SjeUPIuIiIjnquqqqKqr8jsMT0SWbJiZz9GkhoXlqTtoUDXPIiIi4rkl5Uv8DsEzSTlYcElyP++FKTxoUMmziIiIeK6xJj1LNuDC4ihJsSx3WGNyP+9wz/POtm6ccynVY6+yDREREZErdG5giJ3t3ZjBTcmUPCe56RPHUFyQQ8fpfo739PkdzqgoeRYRERG5QjvauhkYcswvLaYoX3/Qj5WZnR80mGorDSp5FhEREc9VPFFBxRMVfocRd9uSdYo6s+CWxC7UPafWoMGYkmczW2pmu82s2cwei/J5vpn9a+jz18xsZmj/p8xsW8QWMLPFoc/qQ9cMf1Yazy8mIiIiyaO9t5323na/w4i7Nw4FZ9pYrMVRRu3CMt2p1fM84t8XzCwbeBK4D2gBtprZBufczojDPgucdM7NNbOVwFeBTzrnfgj8MHSdG4H/cM5tizjvU865hjh9FxEREUlSrY+2+h2CJ84PFlTyPGoXpqtLreQ5lp7nW4Fm59w+51w/8AzwwLBjHgC+F3r9LPBhu3jY5EOhc0VERCTDVBRXUFGcXmUbx3v6aDl5lsK8bOaVFvsdTsqZX1ZMlsG+E6c5NzDkdzgxiyV5ngYcjnjfEtoX9Rjn3CDQBUwedswngaeH7fuXUMnG/4ySbIuIiIgkrXCv843Tx5OdpTRmtApys5k9pYihgGPv0dRZpjshw0LN7DbgjHPu7Yjdn3LOtZpZMfAT4NPAU1HOrQFqAMrKyqivr09AxMmvt7dXz0IuonYh0ahdSDSJbhd/t+fvAPjS/C8l7J5ee25PPwCTXU/S/TdWHfo5mrj8+F0xOesczcBP61+nY3puQu99pWJJnluBGRHvp4f2RTumxcxygPFAR8TnKxnW6+ycaw397DGzHxEsD7koeXbO1QK1AFVVVa66ujqGkNNffX09ehYynNqFRKN2IdEkul3cveVuADbVbErYPb1W1/wq0MGKD95E9fVT/Q4nqtH8G/vxu2Inzbz2i90ExlVQXX19Qu99pWJJnrcC88xsFsEkeSXwh8OO2QA8DLwCPAj8yjnnAMwsC/gD4EPhg0MJ9gTn3AkzywWWAS9e5XcRERGRJLV+2Xq/Q4iroYDjzcNdQJKtLBi2PjWedyoOGhwxeXbODZrZI8DzQDbwHefcDjN7HGhwzm0Avg1838yagU6CCXbYncBh59y+iH35wPOhxDmbYOJcF5dvJCIiIkmnprLG7xDi6t3jvfT2DTJtwhhKxxX4Hc7FalLjeS8qv7BQSqos0x1TzbNzbjOwedi+r0S8Pgd84hLn1gO3D9t3GqgcZawiIiIiSWHboSRdHCXFlBbnM6kwj87T/bSeOsv0iWP9DmlEWmFQREREPLdx90Y27t7odxhx88bh0OIoyZo819YGtyRnZim30qCSZxEREfHcimdWsOKZFX6HETdvHEryxVFWrw5uKWBRitU9J2SqOhEREclsy+Yv8zuEuDndN8ieoz3kZBk3TBvvdzgpL9UGDSp5FhEREc9tfCh9Sjbeauki4GBRRTEFudl+h5PyUi15VtmGiIiIyCiEVxZ834yJPkeSHuZMKSI32zjYeYbTfYN+hzMiJc8iIiIio7At2QcLppi8nCzmlhbjHLxzJPkHDSp5FhEREc/ZOsPWJf8cviNxzp0fLLg4WQcLpqALM24kf+mGkmcRERGRGLWcPMuxnj7Gj8ll1uRCv8NJG6k044YGDIqIiIjn3BrndwhxsWXPcQDeP2cyWVlJ3JPuUut5L4xYaTDZqedZREREJEb1u4PJ813zp/gcSXoJJ8+7j/QQCCR34q/kWURERCQG/YMBfvfuCQDuWqDkOZ4mFeZRNi6fM/1DHOw843c4l6XkWURERDy3/OnlLH96ud9hXJWGA52c6R9iQVkx5ePH+B3O5VVWBrcUkirzPavmWURERDy3ac8mv0O4auF65+pU6HVuavI7glFbVD6O+t3H2dXeze/dWO53OJek5FlEREQ8t2HlBr9DuGqqd/aWep5FREREQpYvSO2Sjfaus+w+2sPYvGyqZk7yO5y0dCF5Tu6FUlTzLCIiIjKCLbvDU9SVkJej9MkLs0oKKcjNovXUWbrODPgdziXpX19EREQ8V9tYS21jrd9hXLGUqndOUdlZxoKy0EqDR5K3dEPJs4iIiHhu9abVrN602u8wrsjAUIDf7A1NUad6Z0+lQt2zap5FRETEc6uWrPI7hCv2xqFT9PQNMmdKITMmjfU7nNisSs3nfX6lwTYlzyIiIpLBapenbslG/e5jANw1v9TnSEahNjWf9/meZ5VtiIiIiKQm1TsnznXlwZrnPUd7GRwK+BxNdEqeRURExHNtPW209bT5HcaoHes5x462bgpys7h1VgpNUdfYGNxSzLiCXKZPHEP/YIB9J077HU5UKtsQERERz037+2kAuDXO50hG5+U9wYGCd8yeTEFuts/RjEJVVfCnS63nDcHSjZaTZ9nV3s380OwbyUQ9zyIiIuK58qJyyouSd8nlS7lQ76ySjURZFB40mKQzbqjnWURERDzX9sXUK9kYCjh+HZqirnpBCg0WTHHJvtKgep5FREREoth2+BRdZwe4dvJYZpYU+h1OxliU5HM9K3kWERERiWJLqGSjWiUbCTV94hiK8nM43tPHid4+v8O5iJJnERER8VxlbSWVtZV+hzEq4Snq7tIUdQmVlWVcNzW0THcS9j4reRYRERHPNbU30dTe5HcYMevo7eOt1i7ycrK4ffZkv8PJOMm8TLcGDIqIiIjnGlY1+B3CqPx67wmcg9tmTWJsXgqmSw2p9byHS+ZlulOwNYiIiEiqqaxIrZKNlJ+irjK1nvdwC8vDZRvJN+NGTGUbZrbUzHabWbOZPRbl83wz+9fQ56+Z2czQ/plmdtbMtoW2f444p9LMtofO+Uczs3h9KREREZErFQg4Xj4/RV2KJs8pbsHUYszg3eO99A0O+R3Oe4yYPJtZNvAk8FFgEfCQmS0adthngZPOubnA14GvRnz2rnNucWj7XMT+bwKrgHmhbemVfw0RERFJZmvr17K2fq3fYcRke2sXnaf7mTZhDHOmFPkdzpWpqQluKWpsXg6zJhcyGHDsPdrrdzjvEUvP861As3Nun3OuH3gGeGDYMQ8A3wu9fhb48OV6ks2sHBjnnHvVOeeAp4CPjzp6ERERSQnrtqxj3ZZ1focRk8hZNlL2D+N1dcEthSXroMFYap6nAYcj3rcAt13qGOfcoJl1AeGhqbPM7A2gG/gfzrlfh45vGXbNadFubmY1QA1AWVkZ9fX1MYSc/np7e/Us5CJqFxKN2oVEk+h28fC1DwOkRFvcsPUsACX9R6mv7/A5mitTHfo5muedbL8rCs71A/DC1p1M6X3X52gu8HrAYDtwjXOuw8wqgf8ws+tHcwHnXC1QC1BVVeWqq6vjH2UKqq+vR89ChlO7kGjULiSaRLeL6vPpXHI7daaffc+/QG62UfPxaoryU3tuhdH8Gyfb74rA1KP8ZG8DPdnjqa6+3e9wzoulbKMVmBHxfnpoX9RjzCwHGA90OOf6nHMdAM65RuBdYH7o+OkjXFNEREQkoX699wQBB1XXTkr5xDnVnS/bONJNsMo3OcSSPG8F5pnZLDPLA1YCG4YdswF4OPT6QeBXzjlnZlNCAw4xs9kEBwbuc861A91mdnuoNvozwHNx+D4iIiKShBrbGmlsa/Q7jBFpVcHkMXVcARPG5nLqzABHus/5Hc55IybPzrlB4BHgeWAX8GPn3A4ze9zMVoQO+zYw2cyagUeB8HR2dwJvmdk2ggMJP+ec6wx99nngW0AzwR7pn8fpO4mIiEiSqaqroqquyu8wLisQcOeTZ01R5z8zY+HU5Bs0GNPfI5xzm4HNw/Z9JeL1OeATUc77CfCTS1yzAbhhNMGKiIhIalpSvsTvEEa060g3x3v6mDqugAVlxX6Hc3WWJP/zjsXC8nG8sq+DnW3d3HNdmd/hAFphUERERBKgsSb5Szbqd4dKNuan8BR1YY3J/7xjkYwrDca0wqCIiIhIulO9c/JJxrmelTyLiIhIxus+N0DjwZNkZxkfmFvidzgSMq+siJwsY3/Hac70D/odDqDkWURERBKg4okKKp6o8DuMS/pd8wmGAo4l10xg/Jhcv8O5embBLcXl52QzZ0oRzsHuI8lRuqHkWURERDzX3ttOe2+732FcUmS9sySXZKt71oBBERER8Vzro8m7FppzkVPUlfocjQy3qGIc/7GtLWnqnpU8i4iIiOcqipO3ZGPP0V7au85RUpTHotAANUkeyTZoUGUbIiIiktG27DkGwJ3zp5CVlfp1wukmnDy/c6SHQMD/ZbqVPIuIiIjnajbWULOxxu8wolK9c3IrKcpnSnE+vX2DtJw863c4Sp5FRETEe3VNddQ11fkdxkVO9w2y9UAnZnDnPCXPySrc+7yzvcvnSFTzLCIiIgmwftl6v0OI6nfvdjAw5Fg8YwITC/P8Did+1ifn875SC8uLeXnPcXa297D0hnJfY1HyLCIiIp6rqUzOko1wvXN1uq0qWJOcz/tK3VAxHoCGA50+R6KyDREREclQzjnVO6eID80rITvLeH1/J11nB3yNRcmziIiIeG7j7o1s3L3R7zDeY9+J07ScPMvEsbncNH2C3+HEV21tcEsTE8bmccvMiQwGHPW7j/kai5JnERER8dyKZ1aw4pkVfofxHi/uPArAh+ZNITvdpqhbvTq4pZH7Fk0F4IXQv5tflDyLiIiI55bNX8ay+cv8DuO8waEA33/1IADLbvJ3AJrE5r6FZQBs2X2c/sGAb3FowKCIiIh4buNDyVWy8Z87j9Jy8iwzJ4/lw6GkTJLbNZPHsqCsmN1He3htfwcf8mlqQfU8i4iISMap+/U+AP7kg7PSr2Qjjd27qBTwt3RDybOIiIhklMaDJ3nj0CnGj8nlwcrpfocjoxCue35x51Gc82epbiXPIiIi4jlbZ9i65Ojh/Vao1/lTt13D2DxVsKaSm6aNp7Q4n7auc+xo6/YlBiXPIiIikjEOdZzh+R1HyM02Hn7/TL/DkVHKyrLzNeov7vKndEPJs4iIiHjOrXG4Nf78mT3Sd367n4CD5TdXUDauwO9wvONccEtD9y8KJs9+1T0reRYREZGM0HV2gB83HAbgTz842+do5ErdMWcyY/Oy2dHWTeupswm/v5JnERERyQhPv36IM/1DfGDuZBZVjPM7HLlCBbnZ3Bmapu6XPpRuKHkWERERzy1/ejnLn17u2/0HhgJ897cHAPjTD2VAr3NlZXBLU/f5WLqhIaYiIiLiuU17Nvl6/5+91c6R7nPMLS3iLp8W10iopia/I/DU3deVkmXw6r4Ous8NMK4gN2H3Vs+ziIiIeG7Dyg1sWLnBl3s75/jWb4LT0/3pB2eRpUVRUt6kwjyqZk5iYMixZffxhN5bybOIiIh4bvmC5Sxf4E/Zxqv7Onm7tZvJhXl8/H3TfIlB4u++hf6Ubih5FhERkbT27VCv86fvuJaC3Gyfo5F4Cdc9v7T7GANDgYTdV8mziIiIeK62sZbaxtqE3/fd4728uOsYeTlZ/NHt1yb8/uKdmSWFzCstoufcIK/v70zYfZU8i4iIiOdWb1rN6k2rE37fb/9mPwC/v2QaJUX5Cb+/eOteH2bdiCl5NrOlZrbbzJrN7LEon+eb2b+GPn/NzGaG9t9nZo1mtj30856Ic+pD19wW2krj9aVEREQkuaxasopVS1Yl9J6dp/v5SWMLAJ/94KyE3tt3q1YFtzQXOWWdS9CKiiNOVWdm2cCTwH1AC7DVzDY453ZGHPZZ4KRzbq6ZrQS+CnwSOAEsd861mdkNwPNAZKX+p5xzDXH6LiIiIpKkapcnvmTjB68epG8wwN0LpjC3tDjh9/dVbeKftx8WT59ASVE+rafOsqu9JyGL38TS83wr0Oyc2+ec6weeAR4YdswDwPdCr58FPmxm5px7wznXFtq/AxhjZvqbiYiIiHjq3MAQT71yAMiQRVEyVFaWce/CYPHCiwlabTCWRVKmAYcj3rcAt13qGOfcoJl1AZMJ9jyH/T7Q5Jzri9j3L2Y2BPwE+GsXpb/dzGqAGoCysjLq6+tjCDn99fb26lnIRdQuJBq1C4km0e3iRF8wJSjJL0nI/V5uGeBEbz8zirPoP7yd+pbMmtu5aPduAHoXLIj5nFT9XTF1aBCAf3+tmZuyWz2/X0JWGDSz6wmWctwfsftTzrlWMysmmDx/Gnhq+LnOuVqgFqCqqspVV1d7H3AKqK+vR89ChlO7kGjULiSaRLcLWxdMXt0a7+tSnXP8n394Gejnvy+9kbsrp3t+z6Rz993Bn6OoA07V3xW3DwyxfvsLHOgeYsH7bqN8/BhP7xdL2UYrMCPi/fTQvqjHmFkOMB7oCL2fDvwU+Ixz7t3wCc651tDPHuBHBMtDREREJA2VF5VTXlSekHu9vPcEe472Ulqcz/KbKxJyT/FPQW42H5oX/IvGi7uOeX6/WJLnrcA8M5tlZnnASmD4+pobgIdDrx8EfuWcc2Y2AfgZ8Jhz7rfhg80sx8xKQq9zgWXA21f3VURERCRZtX2xjbYvto18YBx869fBRVEefv9M8nI0K28mSOSUdSO2KOfcIPAIwZkydgE/ds7tMLPHzWxF6LBvA5PNrBl4FAhPZ/cIMBf4yrAp6fKB583sLWAbwZ7runh+MREREck87xzp5td7TzAmN5tP3XaN3+FIgnz4ulKyDF559wQ95wY8vVdMNc/Ouc3A5mH7vhLx+hzwiSjn/TXw15e4bGXsYYqIiIiM7Nu/Di6K8omq6UwYm+dzNJIok4vyqbx2IlsPnOTlPSf42E3elQjpbxkiIiLiucraSiprve03O9Zzjue2tWEGf/KBDFsURbh3YbB0w+sp65Q8i4iIiOea2ptoam/y9B7ff+Ug/UMB7ltYxsySQk/vJcknvNrgr945xsBQwLP7JGSqOhEREclsDau8XVD4bP8QP3j1IACr7tSiKDRk3gLOs6cUMXtKIfuOn2brgU7eP8ebOcXV8ywiIiKeq6yopLLCu7KNZ5taOHlmgJunj6fq2ome3SdlVFYGtwwT7n1+cad3U9YpeRYREZGU1nm6n2++1AwEl+I2y6zVBOWC+8NT1u06QpSFq+NCybOIiIh4bm39WtbWr437dfsHA/yXHzTS1nWOm6eP56M3TI37PVJSTU1wyzCLZ0xkcmEehzvPsudoryf3UPIsIiIinlu3ZR3rtqyL6zWdc6zduIPX9ndSWpzP+k9XkZOt1AaAurrglmGys4wPLywF4IWdRzy5h1qYiIiIeG7NXWtYc9eauF7z+68e5EevHSIvJ4vaz1QxdXxBXK8vqSk8Zd0LHi3Vrdk2RERExHNrq9fG9Xq/bT7Buo07AfjbB29i8YwJcb2+pK4PzZtCQW4Wbx4+xdHuc5SNi+//VKnnWURERFLKgROn+fwPmxgKOP5L9RweWDzN75AkiYzJy+aDc6cA3iyYouRZREREPNfY1khjW+NVX6f73AB/+lQDXWcHuHdhKX9+/4I4RCfp5r5FwbrnF3fGP3lW2YaIiIh4rqquCgC35sqnDxsKOP7s6TdoPtbL/LIi/mHl+8jK0rR0crF7rivDbDu/fbeD032DFObHL+VVz7OIiIh4bkn5EpaUL7mqa3ztF+/w0u7jTBiby7c+cwtFcUyI0s6SJcEtQ00pzud9MybQPxjg13uPx/XaanUiIiLiucaaqyvZ+EljC+tf3kdOlvFPn1rCNZPHximyNNV49SUyqe6+RVNpOnSK/9x5lKU3lMftuup5FhERkaTWdOgkX/737QCsWXE9759T4nNEkgrCS3X/ctcxOnr74nZdJc8iIiKStNq7zlLzVCP9QwH+6PZr+PTt1/odkqSIOVMKuWXmRLrODvC5HzTSNzgUl+sqeRYRERHPVTxRQcUTFaM652z/EKueauBEbx93zJ7MmuXXexRdGjILbhnMzHjyD5cwdVwBWw+c5H/89G2cu/IBq2FKnkVERMRz7b3ttPe2x3y8c44/f/ZN3m7t5ppJY/mnTy0hV0tvyyiVjivgWw9XUZCbxb81tvCtX++/6muqFYqIiIjnWh9tpfXR1piP/8avmtn0VjtF+Tl86+EqJhbmeRidpLMbpo3n63+wGID/8/Nd/PIqF05R8iwiIiKeqyiuoKI4trKNX7x9hCde2IMZ/N+Vi5lfVuxxdJLuPnpjOV+8bz7OwX97+g3eOdJ9xddS8iwiIiJJYXAowPdfOcCjP94GwF985Do+vLDM36AkbTxyz1xW3FzB6f4h/vR7wVr6K6HkWURERDxXs7GGmo01l/z8t80n+Ng//ob/+dwOzvQP8YnK6XzurtkJjFDSnZnxtQdv4uYZE2g5eZbPff/KZuBQ8iwiIiKeq2uqo66p7qL9BztOU/NUA5/61mvsPtrD9Ilj+OanlvC1B2/CMny2CIm/gtxs6j5dSfn4AhoOnuSvrmAGDq0wKCIiIp5bv2z9e973nBvgGy818y+/OUD/UICxedl84e65fPaDsyjIzfYpyjSyfv3Ix2So0nEF1H2mik/88ys829jCvNIiVt81J+bzlTyLiIiI52oqgyUbgYDj2cYWvvb87vM1p7+/ZDp/sXQBZeMK/AwxvdRcukRGQjNwfPJmPveDJv7mF+8wZ0oR9y6Krb5eZRsiIiKSEFsPdPLAk7/lL37yFid6+1hyzQT+4wsf4Ik/uFmJsyTc0hvK+dL9wRk4/uyZ2GfgUM+ziIiIeKr11FlqfryerQc6GRu4janjCvjy713HipsrVNfsldra4E/1QF/WF+6ey95jvTy3rY3PfreB5x75ACVF+Zc9R8mziIiIeKKjt4+nXjnIP295lz25/w/kwxPv383n7prN2DylIJ5avTr4U8nzZZkZX/39mzjYcYZth0+x+vuN/GjVbZc9Ry1XRERE4qK96yyv7+/ktf2dvL6/k+Zjvec/mznhQ8ydUsSj9833MUKRixXkZlP7mUo+/o3f0njwJF/+9+2XPV7Js4iIiIyac46DHWcuJMsHOjjcefY9xxTkZnHLzEn813vmceusl32KVGRkpcUF1D1cxYPffIV/b7r8MvIxJc9mthT4v0A28C3n3N8M+zwfeAqoBDqATzrnDoQ++zLwWWAI+G/OuedjuaaIiIgkj0DAsedYD6+HepVf39/JsZ73rtBWnJ9D1cyJ3DprMrfOmsSN08aTl6O5CSQ1XF8xnq9/cjGf+0HjZY8bMXk2s2zgSeA+oAXYamYbnHM7Iw77LHDSOTfXzFYCXwU+aWaLgJXA9UAF8KKZhf9eM9I1RURExEPOObrPDXK8p48TvcHt/Oue/uD73j5O9PRxoref/qHAe86fXJjHLTMnceus4LawfBzZWRoAKKlr6Q1T+fOPLOCRr176mFh6nm8Fmp1z+wDM7BngASAy0X0AWBt6/SzwDQsOn30AeMY51wfsN7Pm0PWI4ZoXOds/xPaWrhhCTn8HuvQs5GJqFxKN2kWQY3SriAFcbuGxy13NuQt3C17DnX8duT+8spmLeB9wMOQcAedwzjEUgIBzBAIXPgvuD74fHArQPxSgbyBA3+AQfYOB4DYQfN0ffh/+bCDA2YEhWjvO0PvCLy5KiC+nfHwBt82adL5nec6Uwphny7B1wePcmtH/O4gk0uer5/DIZT6PJXmeBhyOeN8CDB+GeP4Y59ygmXUBk0P7Xx127rTQ65GueZHm470s/8ZvYgg5Q7yiZyFRqF1INGoXEpWjMC+bkuJ8phTlU1KUT0lxHlOKCigpzgu+L8qntDj4c0yeVv6T9DfS/xAm/YBBM6sBwvOs9B786rLdfsaTREqAE34HIUlH7UKiUbuQaHxpF7ZWZR0JNbp5tPW74oJrL/VBLMlzKzAj4v300L5ox7SYWQ4wnuDAwcudO9I1AXDO1QK1McSZUcyswTlX5XccklzULiQatQuJRu1ChlObiE0sQ2C3AvPMbJaZ5REcALhh2DEbgIdDrx8EfuWChVwbgJVmlm9ms4B5wOsxXlNEREREJKmM2PMcqmF+BHie4LRy33HO7TCzx4EG59wG4NvA90MDAjsJJsOEjvsxwYGAg8AXnHNDANGuGf+vJyIiIiISP+YuN5RYkpaZ1YRKWkTOU7uQaNQuJBq1CxlObSI2Sp5FRERERGKkZX9ERERERGKk5DkFmdkXzcyZWUnovZnZP5pZs5m9ZWZL/I5REsfM/tbM3gn92//UzCZEfPblULvYbWYf8TNOSTwzWxr6t282s8f8jkf8YWYzzOwlM9tpZjvM7M9C+yeZ2Qtmtjf0c6LfsUrimVm2mb1hZptC72eZ2Wuh3xv/GprYQSIoeU4xZjYD1Zr2ngAAA01JREFUuB84FLH7owRnMplHcE7sb/oQmvjnBeAG59xNwB7gywBmtojg4N3rgaXAP5mZVjjIEKF/6ycJ/n5YBDwUahOSeQaBLzrnFgG3A18ItYXHgF865+YBvwy9l8zzZ8CuiPdfBb7unJsLnAQ+60tUSUzJc+r5OvAXvHdl2AeAp1zQq8AEMyv3JTpJOOfcfzrnBkNvXyU4bzoE28Uzzrk+59x+oBm41Y8YxRe3As3OuX3OuX7gGYJtQjKMc67dOdcUet1DMFGaRrA9fC902PeAj/sTofjFzKYDHwO+FXpvwD3As6FD1C6iUPKcQszsAaDVOffmsI+iLaE+DclEfwL8PPRa7SKz6d9fLmJmM4H3Aa8BZc659tBHR4Ayn8IS//wDwQ65QOj9ZOBURIeMfm9EkfTLc2caM3sRmBrlo78C/l+CJRuSYS7XLpxzz4WO+SuCf579YSJjE5HUYGZFwE+A/+7c/9/evYNGEYVhGH5/vMTKUhBSJIWljYUIaQQtJIRUIgHRKDaC9qK1hZUg2GonSArBFIII2orijRCtrdR0WqRSPosZdYsIU+3J5X2qZWaLH/YwfDvnP+fkR40c25wkVeX2WztIVc0Ba0neVNXx1vVsJYbnTSbJyY2uV9VhYBr40D/wJoG3VXWUYUeoawv737j4o6ouAHPAifzbf9JxsbP5++uvqtpDF5wfJHnUX/5WVQeTfOlb/dbaVagGZoD5qpoF9gH7gTt0rZ+7+7fPPjc2YNvGFpFkJcmBJFNJpuimUo4k+Up3tPn5fteNY8D3kak4bXNVdYpu2m0+yfrIrWVgoaomqmqabkHpqxY1qonXwKF+5fxeusWjy41rUgN9H+s94FOS2yO3loHF/vMi8HjctamdJNeTTPaZYgF4nuQs8AI43X/NcbEB3zxvD0+AWboFYevAxbblaMzuAhPAs35W4mWSy0lWq2oJ+EjXznElya+GdWqMkvysqqvAU2AXcD/JauOy1MYMcA5Yqar3/bUbwC1gqaouAZ+BM43q0+ZyDXhYVTeBd3R/vDTCEwYlSZKkgWzbkCRJkgYyPEuSJEkDGZ4lSZKkgQzPkiRJ0kCGZ0mSJGkgw7MkSZI0kOFZkiRJGsjwLEmSJA30G11H0vmi3dHXAAAAAElFTkSuQmCC\n"
                },
                "metadata": {
                  "needs_background": "light"
                }
              }
            ]
          }
        },
        "dc0dafdb5ef441328a0dba1dd38b23bf": {
          "model_module": "@jupyter-widgets/base",
          "model_name": "LayoutModel",
          "model_module_version": "1.2.0",
          "state": {
            "_model_module": "@jupyter-widgets/base",
            "_model_module_version": "1.2.0",
            "_model_name": "LayoutModel",
            "_view_count": null,
            "_view_module": "@jupyter-widgets/base",
            "_view_module_version": "1.2.0",
            "_view_name": "LayoutView",
            "align_content": null,
            "align_items": null,
            "align_self": null,
            "border": null,
            "bottom": null,
            "display": null,
            "flex": null,
            "flex_flow": null,
            "grid_area": null,
            "grid_auto_columns": null,
            "grid_auto_flow": null,
            "grid_auto_rows": null,
            "grid_column": null,
            "grid_gap": null,
            "grid_row": null,
            "grid_template_areas": null,
            "grid_template_columns": null,
            "grid_template_rows": null,
            "height": null,
            "justify_content": null,
            "justify_items": null,
            "left": null,
            "margin": null,
            "max_height": null,
            "max_width": null,
            "min_height": null,
            "min_width": null,
            "object_fit": null,
            "object_position": null,
            "order": null,
            "overflow": null,
            "overflow_x": null,
            "overflow_y": null,
            "padding": null,
            "right": null,
            "top": null,
            "visibility": null,
            "width": null
          }
        },
        "19fdfbfe190a4519868fbe8afea210aa": {
          "model_module": "@jupyter-widgets/base",
          "model_name": "LayoutModel",
          "model_module_version": "1.2.0",
          "state": {
            "_model_module": "@jupyter-widgets/base",
            "_model_module_version": "1.2.0",
            "_model_name": "LayoutModel",
            "_view_count": null,
            "_view_module": "@jupyter-widgets/base",
            "_view_module_version": "1.2.0",
            "_view_name": "LayoutView",
            "align_content": null,
            "align_items": null,
            "align_self": null,
            "border": null,
            "bottom": null,
            "display": null,
            "flex": null,
            "flex_flow": null,
            "grid_area": null,
            "grid_auto_columns": null,
            "grid_auto_flow": null,
            "grid_auto_rows": null,
            "grid_column": null,
            "grid_gap": null,
            "grid_row": null,
            "grid_template_areas": null,
            "grid_template_columns": null,
            "grid_template_rows": null,
            "height": null,
            "justify_content": null,
            "justify_items": null,
            "left": null,
            "margin": null,
            "max_height": null,
            "max_width": null,
            "min_height": null,
            "min_width": null,
            "object_fit": null,
            "object_position": null,
            "order": null,
            "overflow": null,
            "overflow_x": null,
            "overflow_y": null,
            "padding": null,
            "right": null,
            "top": null,
            "visibility": null,
            "width": null
          }
        },
        "0ba56fefbb6b4f709f1fa5b43ea92b65": {
          "model_module": "@jupyter-widgets/controls",
          "model_name": "SliderStyleModel",
          "model_module_version": "1.5.0",
          "state": {
            "_model_module": "@jupyter-widgets/controls",
            "_model_module_version": "1.5.0",
            "_model_name": "SliderStyleModel",
            "_view_count": null,
            "_view_module": "@jupyter-widgets/base",
            "_view_module_version": "1.2.0",
            "_view_name": "StyleView",
            "description_width": "",
            "handle_color": null
          }
        },
        "ade04dbbc2f44f018111e2cb36c4e7ef": {
          "model_module": "@jupyter-widgets/base",
          "model_name": "LayoutModel",
          "model_module_version": "1.2.0",
          "state": {
            "_model_module": "@jupyter-widgets/base",
            "_model_module_version": "1.2.0",
            "_model_name": "LayoutModel",
            "_view_count": null,
            "_view_module": "@jupyter-widgets/base",
            "_view_module_version": "1.2.0",
            "_view_name": "LayoutView",
            "align_content": null,
            "align_items": null,
            "align_self": null,
            "border": null,
            "bottom": null,
            "display": null,
            "flex": null,
            "flex_flow": null,
            "grid_area": null,
            "grid_auto_columns": null,
            "grid_auto_flow": null,
            "grid_auto_rows": null,
            "grid_column": null,
            "grid_gap": null,
            "grid_row": null,
            "grid_template_areas": null,
            "grid_template_columns": null,
            "grid_template_rows": null,
            "height": null,
            "justify_content": null,
            "justify_items": null,
            "left": null,
            "margin": null,
            "max_height": null,
            "max_width": null,
            "min_height": null,
            "min_width": null,
            "object_fit": null,
            "object_position": null,
            "order": null,
            "overflow": null,
            "overflow_x": null,
            "overflow_y": null,
            "padding": null,
            "right": null,
            "top": null,
            "visibility": null,
            "width": null
          }
        },
        "89e099303fb844609b565b700087af29": {
          "model_module": "@jupyter-widgets/controls",
          "model_name": "SliderStyleModel",
          "model_module_version": "1.5.0",
          "state": {
            "_model_module": "@jupyter-widgets/controls",
            "_model_module_version": "1.5.0",
            "_model_name": "SliderStyleModel",
            "_view_count": null,
            "_view_module": "@jupyter-widgets/base",
            "_view_module_version": "1.2.0",
            "_view_name": "StyleView",
            "description_width": "",
            "handle_color": null
          }
        },
        "df592619994a415a96625a72e8866ada": {
          "model_module": "@jupyter-widgets/base",
          "model_name": "LayoutModel",
          "model_module_version": "1.2.0",
          "state": {
            "_model_module": "@jupyter-widgets/base",
            "_model_module_version": "1.2.0",
            "_model_name": "LayoutModel",
            "_view_count": null,
            "_view_module": "@jupyter-widgets/base",
            "_view_module_version": "1.2.0",
            "_view_name": "LayoutView",
            "align_content": null,
            "align_items": null,
            "align_self": null,
            "border": null,
            "bottom": null,
            "display": null,
            "flex": null,
            "flex_flow": null,
            "grid_area": null,
            "grid_auto_columns": null,
            "grid_auto_flow": null,
            "grid_auto_rows": null,
            "grid_column": null,
            "grid_gap": null,
            "grid_row": null,
            "grid_template_areas": null,
            "grid_template_columns": null,
            "grid_template_rows": null,
            "height": null,
            "justify_content": null,
            "justify_items": null,
            "left": null,
            "margin": null,
            "max_height": null,
            "max_width": null,
            "min_height": null,
            "min_width": null,
            "object_fit": null,
            "object_position": null,
            "order": null,
            "overflow": null,
            "overflow_x": null,
            "overflow_y": null,
            "padding": null,
            "right": null,
            "top": null,
            "visibility": null,
            "width": null
          }
        },
        "eef1922d7ecb42dbbc7e70bda52f8a6b": {
          "model_module": "@jupyter-widgets/controls",
          "model_name": "SliderStyleModel",
          "model_module_version": "1.5.0",
          "state": {
            "_model_module": "@jupyter-widgets/controls",
            "_model_module_version": "1.5.0",
            "_model_name": "SliderStyleModel",
            "_view_count": null,
            "_view_module": "@jupyter-widgets/base",
            "_view_module_version": "1.2.0",
            "_view_name": "StyleView",
            "description_width": "",
            "handle_color": null
          }
        },
        "3a213cefed53452aa78ad8a1428f7d72": {
          "model_module": "@jupyter-widgets/base",
          "model_name": "LayoutModel",
          "model_module_version": "1.2.0",
          "state": {
            "_model_module": "@jupyter-widgets/base",
            "_model_module_version": "1.2.0",
            "_model_name": "LayoutModel",
            "_view_count": null,
            "_view_module": "@jupyter-widgets/base",
            "_view_module_version": "1.2.0",
            "_view_name": "LayoutView",
            "align_content": null,
            "align_items": null,
            "align_self": null,
            "border": null,
            "bottom": null,
            "display": null,
            "flex": null,
            "flex_flow": null,
            "grid_area": null,
            "grid_auto_columns": null,
            "grid_auto_flow": null,
            "grid_auto_rows": null,
            "grid_column": null,
            "grid_gap": null,
            "grid_row": null,
            "grid_template_areas": null,
            "grid_template_columns": null,
            "grid_template_rows": null,
            "height": null,
            "justify_content": null,
            "justify_items": null,
            "left": null,
            "margin": null,
            "max_height": null,
            "max_width": null,
            "min_height": null,
            "min_width": null,
            "object_fit": null,
            "object_position": null,
            "order": null,
            "overflow": null,
            "overflow_x": null,
            "overflow_y": null,
            "padding": null,
            "right": null,
            "top": null,
            "visibility": null,
            "width": null
          }
        }
      }
    }
  },
  "cells": [
    {
      "cell_type": "markdown",
      "metadata": {
        "id": "view-in-github",
        "colab_type": "text"
      },
      "source": [
        "<a href=\"https://colab.research.google.com/github/MiguelAguilera/Neuro-MaxEnt-inference-tutorial/blob/main/1.Introduction_to_MaxEnt_methods.ipynb\" target=\"_parent\"><img src=\"https://colab.research.google.com/assets/colab-badge.svg\" alt=\"Open In Colab\"/></a>"
      ]
    },
    {
      "cell_type": "markdown",
      "source": [
        "# Introduction to the MaxEnt principle"
      ],
      "metadata": {
        "id": "A9ifU5XB3Vxe"
      }
    },
    {
      "cell_type": "markdown",
      "source": [
        "## 1. A new kind of prior information\n",
        "\n",
        "Most patterns in biology arise from aggregation of many small processes. Variations in the dynamics of complex neural and biochemical networks depend on\n",
        "numerous fluctuations in connectivity and flow through small-scale subcomponents of the network. Variations in cancer onset arise from variable failures in the many individual checks and balances on DNA repair, cell cycle control, and tissue homeostasis. Variations in the ecologicalult value implied by bias is overridden. Note that ddof=1 will return the unbiased estimate, even if both fweights and aweights are specified, and ddof=0 will return the simple av distribution of species follow the myriad local differences in the birth and death rates of species and in the small-scale interactions between particular species.\n",
        "In all such complex systems, we wish to understand how large-scale pattern\n",
        "arises from the aggregation of small-scale processes. A single dominant principle sets the major axis from which all explanation of aggregation and scale must be developed. This dominant principle is the limiting distribution.\n",
        "\n",
        "\n",
        "\n",
        "Imagine a class of problems in which our prior information consists of average\n",
        "values of certain things. What is the less biased model?\n",
        "\n",
        "The notion of ‘entropy’ as originated in thermodynamics is usually associated to that of ‘disorder’ by saying that the former can be regarded as a measure of the latter. The word ‘disorder’ here essentially means ‘randomness’, ‘absence of patterns’, or something similar. While not incorrect, these words clearly require a more precise specification to be useful at a quantitative level. \n",
        "\n",
        "$$ S = - \\sum_{\\mathbf x} p_{\\mathbf x} \\log p_{\\mathbf x}$$\n",
        "\n",
        "We have a total amount of probability\n",
        "$$ \\sum_{\\mathbf x} p_{\\mathbf x}= 1$$\n",
        "\n",
        "\n",
        "> ![MaxEnt](https://github.com/MiguelAguilera/Neuro-MaxEnt-inference-tutorial/blob/main/img/entropy.png?raw=true)\n",
        ">\n",
        "> Figure 1. The natural world is driven to maximum entropy states (i.e. maximum uncertainty)\n",
        "\n",
        "The principle of maximum entropy can be expressed (see [Wikipedia](https://en.wikipedia.org/wiki/Principle_of_maximum_entropy)) as:\n",
        "\n",
        "> The principle of maximum entropy states that, subject to precisely stated prior data (such as a proposition that expresses testable information), the probability distribution which best represents the current state of knowledge is the one with largest entropy. Another way of stating this: Take precisely stated prior data or testable information about a probability distribution function. Consider the set of all trial probability distributions that would encode the prior data. According to this principle, the distribution with maximal information entropy is the proper one. … In ordinary language, the principle of maximum entropy can be said to express a claim of epistemic modesty, or of maximum ignorance. The selected distribution is the one that makes the least claim to being informed beyond the stated prior data, that is to say the one that admits the most ignorance beyond the stated prior data.\n",
        "\n",
        "\n"
      ],
      "metadata": {
        "id": "hhVIZjR1ykUu"
      }
    },
    {
      "cell_type": "markdown",
      "source": [
        "<div style=\"page-break-after: always;\"></div>"
      ],
      "metadata": {
        "id": "lQdRC2Pk2r3u"
      }
    },
    {
      "cell_type": "markdown",
      "source": [
        "## 2. Deriving the MaxEnt principle\n",
        "\n",
        "### 2.1 Lagrangian multiplier techinque\n",
        "\n",
        "The maximum entropy principle is a means of deriving probability distributions given certain constraints and the assumption of maximizing entropy. One technique for solving this maximization problem is the Lagrange multiplier technique.\n",
        "\n",
        "Given a multivariable function $f(\\mathbf x, \\lambda)$ and constraints of the form $g(\\mathbf x)=c$, where $g$ is another multivariable function with the same input space as $f$ and $c$ is a constant:\n",
        "\n",
        "In order to minimize (or maximize) the function $f$ consider the following steps, assuming $f$ to be $f(x)$:\n",
        "\n",
        "1. Introduce a new variable $\\lambda$, called Lagrange multiplier, and define a new function $\\mathcal{L}$  with the form:\n",
        "\n",
        "$$ \\mathcal{L}(x,\\lambda) =f(x)+\\lambda(g(x)−c)$$\n",
        "\n",
        "2. Set the derivative of the function  $\\mathcal{L}$  equal to zero:\n",
        "\n",
        "$$ \\frac{\\partial L (x,\\lambda)}{\\partial x_i}=0, \\,\\,\\,\\forall i. \\qquad \\frac{\\partial L (x,\\lambda)}{\\partial \\lambda}=0$$\n",
        "\n",
        "in order to find the critical points of  $\\mathcal{L}$.\n",
        "\n",
        "3. Consider each resulting solution within the limits of the made constraints and derive the resulting distribution $f$, which gives the minimum (or maximum) one is searching for.\n",
        "\n",
        "### Application to the MaxEnt principle\n",
        "\n",
        "Applied to the Maximum Entropy principle, the Lagrangian multiplier technique results in \n",
        "\n",
        "$$ \\max_{p_{\\mathbf x}} \\sum_{\\mathbf x} p_{\\mathbf x} \\log p_{\\mathbf x}$$\n",
        "$$ \\mathrm{s.t.} \\qquad \\sum_{\\mathbf x}  p_{\\mathbf x} f_a(\\mathbf x) = c_a , \\qquad \\sum \\sum_{\\mathbf x} p_{\\mathbf x} =1$$\n"
      ],
      "metadata": {
        "id": "vqRimQ7xGQz3"
      }
    },
    {
      "cell_type": "markdown",
      "source": [
        "\n",
        "### 2.1 Example: constraining the mean and variance, the Gaussian distribution\n",
        "\n",
        "Given a known values for the first and second order moments, $\\sum_{\\mathbf x} p_{\\mathbf x} x = c_1, \\sum_{\\mathbf x} p_{\\mathbf x} x^2 = c_2 $ (i.e. mean and variance), the Lagrangian is defined as:\n",
        "$$ \\mathcal{L} =  -\\sum_{\\mathbf x} p_{\\mathbf x} \\log p_{\\mathbf x}  - \\lambda_0 (\\sum_{\\mathbf x}p_{\\mathbf x} - 1) + \\lambda_1 (\\sum_{\\mathbf x} p_{\\mathbf x} x - c_1) + \\lambda_2 (\\sum_{\\mathbf x} p_{\\mathbf x} x^2 - c_2)$$\n",
        "\n",
        "And its solution:\n",
        "$$  \\frac{\\mathrm{d}\\mathcal{L}}{\\mathrm{d}p_\\mathbf x} =  - 1 - \\log p_{\\mathbf x}\n",
        "+ \\lambda_0  +  \\lambda_1 x + \\lambda_2 x^2 =0 $$\n",
        "\n",
        "$$ p_{\\mathbf x} \\propto  \\exp\\left[ \\lambda_1 x +  \\lambda_2 x^2 \\right]  $$\n",
        "\n",
        "by a change of variables, $\\lambda_1 = - \\frac{\\mu}{\\sigma^2} $ and  $\\lambda_2 = \\frac{1}{2\\sigma^2} $, we obtain\n",
        "\n",
        "$$ p_{\\mathbf x} = \\frac{1}{\\sqrt{2\\pi\\sigma^2}} \\exp\\left[ -\\frac{1}{2\\sigma^2}(x-\\mu)^2 \\right]$$"
      ],
      "metadata": {
        "id": "jZ4S6TbQ3KW8"
      }
    },
    {
      "cell_type": "markdown",
      "source": [
        "### Exercise\n",
        "\n",
        "Fit manually this bimodal distribution to match a given mean and variance. Multiple solutions are possible. Which is the one with a maximum entropy?"
      ],
      "metadata": {
        "id": "8lsNZhcPDh0b"
      }
    },
    {
      "cell_type": "code",
      "source": [
        "import ipywidgets as widgets\n",
        "import numpy as np\n",
        "import matplotlib.pyplot as plt\n",
        "from IPython.display import display\n",
        "%matplotlib inline"
      ],
      "metadata": {
        "id": "79IY4JesYYYy"
      },
      "execution_count": 3,
      "outputs": []
    },
    {
      "cell_type": "code",
      "source": [
        "@widgets.interact(\n",
        "    m=(0., 10.), d=(0., 2., 0.02), sigma=(0.02, 1., 0.02))\n",
        "def plot(m=3.,d=1,sigma=0.4):\n",
        "  \n",
        "    # Simulation parameters\n",
        "    N=10000\n",
        "    xmax=20.\n",
        "    xmin=-10.\n",
        "    ref_mean = 5\n",
        "    ref_std = 1\n",
        "    diff=(xmax-xmin)/N\n",
        "   \n",
        "    fig, ax = plt.subplots(1, 1, figsize=(12, 6))\n",
        "\n",
        "    # Plot probability density\n",
        "    x = np.linspace(xmin, xmax, N)\n",
        "    p = 0.5*(1/np.sqrt(2*np.pi*sigma**2)*np.exp(-0.5/sigma**2*(x-m-d)**2)+1/np.sqrt(2*np.pi*sigma**2)*np.exp(-0.5/sigma**2*(x-m+d)**2))\n",
        "    ax.plot(x, p, lw=2)\n",
        " \n",
        "    # Calculate model observables\n",
        "    mean=diff*np.sum(p*x)\n",
        "    std=np.sqrt(diff*np.sum(p*x**2)-(diff*np.sum(p*x))**2)\n",
        " \n",
        "    # Calculate model Entropy\n",
        "    inds = p>np.finfo(float).eps  # avoid log(0) terms\n",
        "    Entropy = -diff*np.sum(p[inds]*np.log(p[inds]))\n",
        "  \n",
        "    # Plot model observables\n",
        "    plt.plot([mean,mean],[0,np.max(p)*1.1],'r--', lw=2)\n",
        "    plt.plot([mean+3*std,mean+3*std],[0,np.max(p)*1.1],'g:', lw=2)\n",
        "    plt.plot([mean-3*std,mean-3*std],[0,np.max(p)*1.1],'g:', lw=2)\n",
        " \n",
        "    # Plot reference observables\n",
        "    plt.plot([ref_mean],[np.max(p)*1.15],'r*', lw=2)\n",
        "    plt.plot([ref_mean+3*ref_std],[np.max(p)*1.15],'g.', lw=2)\n",
        "    plt.plot([ref_mean-3*ref_std],[np.max(p)*1.15],'g.', lw=2)\n",
        "    ax.grid(True)\n",
        "    ax.axis([0,10,0,np.max(p)*1.2])\n",
        "\n",
        "    print('Mean:',round(mean,2),'('+str(ref_mean)+')','Variance:',np.round(std**2,2),'('+str(ref_std**2)+')')\n",
        "    print('Entropy:',np.round(Entropy,4), '(MaxEnt: '+str(np.round(0.5*(1+np.log(2*np.pi)),4))+')')\n"
      ],
      "metadata": {
        "colab": {
          "base_uri": "https://localhost:8080/",
          "height": 507,
          "referenced_widgets": [
            "dfac54c64e914770ab49c353d82fe597",
            "752b49003932494ea1bbc5daf9ed3cd1",
            "1e9f12ab62eb48919e5aa2dbc7286ffa",
            "2645a313d0ab40d993032e51b26e2630",
            "479076daf58f4b358ee6cffc0f7fbf61",
            "667fc969d1014a3ca9e57af2b0d260ff",
            "154da0f220454158807a58f40fbed0ab",
            "8753df6897814560a8f3aa6758a29cc6",
            "85f035f12883403ca7670c8fc60c0bfe",
            "2b6357eb227d49f8b056dc4a3ff09a91",
            "61c748fb4d03479fa12135845dd8bae8",
            "e3e1d2935ada49409c993e1071ab840a",
            "6933a469baa3419cacfb11e48eb105e4"
          ]
        },
        "id": "bqm06W1XYxM_",
        "outputId": "1f37f9ef-f888-40d7-85ca-71b511b89e20"
      },
      "execution_count": 9,
      "outputs": [
        {
          "output_type": "display_data",
          "data": {
            "text/plain": [
              "interactive(children=(FloatSlider(value=3.0, description='m', max=10.0), FloatSlider(value=1.0, description='d…"
            ],
            "application/vnd.jupyter.widget-view+json": {
              "version_major": 2,
              "version_minor": 0,
              "model_id": "dfac54c64e914770ab49c353d82fe597"
            }
          },
          "metadata": {}
        }
      ]
    },
    {
      "cell_type": "markdown",
      "source": [
        "### Example: The Ising model (aka Boltzmann machine)\n",
        "\n",
        "A general solution to the MaxEnt problem has the form:\n",
        "\n",
        "$$ \\mathcal{L} =  -\\sum_{\\mathbf x} p_{\\mathbf x} \\log p_{\\mathbf x}  - \\varphi (\\sum_{\\mathbf x}p_{\\mathbf x} - 1) + \\beta \\sum_a \\theta_a(\\sum_{\\mathbf x} p_{\\mathbf x} f_{i,a}-c_a)$$\n",
        "\n",
        "$$  \\frac{\\mathrm{d}\\mathcal{L}}{\\mathrm{d}p_i} =  - 1 - \\log p_{\\mathbf x}\n",
        "- \\varphi  +  \\beta \\sum_a \\theta_a f_{\\mathbf x,a}=0 $$\n",
        "\n",
        "$$ p_{\\mathbf x} \\propto \\exp\\left[\\beta \\sum_a \\theta_a f_{\\mathbf x,a} - \\varphi \\right] $$\n",
        "\n",
        "\n",
        "$$ p_{\\mathbf x} \\propto \\frac{1}{Z}\\exp\\left[\\beta \\sum_a \\theta_a f_{\\mathbf x,a} \\right] $$\n",
        "\n",
        "With $\\mathbf x$ being an array of binary variables $\\{x_1,\\dots,x_N\\}$, $x_i=\\pm 1$, and two types of constraints $f_{\\mathbf x,a} = x_i$, $f_{\\mathbf x,b} = x_i x_j$, we obtain\n",
        "\n",
        "$$ p(\\mathbf x) \\propto \\frac{1}{Z}\\exp\\left[\\beta \\sum_i H_i x_i + \\sum_{i<j} J_{ij} x_i x_j \\right] $$\n",
        "\n",
        "E.g. with uniform parameters $H_i=H, J_{ij}=J/N$, the model is described by the distribution of the sum of active spins $X=\\sum_i x_i$"
      ],
      "metadata": {
        "id": "ziK0MrM12IzF"
      }
    },
    {
      "cell_type": "code",
      "source": [
        "import scipy.special\n",
        "\n",
        "def log_comb(n,m):\n",
        "\tMtop=max(m+1,n-m+1)\n",
        "\tMbot=min(m,n-m)\n",
        "\treturn np.sum(np.log(np.arange(Mtop,n+1))) - np.sum(np.log(np.arange(1,Mbot+1)))\n",
        "\n",
        "\n",
        "@widgets.interact(\n",
        "    H=(0., 2.), J=(0., 2., 0.02), sigma=(0.02, 1., 0.02))\n",
        "def plot(H=0,J=1,sigma=0.4):\n",
        "  \n",
        "    # Simulation parameters\n",
        "    N=50\n",
        "    xmax=N\n",
        "    xmin=-N\n",
        "    ref_mean = 5\n",
        "    ref_std = 1\n",
        "\n",
        "   \n",
        "    fig, ax = plt.subplots(1, 1, figsize=(12, 6))\n",
        "\n",
        "    # Plot probability density\n",
        "    X = np.arange(xmin, xmax+1, 2)\n",
        "    p=np.zeros(N+1)\n",
        "    for i in range(N+1):\n",
        "      p[i]= np.exp(H*X[i]+0.5*J/N*X[i]**2 + log_comb(N,(X[i]+N)//2))\n",
        "    p /= np.sum(p)\n",
        "    ax.plot(X, p, lw=2)\n",
        " \n",
        "    # Calculate model observables\n",
        "    mean=np.sum(p*X)\n",
        "    std=np.sqrt(np.sum(p*X**2)-(np.sum(p*X))**2)\n",
        " \n",
        "    # Calculate model Entropy\n",
        "    inds = p>np.finfo(float).eps  # avoid log(0) terms\n",
        "    Entropy = -np.sum(p[inds]*np.log(p[inds]))\n",
        "  \n",
        "    #Plot model observables\n",
        "    plt.plot([mean,mean],[0,np.max(p)*1.1],'r--', lw=2)\n",
        "    plt.plot([mean+3*std,mean+3*std],[0,np.max(p)*1.1],'g:', lw=2)\n",
        "    plt.plot([mean-3*std,mean-3*std],[0,np.max(p)*1.1],'g:', lw=2)\n",
        " \n",
        "    # Plot reference observables\n",
        "    #plt.plot([ref_mean],[np.max(p)*1.15],'r*', lw=2)\n",
        "    #plt.plot([ref_mean+3*ref_std],[np.max(p)*1.15],'g.', lw=2)\n",
        "    #plt.plot([ref_mean-3*ref_std],[np.max(p)*1.15],'g.', lw=2)\n",
        "    ax.grid(True)\n",
        "    ax.axis([-N,N,0,np.max(p)*1.2])\n",
        "\n",
        "    print('Mean:',round(mean,2),'('+str(ref_mean)+')','Variance:',np.round(std**2,2),'('+str(ref_std**2)+')')\n",
        "    print('Entropy:',np.round(Entropy,4))\n"
      ],
      "metadata": {
        "colab": {
          "base_uri": "https://localhost:8080/",
          "height": 507,
          "referenced_widgets": [
            "4a3681b1fcf44e679fb7b0e5d6a9efb0",
            "271e8032dc104264af68a9d32998ee45",
            "06efcd9280da4fcb8e039654898368cd",
            "37d38b7306144fe58bb3dbf77a579e8a",
            "a45e63f4926049da851c9d5c5748d828",
            "dc0dafdb5ef441328a0dba1dd38b23bf",
            "19fdfbfe190a4519868fbe8afea210aa",
            "0ba56fefbb6b4f709f1fa5b43ea92b65",
            "ade04dbbc2f44f018111e2cb36c4e7ef",
            "89e099303fb844609b565b700087af29",
            "df592619994a415a96625a72e8866ada",
            "eef1922d7ecb42dbbc7e70bda52f8a6b",
            "3a213cefed53452aa78ad8a1428f7d72"
          ]
        },
        "id": "D1tcOjx_IfhG",
        "outputId": "e85829a6-3188-494c-c13b-74a058747f8d"
      },
      "execution_count": 39,
      "outputs": [
        {
          "output_type": "display_data",
          "data": {
            "text/plain": [
              "interactive(children=(FloatSlider(value=0.0, description='H', max=10.0), FloatSlider(value=1.0, description='J…"
            ],
            "application/vnd.jupyter.widget-view+json": {
              "version_major": 2,
              "version_minor": 0,
              "model_id": "4a3681b1fcf44e679fb7b0e5d6a9efb0"
            }
          },
          "metadata": {}
        }
      ]
    },
    {
      "cell_type": "code",
      "source": [],
      "metadata": {
        "id": "X5kbIrj-K0_w"
      },
      "execution_count": null,
      "outputs": []
    },
    {
      "cell_type": "code",
      "source": [
        "N=10\n",
        "scipy.special.comb(N,[1,3], exact=True)"
      ],
      "metadata": {
        "colab": {
          "base_uri": "https://localhost:8080/",
          "height": 358
        },
        "id": "pUTsUswFK1CN",
        "outputId": "557a0226-815b-4af9-e1ed-5ceeea36bea1"
      },
      "execution_count": 29,
      "outputs": [
        {
          "output_type": "error",
          "ename": "TypeError",
          "evalue": "ignored",
          "traceback": [
            "\u001b[0;31m---------------------------------------------------------------------------\u001b[0m",
            "\u001b[0;31mTypeError\u001b[0m                                 Traceback (most recent call last)",
            "\u001b[0;32m<ipython-input-29-f02c621afffc>\u001b[0m in \u001b[0;36m<module>\u001b[0;34m\u001b[0m\n\u001b[1;32m      1\u001b[0m \u001b[0mN\u001b[0m\u001b[0;34m=\u001b[0m\u001b[0;36m10\u001b[0m\u001b[0;34m\u001b[0m\u001b[0;34m\u001b[0m\u001b[0m\n\u001b[0;32m----> 2\u001b[0;31m \u001b[0mscipy\u001b[0m\u001b[0;34m.\u001b[0m\u001b[0mspecial\u001b[0m\u001b[0;34m.\u001b[0m\u001b[0mcomb\u001b[0m\u001b[0;34m(\u001b[0m\u001b[0mN\u001b[0m\u001b[0;34m,\u001b[0m\u001b[0;34m[\u001b[0m\u001b[0;36m1\u001b[0m\u001b[0;34m,\u001b[0m\u001b[0;36m3\u001b[0m\u001b[0;34m]\u001b[0m\u001b[0;34m,\u001b[0m \u001b[0mexact\u001b[0m\u001b[0;34m=\u001b[0m\u001b[0;32mTrue\u001b[0m\u001b[0;34m)\u001b[0m\u001b[0;34m\u001b[0m\u001b[0;34m\u001b[0m\u001b[0m\n\u001b[0m",
            "\u001b[0;32m/usr/local/lib/python3.7/dist-packages/scipy/special/_basic.py\u001b[0m in \u001b[0;36mcomb\u001b[0;34m(N, k, exact, repetition)\u001b[0m\n\u001b[1;32m   2217\u001b[0m         \u001b[0;32mreturn\u001b[0m \u001b[0mcomb\u001b[0m\u001b[0;34m(\u001b[0m\u001b[0mN\u001b[0m \u001b[0;34m+\u001b[0m \u001b[0mk\u001b[0m \u001b[0;34m-\u001b[0m \u001b[0;36m1\u001b[0m\u001b[0;34m,\u001b[0m \u001b[0mk\u001b[0m\u001b[0;34m,\u001b[0m \u001b[0mexact\u001b[0m\u001b[0;34m)\u001b[0m\u001b[0;34m\u001b[0m\u001b[0;34m\u001b[0m\u001b[0m\n\u001b[1;32m   2218\u001b[0m     \u001b[0;32mif\u001b[0m \u001b[0mexact\u001b[0m\u001b[0;34m:\u001b[0m\u001b[0;34m\u001b[0m\u001b[0;34m\u001b[0m\u001b[0m\n\u001b[0;32m-> 2219\u001b[0;31m         \u001b[0;32mreturn\u001b[0m \u001b[0m_comb_int\u001b[0m\u001b[0;34m(\u001b[0m\u001b[0mN\u001b[0m\u001b[0;34m,\u001b[0m \u001b[0mk\u001b[0m\u001b[0;34m)\u001b[0m\u001b[0;34m\u001b[0m\u001b[0;34m\u001b[0m\u001b[0m\n\u001b[0m\u001b[1;32m   2220\u001b[0m     \u001b[0;32melse\u001b[0m\u001b[0;34m:\u001b[0m\u001b[0;34m\u001b[0m\u001b[0;34m\u001b[0m\u001b[0m\n\u001b[1;32m   2221\u001b[0m         \u001b[0mk\u001b[0m\u001b[0;34m,\u001b[0m \u001b[0mN\u001b[0m \u001b[0;34m=\u001b[0m \u001b[0masarray\u001b[0m\u001b[0;34m(\u001b[0m\u001b[0mk\u001b[0m\u001b[0;34m)\u001b[0m\u001b[0;34m,\u001b[0m \u001b[0masarray\u001b[0m\u001b[0;34m(\u001b[0m\u001b[0mN\u001b[0m\u001b[0;34m)\u001b[0m\u001b[0;34m\u001b[0m\u001b[0;34m\u001b[0m\u001b[0m\n",
            "\u001b[0;32m_comb.pyx\u001b[0m in \u001b[0;36mscipy.special._comb._comb_int\u001b[0;34m()\u001b[0m\n",
            "\u001b[0;31mTypeError\u001b[0m: int() argument must be a string, a bytes-like object or a number, not 'list'"
          ]
        }
      ]
    },
    {
      "cell_type": "markdown",
      "source": [
        "\n",
        "### References\n",
        "\n",
        "Jaynes, E. T. (2003). Probability theory: The logic of science. Cambridge university press.\n",
        "\n",
        "Harte, J. (2011). Maximum entropy and ecology: a theory of abundance, distribution, and energetics. OUP Oxford.\n",
        "\n",
        "Montroll, E. W. (1981). On the entropy function in sociotechnical systems. Proceedings of the National Academy of Sciences, 78(12), 7839-7843.\n",
        "\n",
        "Frank, S. A. (2009). The common patterns of nature. Journal of evolutionary biology, 22(8), 1563-1585.\n",
        "\n",
        "Khan Academy (2019). [Lagrange multipliers, introduction](https://www.khanacademy.org/math/multivariable-calculus/applications-of-multivariable-derivatives/constrained-optimization/a/lagrange-multipliers-single-constraint)."
      ],
      "metadata": {
        "id": "056AazBwGNfm"
      }
    },
    {
      "cell_type": "code",
      "execution_count": 8,
      "metadata": {
        "id": "F8splVbnyjyd"
      },
      "outputs": [],
      "source": []
    }
  ]
}