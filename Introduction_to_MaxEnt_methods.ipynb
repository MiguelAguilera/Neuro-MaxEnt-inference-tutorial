{
  "nbformat": 4,
  "nbformat_minor": 0,
  "metadata": {
    "colab": {
      "provenance": [],
      "authorship_tag": "ABX9TyMH0q6gslACm97IxuXfWEbb",
      "include_colab_link": true
    },
    "kernelspec": {
      "name": "python3",
      "display_name": "Python 3"
    },
    "language_info": {
      "name": "python"
    },
    "widgets": {
      "application/vnd.jupyter.widget-state+json": {
        "02efeb3f9bb44382b16a5017a10aa922": {
          "model_module": "@jupyter-widgets/controls",
          "model_name": "VBoxModel",
          "model_module_version": "1.5.0",
          "state": {
            "_dom_classes": [
              "widget-interact"
            ],
            "_model_module": "@jupyter-widgets/controls",
            "_model_module_version": "1.5.0",
            "_model_name": "VBoxModel",
            "_view_count": null,
            "_view_module": "@jupyter-widgets/controls",
            "_view_module_version": "1.5.0",
            "_view_name": "VBoxView",
            "box_style": "",
            "children": [
              "IPY_MODEL_306f5dcabc294b41b22d3e194a68493a",
              "IPY_MODEL_7e64bc8aa6414d5fa72dfcc78fcd4e74"
            ],
            "layout": "IPY_MODEL_c112eaef8c4b43019f9977fe8428a70b"
          }
        },
        "306f5dcabc294b41b22d3e194a68493a": {
          "model_module": "@jupyter-widgets/controls",
          "model_name": "IntSliderModel",
          "model_module_version": "1.5.0",
          "state": {
            "_dom_classes": [],
            "_model_module": "@jupyter-widgets/controls",
            "_model_module_version": "1.5.0",
            "_model_name": "IntSliderModel",
            "_view_count": null,
            "_view_module": "@jupyter-widgets/controls",
            "_view_module_version": "1.5.0",
            "_view_name": "IntSliderView",
            "continuous_update": true,
            "description": "x",
            "description_tooltip": null,
            "disabled": false,
            "layout": "IPY_MODEL_e61edff32f284e96a34148a86cfed7c8",
            "max": 15,
            "min": -5,
            "orientation": "horizontal",
            "readout": true,
            "readout_format": "d",
            "step": 1,
            "style": "IPY_MODEL_8d82600718674733bb96375379d439db",
            "value": 10
          }
        },
        "7e64bc8aa6414d5fa72dfcc78fcd4e74": {
          "model_module": "@jupyter-widgets/output",
          "model_name": "OutputModel",
          "model_module_version": "1.0.0",
          "state": {
            "_dom_classes": [],
            "_model_module": "@jupyter-widgets/output",
            "_model_module_version": "1.0.0",
            "_model_name": "OutputModel",
            "_view_count": null,
            "_view_module": "@jupyter-widgets/output",
            "_view_module_version": "1.0.0",
            "_view_name": "OutputView",
            "layout": "IPY_MODEL_16351a4d74924eaa85e2352ca755346c",
            "msg_id": "",
            "outputs": [
              {
                "output_type": "stream",
                "name": "stdout",
                "text": [
                  "10\n"
                ]
              },
              {
                "output_type": "display_data",
                "data": {
                  "text/plain": "<Figure size 432x288 with 1 Axes>",
                  "image/png": "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\n"
                },
                "metadata": {
                  "needs_background": "light"
                }
              }
            ]
          }
        },
        "c112eaef8c4b43019f9977fe8428a70b": {
          "model_module": "@jupyter-widgets/base",
          "model_name": "LayoutModel",
          "model_module_version": "1.2.0",
          "state": {
            "_model_module": "@jupyter-widgets/base",
            "_model_module_version": "1.2.0",
            "_model_name": "LayoutModel",
            "_view_count": null,
            "_view_module": "@jupyter-widgets/base",
            "_view_module_version": "1.2.0",
            "_view_name": "LayoutView",
            "align_content": null,
            "align_items": null,
            "align_self": null,
            "border": null,
            "bottom": null,
            "display": null,
            "flex": null,
            "flex_flow": null,
            "grid_area": null,
            "grid_auto_columns": null,
            "grid_auto_flow": null,
            "grid_auto_rows": null,
            "grid_column": null,
            "grid_gap": null,
            "grid_row": null,
            "grid_template_areas": null,
            "grid_template_columns": null,
            "grid_template_rows": null,
            "height": null,
            "justify_content": null,
            "justify_items": null,
            "left": null,
            "margin": null,
            "max_height": null,
            "max_width": null,
            "min_height": null,
            "min_width": null,
            "object_fit": null,
            "object_position": null,
            "order": null,
            "overflow": null,
            "overflow_x": null,
            "overflow_y": null,
            "padding": null,
            "right": null,
            "top": null,
            "visibility": null,
            "width": null
          }
        },
        "e61edff32f284e96a34148a86cfed7c8": {
          "model_module": "@jupyter-widgets/base",
          "model_name": "LayoutModel",
          "model_module_version": "1.2.0",
          "state": {
            "_model_module": "@jupyter-widgets/base",
            "_model_module_version": "1.2.0",
            "_model_name": "LayoutModel",
            "_view_count": null,
            "_view_module": "@jupyter-widgets/base",
            "_view_module_version": "1.2.0",
            "_view_name": "LayoutView",
            "align_content": null,
            "align_items": null,
            "align_self": null,
            "border": null,
            "bottom": null,
            "display": null,
            "flex": null,
            "flex_flow": null,
            "grid_area": null,
            "grid_auto_columns": null,
            "grid_auto_flow": null,
            "grid_auto_rows": null,
            "grid_column": null,
            "grid_gap": null,
            "grid_row": null,
            "grid_template_areas": null,
            "grid_template_columns": null,
            "grid_template_rows": null,
            "height": null,
            "justify_content": null,
            "justify_items": null,
            "left": null,
            "margin": null,
            "max_height": null,
            "max_width": null,
            "min_height": null,
            "min_width": null,
            "object_fit": null,
            "object_position": null,
            "order": null,
            "overflow": null,
            "overflow_x": null,
            "overflow_y": null,
            "padding": null,
            "right": null,
            "top": null,
            "visibility": null,
            "width": null
          }
        },
        "8d82600718674733bb96375379d439db": {
          "model_module": "@jupyter-widgets/controls",
          "model_name": "SliderStyleModel",
          "model_module_version": "1.5.0",
          "state": {
            "_model_module": "@jupyter-widgets/controls",
            "_model_module_version": "1.5.0",
            "_model_name": "SliderStyleModel",
            "_view_count": null,
            "_view_module": "@jupyter-widgets/base",
            "_view_module_version": "1.2.0",
            "_view_name": "StyleView",
            "description_width": "",
            "handle_color": null
          }
        },
        "16351a4d74924eaa85e2352ca755346c": {
          "model_module": "@jupyter-widgets/base",
          "model_name": "LayoutModel",
          "model_module_version": "1.2.0",
          "state": {
            "_model_module": "@jupyter-widgets/base",
            "_model_module_version": "1.2.0",
            "_model_name": "LayoutModel",
            "_view_count": null,
            "_view_module": "@jupyter-widgets/base",
            "_view_module_version": "1.2.0",
            "_view_name": "LayoutView",
            "align_content": null,
            "align_items": null,
            "align_self": null,
            "border": null,
            "bottom": null,
            "display": null,
            "flex": null,
            "flex_flow": null,
            "grid_area": null,
            "grid_auto_columns": null,
            "grid_auto_flow": null,
            "grid_auto_rows": null,
            "grid_column": null,
            "grid_gap": null,
            "grid_row": null,
            "grid_template_areas": null,
            "grid_template_columns": null,
            "grid_template_rows": null,
            "height": null,
            "justify_content": null,
            "justify_items": null,
            "left": null,
            "margin": null,
            "max_height": null,
            "max_width": null,
            "min_height": null,
            "min_width": null,
            "object_fit": null,
            "object_position": null,
            "order": null,
            "overflow": null,
            "overflow_x": null,
            "overflow_y": null,
            "padding": null,
            "right": null,
            "top": null,
            "visibility": null,
            "width": null
          }
        },
        "064aab409d0044e18377f8b69694edcf": {
          "model_module": "@jupyter-widgets/controls",
          "model_name": "VBoxModel",
          "model_module_version": "1.5.0",
          "state": {
            "_dom_classes": [
              "widget-interact"
            ],
            "_model_module": "@jupyter-widgets/controls",
            "_model_module_version": "1.5.0",
            "_model_name": "VBoxModel",
            "_view_count": null,
            "_view_module": "@jupyter-widgets/controls",
            "_view_module_version": "1.5.0",
            "_view_name": "VBoxView",
            "box_style": "",
            "children": [
              "IPY_MODEL_8dfad41c74934e88b9de4fd0bb01fd56",
              "IPY_MODEL_7e214ef68f0740ee801d15a23e7da039",
              "IPY_MODEL_a6a6396f88c942c5bb6c0800894e8290",
              "IPY_MODEL_a25e440277fe4f5881220818ec5b9a0e",
              "IPY_MODEL_df38724751bb42239d72b95983fa36de"
            ],
            "layout": "IPY_MODEL_f5d9ab400011418382c6eca2fdda6511"
          }
        },
        "8dfad41c74934e88b9de4fd0bb01fd56": {
          "model_module": "@jupyter-widgets/controls",
          "model_name": "FloatSliderModel",
          "model_module_version": "1.5.0",
          "state": {
            "_dom_classes": [],
            "_model_module": "@jupyter-widgets/controls",
            "_model_module_version": "1.5.0",
            "_model_name": "FloatSliderModel",
            "_view_count": null,
            "_view_module": "@jupyter-widgets/controls",
            "_view_module_version": "1.5.0",
            "_view_name": "FloatSliderView",
            "continuous_update": true,
            "description": "m",
            "description_tooltip": null,
            "disabled": false,
            "layout": "IPY_MODEL_e7aa04192f8b4615914381130ef95426",
            "max": 10,
            "min": 1,
            "orientation": "horizontal",
            "readout": true,
            "readout_format": ".2f",
            "step": 0.1,
            "style": "IPY_MODEL_004fa6eee57a476b82229b824d83edc0",
            "value": 1
          }
        },
        "7e214ef68f0740ee801d15a23e7da039": {
          "model_module": "@jupyter-widgets/controls",
          "model_name": "DropdownModel",
          "model_module_version": "1.5.0",
          "state": {
            "_dom_classes": [],
            "_model_module": "@jupyter-widgets/controls",
            "_model_module_version": "1.5.0",
            "_model_name": "DropdownModel",
            "_options_labels": [
              "blue",
              "red",
              "green"
            ],
            "_view_count": null,
            "_view_module": "@jupyter-widgets/controls",
            "_view_module_version": "1.5.0",
            "_view_name": "DropdownView",
            "description": "color",
            "description_tooltip": null,
            "disabled": false,
            "index": 0,
            "layout": "IPY_MODEL_976b34f831b64c1bb8000425fc31fc0a",
            "style": "IPY_MODEL_ec35d6fc792f46aa9cd4aff9aaff9d25"
          }
        },
        "a6a6396f88c942c5bb6c0800894e8290": {
          "model_module": "@jupyter-widgets/controls",
          "model_name": "IntSliderModel",
          "model_module_version": "1.5.0",
          "state": {
            "_dom_classes": [],
            "_model_module": "@jupyter-widgets/controls",
            "_model_module_version": "1.5.0",
            "_model_name": "IntSliderModel",
            "_view_count": null,
            "_view_module": "@jupyter-widgets/controls",
            "_view_module_version": "1.5.0",
            "_view_name": "IntSliderView",
            "continuous_update": true,
            "description": "lw",
            "description_tooltip": null,
            "disabled": false,
            "layout": "IPY_MODEL_8cbc196787204c938d94b7e76b17ef5b",
            "max": 6,
            "min": -2,
            "orientation": "horizontal",
            "readout": true,
            "readout_format": "d",
            "step": 1,
            "style": "IPY_MODEL_36b1fc985f29488dbb1f4ccd573f528c",
            "value": 2
          }
        },
        "a25e440277fe4f5881220818ec5b9a0e": {
          "model_module": "@jupyter-widgets/controls",
          "model_name": "CheckboxModel",
          "model_module_version": "1.5.0",
          "state": {
            "_dom_classes": [],
            "_model_module": "@jupyter-widgets/controls",
            "_model_module_version": "1.5.0",
            "_model_name": "CheckboxModel",
            "_view_count": null,
            "_view_module": "@jupyter-widgets/controls",
            "_view_module_version": "1.5.0",
            "_view_name": "CheckboxView",
            "description": "grid",
            "description_tooltip": null,
            "disabled": false,
            "indent": true,
            "layout": "IPY_MODEL_8e013590e85e4d1fba6304c97603edcd",
            "style": "IPY_MODEL_e3122ba1649249489acc50f8f293e5ac",
            "value": true
          }
        },
        "df38724751bb42239d72b95983fa36de": {
          "model_module": "@jupyter-widgets/output",
          "model_name": "OutputModel",
          "model_module_version": "1.0.0",
          "state": {
            "_dom_classes": [],
            "_model_module": "@jupyter-widgets/output",
            "_model_module_version": "1.0.0",
            "_model_name": "OutputModel",
            "_view_count": null,
            "_view_module": "@jupyter-widgets/output",
            "_view_module_version": "1.0.0",
            "_view_name": "OutputView",
            "layout": "IPY_MODEL_53df1153d9dd4291b8878d8586936809",
            "msg_id": "",
            "outputs": [
              {
                "output_type": "display_data",
                "data": {
                  "text/plain": "<Figure size 576x432 with 1 Axes>",
                  "image/png": "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\n"
                },
                "metadata": {
                  "needs_background": "light"
                }
              }
            ]
          }
        },
        "f5d9ab400011418382c6eca2fdda6511": {
          "model_module": "@jupyter-widgets/base",
          "model_name": "LayoutModel",
          "model_module_version": "1.2.0",
          "state": {
            "_model_module": "@jupyter-widgets/base",
            "_model_module_version": "1.2.0",
            "_model_name": "LayoutModel",
            "_view_count": null,
            "_view_module": "@jupyter-widgets/base",
            "_view_module_version": "1.2.0",
            "_view_name": "LayoutView",
            "align_content": null,
            "align_items": null,
            "align_self": null,
            "border": null,
            "bottom": null,
            "display": null,
            "flex": null,
            "flex_flow": null,
            "grid_area": null,
            "grid_auto_columns": null,
            "grid_auto_flow": null,
            "grid_auto_rows": null,
            "grid_column": null,
            "grid_gap": null,
            "grid_row": null,
            "grid_template_areas": null,
            "grid_template_columns": null,
            "grid_template_rows": null,
            "height": null,
            "justify_content": null,
            "justify_items": null,
            "left": null,
            "margin": null,
            "max_height": null,
            "max_width": null,
            "min_height": null,
            "min_width": null,
            "object_fit": null,
            "object_position": null,
            "order": null,
            "overflow": null,
            "overflow_x": null,
            "overflow_y": null,
            "padding": null,
            "right": null,
            "top": null,
            "visibility": null,
            "width": null
          }
        },
        "e7aa04192f8b4615914381130ef95426": {
          "model_module": "@jupyter-widgets/base",
          "model_name": "LayoutModel",
          "model_module_version": "1.2.0",
          "state": {
            "_model_module": "@jupyter-widgets/base",
            "_model_module_version": "1.2.0",
            "_model_name": "LayoutModel",
            "_view_count": null,
            "_view_module": "@jupyter-widgets/base",
            "_view_module_version": "1.2.0",
            "_view_name": "LayoutView",
            "align_content": null,
            "align_items": null,
            "align_self": null,
            "border": null,
            "bottom": null,
            "display": null,
            "flex": null,
            "flex_flow": null,
            "grid_area": null,
            "grid_auto_columns": null,
            "grid_auto_flow": null,
            "grid_auto_rows": null,
            "grid_column": null,
            "grid_gap": null,
            "grid_row": null,
            "grid_template_areas": null,
            "grid_template_columns": null,
            "grid_template_rows": null,
            "height": null,
            "justify_content": null,
            "justify_items": null,
            "left": null,
            "margin": null,
            "max_height": null,
            "max_width": null,
            "min_height": null,
            "min_width": null,
            "object_fit": null,
            "object_position": null,
            "order": null,
            "overflow": null,
            "overflow_x": null,
            "overflow_y": null,
            "padding": null,
            "right": null,
            "top": null,
            "visibility": null,
            "width": null
          }
        },
        "004fa6eee57a476b82229b824d83edc0": {
          "model_module": "@jupyter-widgets/controls",
          "model_name": "SliderStyleModel",
          "model_module_version": "1.5.0",
          "state": {
            "_model_module": "@jupyter-widgets/controls",
            "_model_module_version": "1.5.0",
            "_model_name": "SliderStyleModel",
            "_view_count": null,
            "_view_module": "@jupyter-widgets/base",
            "_view_module_version": "1.2.0",
            "_view_name": "StyleView",
            "description_width": "",
            "handle_color": null
          }
        },
        "976b34f831b64c1bb8000425fc31fc0a": {
          "model_module": "@jupyter-widgets/base",
          "model_name": "LayoutModel",
          "model_module_version": "1.2.0",
          "state": {
            "_model_module": "@jupyter-widgets/base",
            "_model_module_version": "1.2.0",
            "_model_name": "LayoutModel",
            "_view_count": null,
            "_view_module": "@jupyter-widgets/base",
            "_view_module_version": "1.2.0",
            "_view_name": "LayoutView",
            "align_content": null,
            "align_items": null,
            "align_self": null,
            "border": null,
            "bottom": null,
            "display": null,
            "flex": null,
            "flex_flow": null,
            "grid_area": null,
            "grid_auto_columns": null,
            "grid_auto_flow": null,
            "grid_auto_rows": null,
            "grid_column": null,
            "grid_gap": null,
            "grid_row": null,
            "grid_template_areas": null,
            "grid_template_columns": null,
            "grid_template_rows": null,
            "height": null,
            "justify_content": null,
            "justify_items": null,
            "left": null,
            "margin": null,
            "max_height": null,
            "max_width": null,
            "min_height": null,
            "min_width": null,
            "object_fit": null,
            "object_position": null,
            "order": null,
            "overflow": null,
            "overflow_x": null,
            "overflow_y": null,
            "padding": null,
            "right": null,
            "top": null,
            "visibility": null,
            "width": null
          }
        },
        "ec35d6fc792f46aa9cd4aff9aaff9d25": {
          "model_module": "@jupyter-widgets/controls",
          "model_name": "DescriptionStyleModel",
          "model_module_version": "1.5.0",
          "state": {
            "_model_module": "@jupyter-widgets/controls",
            "_model_module_version": "1.5.0",
            "_model_name": "DescriptionStyleModel",
            "_view_count": null,
            "_view_module": "@jupyter-widgets/base",
            "_view_module_version": "1.2.0",
            "_view_name": "StyleView",
            "description_width": ""
          }
        },
        "8cbc196787204c938d94b7e76b17ef5b": {
          "model_module": "@jupyter-widgets/base",
          "model_name": "LayoutModel",
          "model_module_version": "1.2.0",
          "state": {
            "_model_module": "@jupyter-widgets/base",
            "_model_module_version": "1.2.0",
            "_model_name": "LayoutModel",
            "_view_count": null,
            "_view_module": "@jupyter-widgets/base",
            "_view_module_version": "1.2.0",
            "_view_name": "LayoutView",
            "align_content": null,
            "align_items": null,
            "align_self": null,
            "border": null,
            "bottom": null,
            "display": null,
            "flex": null,
            "flex_flow": null,
            "grid_area": null,
            "grid_auto_columns": null,
            "grid_auto_flow": null,
            "grid_auto_rows": null,
            "grid_column": null,
            "grid_gap": null,
            "grid_row": null,
            "grid_template_areas": null,
            "grid_template_columns": null,
            "grid_template_rows": null,
            "height": null,
            "justify_content": null,
            "justify_items": null,
            "left": null,
            "margin": null,
            "max_height": null,
            "max_width": null,
            "min_height": null,
            "min_width": null,
            "object_fit": null,
            "object_position": null,
            "order": null,
            "overflow": null,
            "overflow_x": null,
            "overflow_y": null,
            "padding": null,
            "right": null,
            "top": null,
            "visibility": null,
            "width": null
          }
        },
        "36b1fc985f29488dbb1f4ccd573f528c": {
          "model_module": "@jupyter-widgets/controls",
          "model_name": "SliderStyleModel",
          "model_module_version": "1.5.0",
          "state": {
            "_model_module": "@jupyter-widgets/controls",
            "_model_module_version": "1.5.0",
            "_model_name": "SliderStyleModel",
            "_view_count": null,
            "_view_module": "@jupyter-widgets/base",
            "_view_module_version": "1.2.0",
            "_view_name": "StyleView",
            "description_width": "",
            "handle_color": null
          }
        },
        "8e013590e85e4d1fba6304c97603edcd": {
          "model_module": "@jupyter-widgets/base",
          "model_name": "LayoutModel",
          "model_module_version": "1.2.0",
          "state": {
            "_model_module": "@jupyter-widgets/base",
            "_model_module_version": "1.2.0",
            "_model_name": "LayoutModel",
            "_view_count": null,
            "_view_module": "@jupyter-widgets/base",
            "_view_module_version": "1.2.0",
            "_view_name": "LayoutView",
            "align_content": null,
            "align_items": null,
            "align_self": null,
            "border": null,
            "bottom": null,
            "display": null,
            "flex": null,
            "flex_flow": null,
            "grid_area": null,
            "grid_auto_columns": null,
            "grid_auto_flow": null,
            "grid_auto_rows": null,
            "grid_column": null,
            "grid_gap": null,
            "grid_row": null,
            "grid_template_areas": null,
            "grid_template_columns": null,
            "grid_template_rows": null,
            "height": null,
            "justify_content": null,
            "justify_items": null,
            "left": null,
            "margin": null,
            "max_height": null,
            "max_width": null,
            "min_height": null,
            "min_width": null,
            "object_fit": null,
            "object_position": null,
            "order": null,
            "overflow": null,
            "overflow_x": null,
            "overflow_y": null,
            "padding": null,
            "right": null,
            "top": null,
            "visibility": null,
            "width": null
          }
        },
        "e3122ba1649249489acc50f8f293e5ac": {
          "model_module": "@jupyter-widgets/controls",
          "model_name": "DescriptionStyleModel",
          "model_module_version": "1.5.0",
          "state": {
            "_model_module": "@jupyter-widgets/controls",
            "_model_module_version": "1.5.0",
            "_model_name": "DescriptionStyleModel",
            "_view_count": null,
            "_view_module": "@jupyter-widgets/base",
            "_view_module_version": "1.2.0",
            "_view_name": "StyleView",
            "description_width": ""
          }
        },
        "53df1153d9dd4291b8878d8586936809": {
          "model_module": "@jupyter-widgets/base",
          "model_name": "LayoutModel",
          "model_module_version": "1.2.0",
          "state": {
            "_model_module": "@jupyter-widgets/base",
            "_model_module_version": "1.2.0",
            "_model_name": "LayoutModel",
            "_view_count": null,
            "_view_module": "@jupyter-widgets/base",
            "_view_module_version": "1.2.0",
            "_view_name": "LayoutView",
            "align_content": null,
            "align_items": null,
            "align_self": null,
            "border": null,
            "bottom": null,
            "display": null,
            "flex": null,
            "flex_flow": null,
            "grid_area": null,
            "grid_auto_columns": null,
            "grid_auto_flow": null,
            "grid_auto_rows": null,
            "grid_column": null,
            "grid_gap": null,
            "grid_row": null,
            "grid_template_areas": null,
            "grid_template_columns": null,
            "grid_template_rows": null,
            "height": null,
            "justify_content": null,
            "justify_items": null,
            "left": null,
            "margin": null,
            "max_height": null,
            "max_width": null,
            "min_height": null,
            "min_width": null,
            "object_fit": null,
            "object_position": null,
            "order": null,
            "overflow": null,
            "overflow_x": null,
            "overflow_y": null,
            "padding": null,
            "right": null,
            "top": null,
            "visibility": null,
            "width": null
          }
        }
      }
    }
  },
  "cells": [
    {
      "cell_type": "markdown",
      "metadata": {
        "id": "view-in-github",
        "colab_type": "text"
      },
      "source": [
        "<a href=\"https://colab.research.google.com/github/MiguelAguilera/Neuro-MaxEnt-inference-tutorial/blob/main/Introduction_to_MaxEnt_methods.ipynb\" target=\"_parent\"><img src=\"https://colab.research.google.com/assets/colab-badge.svg\" alt=\"Open In Colab\"/></a>"
      ]
    },
    {
      "cell_type": "markdown",
      "source": [
        "\n",
        "Most patterns in biology arise from aggregation of many small processes. Variations in the dynamics of complex neural and biochemical networks depend on\n",
        "numerous fluctuations in connectivity and flow through small-scale subcomponents of the network. Variations in cancer onset arise from variable failures in the many individual checks and balances on DNA repair, cell cycle control, and tissue homeostasis. Variations in the ecologicalult value implied by bias is overridden. Note that ddof=1 will return the unbiased estimate, even if both fweights and aweights are specified, and ddof=0 will return the simple av distribution of species follow the myriad local differences in the birth and death rates of species and in the small-scale interactions between particular species.\n",
        "In all such complex systems, we wish to understand how large-scale pattern\n",
        "arises from the aggregation of small-scale processes. A single dominant principle sets the major axis from which all explanation of aggregation and scale must be developed. This dominant principle is the limiting distribution.\n",
        "\n",
        "### A new kind of prior information\n",
        "\n",
        "Imagine a class of problems in which our prior information consists of average\n",
        "values of certain things. What is the less biased model?\n",
        "\n",
        "The notion of ‘entropy’ as originated in thermodynamics is usually associated to that of ‘disorder’ by saying that the former can be regarded as a measure of the latter. The word ‘disorder’ here essentially means ‘randomness’, ‘absence of patterns’, or something similar. While not incorrect, these words clearly require a more precise specification to be useful at a quantitative level. \n",
        "\n",
        "$$ S = - \\sum_{\\mathbf x} p_{\\mathbf x} \\log p_{\\mathbf x}$$\n",
        "\n",
        "We have a total amount of probability\n",
        "$$ \\sum_{\\mathbf x} p_{\\mathbf x}= 1$$\n",
        "\n",
        "\n",
        "> ![Google's logo](https://github.com/MiguelAguilera/Neuro-MaxEnt-inference-tutorial/blob/main/img/entropy.png?raw=true)\n",
        ">\n",
        "> Figure 1. \n",
        "\n",
        "The principle of maximum entropy can be expressed (see [Wikipedia](https://en.wikipedia.org/wiki/Principle_of_maximum_entropy)) as:\n",
        "\n",
        "> The principle of maximum entropy states that, subject to precisely stated prior data (such as a proposition that expresses testable information), the probability distribution which best represents the current state of knowledge is the one with largest entropy. Another way of stating this: Take precisely stated prior data or testable information about a probability distribution function. Consider the set of all trial probability distributions that would encode the prior data. According to this principle, the distribution with maximal information entropy is the proper one. … In ordinary language, the principle of maximum entropy can be said to express a claim of epistemic modesty, or of maximum ignorance. The selected distribution is the one that makes the least claim to being informed beyond the stated prior data, that is to say the one that admits the most ignorance beyond the stated prior data.\n",
        "\n",
        "\n"
      ],
      "metadata": {
        "id": "hhVIZjR1ykUu"
      }
    },
    {
      "cell_type": "markdown",
      "source": [
        "\n",
        "### Lagrangian multiplier techinque\n",
        "\n",
        "The maximum entropy principle is a means of deriving probability distributions given certain constraints and the assumption of maximizing entropy. One technique for solving this maximization problem is the Lagrange multiplier technique.\n",
        "\n",
        "Given a multivariable function $f(\\mathbf x, \\lambda)$ and constraints of the form $g(\\mathbf x)=c$, where $g$ is another multivariable function with the same input space as $f$ and $c$ is a constant:\n",
        "\n",
        "In order to minimize (or maximize) the function $f$ consider the following steps, assuming $f$ to be $f(x)$:\n",
        "\n",
        "1. Introduce a new variable $\\lambda$, called Lagrange multiplier, and define a new function $\\mathcal{L}$  with the form:\n",
        "\n",
        "$$ \\mathcal{L}(x,\\lambda) =f(x)+\\lambda(g(x)−c)$$\n",
        "\n",
        "2. Set the derivative of the function  $\\mathcal{L}$  equal to zero:\n",
        "\n",
        "$$ \\frac{\\partial L (x,\\lambda)}{\\partial x_i}=0, \\,\\,\\,\\forall i. \\qquad \\frac{\\partial L (x,\\lambda)}{\\partial \\lambda}=0$$\n",
        "\n",
        "in order to find the critical points of  $\\mathcal{L}$.\n",
        "\n",
        "3. Consider each resulting solution within the limits of the made constraints and derive the resulting distribution $f$, which gives the minimum (or maximum) one is searching for.\n",
        "\n",
        "### Application to the MaxEnt principle\n",
        "\n",
        "Applied to the Maximum Entropy principle, the Lagrangian multiplier technique results in \n",
        "\n",
        "$$ \\max_{p_{\\mathbf x}} \\sum_{\\mathbf x} p_{\\mathbf x} \\log p_{\\mathbf x}$$\n",
        "$$ \\mathrm{s.t.} \\qquad \\sum_{\\mathbf x}  p_{\\mathbf x} f_a(\\mathbf x) = c_a , \\qquad \\sum \\sum_{\\mathbf x} p_{\\mathbf x} =1$$\n",
        "\n",
        "\n",
        "\n",
        "### Example\n",
        "\n",
        "$$ \\mathcal{L} =  -\\sum_{\\mathbf x} p_{\\mathbf x} \\log p_{\\mathbf x}  - \\varphi (\\sum_{\\mathbf x}p_{\\mathbf x} - 1) + \\beta \\sum_a \\theta_a(\\sum_{\\mathbf x} p_{\\mathbf x} f_{i,a}-c_a)$$\n",
        "\n",
        "$$  \\frac{\\mathrm{d}\\mathcal{L}}{\\mathrm{d}p_i} =  - 1 - \\log p_{\\mathbf x}\n",
        "- \\varphi  +  \\beta \\sum_a \\theta_a f_{\\mathbf x,a}=0 $$\n",
        "\n",
        "$$ p_{\\mathbf x} \\propto \\exp\\left[\\beta \\sum_a \\theta_a f_{\\mathbf x,a} - \\varphi \\right] $$\n",
        "\n",
        "\n",
        "$$ p_{\\mathbf x} \\propto \\frac{1}{Z}\\exp\\left[\\beta \\sum_a \\theta_a f_{\\mathbf x,a} \\right] $$"
      ],
      "metadata": {
        "id": "vqRimQ7xGQz3"
      }
    },
    {
      "cell_type": "code",
      "source": [
        "import ipywidgets as widgets\n",
        "from ipywidgets import HBox, VBox\n",
        "import numpy as np\n",
        "import matplotlib.pyplot as plt\n",
        "from IPython.display import display\n",
        "%matplotlib inline"
      ],
      "metadata": {
        "id": "79IY4JesYYYy"
      },
      "execution_count": 1,
      "outputs": []
    },
    {
      "cell_type": "code",
      "source": [
        "@widgets.interact\n",
        "def f(x=5):\n",
        "    print(x)\n",
        "    N=1000\n",
        "    y=np.linspace(-10,10,N)\n",
        "    plt.plot((y-x)**2)\n"
      ],
      "metadata": {
        "id": "I5Rx7Bw1YbUW",
        "outputId": "283708a1-0ffe-42a1-a7f5-a9279eedf9ad",
        "colab": {
          "base_uri": "https://localhost:8080/",
          "height": 314,
          "referenced_widgets": [
            "02efeb3f9bb44382b16a5017a10aa922",
            "306f5dcabc294b41b22d3e194a68493a",
            "7e64bc8aa6414d5fa72dfcc78fcd4e74",
            "c112eaef8c4b43019f9977fe8428a70b",
            "e61edff32f284e96a34148a86cfed7c8",
            "8d82600718674733bb96375379d439db",
            "16351a4d74924eaa85e2352ca755346c"
          ]
        }
      },
      "execution_count": 3,
      "outputs": [
        {
          "output_type": "display_data",
          "data": {
            "text/plain": [
              "interactive(children=(IntSlider(value=5, description='x', max=15, min=-5), Output()), _dom_classes=('widget-in…"
            ],
            "application/vnd.jupyter.widget-view+json": {
              "version_major": 2,
              "version_minor": 0,
              "model_id": "02efeb3f9bb44382b16a5017a10aa922"
            }
          },
          "metadata": {}
        }
      ]
    },
    {
      "cell_type": "code",
      "source": [
        "@widgets.interact(\n",
        "    color=['blue', 'red', 'green'], m=(1., 10.))\n",
        "def plot(m=1., color='blue', lw=2, grid=True):\n",
        "    t = np.linspace(-10., +10., 1000)\n",
        "    fig, ax = plt.subplots(1, 1, figsize=(8, 6))\n",
        "    ax.plot(t, 1/np.sqrt(2*np.pi)*np.exp(-0.5*(t-m)**2),\n",
        "            lw=2, color=color)\n",
        "    ax.grid(grid)\n"
      ],
      "metadata": {
        "id": "bqm06W1XYxM_",
        "outputId": "e82b3965-abe4-4442-b3c4-6c90c892af5c",
        "colab": {
          "base_uri": "https://localhost:8080/",
          "height": 502,
          "referenced_widgets": [
            "064aab409d0044e18377f8b69694edcf",
            "8dfad41c74934e88b9de4fd0bb01fd56",
            "7e214ef68f0740ee801d15a23e7da039",
            "a6a6396f88c942c5bb6c0800894e8290",
            "a25e440277fe4f5881220818ec5b9a0e",
            "df38724751bb42239d72b95983fa36de",
            "f5d9ab400011418382c6eca2fdda6511",
            "e7aa04192f8b4615914381130ef95426",
            "004fa6eee57a476b82229b824d83edc0",
            "976b34f831b64c1bb8000425fc31fc0a",
            "ec35d6fc792f46aa9cd4aff9aaff9d25",
            "8cbc196787204c938d94b7e76b17ef5b",
            "36b1fc985f29488dbb1f4ccd573f528c",
            "8e013590e85e4d1fba6304c97603edcd",
            "e3122ba1649249489acc50f8f293e5ac",
            "53df1153d9dd4291b8878d8586936809"
          ]
        }
      },
      "execution_count": 11,
      "outputs": [
        {
          "output_type": "display_data",
          "data": {
            "text/plain": [
              "interactive(children=(FloatSlider(value=1.0, description='m', max=10.0, min=1.0), Dropdown(description='color'…"
            ],
            "application/vnd.jupyter.widget-view+json": {
              "version_major": 2,
              "version_minor": 0,
              "model_id": "064aab409d0044e18377f8b69694edcf"
            }
          },
          "metadata": {}
        }
      ]
    },
    {
      "cell_type": "markdown",
      "source": [
        "\n",
        "### References\n",
        "\n",
        "J. Harte, Maximum Entropy and Ecology: A Theory of Abundance, Distribution, and Energetics. Oxford University Press, 2011\n",
        "\n",
        "E. Montrell, On the entropy function in sociotechnical systems, PNAS, vol. 78 no. 12, 1981\n",
        "\n",
        "S. Frank, The common patterns of nature\n",
        "\n",
        "Academy, Khan. 2019. “Lagrange multipliers, introduction.” 2019. https://www.khanacademy.org/math/multivariable-calculus/applications-of-multivariable-derivatives/constrained-optimization/a/lagrange-multipliers-single-constraint."
      ],
      "metadata": {
        "id": "056AazBwGNfm"
      }
    },
    {
      "cell_type": "code",
      "execution_count": null,
      "metadata": {
        "id": "F8splVbnyjyd"
      },
      "outputs": [],
      "source": []
    }
  ]
}